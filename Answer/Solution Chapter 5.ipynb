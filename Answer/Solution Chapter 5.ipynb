{
 "cells": [
  {
   "cell_type": "markdown",
   "id": "6df0354c-6c00-4680-b8bc-e56c713ebbc9",
   "metadata": {},
   "source": [
    "### EXERCISE 5.1.1.\n",
    "\n",
    "Prove that, in the renewal problem:\n",
    "\n",
    "$$\n",
    "P(x,a,x') = a\\mathbb{1}\\{x'=\\bar x\\}+(1-a)Q(x,x')\\tag{$(x,a)\\in G, x'\\in X$}\n",
    "$$\n",
    "\n",
    "is a stochastic kernel."
   ]
  },
  {
   "cell_type": "markdown",
   "id": "7e5d4893-0b7d-4c62-891d-6ffd9ea7bc0f",
   "metadata": {},
   "source": [
    "**Proof**\n",
    "\n",
    "We want to show that \n",
    "\n",
    "$$\n",
    "\\sum_{x'\\in X}P(x,a,x')=1\n",
    "$$\n",
    "\n",
    "For $a=1$, we have, by definition, $x'=\\bar x$. And $P(x,1,\\bar x)=1$. \n",
    "\n",
    "For $a=0$, we have, by definitino, $P(x,0,x') = Q(x,x')$. Since $Q\\in\\mathscr{M}(\\mathbb{R}^X)$, we have,\n",
    "\n",
    "$$\n",
    "\\sum_{x'\\in X} P(x,0,x')=\\sum_{x'\\in X}Q(x,x')=1\n",
    "$$"
   ]
  },
  {
   "cell_type": "markdown",
   "id": "e0b283c7-2b97-4560-9873-f4a9a6fb1765",
   "metadata": {},
   "source": [
    "### EXERCISE 5.1.2.\n",
    "\n",
    "Suppose that $\\varphi$ is the geometric distribution on $\\mathbb{Z}_+$ with parameter $p$.\n",
    "\n",
    "Write down an expression for the stochastic kernel using only $x,a,x'$ and the parameters of the model."
   ]
  },
  {
   "cell_type": "markdown",
   "id": "c3c01c20-e4a5-4a44-86c7-3af99ed24489",
   "metadata": {},
   "source": [
    "**Solution**\n",
    "\n",
    "$\\varphi$ is the geometric distribution on $\\mathbb{Z}_+$ implies, we have,\n",
    "\n",
    "$$\n",
    "\\varphi(d) = (1-p)^{d-1}p\n",
    "$$\n",
    "\n",
    "By definition, the stochastic kernel has\n",
    "\n",
    "\\begin{align*}\n",
    "P(x,a,x') &=\\mathbb{P}\\{f(x,a,D) =x'\\}\\\\\n",
    "&=\\mathbb{P}\\{f(x,a,d)=x'|D\\le x\\}\\mathbb{P}\\{D\\le x\\}+\\mathbb{P}\\{f(x,a,d)=x'|D>x\\}\\mathbb{P}\\{D>x\\}\\\\\n",
    "&= \\mathbb{P}\\{d=x-x'+a\\}\\mathbb{P}\\{D\\le x\\}+\\mathbb{P}\\{f(x,a,d)=x'|D>x\\}\\mathbb{P}\\{D>x\\}\\\\\n",
    "&= (1-p)^{x-x'+a-1}p\\cdot \\sum_{d=1}^x (1-p)^dp +\\mathbb{P}\\{f(x,a,d)=x'|D>x\\}\\mathbb{P}\\{D>x\\}\n",
    "\\end{align*}"
   ]
  },
  {
   "cell_type": "markdown",
   "id": "3e2650c9-8fb2-478b-86a7-e3e4403553df",
   "metadata": {},
   "source": [
    "### EXERCISE 5.1.3.\n",
    "\n",
    "Prove that $T$ is a contraction of modulus $\\beta$ on $\\mathbb{R}^X$ when paired with supremum norm $\\|\\cdot\\|_\\infty$."
   ]
  },
  {
   "cell_type": "markdown",
   "id": "fd04af3d-c07c-4a34-83b3-04cce9448284",
   "metadata": {},
   "source": [
    "**Proof**\n",
    "\n",
    "Let $v,v'\\in\\mathbb{R}^X$, we have,\n",
    "\n",
    "\\begin{align*}\n",
    "\\|Tv-Tv'\\|_\\infty &= \\max_{x\\in X} \\left|(Tv)(x)-(Tv')(x)\\right|\\\\\n",
    "&= \\max_{x\\in X} \\left|\\max_{a\\in\\Gamma(x)}\\left\\{r(x,a)+\\beta\\sum_{d\\ge 0} v(f(x,a,d))\\varphi(d)\\right\\}-\\max_{a\\in\\Gamma(x)}\\left\\{r(x,a)+\\beta\\sum_{d\\ge 0} v'(f(x,a,d))\\varphi(d)\\right\\}\\right|\\\\\n",
    "&\\le \\max_{x\\in X}\\beta \\max_{a\\in\\Gamma(x)}\\left\\{\\left|\\sum_{d\\ge 0} v(f(x,a,d))-v'(f(x,a,d))\\right|\\varphi(d)\\right\\}\\\\\n",
    "&\\le \\max_{x\\in X}\\beta\\max_{a\\in\\Gamma(x)}\\left\\{\\sum_{d\\ge 0}|v(f(x,a,d))-v'(f(x,a,d))|\\right\\}\\\\\n",
    "&\\le\\beta\\|v-v'\\|_\\infty\n",
    "\\end{align*}\n",
    "\n",
    "Hence, $T$ is a contraction of modulus $\\beta$."
   ]
  },
  {
   "cell_type": "markdown",
   "id": "abcbc5c9-ab3d-4ec6-9c1a-4180ad349278",
   "metadata": {},
   "source": [
    "### EXERCISE 5.1.4.\n",
    "\n",
    "Frame the Cake Eating model as an MDP with $W$ as the state space."
   ]
  },
  {
   "cell_type": "markdown",
   "id": "dd21e2c3-2330-434a-8d4f-6720c25c907f",
   "metadata": {},
   "source": [
    "**Solution**\n",
    "\n",
    "A MDP is a 4-tuple $\\mathcal{M}=(\\Gamma,\\beta, r, P)$.\n",
    "\n",
    "With $W$ the wealth space as the state space. We can first formulate the feasible correspondence $\\Gamma(w)$.\n",
    "\n",
    "Since houshold can only consume less or equal to that what they have and also greater than 0, this implies, with $W_0=w$, we have\n",
    "\n",
    "$$\n",
    "\\Gamma(w) = \\{0,1,\\cdots, w\\},\\tag{$w\\in W$}\n",
    "$$\n",
    "\n",
    "Then, we have discount factor $\\beta = 1/(1+r)$ where $r=R-1$. Hence, $\\beta =1/R$.\n",
    "\n",
    "The reward function is the utility function, we have,\n",
    "\n",
    "$$\n",
    "u(c)= u(w,w') = u(w-w'/R)\n",
    "$$\n",
    "\n",
    "Since there is no uncertainty in this case, there is no stochastic kernel. "
   ]
  },
  {
   "cell_type": "markdown",
   "id": "7a6ee42d-5a0d-42da-bbf5-bc10bbad5637",
   "metadata": {},
   "source": [
    "### EXERCISE 5.1.5.\n",
    "\n",
    "Frame the job search model with Markov wage as a MDP"
   ]
  },
  {
   "cell_type": "markdown",
   "id": "5a176b5f-0d01-48d7-a03a-a3f3a456a732",
   "metadata": {},
   "source": [
    "**Solution**\n",
    "\n",
    "A MDP is a 4-tuple $\\mathcal{M} = (\\Gamma, \\beta, r, P)$.\n",
    "\n",
    "First, we have the state space $X\\times \\{0,1\\}\\times W$, action space $A=\\{0,1\\}$. Since once the agent accept the wage offer, it cannot choose to accept new offer, hence, the feasible correpondence is\n",
    "\n",
    "For unemployed agent:\n",
    "\n",
    "$$\n",
    "\\Gamma((0,w)) = \\{0,1\\}\n",
    "$$\n",
    "\n",
    "For employed agent:\n",
    "\n",
    "$$\n",
    "\\Gamma((1,w))=\\{0\\}\n",
    "$$\n",
    "\n",
    "The discount factor is still $\\beta$.\n",
    "\n",
    "The reward function depends on the employment status and action:\n",
    "\n",
    "Employed agent will receive the wage and can only reject new offers\n",
    "\n",
    "$$\n",
    "r((1,w),0) = w\n",
    "$$\n",
    "\n",
    "Unemployed agent will receive the wage if choose to accept or the unemployment compensation if reject, i.e.,\n",
    "\n",
    "$$\n",
    "r((0,w),0)=c; r((0,w),1)=w\n",
    "$$\n",
    "\n",
    "The stochastic kernel is $P((e,w),a,(e',w'))$\n",
    "\n",
    "- If the agent is employed, the new wage $w'$ is the same as the old wage $w$, i.e.,\n",
    "\n",
    "$$\n",
    "P((1,w),0,(1,w))=1\n",
    "$$\n",
    "\n",
    "- If the agent is unemployed, the new wage $w'$ follows $Q$-Markov if not accepting the offer, i.e.,\n",
    "\n",
    "$$\n",
    "P((0,w),0,(0,w')) = Q(w,w')\n",
    "$$\n",
    "\n",
    "- If the agent is unemployed, and accepting the current wage offer, then,\n",
    "\n",
    "$$\n",
    "P((0,w),1,(1,w))=1\n",
    "$$\n",
    "\n",
    "These form the MDP"
   ]
  },
  {
   "cell_type": "markdown",
   "id": "b3d92308-4ddc-4855-afa0-90ef0f6dc3a9",
   "metadata": {},
   "source": [
    "### EXERCISE 5.1.6.\n",
    "\n",
    "Prove that $v_1\\le v_\\sigma\\le v_2$ when $v_2:=\\|r\\|_\\infty/(1-\\beta)$ and $v_1:=-v_2$."
   ]
  },
  {
   "cell_type": "markdown",
   "id": "a5472382-9647-4e96-ad50-0c7f61068652",
   "metadata": {},
   "source": [
    "**Proof**\n",
    "\n",
    "We want to show that $|v_\\sigma|\\le \\|r\\|_\\infty/(1-\\beta)$.\n",
    "\n",
    "By definition, we have,\n",
    "\n",
    "\\begin{align*}\n",
    "|v_\\sigma(x)| &= \\left|\\sum_{t\\ge 0}\\beta^t\\sum_{x'\\in X} r_\\sigma(x')P_\\sigma(x,x')\\right|\\\\\n",
    "&\\le \\sum_{t\\ge 0}\\beta^t\\sum_{x'\\in X}|\\|r\\|_\\infty P_\\sigma(x,x')|\\\\\n",
    "&=\\|r\\|_\\infty \\sum_{t\\ge 0}\\beta^{t}\\\\\n",
    "&= \\|r\\|_\\infty/(1-\\beta)\n",
    "\\end{align*}"
   ]
  },
  {
   "cell_type": "markdown",
   "id": "d3c7b847-89b1-47be-9df4-eaae6acbf2da",
   "metadata": {},
   "source": [
    "### EXERCISE 5.1.7.\n",
    "\n",
    "Fixing $\\sigma\\in \\Sigma$ prove that\n",
    "\n",
    "1. $T_\\sigma$ is an order-preserving self-map on $\\mathbb{R}^X$\n",
    "2. $T_\\sigma$ is a contraction on $\\mathbb{R}^X$ of modulus $\\beta$ under the norm $\\|\\cdot\\|_\\infty$\n",
    "3. The $\\sigma$-value function $v_\\sigma$ is the unique fixed point of $T_\\sigma$ in $\\mathbb{R}^X$\n",
    "4. $T^k_\\sigma v\\to v_\\sigma$ as $k\\to\\infty$ for all $v\\in\\mathbb{R}^X$."
   ]
  },
  {
   "cell_type": "markdown",
   "id": "fc2a9ff5-3db9-4c73-b86d-f1f034e293d7",
   "metadata": {},
   "source": [
    "**Proof part 1**"
   ]
  },
  {
   "cell_type": "code",
   "execution_count": null,
   "id": "885383f0-f10e-49c5-a7c4-296e756a350b",
   "metadata": {},
   "outputs": [],
   "source": []
  }
 ],
 "metadata": {
  "kernelspec": {
   "display_name": "Python 3 (ipykernel)",
   "language": "python",
   "name": "python3"
  },
  "language_info": {
   "codemirror_mode": {
    "name": "ipython",
    "version": 3
   },
   "file_extension": ".py",
   "mimetype": "text/x-python",
   "name": "python",
   "nbconvert_exporter": "python",
   "pygments_lexer": "ipython3",
   "version": "3.10.12"
  }
 },
 "nbformat": 4,
 "nbformat_minor": 5
}
