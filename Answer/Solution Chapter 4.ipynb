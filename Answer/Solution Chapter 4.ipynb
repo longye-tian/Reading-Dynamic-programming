{
 "cells": [
  {
   "cell_type": "markdown",
   "id": "1529c1ff-859d-497e-a031-a0dc101725d3",
   "metadata": {},
   "source": [
    "### EXERCISE 4.1.1. \n",
    "\n",
    "Confirm that $\\rho(L_\\sigma)<1$ holds for any optimal stopping problem."
   ]
  },
  {
   "cell_type": "markdown",
   "id": "88c1b11f-7d9b-4624-bc05-cefedc716691",
   "metadata": {},
   "source": [
    "**Proof**\n",
    "\n",
    "We prove this statement using the lemma of Perron-Frobenius Theorem.\n",
    "\n",
    "Since we know $\\rho(P)=1$, when $\\sigma(x)=1$, we have, $L_\\sigma=0_{n\\times n}$. Hence, by the lemma, we know $\\rho(L_\\sigma)=0<1$.\n",
    "\n",
    "When $\\sigma(x)=0$, we have, $L_\\sigma=\\beta P$, this implies \n",
    "\n",
    "$$\n",
    "\\rho(L_\\sigma) = \\beta\\rho(P) =\\beta<1\n",
    "$$\n",
    "\n",
    "These give the proof."
   ]
  },
  {
   "cell_type": "markdown",
   "id": "21592a3a-e236-40f9-bcbf-94924283d77f",
   "metadata": {},
   "source": [
    "### EXERCISE 4.1.2.\n",
    "\n",
    "Prove that for any $\\sigma\\in \\Sigma$, the operator $T_\\sigma$ is order-preserving with respect to the pointwise partial order $\\le$ on $\\mathbb{R}^X$."
   ]
  },
  {
   "cell_type": "markdown",
   "id": "8c9c3ea6-8ec7-4a1a-80dd-4d877decd97b",
   "metadata": {},
   "source": [
    "**Proof**\n",
    "\n",
    "Let $v,v' \\in\\mathbb{R}^X$. such that $v\\le v'$. \n",
    "\n",
    "Let $T_\\sigma$ be a policy operator for any $\\sigma\\in \\Sigma = X^{\\{0,1\\}}$.\n",
    "\n",
    "We have,\n",
    "\n",
    "\\begin{align*}\n",
    "(T_\\sigma v)(x) &= \\sigma(x)e(x)+(1-\\sigma(x))\\left[c(x)+\\beta\\sum_{x'\\in X} v(x')P(x,x')\\right]\\\\\n",
    "&\\le \\sigma(x)e(x)+(1-\\sigma(x))\\left[c(x)+\\beta\\sum_{x'\\in X} v'(x')P(x,x')\\right]\n",
    "\\end{align*}\n",
    "\n",
    "for all $x\\in X$. This implies,\n",
    "\n",
    "$$\n",
    "T_\\sigma v\\le T_\\sigma v'\n",
    "$$\n",
    "\n",
    "Hence, $T_\\sigma$ is order-preserving with respect to the pointwise partial order."
   ]
  },
  {
   "cell_type": "markdown",
   "id": "9d595458-bf36-432a-81a7-ff05add32a5c",
   "metadata": {},
   "source": [
    "### EXERCISE 4.1.3.\n",
    "\n",
    "Prove for any $\\sigma\\in\\Sigma$, the policy operator $T_\\sigma$ is a contraction of modulus $\\beta$ on $\\mathbb{R}^X$ **under the supremum norm**.\n"
   ]
  },
  {
   "cell_type": "markdown",
   "id": "d9284bda-540f-47ac-90f9-e46bf42f2c07",
   "metadata": {},
   "source": [
    "**Proof**\n",
    "\n",
    "Let $v,v'\\in \\mathbb{R}^X$. We have,\n",
    "\n",
    "\\begin{align*}\n",
    "\\|T_\\sigma v-T_\\sigma v'\\|_\\infty &= \\max_{x\\in X}|(T_\\sigma v)(x)-(T_\\sigma v')(x)|\\\\\n",
    "&=\\max_{x\\in X}\\left|\\sigma(x)e(x)+(1-\\sigma(x))\\left[c(x)+\\beta\\sum_{x'\\in X}v(x')P(x,x')\\right]-\\sigma(x)e(x)-(1-\\sigma(x))\\left[c(x)+\\beta\\sum_{x'\\in X}v'(x')P(x,x')\\right]\\right|\\\\\n",
    "&= \\max_{x\\in X}(1-\\sigma(x))\\beta\\left|\\sum_{x'\\in X} (v(x')-v'(x'))P(x,x')\\right|\\\\\n",
    "&\\le \\beta \\|v-v'\\|_\\infty\n",
    "\\end{align*}\n",
    "\n",
    "Hence, $T_\\sigma$ is a contraction of modulus $\\beta$ on $\\mathbb{R}^X$ under the supremum norm."
   ]
  },
  {
   "cell_type": "markdown",
   "id": "f27d9eed-2180-4aa9-84d1-c9bac52d0f97",
   "metadata": {},
   "source": [
    "### EXERCISE 4.1.4.\n",
    "\n",
    "Prove that $T$ is an order-preserving self-map on $\\mathbb{R}^X$."
   ]
  },
  {
   "cell_type": "markdown",
   "id": "2b73c6f5-8566-4043-bfa1-1605a059c2d0",
   "metadata": {},
   "source": [
    "**Proof**\n",
    "\n",
    "Let $v,v'\\in\\mathbb{R}^X$ and $v\\le v'$, where $\\le$ is the pointwise partial order.\n",
    "\n",
    "We have,\n",
    "\n",
    "\\begin{align*}\n",
    "(Tv)(x) &=\\max\\left\\{e(x), c(x)+\\beta\\sum_{x'\\in X} v(x')P(x,x')\\right\\}\\\\\n",
    "&\\le \\max\\left\\{e(x),c(x)+\\beta\\sum_{x'\\in X} v'(x') P(x,x')\\right\\}\\\\\n",
    "&= (Tv')(x)\n",
    "\\end{align*}\n",
    "\n",
    "for all $x\\in X$. This implies, we have,\n",
    "\n",
    "$$\n",
    "Tv\\le Tv'\n",
    "$$\n",
    "\n",
    "Hence, $T$ is order-preserving. Moreover since $(Tv)(x)\\in\\mathbb{R}$ for all $x\\in X$. Hence, $T$ is also a self-map. This completes the proof."
   ]
  },
  {
   "cell_type": "markdown",
   "id": "bd253491-8748-4097-9c32-885c3db0079b",
   "metadata": {},
   "source": [
    "### EXERCISE 4.1.5.\n",
    "\n",
    "Prove that $T$ is a contraction on $\\mathbb{R}^X$ with modulus $\\beta$."
   ]
  },
  {
   "cell_type": "markdown",
   "id": "3be67e2b-42a5-47bf-8e11-a4e5be3797a8",
   "metadata": {},
   "source": [
    "**Proof**\n",
    "\n",
    "Let $v,v'\\in \\mathbb{R}^X$. We have,\n",
    "\n",
    "\\begin{align*}\n",
    "\\|Tv-Tv'\\|_\\infty &= \\max_{x\\in X}|(Tv)(x)-(Tv')(x)|\\\\\n",
    "&= \\max_{x\\in X}\\left|\\max\\{e(x),c(x)+\\beta\\sum_{x'\\in X}v(x')P(x,x')\\}-\\max\\{e(x),c(x)+\\beta\\sum_{x'\\in X}v'(x')P(x,x')\\}\\right|\\\\\n",
    "&\\le \\max_{x\\in X}\\beta\\left|\\sum_{x'\\in X}(v(x')-v'(x'))P(x,x')\\right|\\\\\n",
    "&\\le \\beta \\|v-v'\\|_\\infty\n",
    "\\end{align*}\n",
    "\n",
    "This gives the proof."
   ]
  },
  {
   "cell_type": "markdown",
   "id": "55416666-00da-4aa4-8b5f-e24aa16f8038",
   "metadata": {},
   "source": [
    "### EXERCISE 4.1.6. \n",
    "\n",
    "Replicate Figure 4.1."
   ]
  },
  {
   "cell_type": "markdown",
   "id": "d4cbfc52-93d8-43c4-a642-b6bf2b2bec77",
   "metadata": {},
   "source": [
    "**Solution** See python code"
   ]
  },
  {
   "cell_type": "markdown",
   "id": "0a75b53c-d60d-4420-983d-11096bad95ce",
   "metadata": {},
   "source": [
    "### EXERCISE 4.1.7. \n",
    "\n",
    "Prove the following:\n",
    "\n",
    "If $Q\\gg 0$ and $s>w(z)$ for at least one $z\\in Z$, then $w\\ll v^*$.\n",
    "\n",
    "Provide some intuition of this result.\n",
    "\n"
   ]
  },
  {
   "cell_type": "markdown",
   "id": "cb5aede5-d512-465a-a2c9-126a2bc6a28c",
   "metadata": {},
   "source": [
    "**Proof**\n",
    "\n",
    "Suppose $Q\\gg 0$ and $s>w(z^*)$ for some $z^*\\in Z$.\n",
    "\n",
    "By definition, we have,\n",
    "\n",
    "\\begin{align*}\n",
    "w(z) &= \\mathbb{E}_z \\sum_{t\\ge 0}\\beta^t \\pi_t\\\\\n",
    "&= \\mathbb{E}\\left[\\sum_{t\\ge 0} \\beta^t \\pi_t |Z_0=z\\right]\\\\\n",
    "&= \\sum_{t\\ge 0}\\beta^t\\sum_{z'\\in Z} w(z')Q(z,z')\\\\\n",
    "&< \\sum_{t\\ge 0}\\beta^t\\sum_{z'\\in Z} v^*(z')Q(z,z')\\\\\n",
    "&\\le v^*\n",
    "\\end{align*}\n",
    "\n",
    "Intuition:\n",
    "\n",
    "No matter what is the initial state, as $Q\\gg 0$, it is guranteed that every state will be take into account when calculating the expectation, hence, if there exists one state such that strict inequality holds, the conditional expectation starting from every state will be dominated strictly by the value function with exit."
   ]
  },
  {
   "cell_type": "markdown",
   "id": "035290af-7ce9-4871-87be-07fed63b38b5",
   "metadata": {},
   "source": [
    "### EXERCISE 4.1.8.\n",
    "\n",
    "Consider a version of the model of firm value with exit, where productivity is constant but prices are stochastic.\n",
    "\n",
    "In particular, the price process $(P_t)$ for the final good is $Q$-Markov.\n",
    "\n",
    "Suppose further, that one-period profits for a given price $p$ are $\\max_{\\ell\\ge 0} \\pi(\\ell, p)$, where $\\ell$ is labor input.\n",
    "\n",
    "Suppose that $\\pi(\\ell, p) = p\\ell^{1/2}-w\\ell$, where the wage rate $w$ is constant.\n",
    "\n",
    "Formulate the Bellman equation."
   ]
  },
  {
   "cell_type": "markdown",
   "id": "c756f543-b95a-403d-8d39-c5a787ac8187",
   "metadata": {},
   "source": [
    "**Solution**\n",
    "\n",
    "We can take first order condition, we get,\n",
    "\n",
    "$$\n",
    "\\frac{\\partial \\pi}{\\partial \\ell} = \\frac{1}{2}p\\ell^{-1/2}-w=0\\implies \\ell = \\frac{p^2}{4w^2}\n",
    "$$\n",
    "\n",
    "Hence, we can express the profit function as a function of $p$ only, by substituting the first order condition (since it is strictly concave, we have unique globally maximum), we get,\n",
    "\n",
    "$\\pi(p)=\\frac{p^3}{4w^2}-\\frac{p^2}{4w}$\n",
    "\n",
    "\n",
    "The Bellman equation:\n",
    "\n",
    "$$\n",
    "v^*(p) = \\max\\left\\{e(p), \\pi(p) + \\sum_{p'\\in P} v^*(p') Q(p,p')\\right\\}\n",
    "$$"
   ]
  },
  {
   "cell_type": "markdown",
   "id": "003d3418-f91b-4c99-8088-eb151e532829",
   "metadata": {},
   "source": [
    "### EXERCISE 4.1.9.\n",
    "\n",
    "Prove that the optimal policy $\\sigma^*$ is decreasing in on $X$ whenever $e$ is decreasing on $X$ and $h^*$ is increasing on $X$."
   ]
  },
  {
   "cell_type": "markdown",
   "id": "3b6551cd-7d39-487e-ad12-f6ebd6fb89fa",
   "metadata": {},
   "source": [
    "**Proof by contradiction**\n",
    "\n",
    "First, we acknowledge the trivial cases that if $\\sigma^* = 1$ or $\\sigma^*=0$,then it is trivial. \n",
    "\n",
    "Now, we show the case where $\\sigma^*(x')=0$ for some $x'\\in X$ and $\\sigma^*(x)=1$ for some $x\\in X$\n",
    "\n",
    "Let $x,x'\\in X$ such that $x\\le x'$.\n",
    "\n",
    "Since $e$ is decreasing and $h^*$ is increasing on $X$, we have,\n",
    "\n",
    "$$\n",
    "e(x)\\ge e(x'), h^*(x)\\le h^*(x')\n",
    "$$\n",
    "\n",
    "We have, by definition,\n",
    "\n",
    "$$\n",
    "\\sigma^*(x)=\\mathbb{1}\\{e(x)\\ge h^*(x)\\}\n",
    "$$\n",
    "\n",
    "$$\n",
    "\\sigma^*(x')=\\mathbb{1}\\{e(x')\\ge h^*(x')\\}\n",
    "$$\n",
    "\n",
    "Suppose we have,\n",
    "\n",
    "$$\n",
    "\\sigma^*(x)=0, \\sigma^*(x')=1\n",
    "$$\n",
    "\n",
    "This implies,\n",
    "\n",
    "$$\n",
    "e(x)\\le h^*(x)\\le h^*(x')\\le e(x')\n",
    "$$\n",
    "\n",
    "This implies $\\sigma^*(x)=\\sigma^*(x')$.\n",
    "\n",
    "This contradiction gives the proof."
   ]
  },
  {
   "cell_type": "markdown",
   "id": "b29111ac-726a-4460-9f55-1c66fd73bed0",
   "metadata": {},
   "source": [
    "### EXERCISE 4.1.10.\n",
    "\n",
    "Show that $e$ is decreasing and $h^*$ is increasing when $e$ is constant and $c$ increasing and $P$ is monotone increasing."
   ]
  },
  {
   "cell_type": "markdown",
   "id": "36185cd4-c3d3-4813-a50f-851b9b649c67",
   "metadata": {},
   "source": [
    "**Proof**\n",
    "\n",
    "Since $e$ is constant, it is decreasing on $X$ by definition and also increasing by definition.\n",
    "\n",
    "Hence, using lemma 4.1.4., $h^*$ is increasing."
   ]
  },
  {
   "cell_type": "markdown",
   "id": "6e0b308c-6cf8-4e8a-bc25-4b58ae6a4a7c",
   "metadata": {},
   "source": [
    "### EXERCISE 4.1.11.\n",
    "\n",
    "Prove that the optimal policy $\\sigma^*$ is increasing on $X$ whenever $e$ is increasing on $X$ and $h^*$ is decreasing on $X$."
   ]
  },
  {
   "cell_type": "markdown",
   "id": "d46070cb-4bd8-4ee2-b588-edd40a8ecaab",
   "metadata": {},
   "source": [
    "**Proof by contradiction**\n",
    "\n",
    "First, we acknowledge the trivial cases that if $\\sigma^* = 1$ or $\\sigma^*=0$,then it is trivial. \n",
    "\n",
    "Now, we show the case where $\\sigma^*(x')=0$ for some $x'\\in X$ and $\\sigma^*(x)=1$ for some $x\\in X$\n",
    "\n",
    "Let $x,x'\\in X$ such that $x\\le x'$.\n",
    "\n",
    "Since $e$ is increasing and $h^*$ is decreasing on $X$, we have,\n",
    "\n",
    "$$\n",
    "e(x)\\le e(x'), h^*(x)\\ge h^*(x')\n",
    "$$\n",
    "\n",
    "We have, by definition,\n",
    "\n",
    "$$\n",
    "\\sigma^*(x)=\\mathbb{1}\\{e(x)\\ge h^*(x)\\}\n",
    "$$\n",
    "\n",
    "$$\n",
    "\\sigma^*(x')=\\mathbb{1}\\{e(x')\\ge h^*(x')\\}\n",
    "$$\n",
    "\n",
    "Suppose we have,\n",
    "\n",
    "$$\n",
    "\\sigma^*(x)=1, \\sigma^*(x')=0\n",
    "$$\n",
    "\n",
    "This implies,\n",
    "\n",
    "$$\n",
    "e(x)\\ge h^*(x)\\ge h^*(x')\\ge e(x')\n",
    "$$\n",
    "\n",
    "This implies $\\sigma^*(x)=\\sigma^*(x')$.\n",
    "\n",
    "This contradiction gives the proof."
   ]
  },
  {
   "cell_type": "markdown",
   "id": "9ddd2d52-62d9-478c-85f3-0e5f2b90a73f",
   "metadata": {},
   "source": [
    "### EXERCISE 4.1.12. \n",
    "\n",
    "For,\n",
    "\n",
    "$$\n",
    "(Tv)(z,s) = \\max\\left\\{s,\\pi(z) + \\sum_{z'\\in Z} \\int v(z',s') \\varphi(s') \\,\\,ds' Q(z,z')\\right\\}\n",
    "$$\n",
    "\n",
    "\n",
    "Write down the continuation value operator for this function as a mapping from $\\mathbb{R}^Z$ to itself."
   ]
  },
  {
   "cell_type": "markdown",
   "id": "4b1ad382-63c7-4f3b-adfb-ded9c7dfa526",
   "metadata": {},
   "source": [
    "**Proof**\n",
    "\n",
    "By definition, we have,\n",
    "\n",
    "$$\n",
    "v^*(z,s) = \\max\\{s, h^*(z)\\}\n",
    "$$\n",
    "\n",
    "\\begin{align*}\n",
    "h^*(z) &= \\pi(z)+\\sum_{z'\\in Z}\\int v^*(z',s') \\varphi(s') \\,\\,ds'Q(z,z')\\\\\n",
    "&=\\pi(z)+\\sum_{z'\\in Z}\\int \\max\\{s',h^*(z')\\}\\varphi(s')\\,\\,ds' Q(z,z')\n",
    "\\end{align*}\n",
    "\n",
    "Hence, we can define the continuation value operator as\n",
    "\n",
    "$$\n",
    "(Ch)(z) = \\pi(z)+\\sum_{z'\\in Z}\\int\\max\\{s,h(z')\\}\\varphi(s')\\,\\,ds'Q(z,z')\n",
    "$$"
   ]
  },
  {
   "cell_type": "markdown",
   "id": "a43b388b-563a-494d-afe1-10d0077a0326",
   "metadata": {},
   "source": [
    "### EXERCISE 4.1.13.\n",
    "\n",
    "We say that $\\psi$ stochastically dominates $\\varphi$ and write $\\varphi\\precsim_F \\psi$ if\n",
    "\n",
    "$$\n",
    "\\int u(x)\\varphi(x)\\,\\,dx\\le \\int u(x)\\psi(x)\\,\\,dx\n",
    "$$\n",
    "\n",
    "for any $u\\in i\\mathbb{R}^X$.\n",
    "\n",
    "With this definition, show that if $\\varphi_a$ and $\\varphi_b$ are two alternative densities for scrap value and $\\varphi_a\\precsim_F\\varphi_b$, then $\\sigma_a^*\\ge \\sigma_b^*$ pointwise on $Z$, where $\\sigma_i^*$ is the optimal policy corresponding to density $\\varphi_i$ for $i\\in\\{a,b\\}$.\n",
    "\n",
    "Interpret this result."
   ]
  },
  {
   "cell_type": "markdown",
   "id": "a9d00bd6-5e88-4b38-bc34-5140716aa20e",
   "metadata": {},
   "source": [
    "**Proof**\n",
    "\n",
    "When $\\sigma_a^*(z,s) =1$, it always greater than $\\sigma^*b(z,s)$.\n",
    "\n",
    "Hence, we only need to discuss when $\\sigma_a^*(z,s)=0$. To show $\\sigma_a^*(z,s)\\ge \\sigma_b^*(z,s)$ for the point $z\\in Z$ such that $\\sigma_z^*(z,s) =0$ is equivalent to show that,\n",
    "\n",
    "$$\n",
    "\\sigma^*(z,s)=0\\implies \\sigma_b^*(z,s) =0\n",
    "$$\n",
    "\n",
    "Suppose $\\sigma_a^*(z,s)=0$, this implies $s<h^*(z)$, moreover, by definition, this implies,\n",
    "\n",
    "$$\n",
    "v_a^*(z,s) =\\max\\{s,h_a^*(z)\\} = h_a^*(z)\n",
    "$$\n",
    "\n",
    "By the definition of $h_a^*(z)$, we have,\n",
    "\n",
    "\\begin{align*}\n",
    "h_a^*(z) &= \\pi(z)+\\beta\\sum_{z'\\in Z} \\int v_a^*(s',z')\\varphi_a(s')\\,\\,ds' Q(z,z')\\\\\n",
    "&\\le \\pi(z)+\\beta\\sum_{z'\\in Z} \\int v_a^*(s',z')\\varphi_b(s')\\,\\,ds'Q(z,z')\\\\\n",
    "&\\le \\pi(z)+\\beta\\sum_{z'\\in Z} \\int v_b^*(s',z')\\varphi_b(s')\\,\\,ds'Q(z,z')\\\\\n",
    "&= h^*_b(z,s)\n",
    "\\end{align*}\n",
    "\n",
    "The last inequality is from the fact that $v_b^*$ is the value function under distribution $\\varphi_b$. \n",
    "\n",
    "Since, we proved that $s< h^*_a(z)\\le h^*_b(z)$, this implies,\n",
    "\n",
    "$$\n",
    "\\sigma^*(z,s)=0\\implies \\sigma_b^*(z,s) =0\n",
    "$$\n",
    "\n",
    "Hence, this completes the proof."
   ]
  },
  {
   "cell_type": "code",
   "execution_count": null,
   "id": "7dcc3fa0-7293-4f11-b084-e41d5f79ef44",
   "metadata": {},
   "outputs": [],
   "source": []
  }
 ],
 "metadata": {
  "kernelspec": {
   "display_name": "Python 3 (ipykernel)",
   "language": "python",
   "name": "python3"
  },
  "language_info": {
   "codemirror_mode": {
    "name": "ipython",
    "version": 3
   },
   "file_extension": ".py",
   "mimetype": "text/x-python",
   "name": "python",
   "nbconvert_exporter": "python",
   "pygments_lexer": "ipython3",
   "version": "3.10.12"
  }
 },
 "nbformat": 4,
 "nbformat_minor": 5
}
