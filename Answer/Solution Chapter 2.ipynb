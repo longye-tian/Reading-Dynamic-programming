{
 "cells": [
  {
   "cell_type": "markdown",
   "id": "0c83f03b-75a9-4107-a76a-1976116aa903",
   "metadata": {},
   "source": [
    "### EXERCISE 2.1.1."
   ]
  },
  {
   "cell_type": "markdown",
   "id": "5f6bb04b-840f-401e-80b0-ffccc5842057",
   "metadata": {},
   "source": [
    "Show that if $(U,T)$ and $(\\hat U, \\hat T)$ are conjugate under $\\Phi$, \n",
    "\n",
    "then $u\\in U$ is a fixed point of $T$ on $U$ if and only if $\\Phi u\\in \\hat U$ is a fixed point of $\\hat T$ on $\\hat U$."
   ]
  },
  {
   "cell_type": "markdown",
   "id": "03dd9db6-0a87-4be6-9a9e-a7aeba9de382",
   "metadata": {},
   "source": [
    "**Proof**\n",
    "\n",
    "$(\\implies)$\n",
    "\n",
    "Suppose that $(U,T)$ and $(\\hat U, \\hat T)$ are conjugate under $\\Phi$ and $u\\in U$ is a fixed point of $T$ on $U$.\n",
    "\n",
    "By the definition of fixed point, this implies \n",
    "\n",
    "$$\n",
    "Tu = u\n",
    "$$\n",
    "\n",
    "Hence, by conjugation,\n",
    "\n",
    "$$\n",
    "(\\Phi^-1 \\circ \\hat T\\circ \\Phi) (u) = u \\implies \\hat T(\\Phi u) = \\Phi u\n",
    "$$\n",
    "\n",
    "Hence, $\\Phi u$ is a fixed point of $\\hat T$ on $\\hat U$.\n",
    "\n",
    "$(\\impliedby)$\n",
    "\n",
    "Suppose that $(U,T)$ and $(\\hat U, \\hat T)$ are conjugate under $\\Phi$ and $\\Phi u\\in \\hat U$ is a fixed point of $\\hat T$ on $\\hat U$.\n",
    "\n",
    "By the definition of fixed point, this implies \n",
    "\n",
    "$$\n",
    "\\hat T (\\Phi u) = \\Phi u\n",
    "$$\n",
    "\n",
    "Hence, by conjugation,\n",
    "\n",
    "$$\n",
    "Tu = (\\Phi^{-1} \\circ \\hat T\\circ \\Phi) (u) =(\\Phi^{-1} \\circ\\Phi) (u)= u \\implies Tu = u\n",
    "$$\n",
    "\n",
    "Hence, $u\\in U$ is a fixed point of $T$ on $U$. \n"
   ]
  },
  {
   "cell_type": "markdown",
   "id": "1064774e-6f0f-44a5-b480-e87a1492de49",
   "metadata": {},
   "source": [
    "### EXERCISE 2.1.2.\n",
    "\n",
    "Let $(U,T)$ and $(\\hat U, \\hat T)$ be dynamical systems and let $fix (T)$ and $fix (\\hat T)$ be the set of fixed points of $T$ and $\\hat T$.\n",
    "\n",
    "Show that $\\Phi$ is a bijection from $fix(T)$ to $fix(\\hat T)$."
   ]
  },
  {
   "cell_type": "markdown",
   "id": "37bf6abb-e367-4511-bb44-cb1e9109f136",
   "metadata": {},
   "source": [
    "**Proof**\n",
    "\n",
    "**Proof of injection**: Since $\\Phi$ is injective on $U\\supset fix(T)$, it is injective on $fix(T)$.\n",
    "\n",
    "**Proof of surjection**: For any $\\hat u\\in fix(\\hat T)$, in EXERCISE 2.1.2., we have show this implies there exists $\\Phi^{-1} (\\hat u) \\in fix(T)$.\n",
    "\n",
    "These completes the proof."
   ]
  },
  {
   "cell_type": "markdown",
   "id": "ff24bb3e-28e9-4cd0-a271-6b2ad25a89e3",
   "metadata": {},
   "source": [
    "### EXERCISE 2.1.3\n",
    "\n",
    "Let $U:= (0,\\infty)$ and $\\hat U:=\\mathbb{R}$. Let $Tu = Au^\\alpha$, where $A>0$ and $\\alpha \\in\\mathbb{R}$, and let $\\hat T\\hat u = \\ln A+\\alpha \\hat u$.\n",
    "\n",
    "Show that $(U,T)$ and $(\\hat U, \\hat T)$ are topologically conjugate under $\\Phi:= \\ln$."
   ]
  },
  {
   "cell_type": "markdown",
   "id": "cde90336-b8a5-4451-bfc6-3d703428929f",
   "metadata": {},
   "source": [
    "**Proof**\n",
    "\n",
    "First, $\\Phi$ is a homeomorphism ($\\ln$ is continuous and has continuous inverse $\\exp$).\n",
    "\n",
    "Then, let $u\\in U$, we have\n",
    "\n",
    "$$\n",
    "\\exp(\\ln A +\\alpha (\\ln u)) = \\exp(\\ln A)\\exp(\\alpha \\ln u) = \\exp(\\ln A)\\exp(\\ln u^\\alpha) = Au^\\alpha = Tu\n",
    "$$\n",
    "\n",
    "Hence, $(U,T)$ and $(\\hat U, \\hat T)$ are topologically conjugate under $\\Phi:= \\ln$."
   ]
  },
  {
   "cell_type": "markdown",
   "id": "fcaf212d-1dbe-41be-8d9d-e7b1397aecc7",
   "metadata": {},
   "source": [
    "### EXERCISE 2.1.4.\n",
    "\n",
    "As in EXERCISE 2.1.1., but suppose that $(U,T)$ and $(\\hat U, \\hat T)$ are topologically conjugate under $\\Phi$.\n",
    "\n",
    "Fixing $u,u^*\\in U$, show that\n",
    "\n",
    "$$\n",
    "\\lim_{k\\to\\infty} T^ku=u^* \\iff \\lim_{k\\to\\infty} \\hat T^k\\Phi u = \\Phi u^*\n",
    "$$"
   ]
  },
  {
   "cell_type": "markdown",
   "id": "61f55367-2026-47ba-8718-0e041bb63281",
   "metadata": {},
   "source": [
    "**Proof**\n",
    "\n",
    "$(\\implies)$\n",
    "\n",
    "Suppose that $(U,T)$ and $(\\hat U, \\hat T)$ are topologically conjugate under $\\Phi$ and $\\lim_{k\\to\\infty} T^ku=u^*$. \n",
    "\n",
    "Suppose that $\\rho_U$ and $\\rho_{\\hat U}$ are the metrics on these two state spaces. \n",
    "\n",
    "This implies, for all $\\epsilon>0$, there exists $K(\\epsilon)\\in\\mathbb{N}$ such that for all $k\\ge K$, we have \n",
    "\n",
    "$$\n",
    "\\rho_U(T^k u, u^*)<\\epsilon\n",
    "$$\n",
    "\n",
    "Since $\\Phi$ is continuous, by the definition, we have, for all $\\epsilon' >0$, we can choose $\\epsilon(\\epsilon')>0$ such that, \n",
    "\n",
    "$$\n",
    "\\rho_U(T^k u, u^*)<\\epsilon \\implies \\rho_{\\hat U}(\\Phi (T^k u), \\Phi u^*)<\\epsilon'\n",
    "$$\n",
    "\n",
    "\n",
    "Since $T = \\Phi^{-1} \\circ \\hat T\\circ \\Phi$ on $U$ by conjugacy, we have\n",
    "\n",
    "$$\n",
    "T^k = (\\Phi^{-1} \\circ \\hat T\\circ \\Phi)(\\Phi^{-1} \\circ \\hat T\\circ \\Phi)\\cdots(\\Phi^{-1} \\circ \\hat T\\circ \\Phi) = \\Phi^{-1}\\hat T^k\\Phi\n",
    "$$\n",
    "\n",
    "Therefore, from above, we have,\n",
    "\n",
    "$$\n",
    "\\rho_U(T^k u, u^*)<\\epsilon \\implies \\rho_{\\hat U}(\\hat T^k \\Phi u), \\Phi u^*)<\\epsilon'\n",
    "$$\n",
    "\n",
    "$(\\impliedby)$\n",
    "\n",
    "Now, suppose $\\lim_{k\\to\\infty} \\hat T^k\\Phi u = \\Phi u^*$.\n",
    "\n",
    "This implies, for all $\\varepsilon>0$, there exists $K(\\varepsilon)\\in\\mathbb{N}$ such that for all $k\\ge K$, we have \n",
    "\n",
    "$$\n",
    "\\rho_{\\hat U}(\\hat T^k \\Phi u, \\Phi u^*)<\\varepsilon\n",
    "$$\n",
    "\n",
    "Since $\\Phi^-1$ is continuous, by the definition, we have, for all $\\varepsilon' >0$, we can choose $\\varepsilon(\\varepsilon')>0$ such that, \n",
    "\n",
    "$$\n",
    "\\rho_{\\hat U}(\\hat T^k u, \\Phi u^*)<\\varepsilon \\implies \\rho_{U}(\\Phi^{-1} (\\hat T^k \\Phi u), u^*)<\\varepsilon'\n",
    "$$\n",
    "\n",
    "Since $\\hat T = \\Phi \\circ T\\circ \\Phi^{-1}$ on $\\hat U$ by conjugacy, we have\n",
    "\n",
    "$$\n",
    "\\hat T^k = (\\Phi \\circ T\\circ \\Phi^{-1})(\\Phi \\circ T\\circ \\Phi^{-1})\\cdots(\\Phi\\circ T\\circ \\Phi^{-1}) = \\Phi T^k\\Phi^{-1}\n",
    "$$\n",
    "\n",
    "Therefore, from above, we have,\n",
    "\n",
    "$$\n",
    "\\rho_{\\hat U}(\\hat T^k u, \\Phi u^*)<\\varepsilon \\implies \\rho_{U}( T^k u), u^*)<\\varepsilon'\n",
    "$$\n",
    "\n",
    "These complete the proof."
   ]
  },
  {
   "cell_type": "markdown",
   "id": "3c95511b-7016-47bf-9dbe-cb5e7f31a07f",
   "metadata": {},
   "source": [
    "### EXERCISE 2.1.5.\n",
    "\n",
    "Let $\\mathbb{U}$ be the set of all dynamical system $(U,T)$ with $U\\subset \\mathbb{R}^n$.\n",
    "\n",
    "Show that topological conjugacy is an equivalence relation on $\\mathbb{U}$."
   ]
  },
  {
   "cell_type": "markdown",
   "id": "8725573c-617c-4a9a-83e4-6bca8f8eb2c2",
   "metadata": {},
   "source": [
    "**Proof**\n",
    "\n",
    "Let $\\sim$ denote topological conjugacy.\n",
    "\n",
    "To be an equivalence relation, we need to satisfy three conditions: reflexive, symmetric, and transitive\n",
    "\n",
    "- [x] reflexive, i.e., $(U,T)\\sim (U,T)$.\n",
    "\n",
    "Proof: \n",
    "\n",
    "Let $\\Phi (x) =x$. This is a homeomorphism. And $\\Phi(T(x))= T(\\Phi(x))$. Hence, $(U,T)\\sim (U,T)$.\n",
    "\n",
    "\n",
    "- [x] symmetric, i.e., $(U,T)\\sim (\\hat U,\\hat T) \\implies (\\hat U, \\hat T)\\sim (U,T)$\n",
    "\n",
    "Proof:\n",
    "\n",
    "Suppose $(U,T)\\sim (\\hat U,\\hat T)$ under $\\Phi$ a homeomorphism. Then $\\Phi^{-1}$ is also a homeomorphism such that,\n",
    "\n",
    "$$\n",
    "\\hat T = \\left(\\Phi^{-1}\\right)^{-1} T\\Phi^{-1} = \\Phi T\\Phi^{-1}\n",
    "$$\n",
    "\n",
    "Hence, $(\\hat U, \\hat T)\\sim (U,T)$\n",
    "\n",
    "- [x] Transitive, i.e., $(U,T)\\sim (\\hat U,\\hat T), (\\hat U,\\hat T)\\sim (\\bar U,\\bar T) \\implies ( U,  T)\\sim (\\bar U,\\bar T)$\n",
    "\n",
    "Proof:\n",
    "\n",
    "Suppose $(U,T)\\sim (\\hat U,\\hat T)$ with homeomorphism $\\Phi$ and $(\\hat U,\\hat T)\\sim (\\bar U,\\bar T)$ with homeomorphism $\\Phi'$. \n",
    "\n",
    "Hence, we have,\n",
    "\n",
    "$$\n",
    "T = \\Phi^{-1} \\circ \\hat T\\Phi, \\hat T = \\Phi'^{-1} \\circ \\bar T\\Phi'\n",
    "$$\n",
    "\n",
    "This implies, we have,\n",
    "\n",
    "$$\n",
    "T = \\left(\\Phi^{-1}\\circ \\Phi'^{-1}\\right)\\circ \\bar T\\circ \\left(\\Phi'\\circ\\Phi \\right)\n",
    "$$\n",
    "\n",
    "Since composition of continuous functions is also continuous, i.e., $\\bar \\Phi := \\Phi'\\circ\\Phi$ is continuous and by composition rule, we have,\n",
    "\n",
    "$$\n",
    "T =\\bar \\Phi^{-1}\\circ \\bar T\\circ \\bar \\Phi \n",
    "$$\n",
    "\n",
    "This implies $(U,T)\\sim (\\bar U, \\bar T)$.\n",
    "\n",
    "These complete the proof."
   ]
  },
  {
   "cell_type": "markdown",
   "id": "1db45942-783b-4376-80c9-e257b304e5ef",
   "metadata": {},
   "source": [
    "### EXERCISE 2.1.6.\n",
    "\n",
    "Returning to the setting of EXERCISE 2.1.4., let $(U,T)$ and $(\\hat U,\\hat T)$ be topologically conjugate and let $u^*$ be a fixed point of $T$ in $U$.\n",
    "\n",
    "Show that $u^*$ is locally stable for $(U,T)$ if and only if $\\Phi u^*$ is locally stable for $(\\hat U,\\hat T)$."
   ]
  },
  {
   "cell_type": "markdown",
   "id": "444fc4b8-cbe7-4c50-9f96-0b64e7ac0fbd",
   "metadata": {},
   "source": [
    "**Proof**\n",
    "\n",
    "Let $(U,T)$ and $(\\hat U,\\hat T)$ be topologically conjugate and let $u^*$ be a fixed point of $T$ in $U$.\n",
    "\n",
    "$(\\implies)$\n",
    "\n",
    "Suppose that $u^*$ is locally stable in $U$. This implies there exists an open neighborhood $O\\subset U$ such that for all $u\\in O$, we have $T^k u\\to u^*$ as $k\\to\\infty$.\n",
    "\n",
    "From EXERCISE 2.1.4., we show that $T^k u\\to u^*$ as $k\\to\\infty$ implies that $\\hat T^k \\Phi u\\to \\Phi u^*$ as $k\\to\\infty$. Let $\\Phi(O)=\\{\\Phi u \\in \\hat U: u\\in O\\}$. Since $\\Phi$ is a homeomorphism, this implies, $\\Phi^{-1}$ is continuous. Hence, the preimage of $\\Phi(O)$ is $O$ and since $O$ is open this implies the preimage of $O$ under $\\Phi^{-1}$, i.e., $\\Phi(O)$ is open. \n",
    "\n",
    "Hence, there is a open neighborhood $\\Phi(O) \\subset \\hat U$ such that $\\hat T^k \\Phi u \\to \\Phi u^*$ as $k\\to\\infty$ for all $\\Phi u \\in \\Phi(O)$. Hence $\\Phi u^*$ is locally stable for $(\\hat U,\\hat T)$.\n",
    "\n",
    "$(\\impliedby)$\n",
    "\n",
    "Suppose that $\\Phi u^*$ is locally stable in $\\hat U$. This implies there exists an open neighborhood $\\Phi(O)\\subset \\hat U$ such that for all $\\Phi u\\in \\Phi(O)$, we have $\\hat T^k \\Phi u\\to \\Phi u^*$ as $k\\to\\infty$.\n",
    "\n",
    "From EXERCISE 2.1.4., we show that $\\hat T^k \\Phi u\\to \\Phi u^*$ as $k\\to\\infty$ implies that $ T^k u\\to u^*$ as $k\\to\\infty$. Let $O=\\{u \\in U: \\Phi u\\in \\Phi (O)\\}$. Since $\\Phi^{-1}$ is a homeomorphism, this implies, $\\Phi$ is continuous. Hence, the preimage of $O$ is $\\Phi(O)$ and since $\\Phi(O)$ is open this implies the preimage of $\\Phi(O)$ under $\\Phi$, i.e., $O$ is open. \n",
    "\n",
    "Hence, there is a open neighborhood $O \\subset U$ such that $T^k u \\to u^*$ as $k\\to\\infty$ for all $u \\in O$. Hence $u^*$ is locally stable for $(U,T)$.\n",
    "\n",
    "These complete the proof."
   ]
  },
  {
   "cell_type": "markdown",
   "id": "1d3d5c52-bd4e-47a5-a728-7db2aea8819c",
   "metadata": {},
   "source": [
    "### EXERCISE 2.1.7.\n",
    "\n",
    "Let $T\\in C^2(U,U)$. $U$ is an open interval in $\\mathbb{R}$. \n",
    "\n",
    "Suppose that $T$ has a fixed point $u^*\\in U$ and take $u_k:= T^ku_0$ converges to $u^*$ as $k\\to \\infty$.\n",
    "\n",
    "Prove that the rate of convergence is linear whenever \n",
    "\n",
    "$$\n",
    "0<|T'u^*|<1\n",
    "$$\n",
    "\n",
    "Hint: Use second-order Taylor expansion."
   ]
  },
  {
   "cell_type": "markdown",
   "id": "8c702bb8-c130-461d-b74a-2bbddf11f933",
   "metadata": {},
   "source": [
    "**Proof**\n",
    "\n",
    "Taking the second-order Taylor expansion, we have,\n",
    "\n",
    "$$\n",
    "Tu_k \\approx u^* + T'u^*(u_k-u^*) + \\frac{1}{2!} T''u^*(u_k-u^*)^2\n",
    "$$\n",
    "\n",
    "This implies,\n",
    "\n",
    "$$\n",
    "\\frac{e_{k+1}}{e_k} = \\frac{\\|Tu_k-u^*\\|}{\\|u_k-u^*\\|}=\\frac{\\|T'u^*(u_k-u^*) + \\frac{1}{2} T''u^*(u_k-u^*)^2\\|}{\\|u_k-u^*\\|}\n",
    "$$\n",
    "\n",
    "This implies,\n",
    "\n",
    "$$\n",
    "sup \\frac{e_{k+1}}{e_k} = \\frac{|T'u^*|\\|u_k-u^*\\| + |\\frac{1}{2} T''u^*|\\|(u_k-u^*)\\|^2}{\\|u_k-u^*\\|} = |T'u^*|+|\\frac{1}{2} T''u^*|e_k\n",
    "$$\n",
    "\n",
    "Hence, \n",
    "\n",
    "$$\n",
    "\\limsup_{k\\to\\infty}\\frac{e_{k+1}}{e_k} = \\lim_{k\\to\\infty} sup \\frac{e_{k+1}}{e_k} = |T'u^*|\\in(0,1)\n",
    "$$\n",
    "\n",
    "This completes the proof."
   ]
  },
  {
   "cell_type": "markdown",
   "id": "63dedcc1-4800-42aa-92fd-954df235930a",
   "metadata": {},
   "source": [
    "### EXERCISE 2.2.1.\n",
    "\n",
    "Let $P$ be any set and consider the relation induced by equality, so that $p\\precsim q \\iff p=q$.\n",
    "\n",
    "Show that this relation is a partial order on $P$."
   ]
  },
  {
   "cell_type": "markdown",
   "id": "821557d9-99ce-4f6b-b9da-b84b4ecc4bc5",
   "metadata": {},
   "source": [
    "**Proof**\n",
    "\n",
    "We check\n",
    "\n",
    "- [x] Reflexivity: $p=p$\n",
    "- [x] Anti-symmetry: $p=q, q=p,\\implies p=q$\n",
    "- [x] Transitivity: $p=q,q=r \\implies p=r$\n",
    "\n",
    "Hence, $(P,=)$ is a partially ordered set."
   ]
  },
  {
   "cell_type": "markdown",
   "id": "95730751-b2a2-4158-bcc1-6baca1820b05",
   "metadata": {},
   "source": [
    "### EXERCISE 2.2.2.\n",
    "\n",
    "Let $M$ be any set. Show that set inclusion $\\subset$ induces a partial order on $\\mathscr{P}(M)$, the power set of $M$."
   ]
  },
  {
   "cell_type": "markdown",
   "id": "a2f86bf9-4c16-4662-a08c-9663df40c16b",
   "metadata": {},
   "source": [
    "**Proof**\n",
    "\n",
    "Let $A,B,C\\subset M$.\n",
    "\n",
    "We check\n",
    "\n",
    "- [x] Reflexivity: $A\\subset A$\n",
    "- [x] Anti-symmetry: $A\\subset B, B\\subset A\\implies A=B$\n",
    "- [x] Transitivity: $A\\subset B, B\\subset C\\implies A\\subset C$\n",
    "\n",
    "Hence, $(\\mathscr{P}(M),\\subset)$ is a partial order set."
   ]
  },
  {
   "cell_type": "markdown",
   "id": "1b42adca-52af-4097-8143-a7121bb5fac4",
   "metadata": {},
   "source": [
    "### EXERCISE 2.2.3.\n",
    "\n",
    "Show that the pointwise order $\\le$ is a partial order on $\\mathbb{R}^X$."
   ]
  },
  {
   "cell_type": "markdown",
   "id": "ab133bb1-f1c1-4e2d-8d83-4b2f6b0263e7",
   "metadata": {},
   "source": [
    "**Proof**\n",
    "Let $u,v,w \\in \\mathbb{R}^X$.\n",
    "\n",
    "We check\n",
    "\n",
    "- [x] Reflexivity: $u(x)\\le u(x)$ for all $x\\in X$. Hence $u\\le u$.\n",
    "\n",
    "- [x] Anti-symmetry: $u(x)\\le v(x), v(x)\\le u(x)$ for all $x\\in X$ implies $u(x)= v(x)$ for all $x\\in X$. Hence $u\\le v, v\\le u\\implies u=v$.\n",
    "\n",
    "- [x] Transitivity: $u(x)\\le v(x)\\le w(x)$ for all $x\\in X$ implies $u(x)\\le w(x)$ for all $x\\in X$. Hence, $u\\le v, v\\le w\\implies u\\le w$.\n",
    "\n",
    "Hence, pointwise order $\\le$ is a partial order on $\\mathbb{R}^X$."
   ]
  },
  {
   "cell_type": "markdown",
   "id": "698e559b-efd2-4409-9338-d7169d67f0e2",
   "metadata": {},
   "source": [
    "### EXERCISE 2.2.4\n",
    "\n",
    "Show that the relation $\\ll$ is not a partial order on $\\mathbb{R}^X$."
   ]
  },
  {
   "cell_type": "markdown",
   "id": "9cb37f8d-cc2a-4177-9785-8cbbfa3b31fe",
   "metadata": {},
   "source": [
    "**Proof**\n",
    "\n",
    "It violates the reflexivity condition, i.e., $\\not \\exists u \\in\\mathbb{R}^X$, such that $u(x)\\ll u(x)$ for all $x\\in X$."
   ]
  },
  {
   "cell_type": "markdown",
   "id": "433f41c5-554e-45a5-b351-ca50ef8c4f7d",
   "metadata": {},
   "source": [
    "### EXERCISE 2.2.5.\n",
    "\n",
    "Limits in $\\mathbb{R}$ preserve week inequalities. Use this property to prove that the same is true in $\\mathbb{R}^n$.\n",
    "\n",
    "In particular, show that, for vector $a,b\\in\\mathbb{R}^n$ and sequence $(u_k)$ in $\\mathbb{R}^n$, with $a\\le u_k\\le b$ for all $k\\in \\mathbb{N}$, and $u_k\\to u\\in\\mathbb{R}^n$, we have $a\\le u\\le b$."
   ]
  },
  {
   "cell_type": "markdown",
   "id": "3ec42450-adc4-4ab2-bc44-fc642943ef95",
   "metadata": {},
   "source": [
    "**Proof**\n",
    "\n",
    "Since we have $a\\le u_k\\le b$ for all $k\\in\\mathbb{N}$. This implies, for all $i\\in[n]$, we have\n",
    "\n",
    "$$\n",
    "a^i\\le u^i_k\\le b^i\n",
    "$$\n",
    "\n",
    "for all $k\\in\\mathbb{N}$, where $a^i, u^i_k,b^i$ are the $i$-th element of $a,u_k,b$.\n",
    "\n",
    "Since limits in $\\mathbb{R}$ preserve weak inequality, we have for all $i\\in[n]$,\n",
    "\n",
    "$$\n",
    "\\lim_{k\\to\\infty} a^i \\le \\lim_{k\\to\\infty} u_k^i\\le \\lim_{k\\to\\infty} b_i\n",
    "$$\n",
    "\n",
    "Hence,\n",
    "$$\n",
    "a^i \\le u^i \\le  b_i\n",
    "$$\n",
    "for all $i\\in [n]$, where $u^i$ is the $i$-th element of $u$.\n",
    "\n",
    "Hence, $a\\le u\\le b$.\n"
   ]
  },
  {
   "cell_type": "markdown",
   "id": "4900dabf-340d-4f14-9d96-b49e0e76f717",
   "metadata": {},
   "source": [
    "### EXERCISE 2.2.6.\n",
    "\n",
    "Explain why the pointwise order over matrices is a special case of the pointwise order over functions."
   ]
  },
  {
   "cell_type": "markdown",
   "id": "3247da0f-eba0-49d4-9012-0654bc537458",
   "metadata": {},
   "source": [
    "In pointwise order over matrices, $\\dim(X) =2$. Hence, it is a special case of the pointwise order over functions."
   ]
  },
  {
   "cell_type": "markdown",
   "id": "520ecb48-e07a-45aa-b94a-a1af242cd945",
   "metadata": {},
   "source": [
    "### EXERCISE 2.2.7. \n",
    "\n",
    "Prove\n",
    "\n",
    "1. If $B$ is $m\\times k$ and $B\\ge 0$, then $|Bu|\\le B|u|$ for all $k\\times 1$ column vectors $u$.\n",
    "\n",
    "2. If $A$ is $n\\times n$ with $A\\ge 0$ and $(u_k)$ is a sequence in $\\mathbb{R}^n$ satisfying $u_{k+1}\\le Au_k$ for all $k\\ge 0$, then $u_k\\le A^k u_0$."
   ]
  },
  {
   "cell_type": "markdown",
   "id": "23915d8f-0c26-4340-99a3-5eee3c07aa53",
   "metadata": {},
   "source": [
    "**Proof part 1**\n",
    "\n",
    "Suppose $B$ is $m\\times k$ and $B\\ge 0$. Let $B = [B_1\\,\\,B_2\\,\\,\\cdots,B_k]$ and $u = (u_1, \\cdots, u_k)^\\top$, where $B_i$ is the $i$-th column of $B$. Then, by the triangle inequality, we have, \n",
    "\n",
    "$$\n",
    "|Bu| = |B_1u_1+\\cdots+B_ku_k|\\le |B_1||u_1| +\\cdots + |B_k||u_k| = B_1 |u_1| +\\cdots+B_k |u_k| = B|u| \n",
    "$$\n",
    "\n",
    "**Proof part 2**\n",
    "\n",
    "Let $A$ is $n\\times n$ with $A\\ge 0$ and $(u_k)$ is a sequence in $\\mathbb{R}^n$ satisfying $u_{k+1}\\le Au_k$ for all $k\\ge 0$.\n",
    "\n",
    "We first show that $A^2 u_k\\ge Au{k+1}$ for any $k\\ge 0$.\n",
    "\n",
    "We can express $A^2 u_k = A(Au_k)$, where let $v_k := Au_k\\ge u_{k+1}$, hence $v^i_k\\ge u^i_{k+1}$. Therefore, the linear combination of $A$'s column space follows that\n",
    "\n",
    "$$\n",
    "Av_k \\ge Au_{k+1}\\ge u_{k+2}\n",
    "$$\n",
    "\n",
    "Hence, we first proved $A^2 u_k\\ge Au_{k+1}$. We can iterate the above reasoning $n$ times, we get,\n",
    "\n",
    "$$\n",
    "A^n u_k\\ge u_{k+n}\n",
    "$$\n",
    "\n",
    "We set $k=0$ and $n=k$. This gives the proof."
   ]
  },
  {
   "cell_type": "markdown",
   "id": "06f7e568-003c-4f8f-9017-0a6352ebfde1",
   "metadata": {},
   "source": [
    "### EXERCISE 2.2.8.\n",
    "\n",
    "Let $A$ be $n\\times k$ and let $u$ and $v$ be $k$-vectors. \n",
    "\n",
    "Prove that $A\\gg 0$, $u\\le v, u\\neq v \\implies Au\\ll Av$."
   ]
  },
  {
   "cell_type": "markdown",
   "id": "9d7ad225-222d-4240-8413-16bc8c3357da",
   "metadata": {},
   "source": [
    "**Proof**\n",
    "\n",
    "Let $A = [A_1, \\cdots,A_k]$ and $u=(u_1,\\cdots,u_k)^\\top, v = (v_1,\\cdots,v_k)^\\top$. Since $u\\le v,u\\neq v \\implies \\exists i\\in[k]$ s.t. $u_i<v_i$.\n",
    "\n",
    "Hence, $Au = \\sum_{i=1}^k A_iu_i\\ll \\sum_{i=1}^k A_iv_i =Av$."
   ]
  },
  {
   "cell_type": "markdown",
   "id": "0a348510-51e9-4883-a6f6-5a1effb2e3b9",
   "metadata": {},
   "source": [
    "### EXERCISE 2.2.9.\n",
    "\n",
    "Show or provide a counterexample to the statement:\n",
    "\n",
    "$\\subset$ is a total order on $\\mathscr{P}(M)$, where $M$ is any set."
   ]
  },
  {
   "cell_type": "markdown",
   "id": "eb39edc3-2869-4a16-90cb-78b177b649ac",
   "metadata": {},
   "source": [
    "**Counterexample**:\n",
    "\n",
    "Let $M=\\{1,2,3\\}$, where $\\{1\\}, \\{2\\} \\in \\mathscr{M}$ but $\\{1\\}\\not\\subset \\{2\\},\\{2\\}\\not\\subset \\{1\\}$. \n",
    "\n",
    "$\\subset$ is not a total order on $\\mathscr{P}(M)$."
   ]
  },
  {
   "cell_type": "markdown",
   "id": "798516ae-5bd4-482b-8980-8079a87cdb52",
   "metadata": {},
   "source": [
    "### EXERCISE 2.2.10.\n",
    "\n",
    "Let $(P,\\precsim)$ be any partially ordered set and fix $A\\subset P$.\n",
    "\n",
    "Prove that $A$ has at most one greatest element and at most one least element."
   ]
  },
  {
   "cell_type": "markdown",
   "id": "cdd1b418-9c46-48fd-a76b-a25e3e53f88c",
   "metadata": {},
   "source": [
    "**Proof part 1**\n",
    "\n",
    "Suppose $g_i,g_j\\in A$ are any two greatest elements of $A$. By the definition, they satisfy\n",
    "\n",
    "$$\n",
    "g_i\\in A\\implies g_j\\precsim g_i, g_j \\in A\\implies g_i\\precsim g_j\n",
    "$$\n",
    "\n",
    "Hence, by anti-symmetry of $\\precsim$, $g_i=g_j$ for any two greatest elements of $A$. This implies $A$ has at most one greatest elements.\n",
    "\n",
    "**Proof part 2**\n",
    "\n",
    "Suppose $l_i,l_j\\in A$ are any two least elements of $A$. By the definition, they satisfy\n",
    "\n",
    "$$\n",
    "l_i\\in A\\implies l_i\\precsim l_j, l_j \\in A\\implies l_j\\precsim l_i\n",
    "$$\n",
    "\n",
    "Hence, by anti-symmetry of $\\precsim$, $l_i=l_j$ for any two least elements of $A$. This implies $A$ has at most one least element."
   ]
  },
  {
   "cell_type": "markdown",
   "id": "8c28c038-f681-47d7-9aed-12d7cbad724e",
   "metadata": {},
   "source": [
    "### EXERCISE 2.2.11.\n",
    "\n",
    "Let $M$ be a nonempty set and let $\\mathscr{P}(M)$ be the set of all subsets of $M$, partially ordered by $\\subset$.\n",
    "\n",
    "Let $\\{A_i\\}=\\{A_i\\}_{i\\in I}$ be a subset of $\\mathscr{P}(M)$, where $I$ is an arbitrary nonempty index set. \n",
    "\n",
    "Show that $S:= \\bigcup_i A_i$ is the greatest element of $\\{A_i\\}$ if and only if $S\\in\\{A_i\\}$."
   ]
  },
  {
   "cell_type": "markdown",
   "id": "0affe809-91ef-4014-88c5-7463beb17158",
   "metadata": {},
   "source": [
    "**Proof**\n",
    "\n",
    "$(\\implies)$\n",
    "\n",
    "Suppose $S:=\\bigcup_i A_i$ is the greatest element of $\\{A_i\\}$. By definition, $S\\in\\{A_i\\}$.\n",
    "\n",
    "$(\\impliedby)$\n",
    "\n",
    "Suppose $S=\\bigcup_{i}A_i \\in\\{A_i\\}$. For any $A_j \\in \\{A_i\\}$, $j\\in I$, we have,\n",
    "\n",
    "$$\n",
    "A_j\\subset S\n",
    "$$\n",
    "\n",
    "Hence, $A_j\\in \\{A_i\\} \\implies A_j\\in S$. Hence, $S$ is the greatest element of $\\{A_i\\}$."
   ]
  },
  {
   "cell_type": "markdown",
   "id": "a0312917-1037-4374-a856-b1ad0fb1f472",
   "metadata": {},
   "source": [
    "### EXERCISE 2.2.12\n",
    "\n",
    "Under the same setting in EXERCISE 2.2.11.\n",
    "\n",
    "Suppose that $\\{A_i\\}$ is the set of bounded subsets of $\\mathbb{R}^n$. \n",
    "\n",
    "Prove that $\\{A_i\\}$ has no greatest element."
   ]
  },
  {
   "cell_type": "markdown",
   "id": "9dd383b4-5968-4cf5-930c-07378471052f",
   "metadata": {},
   "source": [
    "**Proof by contradiction**\n",
    "\n",
    "Suppose $\\{A_i\\}$ has a greatest element $S\\in\\{A_i\\}$.\n",
    "\n",
    "From EXERCISE 2.2.10 and 2.2.11, we know that $S=\\bigcup_i A_i$ is the only greatest element of $\\{A_i\\}$. \n",
    "\n",
    "Let $B_j = (-j,j)\\in \\{A_i\\}$, $j\\in\\mathbb{N}$. Then, let $B = \\bigcup_j B_j$. Since for all $j\\in\\mathbb{N}$, we have,\n",
    "\n",
    "$$\n",
    "B_j\\in\\{A_i\\} \\implies B_j\\subset S\n",
    "$$\n",
    "\n",
    "Hence, $B\\subset S$. Since $S\\in \\{A_i\\}$. This implies $B$ and $S$ are bounded. But $B$ is not bounded. This contradiction gives the proof. "
   ]
  },
  {
   "cell_type": "markdown",
   "id": "c0f89e0a-08c4-4142-907a-838f2a72aac3",
   "metadata": {},
   "source": [
    "### EXERCISE 2.2.13\n",
    "\n",
    "Prove that $A$ has at most one supremum in $P$."
   ]
  },
  {
   "cell_type": "markdown",
   "id": "975ceb07-48c8-487b-b6c8-5acf8105bd17",
   "metadata": {},
   "source": [
    "**Proof**\n",
    "\n",
    "Let $u_i,u_j$ be any two suprema of $A$. By definition, we have, $u_i,u_j\\in U_p(A)$ and \n",
    "\n",
    "$$\n",
    "u_i\\precsim u_j, u_j\\precsim u_i\n",
    "$$\n",
    "\n",
    "By anti-symmetry of $\\precsim$, $u_i=u_j$ for any two suprema of $A$.\n",
    "\n",
    "Hence, $A$ has at most one supremum in $P$."
   ]
  },
  {
   "cell_type": "markdown",
   "id": "31d243af-ff1c-4eea-8c7f-ea265c50a01c",
   "metadata": {},
   "source": [
    "### EXERCISE 2.2.14.\n",
    "\n",
    "Prove\n",
    "\n",
    "1. If $\\bar a = \\bigvee A$ and $\\bar a\\in A$, then $\\bar a$ is the greatest element of $A$\n",
    "\n",
    "2. If $A$ has a greatest element $\\bar a$, then $\\bar a = \\bigvee A$"
   ]
  },
  {
   "cell_type": "markdown",
   "id": "ddc7fd5f-63dd-4ec1-bdd1-f9b42e241224",
   "metadata": {},
   "source": [
    "**Proof part 1**\n",
    "\n",
    "Suppose $\\bar a = \\bigvee A$, hence $\\bar a\\in U_p(A)$, i.e.,\n",
    "\n",
    "$$\n",
    "a\\in A\\implies a\\precsim \\bar a\n",
    "$$\n",
    "\n",
    "Moreover, as $\\bar a\\in A$. By definition, $\\bar a$ is the greatest element of $A$.\n",
    "\n",
    "**Proof by contradiction part 2**\n",
    "\n",
    "Suppose $\\bar a$ is the greatest element of $A$, i.e., for any element $a\\in A$, we have $a\\precsim \\bar a$. This implies $\\bar a\\in U_p(A)$.\n",
    "\n",
    "Suppose there exists $u\\in U_p(a), u\\neq \\bar a$ such that $u\\precsim \\bar a$. Since $u\\in U_p(A)$ and $\\bar a\\in A$, we get $\\bar a\\precsim u$. By anti-symmetry of $\\precsim$, we get $\\bar a = u$. This contradiction gives the proof."
   ]
  },
  {
   "cell_type": "markdown",
   "id": "abaad0c1-3514-41bf-b845-b6d00a5d2829",
   "metadata": {},
   "source": [
    "### EXERCISE 2.2.15.\n",
    "\n",
    "Let $(P,\\precsim)$ be a partially ordered set and let $A$ be a subset of $P$.\n",
    "\n",
    "Prove that if $\\ell$ is a least element of $A$, then $\\ell = \\bigwedge A$."
   ]
  },
  {
   "cell_type": "markdown",
   "id": "d3d28e6c-1967-4f2a-8e48-1caf9506c6e8",
   "metadata": {},
   "source": [
    "**Proof by contradiction**\n",
    "\n",
    "Let $L(A)$ denote the set of all lower bounds of $A$. \n",
    "\n",
    "Since $\\ell \\in A$ is the least element of $A$, we have for all element $a\\in A$, $\\ell\\precsim a$. This implies $\\ell\\in L(A)$.\n",
    "\n",
    "Suppose there exists $\\ell' \\in L(A), \\ell\\precsim \\ell', \\ell'\\neq \\ell$. Since $\\ell' \\in L(A), \\ell\\in A$, we have $\\ell'\\precsim\\ell$. This implies $\\ell=\\ell'$.\n",
    "\n",
    "This contradiction gives the proof."
   ]
  },
  {
   "cell_type": "markdown",
   "id": "bf1afec7-9b46-4fff-988b-3334e95d84ea",
   "metadata": {},
   "source": [
    "### EXERCISE 2.2.16.\n",
    "\n",
    "Let $M$ be a nonempty set and let $\\mathscr{P}(M)$ be the set of all susbets of $M$, partially ordered by $\\subset$.\n",
    "\n",
    "Let $\\{A_i\\}_{i\\in I}$ be a subset of $\\mathscr{P}(M)$.\n",
    "\n",
    "Prove that $\\bigvee_i A_i = \\bigcup_i A_i$  and $\\bigwedge_i A_i = \\bigcap_i A_i$."
   ]
  },
  {
   "cell_type": "markdown",
   "id": "85af5c0e-4ff4-4196-918b-c8bd357f5937",
   "metadata": {},
   "source": [
    "**Proof part 1**\n",
    "\n",
    "We have, for all elements $A_i$ of $\\{A_i\\}$, $A_i\\subset \\bigcup_i A_i$. This implies $\\bigcup_i A_i \\in U_p(\\{A_i\\})$. \n",
    "\n",
    "Moreover, let $S$ be the least element of $U_p(\\{A_i\\})$ Then, $S\\subset \\bigcup_i A_i$. Since $S\\in U_p(\\{A_i\\})$, this implies for all $A_i\\in\\{A_i\\}$, we have $A_i\\subset S$, this implies $\\bigcup_i A_i \\subset S$. \n",
    "\n",
    "By anti-symmetry of $\\subset$, we get $\\bigcup_i A_i$ is the least element of $U_p(\\{A_i\\})$. Hence, $\\bigcup_i A_i = \\bigvee_i A_i$.\n",
    "\n",
    "\n",
    "**Proof part 2**\n",
    "\n",
    "We have, for all elements $A_i$ of $\\{A_i\\}$, $\\bigcap_i A_i\\subset A_i$. This implies $\\bigcap_i A_i \\in L(\\{A_i\\})$. \n",
    "\n",
    "Moreover, let $S'$ be the greatest element of $L(\\{A_i\\})$. Then, $\\bigcap_i A_i\\subset S'$. Since $S'\\in L(\\{A_i\\})$, this implies for all $A_i\\in\\{A_i\\}$, we have $S'\\subset A_i$, this implies $S'\\subset \\bigcap_i A_i$. \n",
    "\n",
    "By anti-symmetry of $\\subset$, we get $\\bigcap_i A_i$ is the greatest element of $L(\\{A_i\\})$. Hence, $\\bigcap_i A_i = \\bigwedge_i A_i$."
   ]
  },
  {
   "cell_type": "markdown",
   "id": "24eee172-ade3-4701-b479-ceeef1567e10",
   "metadata": {},
   "source": [
    "### EXERCISE 2.2.17.\n",
    "\n",
    "Even when $P$ is totally ordered, existence of suprema and infima for an abstract partially ordered set $(P,\\precsim)$ can fail.\n",
    "\n",
    "Provide an example of a totally ordered set $P$ and a subset $A$ of $P$ that has no supremum in $P$."
   ]
  },
  {
   "cell_type": "markdown",
   "id": "5ae2599f-ce00-4508-a658-5adcb1634718",
   "metadata": {},
   "source": [
    "**Example**\n",
    "\n",
    "Let $P= \\mathbb{R}$ which is totally ordered with total order $\\le$ and $A = \\mathbb{N}\\subset R$ which has no supremum."
   ]
  },
  {
   "cell_type": "markdown",
   "id": "988e30d5-978f-46ed-8bce-b44ade20b630",
   "metadata": {},
   "source": [
    "### EXERCISE 2.2.18\n",
    "\n",
    "Prove that the supremum $u\\vee v$ of $\\{u,v\\}$ in $(\\mathbb{R}^X, \\le)$ is the pointwise maximum\n",
    "\n",
    "$$\n",
    "f(x) = \\max\\{u(x), v(x)\\}\n",
    "$$"
   ]
  },
  {
   "cell_type": "markdown",
   "id": "334f458f-3f90-4c8e-89c3-75313a6b1abe",
   "metadata": {},
   "source": [
    "**Proof by contradiction**\n",
    "\n",
    "Let $f(x) = \\max\\{u(x), v(x)\\}$ for all $x\\in X$. Let $U\\subset \\mathbb{R}^X$ denote the set of all upper bounds of $\\{u,v\\}$. This implies, we have\n",
    "\n",
    "$$\n",
    "u(x)\\le f(x), v(x)\\le f(x),\\,\\,\\forall x\\in X\n",
    "$$\n",
    "\n",
    "\n",
    "Hence, $f\\in U$. \n",
    "\n",
    "Suppose there exists $g\\in U, g\\neq f, g\\le f$. This implies there exists $x'\\in X$ such that $g(x')<f(x') = \\max\\{u(x'),v(x')\\}$. This implies $g(x')<u(x')$ or $g(x')<v(x')$.\n",
    "\n",
    "This is a contradiction as we assume $u\\in U$. Hence, this contradiction gives the proof."
   ]
  },
  {
   "cell_type": "markdown",
   "id": "08d6ce98-3594-4bf4-8533-135df2c25e08",
   "metadata": {},
   "source": [
    "### EXERCISE 2.2.19.\n",
    "\n",
    "Verify\n",
    "\n",
    "$$\n",
    "\\left(\\bigvee_{i} v_i\\right)(x) := \\max_{i\\in I}v_i{x}\n",
    "$$\n",
    "\n",
    "$$\n",
    "\\left(\\bigwedge_{i} v_i\\right)(x) := \\min_{i\\in I}v_i{x}\n",
    "$$"
   ]
  },
  {
   "cell_type": "markdown",
   "id": "e322c332-d97d-4157-9131-d523c1a1a92b",
   "metadata": {},
   "source": [
    "**Proof part 1**\n",
    "\n",
    "\n",
    "Let $f(x) = \\max_{i\\in I}v_i{x}$ for all $x\\in X$. Let $U\\subset \\mathbb{R}^X$ denote the set of all upper bounds of $\\{v_i\\}$. This implies, we have for all $i\\in I$, \n",
    "\n",
    "$$\n",
    "v_i(x)\\le f(x)\\,\\,\\forall x\\in X\n",
    "$$\n",
    "\n",
    "Hence, $f\\in U$. \n",
    "\n",
    "Suppose there exists $g\\in U, g\\neq f, g\\le f$. This implies there exists $x'\\in X$ such that $g(x')<f(x') = \\max_{i\\in I}v_i{x'}$. This implies there exists some $j\\in I$ such that $g(x')<v_j(x')$. \n",
    "\n",
    "This is a contradiction as we assume $u\\in U$. Hence, this contradiction gives the proof.\n",
    "\n",
    "\n",
    "**Proof part 2**\n",
    "\n",
    "\n",
    "Let $h(x) = \\min_{i\\in I}v_i{x}$ for all $x\\in X$. Let $L\\subset \\mathbb{R}^X$ denote the set of all lower bounds of $\\{v_i\\}$. This implies, we have for all $i\\in I$, \n",
    "\n",
    "$$\n",
    "h(x)\\le v_i(x)\\le f(x)\\,\\,\\forall x\\in X\n",
    "$$\n",
    "\n",
    "Hence, $h\\in L$. \n",
    "\n",
    "Suppose there exists $\\ell\\in L, \\ell\\neq h, h\\le \\ell$. This implies there exists $x''\\in X$ such that $\\min_{i\\in I}v_i{x''} = h(x'')<\\ell(x'')$. This implies there exists some $k\\in I$ such that $v_k(x'')<\\ell(x'')$. \n",
    "\n",
    "This is a contradiction as we assume $\\ell\\in L$. Hence, this contradiction gives the proof."
   ]
  },
  {
   "cell_type": "markdown",
   "id": "d7b1333c-6052-4a63-b56f-cbde0bc58bf8",
   "metadata": {},
   "source": [
    "### EXERCISE 2.2.20\n",
    "\n",
    "Show that if $V$ is a sublattice and $\\{v_i\\}$ is a finite collection of function in $V$, then $\\bigvee_i v_i$ and $\\bigwedge_i v_i$ are also in $V$."
   ]
  },
  {
   "cell_type": "markdown",
   "id": "bfcea355-2dc7-4b06-aaa3-c862aa3255b7",
   "metadata": {},
   "source": [
    "**Proof part 1**\n",
    "\n",
    "Let the cardinality of the index set $|I| = N$. Then $\\{v_i\\} = \\{v_1,\\cdots,v_n\\}$.\n",
    "\n",
    "Then \n",
    "\n",
    "$$\n",
    "\\bigvee_iv_i = \\max\\{v_1, v_2,\\cdots,v_n\\} = \\max\\{\\max\\{v_1,v_2\\},v_3,\\cdots,v_n\\}\n",
    "$$\n",
    "\n",
    "Let $v^i:= \\max\\{v^{i-1},v_i\\} \\in V$ as $V$ is a sublattice and $v_1=v^1$\n",
    "\n",
    "Then, we have,\n",
    "\n",
    "\\begin{align*}\n",
    "\\bigvee_iv_i &= \\max\\{\\max\\{v_1,v_2\\},v_3,\\cdots,v_n\\}\\\\\n",
    "&= \\max\\{v^2,v_3,\\cdots,v_n\\}\\\\\n",
    "&= \\max\\{\\max\\{v^2,v_3\\},v_4,\\cdots,v_n\\}\\\\\n",
    "&\\vdots\\\\\n",
    "&= \\max\\{v^{n-1},v_n\\}\\in V\n",
    "\\end{align*}\n",
    "\n",
    "**Proof part 2**\n",
    "\n",
    "We have,\n",
    "\n",
    "$$\n",
    "\\bigwedge_iv_i = \\min\\{v_1, v_2,\\cdots,v_n\\} = \\min\\{\\min\\{v_1,v_2\\},v_3,\\cdots,v_n\\}\n",
    "$$\n",
    "\n",
    "Let $w^i:= \\min\\{w^{i-1},v_i\\} \\in V$ as $V$ is a sublattice and $v_1=w^1$\n",
    "\n",
    "Then, we have,\n",
    "\n",
    "\\begin{align*}\n",
    "\\bigwedge_iv_i &= \\min\\{\\min\\{w^1,v_2\\},v_3,\\cdots,v_n\\}\\\\\n",
    "&= \\min\\{w^2,v_3,\\cdots,v_n\\}\\\\\n",
    "&= \\min\\{\\min\\{w^2,v_3\\},v_4,\\cdots,v_n\\}\\\\\n",
    "&\\vdots\\\\\n",
    "&= \\min\\{w^{n-1},v_n\\}\\in V\n",
    "\\end{align*}"
   ]
  },
  {
   "cell_type": "markdown",
   "id": "b3b231c0-7652-49df-ae12-2e391ec33605",
   "metadata": {},
   "source": [
    "### EXERCISE 2.2.21.\n",
    "\n",
    "Prove that \n",
    "\n",
    "1. If $v^* = \\bigvee_\\sigma v_\\sigma\\in\\{v_\\sigma\\}\\subset\\mathbb{R}^X$, then it is the greastest element of $\\{v_\\sigma\\}$.\n",
    "\n",
    "2. If it is not in $\\{v_\\sigma\\}$, then $\\{v_\\sigma\\}$ has no greatest element."
   ]
  },
  {
   "cell_type": "markdown",
   "id": "5e3e8136-dff8-43db-8a9a-2648723954fc",
   "metadata": {},
   "source": [
    "**Proof part 1**\n",
    "\n",
    "Let $v^*$ be the pointwise maximum, then, we have, for all $x\\in X$,\n",
    "\n",
    "$$\n",
    "v_\\sigma(x)\\le v^*(x)\n",
    "$$\n",
    "\n",
    "for all $\\sigma\\in\\Sigma$. Moreover since, $v^*\\in\\{v_\\sigma\\}$. By definition, it is the greatest element of $\\{v_\\sigma\\}$.\n",
    "\n",
    "\n",
    "**Proof by contradiction part 2**\n",
    "\n",
    "Let $v^*$ be the pointwise maximum of $\\{v_\\sigma\\}$ and $v^*\\not\\in\\{v_\\sigma\\}$. Suppose $\\{v_\\sigma\\}$ has a greatest element $\\bar v \\in\\{v_\\sigma\\}, \\bar v\\neq v^*$ such that \n",
    "\n",
    "$$\n",
    "v_\\sigma\\in \\{v_\\sigma\\} \\implies v_\\sigma(x) \\le \\bar v(x)\n",
    "$$\n",
    "\n",
    "for all $x\\in X$, $\\sigma\\in\\Sigma$.\n",
    "\n",
    "Then, the pointwise maximum of all elements of $\\{v_\\sigma\\}$ is $\\bar v$.\n",
    "\n",
    "This contradiction gives the proof.\n"
   ]
  },
  {
   "cell_type": "markdown",
   "id": "29598af8-9784-462d-a89c-9b63450d733b",
   "metadata": {},
   "source": [
    "### EXERCISE 2.2.22.\n",
    "\n",
    "Let $V$ be a sublattice of $\\mathbb{R}^X$. \n",
    "\n",
    "Show that the intersection of any two order intervals in $V$ is an order interval in $V$."
   ]
  },
  {
   "cell_type": "markdown",
   "id": "82127eed-9624-4be2-bc29-32c4dca0f785",
   "metadata": {},
   "source": [
    "**Proof**\n",
    "\n",
    "Let $[a,b], [c,d]$ be any two order intervals in $V$, i.e.,\n",
    "\n",
    "$$\n",
    "[a,b] = \\{v\\in V: a\\precsim v\\precsim b\\}\n",
    "$$\n",
    "\n",
    "$$\n",
    "[c,d] = \\{v\\in V: c\\precsim v\\precsim d\\}\n",
    "$$\n",
    "\n",
    "Let $A$ be the intersection of these two order intervals, we have,\n",
    "\n",
    "$$\n",
    "A = \\{v\\in V: a\\precsim v\\precsim b, c\\precsim v\\precsim d\\}\n",
    "$$\n",
    "\n",
    "Since $V$ is a sublattice, we have $\\ell = a\\vee c \\in V, g= b\\wedge d \\in V$. \n",
    "\n",
    "Now we show that $\\ell$ is the least element of $A$ and $g$ is the greatest element of $A$.\n",
    "\n",
    "Since for all $v\\in A$, we have $a\\precsim v, c\\precsim v \\implies v\\in U(\\{a,c\\})$, where $U(\\{a,c\\})$ is the set of upper bounds of $\\{a,c\\}$. Since $\\ell$ is the least upper bound of $\\{a,c\\}$, $\\ell$ is the least element of $A$.\n",
    "\n",
    "Similarly, since for all $v\\in A$, we have $v\\precsim b, v\\precsim d \\implies v\\in L(\\{b,d\\})$, where $L(\\{b,d\\})$ is the set of lower bounds of $\\{b,d\\}$. Since $g$ is the greatest lower bound of $\\{b,d\\}$, $g$ is the least element of $A$.\n",
    "\n",
    "Hence, by the definition of greatest and least elements, we have, \n",
    "\n",
    "$$\n",
    "\\ell \\precsim v\\precsim g\n",
    "$$\n",
    "\n",
    "for all $v\\in A$. Hence, the intersection $A$ is also an order interval $[\\ell,g]$.\n",
    "\n",
    "If $\\ell\\not\\precsim g$, we have $A=\\emptyset$ which is also a trivial order interval.\n",
    "\n",
    "This completes the proof."
   ]
  },
  {
   "cell_type": "markdown",
   "id": "da176400-ea75-45ed-abdb-b2fe084e510a",
   "metadata": {},
   "source": [
    "### EXERCISE 2.2.23.\n",
    "\n",
    "Prove if $a,b,c\\in\\mathbb{R}_+^X$, then $|a\\wedge c - b\\wedge c|\\le |a-b|\\wedge c$."
   ]
  },
  {
   "cell_type": "markdown",
   "id": "e4e16b5a-b49e-4af4-9bf6-f2322892c98c",
   "metadata": {},
   "source": [
    "**Proof**\n",
    "\n",
    "Since $\\le$ is a pointwise order, we prove this statement by showing for all $x\\in X$, we have, $|\\min\\{a(x),c(x)\\}-\\min\\{b(x),c(x)\\}|\\le \\min\\{|a(x)-b(x)|,c(x)\\}$.\n",
    "\n",
    "Since for all $x\\in X$, $a(x),b(x),c(x)\\in\\mathbb{R}_+$ and $(\\mathbb{R}_+,\\le)$ is a totally ordered set. Hence, we have, six possibilities in total.\n",
    "\n",
    "For some $x\\in X$, we have the following six possibilities:\n",
    "\n",
    "1. $a(x)\\le b(x)\\le c(x)$\n",
    "2. $a(x)\\le c(x)\\le b(x)$\n",
    "3. $b(x)\\le a(x)\\le c(x)$\n",
    "4. $b(x)\\le c(x)\\le a(x)$\n",
    "5. $c(x)\\le a(x)\\le b(x)$\n",
    "6. $c(x)\\le b(x)\\le a(x)$\n",
    "\n",
    "For the first and third situation, we have,\n",
    "\n",
    "$$\n",
    "a(x)\\le b(x)\\le c(x), b(x)\\le a(x)\\le c(x)\n",
    "$$\n",
    "\n",
    "\n",
    "This implies,\n",
    "\n",
    "$$\n",
    "|\\min\\{a(x),c(x)\\}-\\min\\{b(x),c(x)\\}|= |a(x)-b(x)|\\le |a(x)-b(x)| = \\min\\{|a(x)-b(x)|,c(x)\\}\n",
    "$$\n",
    "\n",
    "The last equality is from $a(x),b(x),c(x)\\in \\mathbb{R}_+$. Let $d(x):= c(x)-a(x)+b(x)\\ge 0$, then we have \n",
    "\n",
    "$$c(x) = |c(x)| = |a(x)-b(x)+d(x)|\\le |a(x)-b(x)| +|d(x)|$$\n",
    "\n",
    "Hence, $c(x)\\ge|a(x)-b(x)|$, hence $\\min\\{|a(x)-b(x)|,c(x)\\} = |a(x)-b(x)|$.\n",
    "\n",
    "\n",
    "For the fifth and sixth situation, we have,\n",
    "\n",
    "$$\n",
    "c(x)\\le a(x)\\le b(x), c(x)\\le b(x)\\le a(x)\n",
    "$$\n",
    "\n",
    "Hence, this implies,\n",
    "\n",
    "$$\n",
    "|\\min\\{a(x),c(x)\\}-\\min\\{b(x),c(x)\\}|= |c(x)-c(x)|=0 \\le \\min\\{|a(x)-b(x)|,c(x)\\}\n",
    "$$\n",
    "\n",
    "Since $a(x),b(x),c(x)in\\mathbb{R}_+$, hence this gives the last inequality.\n",
    "\n",
    "\n",
    "For the second and forth situation, we have,\n",
    "\n",
    "$$\n",
    "a(x)\\le c(x)\\le b(x), b(x)\\le c(x)\\le a(x)\n",
    "$$\n",
    "\n",
    "\n",
    "Hence, for the second situation, this implies\n",
    "\n",
    "$$\n",
    "|\\min\\{a(x),c(x)\\}-\\min\\{b(x),c(x)\\}|= |a(x)-c(x)| \\le \\min\\{|a(x)-b(x)|,c(x)\\}\n",
    "$$\n",
    "\n",
    "Since $a(x),b(x),c(x)\\ge 0$, $|a(x)-c(x)|\\le |a(x)-b(x)|$ and $|a(x)-c(x)|\\le c(x)$ in this situation. Hence this gives the last inequality.\n",
    "\n",
    "Similarly, for the forth situation, this implies\n",
    "\n",
    "$$\n",
    "|\\min\\{a(x),c(x)\\}-\\min\\{b(x),c(x)\\}|= |b(x)-c(x)| \\le \\min\\{|a(x)-b(x)|,c(x)\\}\n",
    "$$\n",
    "\n",
    "Since $a(x),b(x),c(x)\\ge 0$, $|b(x)-c(x)|\\le |a(x)-b(x)|$ and $|b(x)-c(x)|\\le c(x)$ in this situation. Hence this gives the last inequality.\n",
    "\n",
    "\n",
    "In all, since \n",
    "\n",
    "$$\n",
    "|\\min\\{a(x),c(x)\\}-\\min\\{b(x),c(x)\\}|\\le \\min\\{|a(x)-b(x)|,c(x)\\}\n",
    "$$\n",
    "\n",
    "holds for all $x\\in X$. This implies,\n",
    "\n",
    "\n",
    "$$|a\\wedge c - b\\wedge c|\\le |a-b|\\wedge c$$\n",
    "\n",
    "Hence, this completes the proof."
   ]
  },
  {
   "cell_type": "markdown",
   "id": "7d690da1-4cf7-4aa3-bbc3-91228e4259ad",
   "metadata": {},
   "source": [
    "### EXERCISE 2.2.24\n",
    "\n",
    "Prove that if $D$ is a finite set, and $f,g\\in\\mathbb{R}^D$, then \n",
    "\n",
    "$$\n",
    "|\\min_{z\\in D} f(z) - \\min_{z\\in D} g(z)|\\le \\max_{z\\in D} |f(z)-g(z)|\n",
    "$$"
   ]
  },
  {
   "cell_type": "markdown",
   "id": "ddc8b110-4a28-4c74-9591-e2eceb977ffb",
   "metadata": {},
   "source": [
    "**Proof**\n",
    "\n"
   ]
  },
  {
   "cell_type": "markdown",
   "id": "31879fcb-f1ac-43b3-bad3-0829587508d3",
   "metadata": {},
   "source": [
    "### EXERCISE 2.2.25.\n",
    "\n",
    "Let $(P,\\precsim),(Q,\\trianglelefteq)$ be partially ordered sets and let $F$ be an order-preserving map from $P$ to $Q$. \n",
    "\n",
    "Suppose that $\\{u_i\\}\\subset P$ has a greatest and least element.\n",
    "\n",
    "Prove that, in this setting, both $\\bigvee_i Fu_i$ and $\\bigwedge_i Fu_i$ exist in $Q$, and moreover,\n",
    "\n",
    "$$\n",
    "F\\bigvee_i u_i = \\bigvee_i Fu_i, F\\bigwedge_i u_i = \\bigwedge_i Fu_i\n",
    "$$\n",
    "\n"
   ]
  },
  {
   "cell_type": "markdown",
   "id": "af9d6cee-a1a0-4f81-93eb-386316674ada",
   "metadata": {},
   "source": [
    "**Proof**\n",
    "\n",
    "From EXERCISE 2.2.14 and EXERCISE 2.2.15., we know the greates and least element of $\\{u_i\\}$ are $g_P= \\bigvee_iu_i,\\ell_P=\\bigwedge_iu_i$ respectively.\n",
    "\n",
    "Since for all $u_i\\in \\{u_i\\}\\subset P$, we have $Fu_i\\in Q$. Since $g_P,\\ell_P\\in \\{u_i\\}$, then $Fg_P, F\\ell_P \\in Q$.\n",
    "\n",
    "Let $\\{Fu_i\\}: =\\{Fu_i\\in Q: u_i\\in \\{u_i\\}\\}\\subset Q$ denote the image of $F\\{u_i\\}$. And we know $Fg_P,F\\ell_P\\in \\{Fu_i\\}$.\n",
    "\n",
    "\n",
    "By the definition of greatest and least elements, we know for any element $u\\in \\{u_i\\}$, we have,\n",
    "\n",
    "$$\n",
    "\\ell_P\\precsim u\\precsim g_P\n",
    "$$\n",
    "\n",
    "Since $F$ is order-preserving, therefore we have, for any element $Fu\\in\\{Fu_i\\}$\n",
    "\n",
    "$$\n",
    "F\\ell_P\\trianglelefteq Fu \\trianglelefteq Fg_P\n",
    "$$\n",
    "\n",
    "This implies $F\\ell_P, Fg_P$ are the least and greatest elements of $\\{Fu_i\\}\\subset Q$.\n",
    "\n",
    "From EXERCISE 2.2.14, this implies the infimum and supremum are $F\\ell_P, Fg_P$ respectively and they are all in $Q$, i.e.,\n",
    "\n",
    "$$\n",
    "F\\bigvee_i u_i = \\bigvee_i Fu_i \\in Q, F\\bigwedge_iu_i = \\bigwedge_iFu_i\\in Q\n",
    "$$\n",
    "\n",
    "This completes the proof."
   ]
  },
  {
   "cell_type": "markdown",
   "id": "3368eec2-4dd3-4e0b-86e3-9ed99f87dfc3",
   "metadata": {},
   "source": [
    "### EXERCISE 2.2.26.\n",
    "\n",
    "Let $(P,\\precsim)$ be a partially ordered set and let $A$ be an order-preversing self-map on $P$.\n",
    "\n",
    "Prove that $A^k$ is order-preserving on $P$ for any $k\\in \\mathbb{N}$."
   ]
  },
  {
   "cell_type": "markdown",
   "id": "a042a603-8b90-4545-a3e9-71f9100a6d2d",
   "metadata": {},
   "source": [
    "**Proof by induction**\n",
    "\n",
    "Let $p,q\\in P$ and $p\\precsim q$,w.l.o.g.. \n",
    "\n",
    "When $k=1$:\n",
    "\n",
    "Since $A$ is order-preserving, by definition, we have, \n",
    "\n",
    "$$\n",
    "Ap\\precsim Aq\n",
    "$$\n",
    "\n",
    "Suppose when $k=n$, $A^n$ is order-preserving, i.e., \n",
    "\n",
    "$$\n",
    "A^np\\precsim A^nq\n",
    "$$\n",
    "\n",
    "Now when $k=n+1$: \n",
    "\n",
    "Let $p':=A^np \\in P$, $q' := A^nq\\in P$, we have\n",
    "\n",
    "$$\n",
    "A^{n+1} p = Ap'\\precsim Aq' = A^{n+1} q\n",
    "$$\n",
    "\n",
    "Hence, by induction, we get, $A^k$ is order-preserving for all $k\\in\\mathbb{N}$."
   ]
  },
  {
   "cell_type": "markdown",
   "id": "c9f40fd2-55a5-41e9-95f5-bd241abcc892",
   "metadata": {},
   "source": [
    "### EXERCISE 2.2.27.\n",
    "\n",
    "Let $A$ be $n\\times k$ with $A\\ge 0$.\n",
    "\n",
    "Show that the map $u\\mapsto Au$ is order-preserving on $\\mathbb{R}^k$ under the pointwise order."
   ]
  },
  {
   "cell_type": "markdown",
   "id": "06e0399e-1d30-4617-a6b2-2d679b491b10",
   "metadata": {},
   "source": [
    "**Proof**\n",
    "\n",
    "Let $u,v\\in\\mathbb{R}^k$ and $u\\le v$, i.e., $u_i\\le v_i$ for all $i\\in[k]$.\n",
    "\n",
    "Let $A = [A_1, \\cdots, A_k]$, where $A_i$ is the $i$-th column of $A$.\n",
    "\n",
    "Then we have,\n",
    "\n",
    "$$\n",
    "Au = \\sum_{i=1}^kA_i u_i \\le \\sum_{i=1}^k A_i v_i\n",
    "$$\n",
    "\n",
    "as $A_i\\ge 0$ for all $i\\in[k]$.\n",
    "\n",
    "Hence, $A$ is order-preserving on $\\mathbb{R}^k$ under the pointwise order."
   ]
  },
  {
   "cell_type": "markdown",
   "id": "c0dda3f6-bcd6-4dd5-98fb-ffac3b548749",
   "metadata": {},
   "source": [
    "### EXERCISE 2.2.28. \n",
    "\n",
    "Let $A$ and $B$ be $n\\times n$ with $0\\le A\\le B$. Prove that $A^k\\le B^k$ for all $k\\in \\mathbb{N}$, in addition, that $\\rho(A)\\le \\rho(B)$."
   ]
  },
  {
   "cell_type": "markdown",
   "id": "600d9b63-e56a-4754-8163-0803ef5f60e6",
   "metadata": {},
   "source": [
    "**Proof by induction part 1**\n",
    "\n",
    "When $k=1$, we have $0\\le A\\le B$.\n",
    "\n",
    "Assume the inequality holds at $k=n$, i.e., we have \n",
    "\n",
    "$$\n",
    "0\\le A^n\\le B^n\n",
    "$$ \n",
    "\n",
    "We premultiply $A$ on both side of $(1)$, as $A$ is order-preserving, we have\n",
    "\n",
    "$$\n",
    "A^{n+1} \\le AB^{n}\n",
    "$$\n",
    "\n",
    "Since we have $B^n\\ge 0$ and we think it as a linear combination of the rows, by order-preserving, we have,\n",
    "\n",
    "$$\n",
    "AB^n\\le B^{n+1}\n",
    "$$\n",
    "\n",
    "as $A\\le B$\n",
    "\n",
    "Hence, we get $A^{n+1}\\le B^{n+1}$. This implies $A^k\\le B^k$ for all $k\\in\\mathbb{N}$.\n",
    "\n",
    "\n",
    "**Proof part 2**\n",
    "\n",
    "Since $0\\le A^k\\le B^k$ for all $k\\in\\mathbb{N}$ under pointwise order. This implies\n",
    "\n",
    "$$\n",
    "\\|A^k\\|^{1/k} \\le \\|B^k\\|^{1/k}\n",
    "$$\n",
    "\n",
    "for all $k\\in\\mathbb{N}$. Hence by Gelfand's formula, we get,\n",
    "\n",
    "$$\n",
    "\\rho(A) = \\lim_{k\\to\\infty} \\|A^k\\|^{1/k} \\le \\lim_{k\\to\\infty}\\|B^k\\|^{1/k} =\\rho(B)\n",
    "$$\n",
    "\n",
    "These two parts complete the proof."
   ]
  },
  {
   "cell_type": "markdown",
   "id": "a03f46e8-5d07-43e6-a02c-88b0c9849bfd",
   "metadata": {},
   "source": [
    "### EXERCISE 2.2.29.\n",
    "\n",
    "Prove if $(P,\\precsim)$ is any partially ordered set and $f,g\\in i\\mathbb{R}^P$, then\n",
    "\n",
    "1. $\\alpha f +\\beta g \\in i\\mathbb{R}^P$, whenever $\\alpha,\\beta\\ge 0$.\n",
    "\n",
    "2. $f\\vee g\\in i\\mathbb{R}^P$ and $f\\wedge g\\in i\\mathbb{R}^P$."
   ]
  },
  {
   "cell_type": "markdown",
   "id": "3ec4100c-a83a-438b-9f64-d141a7d4e330",
   "metadata": {},
   "source": [
    "**Proof part 1**\n",
    "\n",
    "Let $p,q\\in P$ and $p\\precsim q$. Since $f,g\\in i\\mathbb{R}^P$, this implies,\n",
    "\n",
    "$$\n",
    "f(p)\\le f(q), g(p)\\le g(q) \\tag{1}\n",
    "$$\n",
    "\n",
    "\n",
    "For any $\\alpha, \\beta\\ge$, we have,\n",
    "\n",
    "$$\n",
    "\\alpha f(p)+\\beta g(p)\\le \\alpha f(q) + \\beta g(q)\n",
    "$$\n",
    "\n",
    "Hence, we have $\\alpha f+\\beta g\\in i\\mathbb{R}^P$.\n",
    "\n",
    "**Proof part 2**\n",
    "\n",
    "Similarly, from $(1)$, we have\n",
    "\n",
    "$$\n",
    "\\max\\{f(p),g(p)\\} \\le \\max\\{f(q), g(q)\\}\n",
    "$$\n",
    "\n",
    "and \n",
    "\n",
    "$$\n",
    "\\min\\{f(p),g(p)\\} \\le \\min\\{f(q),g(q)\\}\n",
    "$$\n",
    "\n",
    "Hence, $f\\vee g, f\\wedge g\\in i\\mathbb{R}^P$. These two parts complete the proof."
   ]
  },
  {
   "cell_type": "markdown",
   "id": "9d770b51-0aae-4759-8cf2-18225da3e196",
   "metadata": {},
   "source": [
    "### EXERCISE 2.2.30.\n",
    "\n",
    "Given finite $P$, show that $i\\mathbb{R}^P$ is closed in $\\mathbb{R}^P$."
   ]
  },
  {
   "cell_type": "markdown",
   "id": "7f7fb7cd-da9b-4907-bafd-e6e24a107336",
   "metadata": {},
   "source": [
    "**Proof**\n",
    "\n",
    "Let $\\{f_j\\}_{j\\in\\mathbb{N}} \\subset i\\mathbb{R}^P$ be any converging sequence in $i\\mathbb{R}^P$ with limit function $f\\in\\mathbb{R}^P$. We show $i\\mathbb{R}^P$ is closed by showing $f\\in i\\mathbb{R}^P$. \n",
    "\n",
    "Since $\\{f_j\\}_{j\\in\\mathbb{N}}$ is convergent. We have, for all $\\epsilon>0$, there exists $N(\\epsilon)\\in\\mathbb{N}$ such that for all $n \\ge N$, we have,\n",
    "\n",
    "$$\n",
    "\\|f_n-f\\|_{\\infty} = \\max_{p\\in P} |f_n(p)-f(p)|<\\epsilon \n",
    "$$\n",
    "\n",
    "Since convergency in $\\|\\cdot\\|_{\\infty}$ implies pointwise convergence. Hence, we have, for any $p,q\\in P$ and $p\\precsim q$, we have,\n",
    "\n",
    "$$\n",
    "f_n(p)\\le f_n(q)\n",
    "$$\n",
    "\n",
    "for all $n\\in\\mathbb{N}$. Since limits preserves weak inequality in $\\mathbb{R}$, we have,\n",
    "\n",
    "$$\n",
    "\\lim_{n\\to\\infty} f_n(p) = f(p)\\le f(q) = \\lim_{n\\to\\infty} f_n(q)\n",
    "$$\n",
    "\n",
    "Hence, $f\\in i\\mathbb{R}^P$. This implies $i\\mathbb{R}^P$ is closed."
   ]
  },
  {
   "cell_type": "markdown",
   "id": "5aa06e93-1005-4ca1-95bd-9782744e67aa",
   "metadata": {},
   "source": [
    "### EXERCISE 2.2.31.\n",
    "\n",
    "Let $X$ be a random variable taking values in finite $X$. Define "
   ]
  }
 ],
 "metadata": {
  "kernelspec": {
   "display_name": "Python 3 (ipykernel)",
   "language": "python",
   "name": "python3"
  },
  "language_info": {
   "codemirror_mode": {
    "name": "ipython",
    "version": 3
   },
   "file_extension": ".py",
   "mimetype": "text/x-python",
   "name": "python",
   "nbconvert_exporter": "python",
   "pygments_lexer": "ipython3",
   "version": "3.10.12"
  }
 },
 "nbformat": 4,
 "nbformat_minor": 5
}
