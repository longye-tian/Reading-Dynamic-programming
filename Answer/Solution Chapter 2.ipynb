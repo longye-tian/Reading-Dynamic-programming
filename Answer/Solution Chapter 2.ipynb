{
 "cells": [
  {
   "cell_type": "markdown",
   "id": "0c83f03b-75a9-4107-a76a-1976116aa903",
   "metadata": {},
   "source": [
    "### EXERCISE 2.1.1."
   ]
  },
  {
   "cell_type": "markdown",
   "id": "5f6bb04b-840f-401e-80b0-ffccc5842057",
   "metadata": {},
   "source": [
    "Show that if $(U,T)$ and $(\\hat U, \\hat T)$ are conjugate under $\\Phi$, \n",
    "\n",
    "then $u\\in U$ is a fixed point of $T$ on $U$ if and only if $\\Phi u\\in \\hat U$ is a fixed point of $\\hat T$ on $\\hat U$."
   ]
  },
  {
   "cell_type": "markdown",
   "id": "03dd9db6-0a87-4be6-9a9e-a7aeba9de382",
   "metadata": {},
   "source": [
    "**Proof**\n",
    "\n",
    "$(\\implies)$\n",
    "\n",
    "Suppose that $(U,T)$ and $(\\hat U, \\hat T)$ are conjugate under $\\Phi$ and $u\\in U$ is a fixed point of $T$ on $U$.\n",
    "\n",
    "By the definition of fixed point, this implies \n",
    "\n",
    "$$\n",
    "Tu = u\n",
    "$$\n",
    "\n",
    "Hence, by conjugation,\n",
    "\n",
    "$$\n",
    "(\\Phi^-1 \\circ \\hat T\\circ \\Phi) (u) = u \\implies \\hat T(\\Phi u) = \\Phi u\n",
    "$$\n",
    "\n",
    "Hence, $\\Phi u$ is a fixed point of $\\hat T$ on $\\hat U$.\n",
    "\n",
    "$(\\impliedby)$\n",
    "\n",
    "Suppose that $(U,T)$ and $(\\hat U, \\hat T)$ are conjugate under $\\Phi$ and $\\Phi u\\in \\hat U$ is a fixed point of $\\hat T$ on $\\hat U$.\n",
    "\n",
    "By the definition of fixed point, this implies \n",
    "\n",
    "$$\n",
    "\\hat T (\\Phi u) = \\Phi u\n",
    "$$\n",
    "\n",
    "Hence, by conjugation,\n",
    "\n",
    "$$\n",
    "Tu = (\\Phi^{-1} \\circ \\hat T\\circ \\Phi) (u) =(\\Phi^{-1} \\circ\\Phi) (u)= u \\implies Tu = u\n",
    "$$\n",
    "\n",
    "Hence, $u\\in U$ is a fixed point of $T$ on $U$. \n"
   ]
  },
  {
   "cell_type": "markdown",
   "id": "1064774e-6f0f-44a5-b480-e87a1492de49",
   "metadata": {},
   "source": [
    "### EXERCISE 2.1.2.\n",
    "\n",
    "Let $(U,T)$ and $(\\hat U, \\hat T)$ be dynamical systems and let $fix (T)$ and $fix (\\hat T)$ be the set of fixed points of $T$ and $\\hat T$.\n",
    "\n",
    "Show that $\\Phi$ is a bijection from $fix(T)$ to $fix(\\hat T)$."
   ]
  },
  {
   "cell_type": "markdown",
   "id": "37bf6abb-e367-4511-bb44-cb1e9109f136",
   "metadata": {},
   "source": [
    "**Proof**\n",
    "\n",
    "**Proof of injection**: Since $\\Phi$ is injective on $U\\supset fix(T)$, it is injective on $fix(T)$.\n",
    "\n",
    "**Proof of surjection**: For any $\\hat u\\in fix(\\hat T)$, in EXERCISE 2.1.2., we have show this implies there exists $\\Phi^{-1} (\\hat u) \\in fix(T)$.\n",
    "\n",
    "These completes the proof."
   ]
  },
  {
   "cell_type": "markdown",
   "id": "ff24bb3e-28e9-4cd0-a271-6b2ad25a89e3",
   "metadata": {},
   "source": [
    "### EXERCISE 2.1.3\n",
    "\n",
    "Let $U:= (0,\\infty)$ and $\\hat U:=\\mathbb{R}$. Let $Tu = Au^\\alpha$, where $A>0$ and $\\alpha \\in\\mathbb{R}$, and let $\\hat T\\hat u = \\ln A+\\alpha \\hat u$.\n",
    "\n",
    "Show that $(U,T)$ and $(\\hat U, \\hat T)$ are topologically conjugate under $\\Phi:= \\ln$."
   ]
  },
  {
   "cell_type": "markdown",
   "id": "cde90336-b8a5-4451-bfc6-3d703428929f",
   "metadata": {},
   "source": [
    "**Proof**\n",
    "\n",
    "First, $\\Phi$ is a homeomorphism ($\\ln$ is continuous and has continuous inverse $\\exp$).\n",
    "\n",
    "Then, let $u\\in U$, we have\n",
    "\n",
    "$$\n",
    "\\exp(\\ln A +\\alpha (\\ln u)) = \\exp(\\ln A)\\exp(\\alpha \\ln u) = \\exp(\\ln A)\\exp(\\ln u^\\alpha) = Au^\\alpha = Tu\n",
    "$$\n",
    "\n",
    "Hence, $(U,T)$ and $(\\hat U, \\hat T)$ are topologically conjugate under $\\Phi:= \\ln$."
   ]
  },
  {
   "cell_type": "markdown",
   "id": "fcaf212d-1dbe-41be-8d9d-e7b1397aecc7",
   "metadata": {},
   "source": [
    "### EXERCISE 2.1.4.\n",
    "\n",
    "As in EXERCISE 2.1.1., but suppose that $(U,T)$ and $(\\hat U, \\hat T)$ are topologically conjugate under $\\Phi$.\n",
    "\n",
    "Fixing $u,u^*\\in U$, show that\n",
    "\n",
    "$$\n",
    "\\lim_{k\\to\\infty} T^ku=u^* \\iff \\lim_{k\\to\\infty} \\hat T^k\\Phi u = \\Phi u^*\n",
    "$$"
   ]
  },
  {
   "cell_type": "markdown",
   "id": "61f55367-2026-47ba-8718-0e041bb63281",
   "metadata": {},
   "source": [
    "**Proof**\n",
    "\n",
    "$(\\implies)$\n",
    "\n",
    "Suppose that $(U,T)$ and $(\\hat U, \\hat T)$ are topologically conjugate under $\\Phi$ and $\\lim_{k\\to\\infty} T^ku=u^*$. \n",
    "\n",
    "Suppose that $\\rho_U$ and $\\rho_{\\hat U}$ are the metrics on these two state spaces. \n",
    "\n",
    "This implies, for all $\\epsilon>0$, there exists $K(\\epsilon)\\in\\mathbb{N}$ such that for all $k\\ge K$, we have \n",
    "\n",
    "$$\n",
    "\\rho_U(T^k u, u^*)<\\epsilon\n",
    "$$\n",
    "\n",
    "Since $\\Phi$ is continuous, by the definition, we have, for all $\\epsilon' >0$, we can choose $\\epsilon(\\epsilon')>0$ such that, \n",
    "\n",
    "$$\n",
    "\\rho_U(T^k u, u^*)<\\epsilon \\implies \\rho_{\\hat U}(\\Phi (T^k u), \\Phi u^*)<\\epsilon'\n",
    "$$\n",
    "\n",
    "\n",
    "Since $T = \\Phi^{-1} \\circ \\hat T\\circ \\Phi$ on $U$ by conjugacy, we have\n",
    "\n",
    "$$\n",
    "T^k = (\\Phi^{-1} \\circ \\hat T\\circ \\Phi)(\\Phi^{-1} \\circ \\hat T\\circ \\Phi)\\cdots(\\Phi^{-1} \\circ \\hat T\\circ \\Phi) = \\Phi^{-1}\\hat T^k\\Phi\n",
    "$$\n",
    "\n",
    "Therefore, from above, we have,\n",
    "\n",
    "$$\n",
    "\\rho_U(T^k u, u^*)<\\epsilon \\implies \\rho_{\\hat U}(\\hat T^k \\Phi u), \\Phi u^*)<\\epsilon'\n",
    "$$\n",
    "\n",
    "$(\\impliedby)$\n",
    "\n",
    "Now, suppose $\\lim_{k\\to\\infty} \\hat T^k\\Phi u = \\Phi u^*$.\n",
    "\n",
    "This implies, for all $\\varepsilon>0$, there exists $K(\\varepsilon)\\in\\mathbb{N}$ such that for all $k\\ge K$, we have \n",
    "\n",
    "$$\n",
    "\\rho_{\\hat U}(\\hat T^k \\Phi u, \\Phi u^*)<\\varepsilon\n",
    "$$\n",
    "\n",
    "Since $\\Phi^-1$ is continuous, by the definition, we have, for all $\\varepsilon' >0$, we can choose $\\varepsilon(\\varepsilon')>0$ such that, \n",
    "\n",
    "$$\n",
    "\\rho_{\\hat U}(\\hat T^k u, \\Phi u^*)<\\varepsilon \\implies \\rho_{U}(\\Phi^{-1} (\\hat T^k \\Phi u), u^*)<\\varepsilon'\n",
    "$$\n",
    "\n",
    "Since $\\hat T = \\Phi \\circ T\\circ \\Phi^{-1}$ on $\\hat U$ by conjugacy, we have\n",
    "\n",
    "$$\n",
    "\\hat T^k = (\\Phi \\circ T\\circ \\Phi^{-1})(\\Phi \\circ T\\circ \\Phi^{-1})\\cdots(\\Phi\\circ T\\circ \\Phi^{-1}) = \\Phi T^k\\Phi^{-1}\n",
    "$$\n",
    "\n",
    "Therefore, from above, we have,\n",
    "\n",
    "$$\n",
    "\\rho_{\\hat U}(\\hat T^k u, \\Phi u^*)<\\varepsilon \\implies \\rho_{U}( T^k u), u^*)<\\varepsilon'\n",
    "$$\n",
    "\n",
    "These complete the proof."
   ]
  },
  {
   "cell_type": "markdown",
   "id": "3c95511b-7016-47bf-9dbe-cb5e7f31a07f",
   "metadata": {},
   "source": [
    "### EXERCISE 2.1.5.\n",
    "\n",
    "Let $\\mathbb{U}$ be the set of all dynamical system $(U,T)$ with $U\\subset \\mathbb{R}^n$.\n",
    "\n",
    "Show that topological conjugacy is an equivalence relation on $\\mathbb{U}$."
   ]
  },
  {
   "cell_type": "markdown",
   "id": "8725573c-617c-4a9a-83e4-6bca8f8eb2c2",
   "metadata": {},
   "source": [
    "**Proof**\n",
    "\n",
    "Let $\\sim$ denote topological conjugacy.\n",
    "\n",
    "To be an equivalence relation, we need to satisfy three conditions: reflexive, symmetric, and transitive\n",
    "\n",
    "- [x] reflexive, i.e., $(U,T)\\sim (U,T)$.\n",
    "\n",
    "Proof: \n",
    "\n",
    "Let $\\Phi (x) =x$. This is a homeomorphism. And $\\Phi(T(x))= T(\\Phi(x))$. Hence, $(U,T)\\sim (U,T)$.\n",
    "\n",
    "\n",
    "- [x] symmetric, i.e., $(U,T)\\sim (\\hat U,\\hat T) \\implies (\\hat U, \\hat T)\\sim (U,T)$\n",
    "\n",
    "Proof:\n",
    "\n",
    "Suppose $(U,T)\\sim (\\hat U,\\hat T)$ under $\\Phi$ a homeomorphism. Then $\\Phi^{-1}$ is also a homeomorphism such that,\n",
    "\n",
    "$$\n",
    "\\hat T = \\left(\\Phi^{-1}\\right)^{-1} T\\Phi^{-1} = \\Phi T\\Phi^{-1}\n",
    "$$\n",
    "\n",
    "Hence, $(\\hat U, \\hat T)\\sim (U,T)$\n",
    "\n",
    "- [x] Transitive, i.e., $(U,T)\\sim (\\hat U,\\hat T), (\\hat U,\\hat T)\\sim (\\bar U,\\bar T) \\implies ( U,  T)\\sim (\\bar U,\\bar T)$\n",
    "\n",
    "Proof:\n",
    "\n",
    "Suppose $(U,T)\\sim (\\hat U,\\hat T)$ with homeomorphism $\\Phi$ and $(\\hat U,\\hat T)\\sim (\\bar U,\\bar T)$ with homeomorphism $\\Phi'$. \n",
    "\n",
    "Hence, we have,\n",
    "\n",
    "$$\n",
    "T = \\Phi^{-1} \\circ \\hat T\\Phi, \\hat T = \\Phi'^{-1} \\circ \\bar T\\Phi'\n",
    "$$\n",
    "\n",
    "This implies, we have,\n",
    "\n",
    "$$\n",
    "T = \\left(\\Phi^{-1}\\circ \\Phi'^{-1}\\right)\\circ \\bar T\\circ \\left(\\Phi'\\circ\\Phi \\right)\n",
    "$$\n",
    "\n",
    "Since composition of continuous functions is also continuous, i.e., $\\bar \\Phi := \\Phi'\\circ\\Phi$ is continuous and by composition rule, we have,\n",
    "\n",
    "$$\n",
    "T =\\bar \\Phi^{-1}\\circ \\bar T\\circ \\bar \\Phi \n",
    "$$\n",
    "\n",
    "This implies $(U,T)\\sim (\\bar U, \\bar T)$.\n",
    "\n",
    "These complete the proof."
   ]
  },
  {
   "cell_type": "markdown",
   "id": "1db45942-783b-4376-80c9-e257b304e5ef",
   "metadata": {},
   "source": [
    "### EXERCISE 2.1.6.\n",
    "\n",
    "Returning to the setting of EXERCISE 2.1.4., let $(U,T)$ and $(\\hat U,\\hat T)$ be topologically conjugate and let $u^*$ be a fixed point of $T$ in $U$.\n",
    "\n",
    "Show that $u^*$ is locally stable for $(U,T)$ if and only if $\\Phi u^*$ is locally stable for $(\\hat U,\\hat T)$."
   ]
  },
  {
   "cell_type": "markdown",
   "id": "444fc4b8-cbe7-4c50-9f96-0b64e7ac0fbd",
   "metadata": {},
   "source": [
    "**Proof**\n",
    "\n",
    "Let $(U,T)$ and $(\\hat U,\\hat T)$ be topologically conjugate and let $u^*$ be a fixed point of $T$ in $U$.\n",
    "\n",
    "$(\\implies)$\n",
    "\n",
    "Suppose that $u^*$ is locally stable in $U$. This implies there exists an open neighborhood $O\\subset U$ such that for all $u\\in O$, we have $T^k u\\to u^*$ as $k\\to\\infty$.\n",
    "\n",
    "From EXERCISE 2.1.4., we show that $T^k u\\to u^*$ as $k\\to\\infty$ implies that $\\hat T^k \\Phi u\\to \\Phi u^*$ as $k\\to\\infty$. Let $\\Phi(O)=\\{\\Phi u \\in \\hat U: u\\in O\\}$. Since $\\Phi$ is a homeomorphism, this implies, $\\Phi^{-1}$ is continuous. Hence, the preimage of $\\Phi(O)$ is $O$ and since $O$ is open this implies the preimage of $O$ under $\\Phi^{-1}$, i.e., $\\Phi(O)$ is open. \n",
    "\n",
    "Hence, there is a open neighborhood $\\Phi(O) \\subset \\hat U$ such that $\\hat T^k \\Phi u \\to \\Phi u^*$ as $k\\to\\infty$ for all $\\Phi u \\in \\Phi(O)$. Hence $\\Phi u^*$ is locally stable for $(\\hat U,\\hat T)$.\n",
    "\n",
    "$(\\impliedby)$\n",
    "\n",
    "Suppose that $\\Phi u^*$ is locally stable in $\\hat U$. This implies there exists an open neighborhood $\\Phi(O)\\subset \\hat U$ such that for all $\\Phi u\\in \\Phi(O)$, we have $\\hat T^k \\Phi u\\to \\Phi u^*$ as $k\\to\\infty$.\n",
    "\n",
    "From EXERCISE 2.1.4., we show that $\\hat T^k \\Phi u\\to \\Phi u^*$ as $k\\to\\infty$ implies that $ T^k u\\to u^*$ as $k\\to\\infty$. Let $O=\\{u \\in U: \\Phi u\\in \\Phi (O)\\}$. Since $\\Phi^{-1}$ is a homeomorphism, this implies, $\\Phi$ is continuous. Hence, the preimage of $O$ is $\\Phi(O)$ and since $\\Phi(O)$ is open this implies the preimage of $\\Phi(O)$ under $\\Phi$, i.e., $O$ is open. \n",
    "\n",
    "Hence, there is a open neighborhood $O \\subset U$ such that $T^k u \\to u^*$ as $k\\to\\infty$ for all $u \\in O$. Hence $u^*$ is locally stable for $(U,T)$.\n",
    "\n",
    "These complete the proof."
   ]
  },
  {
   "cell_type": "markdown",
   "id": "1d3d5c52-bd4e-47a5-a728-7db2aea8819c",
   "metadata": {},
   "source": [
    "### EXERCISE 2.1.7.\n",
    "\n",
    "Let $T\\in C^2(U,U)$. $U$ is an open interval in $\\mathbb{R}$. \n",
    "\n",
    "Suppose that $T$ has a fixed point $u^*\\in U$ and take $u_k:= T^ku_0$ converges to $u^*$ as $k\\to \\infty$.\n",
    "\n",
    "Prove that the rate of convergence is linear whenever \n",
    "\n",
    "$$\n",
    "0<|T'u^*|<1\n",
    "$$\n",
    "\n",
    "Hint: Use second-order Taylor expansion."
   ]
  },
  {
   "cell_type": "markdown",
   "id": "8c702bb8-c130-461d-b74a-2bbddf11f933",
   "metadata": {},
   "source": [
    "**Proof**\n",
    "\n",
    "Taking the second-order Taylor expansion, we have,\n",
    "\n",
    "$$\n",
    "Tu_k \\approx u^* + T'u^*(u_k-u^*) + \\frac{1}{2!} T''u^*(u_k-u^*)^2\n",
    "$$\n",
    "\n",
    "This implies,\n",
    "\n",
    "$$\n",
    "\\frac{e_{k+1}}{e_k} = \\frac{\\|Tu_k-u^*\\|}{\\|u_k-u^*\\|}=\\frac{\\|T'u^*(u_k-u^*) + \\frac{1}{2} T''u^*(u_k-u^*)^2\\|}{\\|u_k-u^*\\|}\n",
    "$$\n",
    "\n",
    "This implies,\n",
    "\n",
    "$$\n",
    "sup \\frac{e_{k+1}}{e_k} = \\frac{|T'u^*|\\|u_k-u^*\\| + |\\frac{1}{2} T''u^*|\\|(u_k-u^*)\\|^2}{\\|u_k-u^*\\|} = |T'u^*|+|\\frac{1}{2} T''u^*|e_k\n",
    "$$\n",
    "\n",
    "Hence, \n",
    "\n",
    "$$\n",
    "\\limsup_{k\\to\\infty}\\frac{e_{k+1}}{e_k} = \\lim_{k\\to\\infty} sup \\frac{e_{k+1}}{e_k} = |T'u^*|\\in(0,1)\n",
    "$$\n",
    "\n",
    "This completes the proof."
   ]
  },
  {
   "cell_type": "markdown",
   "id": "63dedcc1-4800-42aa-92fd-954df235930a",
   "metadata": {},
   "source": [
    "### EXERCISE 2.2.1.\n",
    "\n",
    "Let $P$ be any set and consider the relation induced by equality, so that $p\\precsim q \\iff p=q$.\n",
    "\n",
    "Show that this relation is a partial order on $P$."
   ]
  },
  {
   "cell_type": "markdown",
   "id": "821557d9-99ce-4f6b-b9da-b84b4ecc4bc5",
   "metadata": {},
   "source": [
    "**Proof**\n",
    "\n",
    "We check\n",
    "\n",
    "- [x] Reflexivity: $p=p$\n",
    "- [x] Anti-symmetry: $p=q, q=p,\\implies p=q$\n",
    "- [x] Transitivity: $p=q,q=r \\implies p=r$\n",
    "\n",
    "Hence, $(P,=)$ is a partially ordered set."
   ]
  },
  {
   "cell_type": "markdown",
   "id": "95730751-b2a2-4158-bcc1-6baca1820b05",
   "metadata": {},
   "source": [
    "### EXERCISE 2.2.2.\n",
    "\n",
    "Let $M$ be any set. Show that set inclusion $\\subset$ induces a partial order on $\\mathscr{P}(M)$, the power set of $M$."
   ]
  },
  {
   "cell_type": "markdown",
   "id": "a2f86bf9-4c16-4662-a08c-9663df40c16b",
   "metadata": {},
   "source": [
    "**Proof**\n",
    "\n",
    "Let $A,B,C\\subset M$.\n",
    "\n",
    "We check\n",
    "\n",
    "- [x] Reflexivity: $A\\subset A$\n",
    "- [x] Anti-symmetry: $A\\subset B, B\\subset A\\implies A=B$\n",
    "- [x] Transitivity: $A\\subset B, B\\subset C\\implies A\\subset C$\n",
    "\n",
    "Hence, $(\\mathscr{P}(M),\\subset)$ is a partial order set."
   ]
  },
  {
   "cell_type": "markdown",
   "id": "1b42adca-52af-4097-8143-a7121bb5fac4",
   "metadata": {},
   "source": [
    "### EXERCISE 2.2.3.\n",
    "\n",
    "Show that the pointwise order $\\le$ is a partial order on $\\mathbb{R}^X$."
   ]
  },
  {
   "cell_type": "markdown",
   "id": "ab133bb1-f1c1-4e2d-8d83-4b2f6b0263e7",
   "metadata": {},
   "source": [
    "**Proof**\n",
    "Let $u,v,w \\in \\mathbb{R}^X$.\n",
    "\n",
    "We check\n",
    "\n",
    "- [x] Reflexivity: $u(x)\\le u(x)$ for all $x\\in X$. Hence $u\\le u$.\n",
    "\n",
    "- [x] Anti-symmetry: $u(x)\\le v(x), v(x)\\le u(x)$ for all $x\\in X$ implies $u(x)= v(x)$ for all $x\\in X$. Hence $u\\le v, v\\le u\\implies u=v$.\n",
    "\n",
    "- [x] Transitivity: $u(x)\\le v(x)\\le w(x)$ for all $x\\in X$ implies $u(x)\\le w(x)$ for all $x\\in X$. Hence, $u\\le v, v\\le w\\implies u\\le w$.\n",
    "\n",
    "Hence, pointwise order $\\le$ is a partial order on $\\mathbb{R}^X$."
   ]
  },
  {
   "cell_type": "markdown",
   "id": "698e559b-efd2-4409-9338-d7169d67f0e2",
   "metadata": {},
   "source": [
    "### EXERCISE 2.2.4\n",
    "\n",
    "Show that the relation $\\ll$ is not a partial order on $\\mathbb{R}^X$."
   ]
  },
  {
   "cell_type": "markdown",
   "id": "9cb37f8d-cc2a-4177-9785-8cbbfa3b31fe",
   "metadata": {},
   "source": [
    "**Proof**\n",
    "\n",
    "It violates the reflexivity condition, i.e., $\\not \\exists u \\in\\mathbb{R}^X$, such that $u(x)\\ll u(x)$ for all $x\\in X$."
   ]
  },
  {
   "cell_type": "markdown",
   "id": "433f41c5-554e-45a5-b351-ca50ef8c4f7d",
   "metadata": {},
   "source": [
    "### EXERCISE 2.2.5.\n",
    "\n",
    "Limits in $\\mathbb{R}$ preserve week inequalities. Use this property to prove that the same is true in $\\mathbb{R}^n$.\n",
    "\n",
    "In particular, show that, for vector $a,b\\in\\mathbb{R}^n$ and sequence $(u_k)$ in $\\mathbb{R}^n$, with $a\\le u_k\\le b$ for all $k\\in \\mathbb{N}$, and $u_k\\to u\\in\\mathbb{R}^n$, we have $a\\le u\\le b$."
   ]
  },
  {
   "cell_type": "markdown",
   "id": "3ec42450-adc4-4ab2-bc44-fc642943ef95",
   "metadata": {},
   "source": [
    "**Proof**\n",
    "\n",
    "Since we have $a\\le u_k\\le b$ for all $k\\in\\mathbb{N}$. This implies, for all $i\\in[n]$, we have\n",
    "\n",
    "$$\n",
    "a^i\\le u^i_k\\le b^i\n",
    "$$\n",
    "\n",
    "for all $k\\in\\mathbb{N}$, where $a^i, u^i_k,b^i$ are the $i$-th element of $a,u_k,b$.\n",
    "\n",
    "Since limits in $\\mathbb{R}$ preserve weak inequality, we have for all $i\\in[n]$,\n",
    "\n",
    "$$\n",
    "\\lim_{k\\to\\infty} a^i \\le \\lim_{k\\to\\infty} u_k^i\\le \\lim_{k\\to\\infty} b_i\n",
    "$$\n",
    "\n",
    "Hence,\n",
    "$$\n",
    "a^i \\le u^i \\le  b_i\n",
    "$$\n",
    "for all $i\\in [n]$, where $u^i$ is the $i$-th element of $u$.\n",
    "\n",
    "Hence, $a\\le u\\le b$.\n"
   ]
  },
  {
   "cell_type": "markdown",
   "id": "4900dabf-340d-4f14-9d96-b49e0e76f717",
   "metadata": {},
   "source": [
    "### EXERCISE 2.2.6.\n",
    "\n",
    "Explain why the pointwise order over matrices is a special case of the pointwise order over functions."
   ]
  },
  {
   "cell_type": "markdown",
   "id": "3247da0f-eba0-49d4-9012-0654bc537458",
   "metadata": {},
   "source": [
    "In pointwise order over matrices, $\\dim(X) =2$. Hence, it is a special case of the pointwise order over functions."
   ]
  },
  {
   "cell_type": "markdown",
   "id": "520ecb48-e07a-45aa-b94a-a1af242cd945",
   "metadata": {},
   "source": [
    "### EXERCISE 2.2.7. \n",
    "\n",
    "Prove\n",
    "\n",
    "1. If $B$ is $m\\times k$ and $B\\ge 0$, then $|Bu|\\le B|u|$ for all $k\\times 1$ column vectors $u$.\n",
    "\n",
    "2. If $A$ is $n\\times n$ with $A\\ge 0$ and $(u_k)$ is a sequence in $\\mathbb{R}^n$ satisfying $u_{k+1}\\le Au_k$ for all $k\\ge 0$, then $u_k\\le A^k u_0$."
   ]
  },
  {
   "cell_type": "markdown",
   "id": "23915d8f-0c26-4340-99a3-5eee3c07aa53",
   "metadata": {},
   "source": [
    "**Proof part 1**\n",
    "\n",
    "Suppose $B$ is $m\\times k$ and $B\\ge 0$. Let $B = [B_1\\,\\,B_2\\,\\,\\cdots,B_k]$ and $u = (u_1, \\cdots, u_k)^\\top$, where $B_i$ is the $i$-th column of $B$. Then, by the triangle inequality, we have, \n",
    "\n",
    "$$\n",
    "|Bu| = |B_1u_1+\\cdots+B_ku_k|\\le |B_1||u_1| +\\cdots + |B_k||u_k| = B_1 |u_1| +\\cdots+B_k |u_k| = B|u| \n",
    "$$\n",
    "\n",
    "**Proof part 2**\n",
    "\n",
    "Let $A$ is $n\\times n$ with $A\\ge 0$ and $(u_k)$ is a sequence in $\\mathbb{R}^n$ satisfying $u_{k+1}\\le Au_k$ for all $k\\ge 0$.\n",
    "\n",
    "We first show that $A^2 u_k\\ge Au{k+1}$ for any $k\\ge 0$.\n",
    "\n",
    "We can express $A^2 u_k = A(Au_k)$, where let $v_k := Au_k\\ge u_{k+1}$, hence $v^i_k\\ge u^i_{k+1}$. Therefore, the linear combination of $A$'s column space follows that\n",
    "\n",
    "$$\n",
    "Av_k \\ge Au_{k+1}\\ge u_{k+2}\n",
    "$$\n",
    "\n",
    "Hence, we first proved $A^2 u_k\\ge Au_{k+1}$. We can iterate the above reasoning $n$ times, we get,\n",
    "\n",
    "$$\n",
    "A^n u_k\\ge u_{k+n}\n",
    "$$\n",
    "\n",
    "We set $k=0$ and $n=k$. This gives the proof."
   ]
  },
  {
   "cell_type": "markdown",
   "id": "06f7e568-003c-4f8f-9017-0a6352ebfde1",
   "metadata": {},
   "source": [
    "### EXERCISE 2.2.8.\n",
    "\n",
    "Let $A$ be $n\\times k$ and let $u$ and $v$ be $k$-vectors. \n",
    "\n",
    "Prove that $A\\gg 0$, $u\\le v, u\\neq v \\implies Au\\ll Av$."
   ]
  },
  {
   "cell_type": "markdown",
   "id": "9d7ad225-222d-4240-8413-16bc8c3357da",
   "metadata": {},
   "source": [
    "**Proof**\n",
    "\n",
    "Let $A = [A_1, \\cdots,A_k]$ and $u=(u_1,\\cdots,u_k)^\\top, v = (v_1,\\cdots,v_k)^\\top$. Since $u\\le v,u\\neq v \\implies \\exists i\\in[k]$ s.t. $u_i<v_i$.\n",
    "\n",
    "Hence, $Au = \\sum_{i=1}^k A_iu_i\\ll \\sum_{i=1}^k A_iv_i =Av$."
   ]
  },
  {
   "cell_type": "markdown",
   "id": "0a348510-51e9-4883-a6f6-5a1effb2e3b9",
   "metadata": {},
   "source": [
    "### EXERCISE 2.2.9.\n",
    "\n",
    "Show or provide a counterexample to the statement:\n",
    "\n",
    "$\\subset$ is a total order on $\\mathscr{P}(M)$, where $M$ is any set."
   ]
  },
  {
   "cell_type": "markdown",
   "id": "eb39edc3-2869-4a16-90cb-78b177b649ac",
   "metadata": {},
   "source": [
    "**Counterexample**:\n",
    "\n",
    "Let $M=\\{1,2,3\\}$, where $\\{1\\}, \\{2\\} \\in \\mathscr{M}$ but $\\{1\\}\\not\\$"
   ]
  }
 ],
 "metadata": {
  "kernelspec": {
   "display_name": "Python 3 (ipykernel)",
   "language": "python",
   "name": "python3"
  },
  "language_info": {
   "codemirror_mode": {
    "name": "ipython",
    "version": 3
   },
   "file_extension": ".py",
   "mimetype": "text/x-python",
   "name": "python",
   "nbconvert_exporter": "python",
   "pygments_lexer": "ipython3",
   "version": "3.10.12"
  }
 },
 "nbformat": 4,
 "nbformat_minor": 5
}
