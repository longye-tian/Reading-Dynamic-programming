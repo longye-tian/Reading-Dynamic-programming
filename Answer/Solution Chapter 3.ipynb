{
 "cells": [
  {
   "cell_type": "markdown",
   "id": "7a4ca2aa-44bc-4b1a-9ce0-8ddb5f3eee00",
   "metadata": {},
   "source": [
    "### EXERCISE 3.1.1.\n",
    "\n",
    "To represent $S-s$ dynamics, we suppose that a firm's inventory $(X_t)_{t\\ge 0}$ of a given product obeys,\n",
    "\n",
    "$$\n",
    "X_{t+1} = \\max\\{X_t-D_{t+1},0\\} + S\\mathbb{1}\\{X_t\\le s\\}\n",
    "$$\n",
    "\n",
    "where\n",
    "\n",
    "- $(D_t)_{t\\ge 1}$ is an exogenous IID demand process with $D_t=_d\\varphi\\in\\mathcal{D}(\\mathbb{Z}_+)$ for all $t$\n",
    "\n",
    "- $S$ is the quantity ordered when $X_t\\le s$.\n",
    "\n",
    "- The distribution $\\varphi$ of demand, we take geometric distribution, so that \n",
    "\n",
    "$$\n",
    "\\varphi(d) = \\mathbb{P}\\{D_t=d\\} = p(1-p)^d,\\,\\,d\\in\\mathbb{Z}_+\n",
    "$$\n",
    "\n",
    "Confirm the following claim:\n",
    "\n",
    "An appropriate state space for this model is $X=\\{0,\\cdots,S+s\\}$, since \n",
    "\n",
    "$$\n",
    "X_t\\in X\\implies \\mathbb{P}\\{X_{t+1}\\in X\\} = 1\n",
    "$$"
   ]
  },
  {
   "cell_type": "markdown",
   "id": "49cbb1ef-5388-4a44-b836-9b5a9560fb58",
   "metadata": {},
   "source": [
    "**Confirmation**\n",
    "\n",
    "Since $X=\\{0,\\cdots S+s\\}$, when $X_t\\le s$, $X_{t+1}\\le S+s \\in X$.\n",
    "\n",
    "When $S+s\\ge X_t>s$, $X_{t+1}\\le X_t$ as $D_t\\ge 0$. This implies \n",
    "\n",
    "$$\n",
    "X_t\\in X\\implies X_{t+1}\\in X\n",
    "$$\n",
    "\n",
    "as claimed."
   ]
  },
  {
   "cell_type": "markdown",
   "id": "61b28b70-7ed5-4665-8cab-2931d939beff",
   "metadata": {},
   "source": [
    "### EXERCISE 3.1.2.\n",
    "\n",
    "Prove if $(X_t)$ is $P$-Markov, then for any $t,k\\in\\mathbb{Z}_+$ and $x,x'\\in X$,\n",
    "\n",
    "$$\n",
    "P^k(x,x') = \\mathbb{P}\\{X_{t+k} = x'|X_t= x\\}\n",
    "$$\n",
    "\n",
    "via induction."
   ]
  },
  {
   "cell_type": "markdown",
   "id": "dc584c43-0c26-4efe-89ba-244cfae2c47a",
   "metadata": {},
   "source": [
    "**Proof by induction**\n",
    "\n",
    "Let $(X_t)$ be a $P$-Markov. \n",
    "\n",
    "When $k=1$, we have by definition of $P$-Markov, for all $t\\ge 0$ and for any $x'\\in X$,\n",
    "\n",
    "$$\n",
    "P(x,x') = \\mathbb{P}\\{X_{t+1}=x'|X_t=x\\}\n",
    "$$\n",
    "\n",
    "Suppose when $k=n$, this equality holds, i.e., we have,\n",
    "\n",
    "$$\n",
    "P^n(x,x') = \\mathbb{P}\\{X_{t+n}=x'|X_t=x\\}\n",
    "$$\n",
    "\n",
    "When $k=n+1$, we want to show that \n",
    "\n",
    "$$\n",
    "P^{n+1}(x,x') = \\mathbb{P}\\{X_{t+n+1}=x'|X_t=x\\}\n",
    "$$\n",
    "\n",
    "From LHS, we have,\n",
    "\n",
    "\\begin{align*}\n",
    "P^{n+1}(x_i,x_j) &= \\sum_{k=1}^{|X|} P^n(x_i,x_k)P(x_k,x_j)\\\\\n",
    "&=\\sum_{k=1}^{|X|} \\mathbb{P}\\{X_{t+n}=x_k|X_t=x_i\\}\\mathbb{P}\\{X_{t+n+1}=x_j|X_{t+n}=x_k\\}\\\\\n",
    "&= \\sum_{k=1}^{|X|}\\mathbb{P}\\{X_{t+n+1}=x_j|X_{t+n}=x_k\\}\\mathbb{P}\\{X_{t+n}=x_k|X_t=x_i\\}\\\\\n",
    "&= \\mathbb{P}\\{X_{t+n+1}=x_j|X_t=x_i\\} \\tag{L.T.P.}\n",
    "\\end{align*}\n",
    "\n",
    "Hence, this implies,\n",
    "\n",
    "$$\n",
    "P^{n+1}(x,x') = \\mathbb{P}\\{X_{t+n+1}=x'|X_t=x\\}\n",
    "$$\n",
    "\n",
    "for all $(x,x')\\in X\\times X$, $t\\ge 0$.\n",
    "\n",
    "Thus, through induction, we proved this statement."
   ]
  },
  {
   "cell_type": "markdown",
   "id": "22ee6cb2-3381-4b6c-b6b5-95220908e50b",
   "metadata": {},
   "source": [
    "### EXERCISE 3.1.3.\n",
    "\n",
    "Using Lemma 3.1.1., prove that the stochastic matrix associated with the $S-s$ inventory dynamics is irreducible."
   ]
  },
  {
   "cell_type": "markdown",
   "id": "ea7223f3-a69b-4f0c-b27b-1e62416d2673",
   "metadata": {},
   "source": []
  }
 ],
 "metadata": {
  "kernelspec": {
   "display_name": "Python 3 (ipykernel)",
   "language": "python",
   "name": "python3"
  },
  "language_info": {
   "codemirror_mode": {
    "name": "ipython",
    "version": 3
   },
   "file_extension": ".py",
   "mimetype": "text/x-python",
   "name": "python",
   "nbconvert_exporter": "python",
   "pygments_lexer": "ipython3",
   "version": "3.10.12"
  }
 },
 "nbformat": 4,
 "nbformat_minor": 5
}
