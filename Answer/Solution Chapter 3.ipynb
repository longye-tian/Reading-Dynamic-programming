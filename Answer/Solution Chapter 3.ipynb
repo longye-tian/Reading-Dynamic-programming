{
 "cells": [
  {
   "cell_type": "markdown",
   "id": "7a4ca2aa-44bc-4b1a-9ce0-8ddb5f3eee00",
   "metadata": {},
   "source": [
    "### EXERCISE 3.1.1.\n",
    "\n",
    "To represent $S-s$ dynamics, we suppose that a firm's inventory $(X_t)_{t\\ge 0}$ of a given product obeys,\n",
    "\n",
    "$$\n",
    "X_{t+1} = \\max\\{X_t-D_{t+1},0\\} + S\\mathbb{1}\\{X_t\\le s\\}\n",
    "$$\n",
    "\n",
    "where\n",
    "\n",
    "- $(D_t)_{t\\ge 1}$ is an exogenous IID demand process with $D_t=_d\\varphi\\in\\mathcal{D}(\\mathbb{Z}_+)$ for all $t$\n",
    "\n",
    "- $S$ is the quantity ordered when $X_t\\le s$.\n",
    "\n",
    "- The distribution $\\varphi$ of demand, we take geometric distribution, so that \n",
    "\n",
    "$$\n",
    "\\varphi(d) = \\mathbb{P}\\{D_t=d\\} = p(1-p)^d,\\,\\,d\\in\\mathbb{Z}_+\n",
    "$$\n",
    "\n",
    "Confirm the following claim:\n",
    "\n",
    "An appropriate state space for this model is $X=\\{0,\\cdots,S+s\\}$, since \n",
    "\n",
    "$$\n",
    "X_t\\in X\\implies \\mathbb{P}\\{X_{t+1}\\in X\\} = 1\n",
    "$$"
   ]
  },
  {
   "cell_type": "markdown",
   "id": "49cbb1ef-5388-4a44-b836-9b5a9560fb58",
   "metadata": {},
   "source": [
    "**Confirmation**\n",
    "\n",
    "Since $X=\\{0,\\cdots S+s\\}$, when $X_t\\le s$, $X_{t+1}\\le S+s \\in X$.\n",
    "\n",
    "When $S+s\\ge X_t>s$, $X_{t+1}\\le X_t$ as $D_t\\ge 0$. This implies \n",
    "\n",
    "$$\n",
    "X_t\\in X\\implies X_{t+1}\\in X\n",
    "$$\n",
    "\n",
    "as claimed."
   ]
  },
  {
   "cell_type": "code",
   "execution_count": null,
   "id": "6ff6ea1f-2332-4c49-ba56-a90864059bb2",
   "metadata": {},
   "outputs": [],
   "source": []
  }
 ],
 "metadata": {
  "kernelspec": {
   "display_name": "Python 3 (ipykernel)",
   "language": "python",
   "name": "python3"
  },
  "language_info": {
   "codemirror_mode": {
    "name": "ipython",
    "version": 3
   },
   "file_extension": ".py",
   "mimetype": "text/x-python",
   "name": "python",
   "nbconvert_exporter": "python",
   "pygments_lexer": "ipython3",
   "version": "3.10.12"
  }
 },
 "nbformat": 4,
 "nbformat_minor": 5
}
