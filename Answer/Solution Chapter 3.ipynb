{
 "cells": [
  {
   "cell_type": "markdown",
   "id": "7a4ca2aa-44bc-4b1a-9ce0-8ddb5f3eee00",
   "metadata": {},
   "source": [
    "### EXERCISE 3.1.1.\n",
    "\n",
    "To represent $S-s$ dynamics, we suppose that a firm's inventory $(X_t)_{t\\ge 0}$ of a given product obeys,\n",
    "\n",
    "$$\n",
    "X_{t+1} = \\max\\{X_t-D_{t+1},0\\} + S\\mathbb{1}\\{X_t\\le s\\}\n",
    "$$\n",
    "\n",
    "where\n",
    "\n",
    "- $(D_t)_{t\\ge 1}$ is an exogenous IID demand process with $D_t=_d\\varphi\\in\\mathcal{D}(\\mathbb{Z}_+)$ for all $t$\n",
    "\n",
    "- $S$ is the quantity ordered when $X_t\\le s$.\n",
    "\n",
    "- The distribution $\\varphi$ of demand, we take geometric distribution, so that \n",
    "\n",
    "$$\n",
    "\\varphi(d) = \\mathbb{P}\\{D_t=d\\} = p(1-p)^d,\\,\\,d\\in\\mathbb{Z}_+\n",
    "$$\n",
    "\n",
    "Confirm the following claim:\n",
    "\n",
    "An appropriate state space for this model is $X=\\{0,\\cdots,S+s\\}$, since \n",
    "\n",
    "$$\n",
    "X_t\\in X\\implies \\mathbb{P}\\{X_{t+1}\\in X\\} = 1\n",
    "$$"
   ]
  },
  {
   "cell_type": "markdown",
   "id": "49cbb1ef-5388-4a44-b836-9b5a9560fb58",
   "metadata": {},
   "source": [
    "**Confirmation**\n",
    "\n",
    "Since $X=\\{0,\\cdots S+s\\}$, when $X_t\\le s$, $X_{t+1}\\le S+s \\in X$.\n",
    "\n",
    "When $S+s\\ge X_t>s$, $X_{t+1}\\le X_t$ as $D_t\\ge 0$. This implies \n",
    "\n",
    "$$\n",
    "X_t\\in X\\implies X_{t+1}\\in X\n",
    "$$\n",
    "\n",
    "as claimed."
   ]
  },
  {
   "cell_type": "markdown",
   "id": "61b28b70-7ed5-4665-8cab-2931d939beff",
   "metadata": {},
   "source": [
    "### EXERCISE 3.1.2.\n",
    "\n",
    "Prove if $(X_t)$ is $P$-Markov, then for any $t,k\\in\\mathbb{Z}_+$ and $x,x'\\in X$,\n",
    "\n",
    "$$\n",
    "P^k(x,x') = \\mathbb{P}\\{X_{t+k} = x'|X_t= x\\}\n",
    "$$\n",
    "\n",
    "via induction."
   ]
  },
  {
   "cell_type": "markdown",
   "id": "dc584c43-0c26-4efe-89ba-244cfae2c47a",
   "metadata": {},
   "source": [
    "**Proof by induction**\n",
    "\n",
    "Let $(X_t)$ be a $P$-Markov. \n",
    "\n",
    "When $k=1$, we have by definition of $P$-Markov, for all $t\\ge 0$ and for any $x'\\in X$,\n",
    "\n",
    "$$\n",
    "P(x,x') = \\mathbb{P}\\{X_{t+1}=x'|X_t=x\\}\n",
    "$$\n",
    "\n",
    "Suppose when $k=n$, this equality holds, i.e., we have,\n",
    "\n",
    "$$\n",
    "P^n(x,x') = \\mathbb{P}\\{X_{t+n}=x'|X_t=x\\}\n",
    "$$\n",
    "\n",
    "When $k=n+1$, we want to show that \n",
    "\n",
    "$$\n",
    "P^{n+1}(x,x') = \\mathbb{P}\\{X_{t+n+1}=x'|X_t=x\\}\n",
    "$$\n",
    "\n",
    "From LHS, we have,\n",
    "\n",
    "\\begin{align*}\n",
    "P^{n+1}(x_i,x_j) &= \\sum_{k=1}^{|X|} P^n(x_i,x_k)P(x_k,x_j)\\\\\n",
    "&=\\sum_{k=1}^{|X|} \\mathbb{P}\\{X_{t+n}=x_k|X_t=x_i\\}\\mathbb{P}\\{X_{t+n+1}=x_j|X_{t+n}=x_k\\}\\\\\n",
    "&= \\sum_{k=1}^{|X|}\\mathbb{P}\\{X_{t+n+1}=x_j|X_{t+n}=x_k\\}\\mathbb{P}\\{X_{t+n}=x_k|X_t=x_i\\}\\\\\n",
    "&= \\mathbb{P}\\{X_{t+n+1}=x_j|X_t=x_i\\} \\tag{L.T.P.}\n",
    "\\end{align*}\n",
    "\n",
    "Hence, this implies,\n",
    "\n",
    "$$\n",
    "P^{n+1}(x,x') = \\mathbb{P}\\{X_{t+n+1}=x'|X_t=x\\}\n",
    "$$\n",
    "\n",
    "for all $(x,x')\\in X\\times X$, $t\\ge 0$.\n",
    "\n",
    "Thus, through induction, we proved this statement."
   ]
  },
  {
   "cell_type": "markdown",
   "id": "22ee6cb2-3381-4b6c-b6b5-95220908e50b",
   "metadata": {},
   "source": [
    "### EXERCISE 3.1.3.\n",
    "\n",
    "Using Lemma 3.1.1., prove that the stochastic matrix associated with the $S-s$ inventory dynamics is irreducible."
   ]
  },
  {
   "cell_type": "markdown",
   "id": "ea7223f3-a69b-4f0c-b27b-1e62416d2673",
   "metadata": {},
   "source": [
    "**Proof**\n",
    "\n",
    "We prove this statement in three steps:\n",
    "\n",
    "1. We show that $\\mathbb{P}\\{X_{t+k} =S+s| X_{t}=x\\}$ for all $x\\in X$, i.e., no matter what is the initial condition, it is possible to reach the greatest element $S+s$ in finite $k$ step.\n",
    "\n",
    "2. We show that $\\mathbb{P}\\{X_{t+k} =x' |X_{t} = S+s\\}$ for all $x'\\in X$, i.e., from the greatest state, it is possible to reach all other states. \n",
    "\n",
    "3. In all these two parts implies from any initial state, it is possible to reach all other states. \n",
    "\n",
    "**Proof part 1**\n",
    "\n",
    "Suppose $X_t=S+s$, since $\\mathbb{P}\\{D_{t+1}=0\\}>0\\implies \\mathbb{P}\\{X_{t+1}=S+s |X_t=0\\}>0$ for all $t\\in\\mathbb{N}$.\n",
    "\n",
    "Suppose $0\\le X_t=x<S$, since $\\mathbb{P}\\{D_{t+1}=x\\}>0\\implies\\mathbb{P}\\{X_{t+1}=0 |X_t=x\\}>0$ for all $t\\in\\mathbb{N}$. This moves it back to previous discussion. Hence, this concludes that $\\mathbb{P}\\{X_{t+k} =S+s| X_{t}=x\\}$ for all $x\\in X$.\n",
    "\n",
    "**Proof part 2**\n",
    "\n",
    "Suppose $X_t = S+s$, since $\\mathbb{P}\\{D_{t+1}= S+s-x'\\}>0 \\implies\\mathbb{P}\\{X_{t+k} =x' |X_{t} = S+s\\}$ for all $x'\\in X$.\n",
    "\n",
    "Hence, these two parts complete the proof."
   ]
  },
  {
   "cell_type": "markdown",
   "id": "98d5e34a-17d2-4cc8-82b3-57dc67bfbb9f",
   "metadata": {},
   "source": [
    "### EXERCISE 3.1.4.\n",
    "\n",
    "Let $(X_t)$ be $P$-Markov on $X$ with $X_0=_d\\psi_0$.\n",
    "\n",
    "Show that \n",
    "\n",
    "$$\n",
    "\\mathbb{E}h(X_t) = \\psi_0P^th = \\langle \\psi_0 P^t,h\\rangle\n",
    "$$\n",
    "\n",
    "for all $t\\in \\mathbb{N}$ and $h\\in\\mathbb{R}^X$."
   ]
  },
  {
   "cell_type": "markdown",
   "id": "b655d0b3-7421-404b-9a48-d6fb59e64390",
   "metadata": {},
   "source": [
    "**Proof**\n",
    "\n",
    "Let $(X_t)$ be a $P$-Markov on $X$ with $X_0 =_d\\psi_0$. Let $h\\in\\mathbb{R}^X$.\n",
    "\n",
    "By definition, we have,\n",
    "\n",
    "\\begin{align*}\n",
    "\\mathbb{E}h(X_t) &= \\sum_{x\\in X}h(x)\\psi_t(x) \\tag{$|X|$ finite}\\\\\n",
    "&= \\sum_{x\\in X}h(x) (\\psi_0P^t)(x) \\tag{by $(3.5)$}\\\\\n",
    "&= \\langle \\psi_0P^t, h\\rangle\n",
    "\\end{align*}\n",
    "\n",
    "This gives the proof."
   ]
  },
  {
   "cell_type": "markdown",
   "id": "87708fc6-a14a-4113-8aba-c9f3900dfb56",
   "metadata": {},
   "source": [
    "### EXERCISE 3.1.5.\n",
    "\n",
    "Explain why listing 9 updates the current state according to the probability in $P$."
   ]
  },
  {
   "cell_type": "markdown",
   "id": "8c368a15-23a0-4469-b651-4e866a28ed1f",
   "metadata": {},
   "source": [
    "**Solution**\n",
    "\n",
    "For this line of code\n",
    "\n",
    "```Julia\n",
    "if x==1\n",
    "x′ = rand() < α ? 2 : 1\n",
    "```\n",
    "this means if the initial state is 1 and  the random number generated by the uniform distribution is less than $\\alpha$, which has probability $\\alpha$, then assign $2$ as the value for the next state, otherwise assign $1$.\n",
    "\n",
    "Similarly for the second part:\n",
    "\n",
    "```Julia\n",
    "else\n",
    "    x' = rand()< β ? 1 : 2\n",
    "```\n",
    "This means if the initial state is 2 and the random number generated by the uniform distribution is less than $\\beta$ which has probability $\\beta$, then assign $1$ as the value for the next state, otherwise assign $1$.\n",
    "\n",
    "\n",
    "This is equivalence as update the state using $P$."
   ]
  },
  {
   "cell_type": "markdown",
   "id": "29f2538d-5704-4530-8b48-84436a9082a4",
   "metadata": {},
   "source": [
    "### EXERCISE 3.1.6.\n",
    "\n",
    "Because $P$ is everywhere positive, it must be irreducible, so $P$ has the unique stationary distribution $\\psi^*\\in\\mathcal{D}(X)$. \n",
    "\n",
    "Show that $\\psi^*$ is given by\n",
    "\n",
    "$$\n",
    "\\psi^* = \\frac{1}{\\alpha +\\beta}(\\beta\\,\\,\\,\\alpha)\n",
    "$$"
   ]
  },
  {
   "cell_type": "markdown",
   "id": "cd5ffcdc-3111-45f2-9553-b16cb390c127",
   "metadata": {},
   "source": [
    "**Proof**\n",
    "\n",
    "Since for stationary distribution, we have,\n",
    "\n",
    "$$\n",
    "\\psi^* P = \\psi^*\n",
    "$$\n",
    "\n",
    "This implies, we have,\n",
    "\n",
    "\\begin{align*}\n",
    "\\psi^* P &= \\begin{bmatrix}\n",
    "\\dfrac{\\beta}{\\alpha +\\beta} & \\dfrac{\\alpha}{\\alpha+\\beta}\\\\\n",
    "\\end{bmatrix}\\begin{bmatrix}\n",
    "1-\\alpha & \\alpha\\\\\n",
    "\\beta & 1-\\beta\\\\\n",
    "\\end{bmatrix}\\\\\n",
    "&= \\begin{bmatrix}\n",
    "\\dfrac{(1-\\alpha)\\beta+\\alpha\\beta}{\\alpha+\\beta}& \\dfrac{\\alpha\\beta+\\alpha(1-\\beta)}{\\alpha+\\beta}\\\\\n",
    "\\end{bmatrix}\\\\\n",
    "&=\\begin{bmatrix}\n",
    "\\dfrac{\\beta}{\\alpha +\\beta} & \\dfrac{\\alpha}{\\alpha+\\beta}\\\\\n",
    "\\end{bmatrix}\\\\\n",
    "&= \\psi^*\n",
    "\\end{align*}\n",
    "\n",
    "Hence, $\\psi^*$ is a stationary distribution of $P$."
   ]
  },
  {
   "cell_type": "markdown",
   "id": "c20a01b1-56ba-4051-98fc-c1654aeaaf3b",
   "metadata": {},
   "source": [
    "### EXERCISE 3.1.7.\n",
    "\n",
    "Show thatthe operator $P$ when understood as the mapping from $\\psi\\mapsto \\psi P$ is globally stable on $\\mathcal{D}(X)$ using Perron-Frobenius theorem.\n",
    "\n",
    "More generally, show that this global stability result holds for any $P\\in\\mathscr{M}(\\mathbb{R}^X)$ with $P\\gg 0$."
   ]
  },
  {
   "cell_type": "markdown",
   "id": "41373c6d-43bc-4436-a9f3-edbb530fab4b",
   "metadata": {},
   "source": [
    "**Proof**\n",
    "\n",
    "We prove the general result using Perron-Frobenius Theorem.\n",
    "\n",
    "Let $P\\in\\mathscr{M}(\\mathbb{R}^X)$ with $P\\gg 0$.\n",
    "\n",
    "As $P\\gg 0$, by definition, $P$ is irreducible. By Perron-Frobenius Theorem, this implies $P$ has unique right and left eigenvectors. Moreover, by the lemma of Perron-Frobenius Theorem, the spectral radius of $P$ is an eigenvalue of $P$ and $\\rho(P)=1$ as every row sum of $P$ is 1. \n",
    "\n",
    "As $P\\in\\mathscr{M}(\\mathbb{R}^X)$, by definition, this implies,\n",
    "\n",
    "$$\n",
    "P\\mathbb{1} =\\mathbb{1}\n",
    "$$\n",
    "\n",
    "This shows that $\\mathbb{1}$ is the unique right eigenvectors of $P$.\n",
    "\n",
    "Let $\\psi^*$ denote the unique left eigenvector. This implies,\n",
    "\n",
    "$$\n",
    "\\psi^*P = \\psi^*\n",
    "$$\n",
    "\n",
    "i.e., $\\psi^*$ is the unique fixed point under operator $P$ in $\\mathcal{D}(X)$.\n",
    "\n",
    "By the Perron-Frobenius Theorem, as $P\\gg 0$, we have\n",
    "\n",
    "$$\n",
    "P^t \\to \\mathbb{1}\\psi^*\n",
    "$$\n",
    "\n",
    "as $t\\to\\infty$. \n",
    "\n",
    "Let $\\psi\\in\\mathcal{D}(X)$ be any distribution over $X$. We have,\n",
    "\n",
    "$$\n",
    "\\psi P^t \\to \\psi\\mathbb{1}\\psi^* =\\sum_{x\\in X}\\psi(x)\\psi^* = \\psi^*\n",
    "$$\n",
    "\n",
    "This implies $\\psi P^t\\to \\psi^*$ as $t\\to\\infty$ for any $\\psi\\in\\mathcal{D}(X)$.\n",
    "\n",
    "Hence, by definition, $P$ is globally stable."
   ]
  },
  {
   "cell_type": "markdown",
   "id": "540cb11d-790f-4e84-9f4a-6d4460eff6c0",
   "metadata": {},
   "source": [
    "### EXERCISE 3.1.8.\n",
    "\n",
    "Fix $\\alpha=0.3$, $\\beta =0.2$. Compute the sequence $\\psi P^t$ for different choices of $\\psi$ and confirm that the results are consistent with the claim that $\\psi P^t \\to\\psi^*$ as $t\\to\\infty$ for any $\\psi\\in\\mathcal{D}(X)$."
   ]
  },
  {
   "cell_type": "markdown",
   "id": "cb3fdacd-ccd6-401e-a93b-aab15d905714",
   "metadata": {},
   "source": [
    "**Solution**\n",
    "See python code."
   ]
  },
  {
   "cell_type": "markdown",
   "id": "bbc8e1e8-845c-40a9-a0a4-12b537667800",
   "metadata": {},
   "source": [
    "### EXERCISE 3.1.9.\n",
    "\n",
    "Since $P$ is irreducible, ergodicity property holds.\n",
    "\n",
    "Simulate a long realization of Markov of a $P$-Markov chain from an arbitrary initial condition and confirm that your result is consistent with previous analysis."
   ]
  },
  {
   "cell_type": "markdown",
   "id": "ee9b7599-c546-4cee-94bc-de1cf3ac39fb",
   "metadata": {},
   "source": [
    "**Solution**\n",
    "See Python Code"
   ]
  },
  {
   "cell_type": "markdown",
   "id": "2faed3f9-5568-4c5b-ba07-cc50839e651f",
   "metadata": {},
   "source": [
    "### EXERCISE 3.1.10.\n",
    "\n",
    "Suppose that $X_t=_d \\psi^*$, $\\varepsilon_{t+1} =_dN(0,1)$ and $X_t$ and $\\varepsilon_{t+1}$ are independet.\n",
    "\n",
    "Prove that $\\rho X_t+ b + \\nu\\varepsilon_{t+1}$ has distribution $\\psi^*$.\n",
    "\n",
    "Is this still true if we drop the independence assumption made above?"
   ]
  },
  {
   "cell_type": "markdown",
   "id": "0f19d16e-f603-4b29-8694-206d11a11c88",
   "metadata": {},
   "source": [
    "**Proof**\n",
    "\n",
    "Since we have $X_{t+1} = \\rho X_t + b + \\nu\\varepsilon_{t+1}$, we can express it by backward iteration as,\n",
    "\n",
    "\\begin{align*}\n",
    "X_{t+1} &=  \\rho X_t + b + \\nu\\varepsilon_{t+1}\\\\\n",
    "&= \\rho\\left(\\rho X_{t-1} + b + \\nu\\varepsilon_{t}\\right)+ b + \\nu\\varepsilon_{t+1}\\\\\n",
    "&= \\rho^2X_{t-1} + (b+\\rho b) + (\\nu\\varepsilon_{t+1}+\\nu\\rho\\varepsilon_{t})\\\\\n",
    "&\\vdots\\\\\n",
    "&= \\rho^{n+1} X_{t-n} + \\sum_{j=0}^{n-1}b\\rho^j + \\nu\\sum_{j=0}^{n-1}\\rho^j\\varepsilon_{t+1-j}\\\\\n",
    "&= \\frac{b}{1-\\rho} + \\sum_{j=0}^\\infty \\rho^j\\varepsilon_{t+1-j}\n",
    "\\end{align*}\n",
    "\n",
    "Similarly, we have,\n",
    "\n",
    "$$\n",
    "X_{t}= \\frac{b}{1-\\rho} + \\sum_{j=0}^\\infty \\rho^j\\varepsilon_{t-j}\n",
    "$$\n",
    "\n",
    "Since $\\varepsilon_t\\sim_{IID} N(0,1)$, hence $X_{t+1}=_d X_t$.\n",
    "\n",
    "No, if $X_t$ is not independent with $\\varepsilon_{t+1}$, $(X_t)$ is no longer a $P$-Markov."
   ]
  },
  {
   "cell_type": "markdown",
   "id": "a4b61cd1-6d3c-42c7-8f68-16ea17f9fc72",
   "metadata": {},
   "source": [
    "### EXERCISE 3.1.11.\n",
    "\n",
    "Set $b=0$ and let $F$ be the CDF of $N(0,\\nu^2)$ show that\n",
    "\n",
    "$$\n",
    "\\mathbb{P}\\{t-\\delta<X_{t+1}\\le t+\\delta|X_t=x\\} = F(t-\\rho x +\\delta) -F(t-\\rho x-\\delta)\n",
    "$$\n",
    "\n",
    "for all $\\delta,t\\in \\mathbb{R}$."
   ]
  },
  {
   "cell_type": "markdown",
   "id": "a5821d07-4ddc-4416-9637-7896c1423977",
   "metadata": {},
   "source": [
    "**Proof**\n",
    "\n",
    "When $b=0$, we have,\n",
    "\n",
    "$$\n",
    "X_{t+1} =\\rho X_t+\\nu\\varepsilon_{t+1}\n",
    "$$\n",
    "\n",
    "Since $\\varepsilon_{t+1}\\sim_{IID} N(0,1)$, this implies,\n",
    "\n",
    "$$\n",
    "\\nu\\varepsilon_{t+1} \\sim_{IID} N(0,\\nu^2)\n",
    "$$\n",
    "\n",
    "or we can say $\\nu\\varepsilon_{t+1}$ has CDF $F$.\n",
    "\n",
    "Hence, we have, let $f$ denote the pdf of $\\nu\\varepsilon_{t+1}$\n",
    "\n",
    "\\begin{align*}\n",
    "\\mathbb{P}\\{t-\\delta<X_{t+1}\\le t+\\delta|X_t=x\\} &=\\mathbb{P}\\{t-\\delta<\\rho X_t+\\nu\\varepsilon_{t+1}\\le t+\\delta|X_t=x\\}\\\\\n",
    "&= \\mathbb{P}\\{t-\\delta<\\rho x+\\nu\\varepsilon_{t+1}\\le t+\\delta|X_t=x\\}\\\\\n",
    "&= \\mathbb{P}\\{t-\\rho x+\\delta<\\nu\\varepsilon_{t+1}\\le t-\\rho x+\\delta|X_t=x\\}\\\\\n",
    "&= \\mathbb{P}\\{t-\\rho x+\\delta<\\nu\\varepsilon_{t+1}\\le t-\\rho x+\\delta\\}\\\\\n",
    "&= \\int_{t-\\rho x+\\delta}^{t-\\rho x+\\delta}  f(s)\\,\\,ds\\\\\n",
    "&= \\int_{-\\infty}^{t-\\rho x+\\delta} f(s)\\,\\,ds -\\int_{-\\infty}^{t-\\rho x-\\delta} f(s)\\,\\,ds\\\\\n",
    "&= F(t-\\rho x+\\delta) -F(t-\\rho x -\\delta)\n",
    "\\end{align*}"
   ]
  },
  {
   "cell_type": "markdown",
   "id": "73e65d8c-aa5c-4902-b67c-5869d8854abd",
   "metadata": {},
   "source": [
    "### EXERCISE 3.1.12.\n",
    "\n",
    "Prove that \n",
    "\n",
    "$$\n",
    "\\sum_{j=1}^n P(x_i,x_j) = 1\n",
    "$$\n",
    "\n",
    "for all $i\\in [n]$ under the Tauchen's method"
   ]
  },
  {
   "cell_type": "markdown",
   "id": "6209342a-00ee-49e5-863c-487847bedb5d",
   "metadata": {},
   "source": [
    "**Proof**\n",
    "\n",
    "Under Tauchen's method, we have,\n",
    "\n",
    "\\begin{align*}\n",
    "\\sum_{j=1}^n P(x_i,x_j)&= P(x_i,x_1)+\\sum_{j=2}^{n-1}P(x_i,x_j) + P(x_i,x_n)\\\\\n",
    "&= F(x_1-\\rho x_i + s/2)+\\left(\\sum_{j=2}^{n-1}F(x_j-\\rho x_i + s/2) -F(x_j-\\rho x_i-s/2) \\right)+ 1-F(x_n-\\rho x_i-s/2)\\\\\n",
    "&= 1\n",
    "\\end{align*}\n",
    "\n",
    "Proved."
   ]
  },
  {
   "cell_type": "markdown",
   "id": "42470524-3f2a-4db8-9f2f-f80b21dfa99f",
   "metadata": {},
   "source": [
    "### EXERCISE 3.2.1.\n",
    "\n",
    "Show that\n",
    "\n",
    "1. Every constant function $h\\in\\mathbb{R}^X$ is a fixed point of $P$, i.e., $Ph=h$\n",
    "\n",
    "2. $\\max_x|Ph(x)|\\le \\max_x|h(x)|$ for all $h\\in\\mathbb{R}^X$."
   ]
  },
  {
   "cell_type": "markdown",
   "id": "e5b9bc77-28e4-4ad7-9e8f-398fb1d53a43",
   "metadata": {},
   "source": [
    "**Proof part 1**\n",
    "\n",
    "Let $h\\in\\mathbb{R}^X$ be a constant function, i.e.,\n",
    "\n",
    "$$\n",
    "h(x) = c\\in\\mathbb{R}\\,\\,\\forall x\\in X\n",
    "$$\n",
    "\n",
    "Then, by definition, we have,\n",
    "\n",
    "$$\n",
    "(Ph)(x) =\\sum_{x'\\in X} h(x')P(x,x') = \\sum_{x'\\in X}cP(x,x') = c = h(x)\n",
    "$$\n",
    "\n",
    "Since $Ph(x)=h(x)$ for all $x\\in X$, hence $Ph=h$. Hence, we have every constant function is a fixed point of $P$.\n",
    "\n",
    "**Proof part 2**\n",
    "\n",
    "First, we note that \n",
    "\n",
    "$$\n",
    "h(x)\\le \\max_x|h(x)|\n",
    "$$\n",
    "\n",
    "for all $x\\in X$. Let $h^*:= \\max_x |h(x)|$, Hence, we have,\n",
    "\n",
    "\\begin{align*}\n",
    "|Ph(x)| &= |\\sum_{x'\\in X} h(x')P(x,x')|\\\\\n",
    "&\\le |\\sum_{x'\\in X} h^* P(x,x')|\\\\\n",
    "&= h^*|\\sum_{x'\\in X}P(x,x')|\\\\\n",
    "&= h^*\n",
    "\\end{align*}\n",
    "\n",
    "for all $x\\in X$. This implies,\n",
    "\n",
    "$$\n",
    "\\max_x|Ph(x)|\\le h^* = \\max_x|h(x)|\n",
    "$$\n",
    "\n",
    "This completes the proof."
   ]
  },
  {
   "cell_type": "code",
   "execution_count": null,
   "id": "a7c29b5e-5cd3-4cb6-9aba-0ba86212ddd6",
   "metadata": {},
   "outputs": [],
   "source": []
  }
 ],
 "metadata": {
  "kernelspec": {
   "display_name": "Python 3 (ipykernel)",
   "language": "python",
   "name": "python3"
  },
  "language_info": {
   "codemirror_mode": {
    "name": "ipython",
    "version": 3
   },
   "file_extension": ".py",
   "mimetype": "text/x-python",
   "name": "python",
   "nbconvert_exporter": "python",
   "pygments_lexer": "ipython3",
   "version": "3.10.12"
  }
 },
 "nbformat": 4,
 "nbformat_minor": 5
}
