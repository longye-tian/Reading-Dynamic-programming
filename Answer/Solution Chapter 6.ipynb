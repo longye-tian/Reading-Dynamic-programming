{
 "cells": [
  {
   "cell_type": "markdown",
   "id": "4e75e401-f67d-4c02-881b-29e71a6ea0e6",
   "metadata": {},
   "source": [
    "### EXERCISE 6.1.1.\n",
    "\n",
    "Consider Example 6.1.1. again but now assume that $(X_t)$ is P-Markov, $\\pi_t = \\pi(X_t)$ and $r_t = r(X_t)$ for some $r,\\pi \\in\\mathbb{R}^X$.\n",
    "\n",
    "The expected present value of the firm given current state $X_0 = x$ is\n",
    "\n",
    "$$\n",
    "v(x)=\\mathbb{E}_x\\sum_{t=0}^\\infty\\left[\\prod_{i=0}^t \\beta_i\\right]\\pi_t\n",
    "$$\n",
    "\n",
    "suggest a consider under which $v(x)$ is finite and discuss how to compute it."
   ]
  },
  {
   "cell_type": "markdown",
   "id": "f89d60a9-e260-45e7-b33d-2cb22fa803aa",
   "metadata": {},
   "source": [
    "**Solution**:\n",
    "\n",
    "As stated in the theorem 6.1.1., we need the spectral radius of $L$, $\\rho(L)<1$. Then, we use the Neumann series lemma, we get,\n",
    "\n",
    "$$\n",
    "v = (I-L)^{-1}\\pi\n",
    "$$\n",
    "\n",
    "To compute this value, we can either create an operator to compute this value using successive approximation or we can obtain the matrix and invert the matrix if the state space is not big."
   ]
  },
  {
   "cell_type": "markdown",
   "id": "b2feb7d2-b0fa-4a59-ba7a-c92623216e96",
   "metadata": {},
   "source": [
    "### EXERCISE 6.1.2.\n",
    "\n",
    "Let $X$ be partially ordered and assume $\\rho(L)<1$. Prove that $v$ is increasing on $X$ whenever $P$ is monotone increasing, $\\pi$ is increasing on $X$ and $r$ is decreasing on $X$."
   ]
  },
  {
   "cell_type": "markdown",
   "id": "1b7ea128-e481-4fac-8dd3-965452410dfb",
   "metadata": {},
   "source": [
    "**Proof**\n",
    "\n",
    "First, we have $\\beta_t = b(X_{t-1},X_t) = \\frac{1}{1+r_t} = \\frac{1}{1+r(X_t)}$. Then, since we have $r$ is decreasing on $X$, this implies, we have,\n",
    "\n",
    "$$\n",
    "\\beta_t = b(X_{t-1},X_t)\n",
    "$$\n",
    "\n",
    "is increasing on $X$, i.e., $b\\in i\\mathbb{R}^X$.\n",
    "\n",
    "Since we have $P$ is monotone increasing and $\\pi\\in i\\mathbb{R}^X$ and $\\rho(L)<1$, this implies we have for $x\\precsim y$,\n",
    "\n",
    "$$\n",
    "v(x) = \\left(\\sum_{t\\ge 0} L^t\\pi\\right)(x) = \\sum_{t\\ge 0} b(x,x')\\pi(x)P^t(x,x')\\le \\sum_{t\\ge 0} b(y,x')\\pi(y)P^t(y,x') = v(y)\n",
    "$$\n",
    "\n",
    "hence, $v$ is increasing."
   ]
  },
  {
   "cell_type": "markdown",
   "id": "312bc776-201d-4563-b5e3-e24c83544562",
   "metadata": {},
   "source": [
    "### EXERCISE 6.1.3.\n",
    "\n",
    "Let $P$ be irreducible. Show that, when $(X_t)$ is P-Markov with $X_0$ drawn from the unique stationary distribution $\\varphi^*$ of $P$, we also have,\n",
    "\n",
    "$$\n",
    "\\rho(L) = \\lim_{t\\to\\infty} \\left(\\mathbb{E}\\prod_{i=0}^t \\beta_i\\right)^{1/t}\n",
    "$$"
   ]
  },
  {
   "cell_type": "markdown",
   "id": "566ff310-9317-45ed-bb7d-7ced4c32f6c5",
   "metadata": {},
   "source": [
    "**Proof**\n",
    "\n",
    "Let\n",
    "\n",
    "$$\n",
    "h_t = \\mathbb{E}\\prod_{i=0}^t \\beta_i = \\sum_{x'\\in X} \\left(\\prod_{i=0}^t \\beta_i\\right)(x')\\varphi^*(x')\n",
    "$$\n",
    "\n",
    "Since, $P$ is irreducible, this implies $\\varphi^*\\gg 0$. Hence, by exercise 1.2.3., we know that,\n",
    "\n",
    "$$\n",
    "\\left(\\mathbb{E}\\prod_{i=0}^t \\beta_i\\right)^{1/t} = \\|h\\|_*^{1/t}\n",
    "$$\n",
    "\n",
    "Moreover, since every norm on $\\mathbb{R}^X$ is equivalent. Then, the first part of the lemma 6.1.2., gives the proof."
   ]
  },
  {
   "cell_type": "markdown",
   "id": "6fe0194f-99a4-4e0d-8067-2bc881ff19b3",
   "metadata": {},
   "source": [
    "### EXERCISE 6.1.4.\n",
    "\n",
    "Prove Theorem 6.1.5."
   ]
  },
  {
   "cell_type": "markdown",
   "id": "647d0284-e430-45c6-beda-876bf3f694ed",
   "metadata": {},
   "source": [
    "**Proof**\n",
    "\n",
    "Let $U$ be a closed subset of $\\mathbb{R}^X$, and $X$ is finite. \n",
    "\n",
    "Let $T$ be a self-map on $U$. \n",
    "\n",
    "Since $T$ is eventually contracting, this implies there exists $k\\in\\mathbb{N}$ such that $T^k$ is a contraction under some norm $\\|\\cdot\\|$ with modulus $\\lambda$\n",
    "\n",
    "Since a closed subset of a complete metric space is a complete metric space, we get $U$ is complete. \n",
    "\n",
    "Hence, we have, by the Banach fixed point theorem, we have $T^k$ has a unique fixed point and \n",
    "\n",
    "$$\n",
    "\\|(T^k)^nu -u^*\\| \\le \\lambda^n\\|u-u^*\\|\n",
    "$$\n",
    "\n",
    "for all $n\\in \\mathbb{N}$.\n",
    "\n",
    "This implies, for all $\\epsilon>0$, there exists $N(\\epsilon,k)\\in\\mathbb{N}$, such that $kn \\ge N$ implies \n",
    "\n",
    "$$\n",
    "\\|T^{kn}u -u^*\\|<\\epsilon\n",
    "$$\n",
    "\n",
    "Hence, we have $T$ is globally stable. \n"
   ]
  },
  {
   "cell_type": "code",
   "execution_count": null,
   "id": "f61ac31c-1a57-4585-b0db-7f96306911b6",
   "metadata": {},
   "outputs": [],
   "source": []
  }
 ],
 "metadata": {
  "kernelspec": {
   "display_name": "Python 3 (ipykernel)",
   "language": "python",
   "name": "python3"
  },
  "language_info": {
   "codemirror_mode": {
    "name": "ipython",
    "version": 3
   },
   "file_extension": ".py",
   "mimetype": "text/x-python",
   "name": "python",
   "nbconvert_exporter": "python",
   "pygments_lexer": "ipython3",
   "version": "3.10.12"
  }
 },
 "nbformat": 4,
 "nbformat_minor": 5
}
