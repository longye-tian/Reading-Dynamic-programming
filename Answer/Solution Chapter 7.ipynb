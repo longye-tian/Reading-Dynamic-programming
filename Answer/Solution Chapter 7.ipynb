{
 "cells": [
  {
   "cell_type": "markdown",
   "id": "fe834123-f027-457e-a398-31c48d73cece",
   "metadata": {},
   "source": [
    "### EXERCISE 7.1.1.\n",
    "\n",
    "Consider the setting of Knaster-Tarski fixed point theorem, and suppose that in addition that $v_1\\neq v_2$.\n",
    "\n",
    "Show that there exists an order-preserving self-map on $V$ with a continuum of fixed point."
   ]
  },
  {
   "cell_type": "markdown",
   "id": "a6205cd8-79fb-4e26-9906-78e02f561962",
   "metadata": {},
   "source": [
    "**Proof**\n",
    "\n",
    "Let $T:V\\mapsto V$ and \n",
    "\n",
    "$$\n",
    "Tv_i = v_i \\,\\,\\,\\forall v_i\\in V\n",
    "$$\n",
    "\n",
    "Then, we have, for $v_i\\le v_j$, \n",
    "\n",
    "$$\n",
    "v_i\\le v_j \\implies Tv_i\\le Tv_j\n",
    "$$\n",
    "\n",
    "hence, $T$ is order-preserving, and all elements in $V$ is a fixed point.\n"
   ]
  },
  {
   "cell_type": "markdown",
   "id": "26705bf8-dcc9-493c-99a7-2cc49f7bbb82",
   "metadata": {},
   "source": [
    "### EXERCISE 7.1.2.\n",
    "\n",
    "Prove that the map $g$ and set $U$ defined in the discussion of the Solow-Swan model above proposition 7.1.2. satisfies the conditions of proposition."
   ]
  },
  {
   "cell_type": "markdown",
   "id": "5d51e4e0-8dcf-4aa1-acf0-16858b08e815",
   "metadata": {},
   "source": [
    "**Proof**\n",
    "\n",
    "We need to check \n",
    "\n",
    "- [x] $g$ is an increasing, concave, self-map\n",
    "- [x] $U=(0,\\infty)$\n",
    "- [x] For every $x\\in U$, there exists $a, b$ such that $a\\le x\\le b$ and $a<g(a), g(b)\\le b$.\n",
    "\n",
    "In the Solow-Swan model, we have, $g$ is defined as follows:\n",
    "\n",
    "$$\n",
    "g(k) = sf(k) + (1-\\delta)k\n",
    "$$\n",
    "\n",
    ", $f$ is increasing and vconcave, hence $g$ is also concave and increasing. For any positive $k$, $g(k)$ is positive, hence it is a self map on $U=(0,\\infty)$.\n",
    "\n",
    "And we can always pick $a,b$ such that $a\\le k*, b\\ge k^*$ that satifies the above conditions."
   ]
  },
  {
   "cell_type": "markdown",
   "id": "7b273b0d-52c6-4972-98e4-48aa9548edd4",
   "metadata": {},
   "source": [
    "### EXERCISE 7.1.3. \n",
    "\n",
    "Show that the condition $a<g(a)$ in Proposition 7.1.2. cannot be dropped without weakening the conclusioin."
   ]
  },
  {
   "cell_type": "markdown",
   "id": "cd269218-a960-414c-97ad-3cb5f565eee7",
   "metadata": {},
   "source": [
    "**Proof**\n",
    "\n",
    "If we drop the $a<g(a)$ condition, we will not necessarily get a strict concave function. Hence, we cannot ensure there is a unique fixed point."
   ]
  },
  {
   "cell_type": "markdown",
   "id": "8fbb8a70-8fb3-4d2a-a6da-15c7201311c5",
   "metadata": {},
   "source": [
    "### EXERCISE 7.1.4.\n",
    "\n",
    "Dropping the Cobb-Douglas specification on production, suppose \n",
    "\n",
    "$$\n",
    "g(k)=sf(k)+(1-\\delta)k \n",
    "$$\n",
    "\n",
    "where $0<s,\\delta<1$ and $f$ is strictly positive increasing concave production function on $U=(0,\\infty)$ satisfying the **Inada condition**.\n",
    "\n",
    "$$\n",
    "f'(k)\\to \\infty, f'(k)\\to 0, k\\to \\infty\n",
    "$$\n",
    "\n",
    "Use proposition 7.1.2., to prove that $g$ is globally stable on $U$."
   ]
  },
  {
   "cell_type": "markdown",
   "id": "56ddcdf0-e6b6-41ac-b403-ceae22d6b9b5",
   "metadata": {},
   "source": [
    "**Proof**\n",
    "\n",
    "To prove $g$ is globally stable on $U$, we need to show that it satisfies the three conditions in proposition 7.1.2.\n",
    "\n",
    "We need to check:\n",
    "\n",
    "- [x] $g$ is a self-map, increasing, concave \n",
    "\n",
    "- [x] $U=(0,\\infty)$\n",
    "\n",
    "- [x] $\\forall x\\in U$,  there exists $a\\le x\\le b$ such that $a<g(a), g(b)\\le b$.\n",
    "\n",
    "\n",
    "The first condition is satisfied by the Inada condition.\n",
    "\n",
    "The second is given.\n",
    "\n",
    "The third has similar reasoning as in EXERCISE 7.1.2."
   ]
  },
  {
   "cell_type": "markdown",
   "id": "62841ba0-b73b-4236-86ea-94c154dd1804",
   "metadata": {},
   "source": [
    "### EXERCISE 7.1.5.\n",
    "\n",
    "Fajgelbaum et al study a law of motion for aggregate uncertainty given by\n",
    "\n",
    "$$\n",
    "s_{t+1} = g(s_t), g(s) = \\rho^2\\left[\\frac{1}{s}+a^2 \\frac{1}{\\eta}\\right]^{-1}+\\gamma\n",
    "$$\n",
    "\n",
    "Let $\\alpha,\\eta, \\gamma$ be positive constants and assume that $0<\\rho<1$. Prove that $g$ is globally stable on $M=(0,\\infty)$."
   ]
  },
  {
   "cell_type": "markdown",
   "id": "0fdbff76-dab0-45a7-b227-11712d0fcf2b",
   "metadata": {},
   "source": [
    "### EXERCISE 7.1.6.\n",
    "\n",
    "Let $F$ and $G$ be self-maps on convex $D\\subset\\mathbb{R}^n$.\n",
    "\n",
    "Show that $T=F\\circ G$ is concave whenever $F$ and $G$ are order-preserving and concave on $D$."
   ]
  },
  {
   "cell_type": "markdown",
   "id": "e55a94a7-e78f-40fa-90f6-315ebf1a6e69",
   "metadata": {},
   "source": [
    "**Proof**\n",
    "\n",
    "We have $F,G$ are concave, by definition, there exists $\\lambda \\in (0,1)$ such that, for any $x,y\\in D$,\n",
    "\n",
    "$$\n",
    "\\lambda F(x) +(1-\\lambda)F(y) \\le F(\\lambda x+(1-\\lambda) y)\n",
    "$$\n",
    "\n",
    "$$\n",
    "\\lambda G(x) +(1-\\lambda)G(y) \\le G(\\lambda x+(1-\\lambda) y)\n",
    "$$\n",
    "\n",
    "Since $F,G$ are self-maps, we have, $G(x),G(y)\\in D$. Then, we have,\n",
    "\n",
    "$$\n",
    "\\lambda T(x)+(1-\\lambda) T(y) = \\lambda F(G(x)) + (1-\\lambda)F(G(y)) \\le F(\\lambda G(x) + (1-\\lambda)G(y))\\le F(G(\\lambda x + (1-\\lambda)y))  = T(\\lambda x+(1-\\lambda)y)\n",
    "$$"
   ]
  },
  {
   "cell_type": "code",
   "execution_count": null,
   "id": "ea324670-6da7-4c88-a95d-4d0de673d0e8",
   "metadata": {},
   "outputs": [],
   "source": []
  }
 ],
 "metadata": {
  "kernelspec": {
   "display_name": "Python 3 (ipykernel)",
   "language": "python",
   "name": "python3"
  },
  "language_info": {
   "codemirror_mode": {
    "name": "ipython",
    "version": 3
   },
   "file_extension": ".py",
   "mimetype": "text/x-python",
   "name": "python",
   "nbconvert_exporter": "python",
   "pygments_lexer": "ipython3",
   "version": "3.10.12"
  }
 },
 "nbformat": 4,
 "nbformat_minor": 5
}
