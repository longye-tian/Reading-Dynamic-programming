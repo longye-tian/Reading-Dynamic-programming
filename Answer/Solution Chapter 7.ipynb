{
 "cells": [
  {
   "cell_type": "markdown",
   "id": "fe834123-f027-457e-a398-31c48d73cece",
   "metadata": {},
   "source": [
    "### EXERCISE 7.1.1.\n",
    "\n",
    "Consider the setting of Knaster-Tarski fixed point theorem, and suppose that in addition that $v_1\\neq v_2$.\n",
    "\n",
    "Show that there exists an order-preserving self-map on $V$ with a continuum of fixed point."
   ]
  },
  {
   "cell_type": "markdown",
   "id": "a6205cd8-79fb-4e26-9906-78e02f561962",
   "metadata": {},
   "source": [
    "**Proof**\n",
    "\n",
    "Let $T:V\\mapsto V$ and \n",
    "\n",
    "$$\n",
    "Tv_i = v_i \\,\\,\\,\\forall v_i\\in V\n",
    "$$\n",
    "\n",
    "Then, we have, for $v_i\\le v_j$, \n",
    "\n",
    "$$\n",
    "v_i\\le v_j \\implies Tv_i\\le Tv_j\n",
    "$$\n",
    "\n",
    "hence, $T$ is order-preserving, and all elements in $V$ is a fixed point.\n"
   ]
  },
  {
   "cell_type": "markdown",
   "id": "26705bf8-dcc9-493c-99a7-2cc49f7bbb82",
   "metadata": {},
   "source": [
    "### EXERCISE 7.1.2.\n",
    "\n",
    "Prove that the map $g$ and set $U$ defined in the discussion of the Solow-Swan model above proposition 7.1.2. satisfies the conditions of proposition."
   ]
  },
  {
   "cell_type": "markdown",
   "id": "5d51e4e0-8dcf-4aa1-acf0-16858b08e815",
   "metadata": {},
   "source": [
    "**Proof**\n",
    "\n",
    "We need to check \n",
    "\n",
    "- [x] $g$ is an increasing, concave, self-map\n",
    "- [x] $U=(0,\\infty)$\n",
    "- [x] For every $x\\in U$, there exists $a, b$ such that $a\\le x\\le b$ and $a<g(a), g(b)\\le b$.\n",
    "\n",
    "In the Solow-Swan model, we have, $g$ is defined as follows:\n",
    "\n",
    "$$\n",
    "g(k) = sf(k) + (1-\\delta)k\n",
    "$$\n",
    "\n",
    ", $f$ is increasing and vconcave, hence $g$ is also concave and increasing. For any positive $k$, $g(k)$ is positive, hence it is a self map on $U=(0,\\infty)$.\n",
    "\n",
    "And we can always pick $a,b$ such that $a\\le k*, b\\ge k^*$ that satifies the above conditions."
   ]
  },
  {
   "cell_type": "markdown",
   "id": "7b273b0d-52c6-4972-98e4-48aa9548edd4",
   "metadata": {},
   "source": [
    "### EXERCISE 7.1.3. \n",
    "\n",
    "Show that the condition $a<g(a)$ in Proposition 7.1.2. cannot be dropped without weakening the conclusioin."
   ]
  },
  {
   "cell_type": "markdown",
   "id": "cd269218-a960-414c-97ad-3cb5f565eee7",
   "metadata": {},
   "source": [
    "**Proof**\n",
    "\n",
    "If we "
   ]
  }
 ],
 "metadata": {
  "kernelspec": {
   "display_name": "Python 3 (ipykernel)",
   "language": "python",
   "name": "python3"
  },
  "language_info": {
   "codemirror_mode": {
    "name": "ipython",
    "version": 3
   },
   "file_extension": ".py",
   "mimetype": "text/x-python",
   "name": "python",
   "nbconvert_exporter": "python",
   "pygments_lexer": "ipython3",
   "version": "3.10.12"
  }
 },
 "nbformat": 4,
 "nbformat_minor": 5
}
