{
 "cells": [
  {
   "cell_type": "markdown",
   "id": "40bff0db-ca70-44d3-8c04-5a05ad174c33",
   "metadata": {},
   "source": [
    "**Quasi-hyperbolic discounting**\n",
    "\n",
    "Quansi-hyperbolic discounting has the following form:\n",
    "\n",
    "$$\n",
    "\\beta_t = \\begin{cases*}\n",
    "                    1 & if  $t=0$  \\\\\n",
    "                    \\alpha \\beta^t & if $t=1,2,3,\\ldots$\n",
    "                 \\end{cases*}\n",
    "$$"
   ]
  },
  {
   "cell_type": "markdown",
   "id": "535c848a-4415-46ec-a717-5f4c3d98cc02",
   "metadata": {},
   "source": [
    "We can transform this into a state-dependent discount factor:\n",
    "\n",
    "$$\n",
    "\\beta_t = \\beta(X_t) = \\begin{cases*}\n",
    "                    1 & if  $t=0$  \\\\\n",
    "                    \\alpha \\beta^t & if $t=1,2,3,\\ldots$\n",
    "                 \\end{cases*}\n",
    "$$"
   ]
  },
  {
   "cell_type": "markdown",
   "id": "a70260be-7a1d-4858-8c27-929403c5802d",
   "metadata": {},
   "source": [
    "Following Dr.Yang's setting, moreover, we let\n",
    "\n",
    "$$\n",
    "\\beta(X_t)h(X_t) = b(X_t)\n",
    "$$\n",
    "\n",
    "Hence, we have,\n",
    "\n",
    "\\begin{align*}\n",
    "v(x) &= \\mathbb{E}\\left[\\beta_0 h(X_0)+\\beta_1 h(X_1) + \\beta_2 h(X_2)+ \\cdots |X_0=x\\right]\\\\\n",
    "&= \\mathbb{E}\\left[b(X_0)+b(X_1) + b(X_2)+ \\cdots |X_0=x\\right]\n",
    "\\end{align*}"
   ]
  },
  {
   "cell_type": "markdown",
   "id": "362bd388-884f-4fc5-95de-b34d2a0e8ec2",
   "metadata": {},
   "source": [
    "We can take out $h(X_0)$, and since we assume $(X_t)_{t\\ge 0}$ follows a $P$-Markov, we have,\n",
    "\n",
    "$$\n",
    "v(x) = b(x) + \\sum_{x'\\in \\mathbb{X}} P(x,x') \\mathbb{E}\\left[b(X_1)+b(X_2) + b(X_3) + \\cdots |X_1=x'\\right]\n",
    "$$\n",
    "\n",
    "by the law of total expectation."
   ]
  },
  {
   "cell_type": "markdown",
   "id": "600452d2-77e1-4363-996f-60c255acfb5c",
   "metadata": {},
   "source": [
    "By the linearity of conditional expectation we have,\n",
    "\n",
    "$$\n",
    "v(x) = h(x) + \\sum_{x'\\in \\mathbb{X}} P(x,x')\\left\\{\\mathbb{E}\\left[b(X_1)|X_1=x'\\right]+\\mathbb{E}\\left[b(X_2)|X_1=x'\\right]+\\mathbb{E}\\left[b(X_3)|X_1=x'\\right]+\\cdots\\right\\}\n",
    "$$"
   ]
  },
  {
   "cell_type": "markdown",
   "id": "e6f66d8b-ae30-46e1-adb0-6c92d50cc6c0",
   "metadata": {},
   "source": [
    "Time consistency (time independence) implies\n",
    "\n",
    "$$\n",
    "\\mathbb{E}[b(X_t)|X_{t}=x'] = \\mathbb{E}[b(X_{t-1})|X_{t-1}=x']\n",
    "$$"
   ]
  },
  {
   "cell_type": "markdown",
   "id": "7d4e0740-a33e-4ec1-ac8c-b9e4b82d86ea",
   "metadata": {},
   "source": [
    "But this is not the case, as\n",
    "\n",
    "$$\n",
    "\\mathbb{E}[b(X_0)|X_{0}=x'] \\neq \\mathbb{E}[b(X_{1})|X_{1}=x']\n",
    "$$"
   ]
  },
  {
   "cell_type": "markdown",
   "id": "e8f4ee72-d399-478d-a264-17bb8d769a0f",
   "metadata": {},
   "source": [
    "To make this problem time consistent, we need to enlarge the state space.\n",
    "\n",
    "The current state space $\\mathbb{X}$ is\n",
    "\n",
    "$$\n",
    "\\mathbb{X} = \\{x_0,x_1, \\cdots, x_N\\}\n",
    "$$\n",
    "\n",
    "which has cardinality $N$.\n",
    "\n",
    "Now, we change the state to $\\mathbb{X}\\times \\mathbb{T}$,\n",
    "\n",
    "$$\n",
    "\\mathbb{X}\\times \\mathbb{T} = \\{x_0^0, x_0^1, x_0^2, \\cdots, x_0^T, x_1^0 ,\\cdots, x_1^T, \\cdots, x_N^T\\}\n",
    "$$\n",
    "\n",
    "which has cardinality $N\\times T$, and $T\\in \\mathbb{N}$"
   ]
  },
  {
   "cell_type": "markdown",
   "id": "e9797c53-e59c-47dc-b295-ac8dd44a5cee",
   "metadata": {},
   "source": [
    "We also need to update the transition matrix, from\n",
    "\n",
    "$$\n",
    "P(i,j) = P(x_i, x_j)\n",
    "$$\n",
    "\n",
    "which has dimension, $\\dim(P) = N\\times N$; to \n",
    "\n",
    "$$\n",
    "\\mathbb{P}((i,t),(j, \\tau)) = \\mathbb{P}((x_i, t) ,(x_j, \\tau)) = \\mathbb{1}\\{\\tau = t+1\\} P(x_i,x_j)\n",
    "$$"
   ]
  },
  {
   "cell_type": "markdown",
   "id": "5576edd9-f8f9-4be5-b695-d54376d5bd8c",
   "metadata": {},
   "source": [
    "Now we can rewrite the value function as\n",
    "\n",
    "$$\n",
    "v(x,t) = \\mathbb{E}\\left[b(X_0,T_0) + b(X_1,T_1) +b(X_2,T_2) + \\cdots | X_0=x, T_0 = t\\right]\n",
    "$$\n",
    "\n",
    "$$\n",
    "v(x',\\tau) = \\mathbb{E}\\left[b(X_0,T_0) + b(X_1,T_1) +b(X_2,T_2) + \\cdots | X_0=x', T_0 = \\tau\\right]\n",
    "$$\n",
    "\n",
    "Under this setting, we have time consistency, i.e.,\n",
    "\n",
    "$$\n",
    "\\mathbb{E}[b(X_0,T_0)|X_0=x, T_0=t] = \\mathbb{E}[b(X_1,T_1)|X_1=x,T_1=t]\n",
    "$$\n",
    "\n",
    "Hence, we have,\n",
    "\n",
    "$$\n",
    "v(x',\\tau) = \\mathbb{E}\\left[b(X_1,T_1) + b(X_2,T_2) +b(X_3,T_3) + \\cdots | X_1=x', T_1 = \\tau\\right]\n",
    "$$\n",
    "\n",
    "\n",
    "$$\n",
    "v(x,t) = b(x,t)+\\sum_{(x',\\tau)\\in \\mathbb{X}\\times \\mathbb{T}} \\mathbb{E}\\left[b(X_1,T_1) + b(X_2,T_2) +b(X_3,T_3) + \\cdots | X_1=x', T_1 = \\tau\\right]\n",
    "$$\n",
    "\n",
    "This implies, we have,\n",
    "\n",
    "$$\n",
    "v(x,t) = b(x,t) + \\sum_{(x',\\tau)\\in \\mathbb{X}\\times \\mathbb{T}} v(x',\\tau) P((x,t),(x',\\tau))\n",
    "$$"
   ]
  },
  {
   "cell_type": "markdown",
   "id": "647ea9d5-36f6-4893-81c3-ffbc0172520f",
   "metadata": {},
   "source": [
    "Now we change the time index,\n",
    "\n",
    "\\begin{align*}\n",
    "v(x) = h(x) + \\sum_{x'\\in X} P(x,x')\\left\\{\\mathbb{E}\\left[\\beta_0 h(X_0)|X_0=x'\\right]+\\mathbb{E}\\left[\\beta_1 h(X_1)|X_0=x'\\right]+\\mathbb{E}\\left[\\beta_2 h(X_2)|X_0=x'\\right]+\\cdots\\right\\}\\\\\n",
    "= h(x)+\\sum_{x'\\in X} P(x,x') \\mathbb{E}\\left[\\beta_0 h(X_0)+ \\beta_1 h(X_1) + \\beta_2 h(X_2) + \\cdots |X_0=x'\\right]\n",
    "\\end{align*}"
   ]
  },
  {
   "cell_type": "markdown",
   "id": "1e729814-ee49-460e-ba07-6938a558e679",
   "metadata": {},
   "source": [
    "We have,\n",
    "\n",
    "$$\n",
    "v(x) = h(x)+\\sum_{x'\\in X} P(x,x') v(x')\n",
    "$$"
   ]
  },
  {
   "cell_type": "markdown",
   "id": "0c7b4cec-8d5e-4852-af71-ea10ddfa7760",
   "metadata": {},
   "source": [
    "**Use commitment to resolve time inconsistency**"
   ]
  },
  {
   "cell_type": "markdown",
   "id": "54fbcb59-321c-47ee-bbac-6f6e4da9cded",
   "metadata": {},
   "source": [
    "Under Dr.Yang's setting:\n",
    "\n",
    "Suppose by commitment we have, the current reward from $h(x)$ to $\\alpha h(x)$, then we have,\n",
    "\n",
    "\\begin{align*}\n",
    "v(x) &= \\mathbb{E}_x\\left[\\alpha h(x)+ \\alpha\\sum_{t=1}^\\infty \\beta^t h(X_t)\\right]\\\\\n",
    "&= \\alpha h(x) + \\mathbb{E}_x\\left[\\alpha \\beta h(X_1)+\\alpha\\sum_{t=2}^\\infty \\beta^t h(X_t)\\right]\\\\\n",
    "&= \\alpha h(x) + \\beta \\sum_{x'\\in X} P(x,x') \\mathbb{E}\\left[\\alpha h(X_1)+\\alpha\\sum_{t=0}^\\infty \\beta^t h(X_t)|X_1=x'\\right]\\\\\n",
    "&= \\alpha h(x) +\\beta \\sum_{x'\\in X} P(x,x') v(x')\n",
    "\\end{align*}"
   ]
  },
  {
   "cell_type": "code",
   "execution_count": null,
   "id": "ffa21d8d-a424-4611-af38-df5814a33b61",
   "metadata": {},
   "outputs": [],
   "source": []
  }
 ],
 "metadata": {
  "kernelspec": {
   "display_name": "Python 3 (ipykernel)",
   "language": "python",
   "name": "python3"
  },
  "language_info": {
   "codemirror_mode": {
    "name": "ipython",
    "version": 3
   },
   "file_extension": ".py",
   "mimetype": "text/x-python",
   "name": "python",
   "nbconvert_exporter": "python",
   "pygments_lexer": "ipython3",
   "version": "3.10.12"
  }
 },
 "nbformat": 4,
 "nbformat_minor": 5
}
