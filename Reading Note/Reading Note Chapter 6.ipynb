{
 "cells": [
  {
   "cell_type": "markdown",
   "id": "b2ac0e2e-2a24-475f-9d9b-00b26117db04",
   "metadata": {},
   "source": [
    "# Chapter 6 Stochastic discounting reading note"
   ]
  },
  {
   "cell_type": "markdown",
   "id": "231afa57-90cd-4de8-a341-695fcb9bba5a",
   "metadata": {},
   "source": [
    "- Extend MDP model to handle time-varying discount factors\n",
    "- Optimality with State-dependent discounting\n",
    "- Asset pricing application"
   ]
  },
  {
   "cell_type": "markdown",
   "id": "ca28b722-fa1d-44a2-bb1e-a2c6e22d2a0e",
   "metadata": {},
   "source": [
    "# Time-Varying Discount Factor"
   ]
  },
  {
   "cell_type": "markdown",
   "id": "726b5c9c-328b-46c8-b360-d9a765352b95",
   "metadata": {},
   "source": [
    "## Theory"
   ]
  },
  {
   "cell_type": "markdown",
   "id": "d76f57fd-4e2d-42ef-b5a9-5d7bae317ec3",
   "metadata": {},
   "source": [
    "- Let $X$ be finite, $P\\in\\mathcal{M}(\\mathbb{R}^X)$ and $(X_t)_{t\\ge 0}$ be a P-Markov. \n",
    "\n",
    "- Let $h\\in \\mathbb{R}^X$ with $h(X_t)$ as the reward function at time $t$ in state $X_t$\n",
    "\n",
    "- Let $b:X\\times X\\mapsto (0,\\infty)$ and\n",
    "\n",
    "$$\n",
    "\\beta:= b(X_{t-1},X_t)\\,\\,\\,t\\in\\mathbb{N}, \\,\\,\\beta_0=1\n",
    "$$\n",
    "\n",
    "**Discount Factor Process**\n",
    "\n",
    "The sequence $(\\beta_t)_{t\\ge 0}$ is called the **discount factor process** and \n",
    "\n",
    "- $\\prod_{i=0}^t \\beta_i$ is the discount factor for period $t$ payoffs evaluated at time zero.\n",
    "\n",
    "- Expected discounted sums of rewards:\n",
    "\n",
    "$$\n",
    "v(x):=\\mathbb{E}_x \\sum_{t=0}^\\infty \\left[\\prod_{i=0}^t \\beta_i\\right] h(X_t)$$"
   ]
  },
  {
   "cell_type": "markdown",
   "id": "de49bddd-8fb0-43f5-aa2c-199ef7da9b84",
   "metadata": {},
   "source": [
    "## Theorem 6.1.1.\n",
    "\n",
    "Let $L\\in\\mathcal{L}(\\mathbb{R}^X)$ be the discount operator defined by\n",
    "\n",
    "$$\n",
    "L(x,x') = b(x,x')P(x,x')\n",
    "$$\n",
    "\n",
    "for $(x,x')\\in X\\times X$. If $\\rho(L)<1$, then $v$ is finite for all $x\\in X$ and moreover,\n",
    "\n",
    "$$\n",
    "v = (I-L)^{-1} h = \\sum_{t=0}^\\infty L^t h\n",
    "$$"
   ]
  },
  {
   "cell_type": "code",
   "execution_count": null,
   "id": "0a2c840c-9bbd-4d43-8091-35b0fc3ef498",
   "metadata": {},
   "outputs": [],
   "source": []
  }
 ],
 "metadata": {
  "kernelspec": {
   "display_name": "Python 3 (ipykernel)",
   "language": "python",
   "name": "python3"
  },
  "language_info": {
   "codemirror_mode": {
    "name": "ipython",
    "version": 3
   },
   "file_extension": ".py",
   "mimetype": "text/x-python",
   "name": "python",
   "nbconvert_exporter": "python",
   "pygments_lexer": "ipython3",
   "version": "3.10.12"
  }
 },
 "nbformat": 4,
 "nbformat_minor": 5
}
