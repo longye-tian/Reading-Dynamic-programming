{
 "cells": [
  {
   "cell_type": "markdown",
   "id": "b2ac0e2e-2a24-475f-9d9b-00b26117db04",
   "metadata": {},
   "source": [
    "# Chapter 6 Stochastic discounting reading note"
   ]
  },
  {
   "cell_type": "markdown",
   "id": "231afa57-90cd-4de8-a341-695fcb9bba5a",
   "metadata": {},
   "source": [
    "- Extend MDP model to handle time-varying discount factors\n",
    "- Optimality with State-dependent discounting\n",
    "- Asset pricing application"
   ]
  },
  {
   "cell_type": "markdown",
   "id": "ca28b722-fa1d-44a2-bb1e-a2c6e22d2a0e",
   "metadata": {},
   "source": [
    "# Time-Varying Discount Factor"
   ]
  },
  {
   "cell_type": "markdown",
   "id": "726b5c9c-328b-46c8-b360-d9a765352b95",
   "metadata": {},
   "source": [
    "## Theory"
   ]
  },
  {
   "cell_type": "markdown",
   "id": "d76f57fd-4e2d-42ef-b5a9-5d7bae317ec3",
   "metadata": {},
   "source": [
    "- Let $X$ be finite, $P\\in\\mathcal{M}(\\mathbb{R}^X)$ and $(X_t)_{t\\ge 0}$ be a P-Markov. \n",
    "\n",
    "- Let $h\\in \\mathbb{R}^X$ with $h(X_t)$ as the reward function at time $t$ in state $X_t$\n",
    "\n",
    "- Let $b:X\\times X\\mapsto (0,\\infty)$ and\n",
    "\n",
    "$$\n",
    "\\beta:= b(X_{t-1},X_t)\\,\\,\\,t\\in\\mathbb{N}, \\,\\,\\beta_0=1\n",
    "$$\n",
    "\n",
    "**Discount Factor Process**\n",
    "\n",
    "The sequence $(\\beta_t)_{t\\ge 0}$ is called the **discount factor process** and \n",
    "\n",
    "- $\\prod_{i=0}^t \\beta_i$ is the discount factor for period $t$ payoffs evaluated at time zero.\n",
    "\n",
    "- Expected discounted sums of rewards:\n",
    "\n",
    "$$\n",
    "v(x):=\\mathbb{E}_x \\sum_{t=0}^\\infty \\left[\\prod_{i=0}^t \\beta_i\\right] h(X_t)$$"
   ]
  },
  {
   "cell_type": "markdown",
   "id": "de49bddd-8fb0-43f5-aa2c-199ef7da9b84",
   "metadata": {},
   "source": [
    "## Theorem 6.1.1.\n",
    "\n",
    "Let $L\\in\\mathcal{L}(\\mathbb{R}^X)$ be the discount operator defined by\n",
    "\n",
    "$$\n",
    "L(x,x') = b(x,x')P(x,x')\n",
    "$$\n",
    "\n",
    "for $(x,x')\\in X\\times X$. If $\\rho(L)<1$, then $v$ is finite for all $x\\in X$ and moreover,\n",
    "\n",
    "$$\n",
    "v = (I-L)^{-1} h = \\sum_{t=0}^\\infty L^t h\n",
    "$$"
   ]
  },
  {
   "cell_type": "markdown",
   "id": "c3a0ff71-bc19-44e8-a88c-ac18d1a43b25",
   "metadata": {},
   "source": [
    "## Sufficient and Necessary Condition for $\\rho(L)<1$"
   ]
  },
  {
   "cell_type": "markdown",
   "id": "90c2b797-6ca7-4717-8e7d-cb07035f6019",
   "metadata": {},
   "source": [
    "### Lemma 6.1.2. Alternative representation of spectral radius using expectation"
   ]
  },
  {
   "cell_type": "markdown",
   "id": "6d2103e9-7117-4564-b931-e19a15891f2b",
   "metadata": {},
   "source": [
    "Let $(X_t)$ be P-Markov starting at $X_0 = x$. The spectral radius of $L$ obeys\n",
    "\n",
    "$$\n",
    "\\rho(L) = \\lim_{t\\to\\infty} \\ell_t^{1/t},\\,\\,\\,l_t:= \\max_{x\\in X} \\mathbb{E}_x \\prod_{i=0}^t \\beta_i\n",
    "$$\n",
    "\n",
    "Moreover, \n",
    "\n",
    "$$\n",
    "\\rho(L)<1 \\iff \\exists t\\in\\mathbb{N}, \\ell_t<1\n",
    "$$"
   ]
  },
  {
   "cell_type": "markdown",
   "id": "f3aa5795-416d-4932-aa6c-0e7bb09b8f1d",
   "metadata": {},
   "source": [
    "When $P$ is irreducible, the spectral radius is the long-run geometric average of the discount factor process, i.e.,\n",
    "\n",
    "$$\n",
    "\\rho(L) = \\lim_{t\\to\\infty} \\left(\\mathbb{E}\\prod_{i=0}^t \\beta_i\\right)^{1/t}\n",
    "$$\n",
    "\n",
    "We need this long-run geometric average to be less than unity to give the spectral radius less than 1.\n",
    "\n",
    "**In the AR(1) model**\n",
    "\n",
    "The spectral radius is increasing with the autocorrelation and standard deviation parameters."
   ]
  },
  {
   "cell_type": "markdown",
   "id": "9e361316-5936-4d94-8212-58d4d9cb8fab",
   "metadata": {},
   "source": [
    "### Lemma 6.1.3. Simplifying the computation of the spectral radius when $(\\beta_t)$ only depends on a subset of the state variables."
   ]
  },
  {
   "cell_type": "markdown",
   "id": "e54a84ab-098d-41d4-a6d6-73c1e651138d",
   "metadata": {},
   "source": [
    "Let\n",
    "\n",
    "- $X = Y\\times Z$ be the state space\n",
    "- $Q \\in \\mathcal{M}(\\mathbb{R}^Z)$, $R\\in\\mathcal{M}(\\mathbb{R}^Y)$\n",
    "- The discount operator $L$ is\n",
    "\n",
    "$$\n",
    "L(x,x') = b(z,z')Q(z,z')R(y,y'), b:Z\\times Z \\mapsto \\mathbb{R}_+\n",
    "$$\n",
    "\n",
    "- Let $(Z_t), (Y_t)$ be Q-Markov, R-Markov\n",
    "\n",
    "- $P$ is the pointwise product of $Q$ and $R$ and $(X_t) = ((Z_t, Y_t))$ is P-Markov. $Z_t, Y_t$ are independent.\n",
    "\n",
    "- $L_Z(z,z') = b(z,z')Q(z,z')$\n",
    "\n",
    "\n",
    "**Lemma**\n",
    "\n",
    "The operator $L$ and $L_Z$ obey,\n",
    "\n",
    "$$\n",
    "\\rho(L_Z) = \\rho(L)\n",
    "$$\n",
    "\n",
    "where the first spectral radius is taken in $\\mathcal{L}(\\mathbb{R}^X)$ and the second is taken in $\\mathcal{L}(\\mathbb{R}^Z)$."
   ]
  },
  {
   "cell_type": "markdown",
   "id": "f6dab78d-f3f8-40bc-9e70-d538f6e1a7ef",
   "metadata": {},
   "source": [
    "### Lemma 6.1.4. Necessary condition of $\\rho(L)<1$"
   ]
  },
  {
   "cell_type": "markdown",
   "id": "7cb6e277-d194-4168-a30b-f674d4b35b49",
   "metadata": {},
   "source": [
    "If $h\\in V = (0,\\infty)^X$ and $L$ is a positive linear operator, then the next two statements are equivalent:\n",
    "\n",
    "1. $\\rho(L)<1$\n",
    "2. The equation $v = h + Lv$ has a unique solution in $V$\n",
    "\n"
   ]
  },
  {
   "cell_type": "markdown",
   "id": "deb68183-e817-41a8-9659-177749768e09",
   "metadata": {},
   "source": [
    "## Fixed Point Results"
   ]
  },
  {
   "cell_type": "markdown",
   "id": "1d5ad762-33a5-49ae-8e73-bac3dc4003fa",
   "metadata": {},
   "source": [
    "## Theorem 6.1.5. Eventually Contracting implies global stability in Banach space"
   ]
  },
  {
   "cell_type": "markdown",
   "id": "b284f974-5d89-4d44-a091-fe3d4124afa4",
   "metadata": {},
   "source": [
    "**Eventually contracting**\n",
    "\n",
    "Fix $U\\subset\\mathbb{R}^X$. We call a self-map $T$ on $U$ **eventually contracting** if there exists a $k\\in\\mathbb{N}$ and a norm $\\|\\cdot\\|$ on $\\mathbb{R}^X$ such that $T^k$ is a contraction on $U$ under $\\|\\cdot\\|$.\n",
    "\n",
    "**Theorem 6.1.5.**\n",
    "\n",
    "Let $U$ be a closed subset of $\\mathbb{R}^X$ and let $T$ be a self-map on $U$. \n",
    "\n",
    "If $T$ is eventually contracting on $U$, then $T$ is globally stable on $U$."
   ]
  },
  {
   "cell_type": "code",
   "execution_count": null,
   "id": "b6c4412f-e41e-4020-bdde-75818618de16",
   "metadata": {},
   "outputs": [],
   "source": []
  }
 ],
 "metadata": {
  "kernelspec": {
   "display_name": "Python 3 (ipykernel)",
   "language": "python",
   "name": "python3"
  },
  "language_info": {
   "codemirror_mode": {
    "name": "ipython",
    "version": 3
   },
   "file_extension": ".py",
   "mimetype": "text/x-python",
   "name": "python",
   "nbconvert_exporter": "python",
   "pygments_lexer": "ipython3",
   "version": "3.10.12"
  }
 },
 "nbformat": 4,
 "nbformat_minor": 5
}
