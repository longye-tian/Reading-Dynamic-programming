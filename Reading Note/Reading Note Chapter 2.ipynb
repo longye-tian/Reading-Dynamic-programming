{
 "cells": [
  {
   "cell_type": "markdown",
   "id": "c1d7098c-8210-4217-b5db-1d373716fbb3",
   "metadata": {},
   "source": [
    "# Chapter 2 Operators and Fixed Points Reading Note\n",
    "\n",
    "## Three subsections and seven subsubsections\n",
    "\n",
    "### Stability\n",
    "\n",
    "- conjugate maps\n",
    "\n",
    "- convergence rates\n",
    "\n",
    "- Newton's method\n",
    "\n",
    "### Order\n",
    "\n",
    "- Partial orders\n",
    "\n",
    "- Order-preserving maps\n",
    "\n",
    "- Fixed points and order\n",
    "\n",
    "### Matrices and Operators\n",
    "\n",
    "- Linear operators"
   ]
  },
  {
   "cell_type": "markdown",
   "id": "70c3f6e1-4702-485c-90c5-d05f027529a4",
   "metadata": {},
   "source": [
    "## Definition"
   ]
  },
  {
   "cell_type": "markdown",
   "id": "dde8b20a-883e-4190-9526-ee6ab8382c2f",
   "metadata": {},
   "source": [
    "**Definition (Dynamical system)**\n",
    "\n",
    "A **dynamical system** is a pair $(U,T)$ where\n",
    "\n",
    "- $U$: state space is a subset of $\\mathbb{R}^n$\n",
    "\n",
    "- $T$ is a self-map on $U$. "
   ]
  },
  {
   "cell_type": "markdown",
   "id": "29e562c6-8c37-45e6-a3b1-6337486d4274",
   "metadata": {},
   "source": [
    "**Definition (Conjugate)**\n",
    "\n",
    "Dynamical systems $(U,T)$ and $(\\hat U, \\hat T)$ are called conjugated under $\\Phi$ if \n",
    "\n",
    "1. $\\Phi: U\\to\\hat U$ a bijection\n",
    "2. $T = \\Phi^{-1} \\circ \\hat T\\circ \\Phi$ on $U$"
   ]
  },
  {
   "cell_type": "markdown",
   "id": "faf0bec6-a9e1-4b2a-8f53-a2ffddac93e4",
   "metadata": {},
   "source": [
    "**Definition (Homeomorphism)**\n",
    "\n",
    "$\\Phi:U\\mapsto \\hat U$ is called a **homeomorphism** if it is\n",
    "\n",
    "- continuous\n",
    "- bijective\n",
    "- has continuous inverse"
   ]
  },
  {
   "cell_type": "markdown",
   "id": "0302027b-5b85-4de2-8e10-4f0a165ffc85",
   "metadata": {},
   "source": [
    "**Definition (Topologically conjugate)**\n",
    "\n",
    "The dynamical system $(U,T)$ and $(\\hat U,\\hat T)$ are **topologically conjugate** under $\\Phi$ if \n",
    "\n",
    "- $(U,T)$ and $(\\hat U,\\hat T)$ are conjugate under $\\Phi$\n",
    "\n",
    "- $\\Phi$ is a homeomorphism"
   ]
  },
  {
   "cell_type": "markdown",
   "id": "081186e3-3097-4cc9-b121-6687ebe141b2",
   "metadata": {},
   "source": [
    "**Definition (locally stable)**\n",
    "\n",
    "Let $U$ be a subset of $\\mathbb{R}^n$  and let $T$ be a self-map on $U$. \n",
    "\n",
    "A fixed point $u^*$ of $T$ in $U$ is called **locally stable** for the dynamical system $(U,T)$ if there exists an open set $O\\subset U$ such that $u^*\\in O$ and $T^k u\\to u^*$ as $k\\to\\infty$ for every $u\\in O$.\n",
    "\n",
    "In other words, the domain of attraction for $u^*$ contains an open neigborhood of $u^*$."
   ]
  },
  {
   "cell_type": "markdown",
   "id": "cce29c63-2a2b-4740-acb2-0f8269a2eabd",
   "metadata": {},
   "source": [
    "**Definition (at rate at least $q$)**\n",
    "\n",
    "Let $e_k := \\|u_k-u^*\\|$ for all $k\\in\\mathbb{N}$.\n",
    "\n",
    "We say that $(u_k)_{k\\ge 0}$ converges to $u^*$ **at rate at least $q$** if $q\\ge 1$ and for some $\\beta \\in (0,\\infty)$, $N\\in\\mathbb{N}$, we have\n",
    "\n",
    "$$\n",
    "e_{k+1}\\le \\beta e_k^q,\\,\\,\\forall k\\ge N\n",
    "$$"
   ]
  },
  {
   "cell_type": "markdown",
   "id": "ca68de30-8f27-4807-812e-d24de4eefb03",
   "metadata": {},
   "source": [
    "**Definition (at rate $q$)**\n",
    "\n",
    "We say that convergence occurs **at rate $q$** if, in addition, \n",
    "\n",
    "$$\n",
    "\\limsup_{k\\to\\infty} \\frac{e_{k+1}}{e_k^q} = \\beta\n",
    "$$\n",
    "\n",
    "-  If $q=2$, then we say that convergence is (at least) **quadratic**\n",
    "-  If $q=1$ and $\\beta <1$, then we say that convergence is (at least) **linear**"
   ]
  },
  {
   "cell_type": "markdown",
   "id": "2ab65c3c-0cc8-47f6-b7a8-8739cb25d068",
   "metadata": {},
   "source": [
    "**Definition (Worst case complexity)**\n",
    "\n",
    "Measures the number of fundamental operations such as addition and multiplication of floating point numbers."
   ]
  },
  {
   "cell_type": "markdown",
   "id": "3ad5c01a-757a-43b7-99fe-b5c50cfb821a",
   "metadata": {},
   "source": [
    "**Definition (partial order)**\n",
    "\n",
    "A **partial order** on a nonempty set $P$ is a relation $\\precsim$ on $P\\times P$ that, for any $p,q,r,\\in P$ satisfies\n",
    "\n",
    "- Reflexivity: $p\\precsim p$\n",
    "- Anti-symmetry: $p\\precsim q, q\\precsim p \\implies p=q$\n",
    "- Transitivity: $p\\precsim q, q\\precsim r\\implies p\\precsim r$"
   ]
  },
  {
   "cell_type": "markdown",
   "id": "0d724940-ce41-4b81-bb7d-1a80720faf26",
   "metadata": {},
   "source": [
    "**Definition (partially ordered set)**\n",
    "\n",
    "The pair $(P,\\precsim)$ is called a partially ordered set. "
   ]
  },
  {
   "cell_type": "markdown",
   "id": "a79cd4db-228f-4731-aff7-187462e3e8f9",
   "metadata": {},
   "source": [
    "**Definition (pointwise order)**\n",
    "\n",
    "Fix an arbitrary nonemptyset $X$. The **pointwise order** $\\le$ on the set $\\mathbb{R}^X$ of all functions from $X$ to $\\mathbb{R}$ is defined as follows,\n",
    "\n",
    "given $u,v$ in $\\mathbb{R}^X$, set $u\\le v$ if $u(x)\\le v(x)$ for all $x\\in X$.\n"
   ]
  },
  {
   "cell_type": "markdown",
   "id": "fee8879b-1dde-41b9-8f2a-13478704e2da",
   "metadata": {},
   "source": [
    "**Definition (total order)**\n",
    "\n",
    "A partial order $\\precsim$ on $P$ is called **total** if for all $p,q\\in P$, either $p\\precsim q$ or $q\\precsim p$"
   ]
  },
  {
   "cell_type": "markdown",
   "id": "fca14d9c-55cc-43db-97d7-ccba5e4686d1",
   "metadata": {},
   "source": [
    "**Definition (greatest element)**\n",
    "\n",
    "Given a partially ordered set $(P,\\precsim)$ and $A\\subset P$, we say that $g\\in P$ is a **greatest element** of $A$ if $g\\in A$ and\n",
    "\n",
    "$$\n",
    "a\\in A\\implies a\\precsim g\n",
    "$$\n",
    "\n",
    "**Definition (least element)**\n",
    "\n",
    "Given a partially ordered set $(P,\\precsim)$ and $A\\subset P$, we say that $l\\in P$ is a **least element** of $A$ if $l\\in A$ and\n",
    "\n",
    "$$\n",
    "a\\in A\\implies l\\precsim a\n",
    "$$"
   ]
  },
  {
   "cell_type": "markdown",
   "id": "d51c2062-f268-407e-b438-04dba9b1449c",
   "metadata": {},
   "source": [
    "**Definition (maximum)**\n",
    "\n",
    "If $A$ is totally ordered, then a greatest element $g$ of $A$ is called a maximum of $A$.\n",
    "\n",
    "**Definition (minimum)**\n",
    "\n",
    "If $A$ is totally ordered, then a least element $l$ of $A$ is called a minimum of $A$."
   ]
  },
  {
   "cell_type": "markdown",
   "id": "58025ea5-25dc-4f1a-b76d-057bd0c8f352",
   "metadata": {},
   "source": [
    "**Definition (upper bound)**\n",
    "\n",
    "Given a partially ordered set $(P,\\precsim)$ and a nonempty subset $A$ of $P$, we call $u\\in P$ an **upper bound** of $A$ if $a\\precsim u$ for all $a\\in A$."
   ]
  },
  {
   "cell_type": "markdown",
   "id": "a2d0d8bc-3dd9-4048-aee3-79181006853f",
   "metadata": {},
   "source": [
    "**Definition (supremum)**\n",
    "\n",
    "Letting $U_p(A)$ be the set of all upper bounds of $A$ in $P$, we call $\\bar u\\in P$ a **supremum** of $A$ if\n",
    "\n",
    "$$\n",
    "\\bar u \\in U_p(A), \\bar u\\precsim u\\,\\,\\forall u\\in U_p(A)\n",
    "$$\n",
    "\n",
    "Thus, $\\bar u$ is the least element of the set of upper bounds $U_p(A)$, whenever it exists.\n",
    "\n",
    "The supremum of $A$ is typically denoted as $\\bigvee A$."
   ]
  },
  {
   "cell_type": "markdown",
   "id": "9a9d9ca1-1a1d-4ece-91ee-ce9ed5efae35",
   "metadata": {},
   "source": [
    "**Definition (lower bound)**\n",
    "\n",
    "We call $\\ell\\in P$  a **lower bound** of $A$ if $a\\succsim\\ell$ for all $a\\in A$."
   ]
  },
  {
   "cell_type": "markdown",
   "id": "cdba1f78-bcff-4cb2-a8ba-23f727f7f263",
   "metadata": {},
   "source": [
    "**Definition (infimum)**\n",
    "\n",
    "An element $\\bar\\ell \\in P$ is called **infimum** of $A$ if $\\ell$ is a lower bound of $A$ and $\\bar\\ell\\succsim \\ell$ for every lower bound $\\ell$ of $A$.\n",
    "\n",
    "We write $\\bar \\ell = \\bigwedge A$ to denote the infimum."
   ]
  },
  {
   "cell_type": "markdown",
   "id": "ac3912cd-7c4f-402e-8d1f-6b5eba0df27b",
   "metadata": {},
   "source": [
    "**Definition(sublattice)**\n",
    "\n",
    "A subset $V$ of $\\mathbb{R}^X$ is called a **sublattice** of $\\mathbb{R}^X$ if\n",
    "\n",
    "$$\n",
    "u,v\\in V\\implies u\\vee v\\in v, u\\wedge v\\in V\n",
    "$$\n",
    "\n",
    "In other words, $V$ is closed under pairwise supremum and infimum."
   ]
  },
  {
   "cell_type": "markdown",
   "id": "e7266b22-026a-437a-8f47-cbe8c0cbc2db",
   "metadata": {},
   "source": [
    "**Definition (order interval)**\n",
    "\n",
    "Given a partially ordered set $(P,\\precsim)$, and $a,b\\in P$, the **order interval** $[a,b]$ is defined as all $p\\in P$ such that $a\\precsim p\\precsim b$.\n",
    "\n",
    "If $a\\not\\precsim b$, then $[a,b] = \\emptyset$.\n",
    "\n"
   ]
  },
  {
   "cell_type": "markdown",
   "id": "74e4fdf0-63e2-4bbf-bdcc-4937ba0f253c",
   "metadata": {},
   "source": [
    "**Definition (upper envelope)**\n",
    "\n",
    "Take $\\{T_\\sigma\\}:= \\{T_\\sigma\\}_{\\sigma\\in\\Sigma}$ to be a finite family of self-maps on a sublattice $V\\subset \\mathbb{R}^X$. \n",
    "\n",
    "Define, \n",
    "\n",
    "$$\n",
    "Tv = \\bigvee_{\\sigma\\in\\Sigma} T_\\sigma \\,\\,\\,(v\\in V)\n",
    "$$\n",
    "\n",
    "From the sublattice property, $T$ is a self-map on $V$. \n",
    "\n",
    "$T$ is called the **upper envelope** of the functions $\\{T_\\sigma\\}$."
   ]
  },
  {
   "cell_type": "markdown",
   "id": "2d76fe6f-5757-45c6-b5e4-38358ce75c33",
   "metadata": {},
   "source": [
    "**Definition (order-preserving)**\n",
    "\n",
    "Given two partially ordered sets $(P,\\precsim)$ and $(Q, \\trianglelefteq)$, a map $T$ from $P$ to $Q$ is called **order-preserving** if given $p,p'\\in P$, we have,\n",
    "\n",
    "$$\n",
    "p\\precsim p' \\implies Tp\\trianglelefteq Tp'\n",
    "$$\n",
    "\n",
    "**Definition (order-reversing)**\n",
    "\n",
    "$T$ is called **order-reversing** if,\n",
    "\n",
    "$$\n",
    "p\\precsim p' \\implies Tp'\\trianglelefteq Tp\n",
    "$$"
   ]
  },
  {
   "cell_type": "markdown",
   "id": "5a4279fb-cb95-4f66-afe4-85cf0f15d5de",
   "metadata": {},
   "source": [
    "**Definition (increasing)**\n",
    "\n",
    "Given two partially order sets $(P,\\precsim)$, $(\\mathbb{R},\\le)$, we call $h\\in\\mathbb{R}^P$ **increasing** if \n",
    "\n",
    "$$\n",
    "p\\precsim p'\\implies h(p)\\le h(p')\n",
    "$$\n",
    "\n",
    "**We use the symbol $i\\mathbb{R}^P$ for the set of increasing functions in $\\mathbb{R}^P$**.\n",
    "\n",
    "**Definition (decreasing)**\n",
    "\n",
    "Given two partially order sets $(P,\\precsim)$, $(\\mathbb{R},\\le)$, we call $h\\in\\mathbb{R}^P$ **decreasing** if \n",
    "\n",
    "$$\n",
    "p\\precsim p'\\implies h(p)\\ge h(p')\n",
    "$$"
   ]
  },
  {
   "cell_type": "markdown",
   "id": "518802dd-fdb4-4b49-9c3e-bd79f70c3e44",
   "metadata": {},
   "source": [
    "## Theorem and some key takeaway"
   ]
  },
  {
   "cell_type": "markdown",
   "id": "601c8abc-d9ee-4488-964e-d6a0bb66afd7",
   "metadata": {},
   "source": [
    "- Linear transformations are conjugated (diffeomorphic) with their Jordan normal form though their generalized eigenbasis\n",
    "\n",
    "- Conjugation implies fixed point in one system is the fixed point in the other system\n",
    "\n",
    "- $\\Phi: fix(T)\\mapsto fix(\\hat T)$ is a bijection.\n",
    "\n",
    "- Topological conjugacy preserves convergence.\n",
    "\n",
    "- Topological conjugacy is a equivalence relation\n",
    "\n",
    "- Orders of convergence are studied in the neigborhood of zero, implying that higher orders are faster.\n",
    "\n",
    "- Successive approximation typically converge at a **linear rate**.\n",
    "\n",
    "- Successive approximation always converges when global stability holds\n",
    "\n",
    "- Under mild conditions, there exists a neigborhood of the fixed point within which the Newton iterates converge **quadratically**\n",
    "\n",
    "- We can accelerate computation by exploiting the problem's special structure such as differentiability, convexity, monotonicity. But we face a **tradeoff between speed and robustneess**. **More robust methods exploit less structure (less speed)**\n",
    "\n",
    "- Successive approximate can be partially parallelized, but the algorithm is inherently serial\n",
    "\n",
    "- Newton's method is less serial (involving less steps of iteration) but each steps is more expensive (inverting high dimension matrices). Since less serial $\\implies$ more potential for parallelization. \n",
    "\n",
    "- The objective in dynamic programming is to maximize/minimize a lifetime value/cost function. A function over a state space. Thus, the objective takes values in a particular ordered set and we seek greatest/least elements.\n",
    "\n",
    "- If a partially ordered set has a greatest element, it is the supremum of the set, if the supremum is in the set, it is the greatest element.\n",
    "\n",
    "- If $V$ is a sublattice, then the supremum and infimum of any finite subset of $V$ is in $V$.\n",
    "\n",
    "- The $i\\mathbb{R}^P$ is a sublattice."
   ]
  },
  {
   "cell_type": "markdown",
   "id": "8974ab8e-5efd-4281-8667-d6d2b2e3cd35",
   "metadata": {},
   "source": [
    "**Proposition 2.1.1.**\n",
    "\n",
    "If $(U,T)$ and $(\\hat U, \\hat T)$ are conjugated dynamical systems, then\n",
    "\n",
    "- $u \\in fix (T)\\iff \\Phi u \\in fix(\\hat T)$\n",
    "\n",
    "- $\\Phi^{-1} \\hat u \\in fix (T)\\iff \\hat u \\in fix(\\hat T)$\n",
    "\n",
    "- $|fix(T)| = |fix(\\hat T)|$"
   ]
  },
  {
   "cell_type": "markdown",
   "id": "79528645-f8e2-4e49-a1be-ada82711897d",
   "metadata": {},
   "source": [
    "**Proposition 2.1.2.**\n",
    "\n",
    "If $(U,T)$ and $(\\hat U,\\hat T)$ are topologically conjugate, then\n",
    "\n",
    "- $T$ is globally stable on $U$ if and only if $\\hat T$ is globally stable on $\\hat U$\n",
    "\n",
    "- the unique fixed points $u^*\\in U$ and $\\hat u^*\\in\\hat U$ satisfy $\\hat u^* = \\Phi u^*$."
   ]
  },
  {
   "cell_type": "markdown",
   "id": "06949cc3-5500-4fea-b587-e5596b8043f5",
   "metadata": {},
   "source": [
    "**Hartman-Grobman Theorem**\n",
    "\n",
    "If $J_T(u^*)$ is nonsingular and contains no eigenvalues on the unit circle in $\\mathbb{C}$, then there exists an open neigborhood $O$ of $u^*$ such that $(O,T)$ and $(O,\\hat T)$ are topologically conjugate. \n",
    "\n",
    "$\\hat T$ is the linearization of $T$ near $u^*$, i.e.,\n",
    "\n",
    "$$\n",
    "\\hat T u = u^* + J_T(u^*) (u-u^*) + \\mathcal{O}((u-u^*)^2)\n",
    "$$"
   ]
  },
  {
   "cell_type": "markdown",
   "id": "3e53724d-393b-4112-a26b-bb9806a54a26",
   "metadata": {},
   "source": [
    "**Corolloary of Hartman-Grobman Theorem**\n",
    "\n",
    "Under the condition in Hartman-Grobman theorem, the fixed point $u^*$ is locally stable whenever $\\rho(J_T(u^*))<1$. "
   ]
  },
  {
   "cell_type": "markdown",
   "id": "7009930a-d680-446a-ac37-bd8bfdd06222",
   "metadata": {},
   "source": [
    "**Lemma (Inequalities and identities related to pointwise partial order on $\\mathbb{R}^X$, $X$ is finite)**\n",
    "\n",
    "For $f,g,h \\in\\mathbb{R}^X$, we have\n",
    "\n",
    "1. Triangle inequality: $|f+g|\\le |f| + |g|$\n",
    "\n",
    "2. Distribution law with addition: \n",
    "\n",
    "$$\n",
    "(f\\wedge g)+h = (f+h)\\wedge (g+h)\n",
    "$$\n",
    "\n",
    "$$\n",
    "(f\\vee g)+h = (f\\vee h) + (g\\vee h)\n",
    "$$\n",
    "\n",
    "3. Distribution with wedge and vee:\n",
    "\n",
    "$$\n",
    "(f\\vee g)\\wedge h = (f\\wedge h)\\vee(g\\wedge h)\n",
    "$$\n",
    "\n",
    "$$\n",
    "(f\\wedge g)\\vee h = (f\\vee h)\\wedge (g\\vee h)\n",
    "$$\n",
    "\n",
    "4. Difference of minimum is less than the difference\n",
    "\n",
    "$$\n",
    "|f\\wedge h- f\\wedge g| \\le |f-g|\n",
    "$$\n",
    "\n",
    "5. Difference of maximum is less than the difference\n",
    "\n",
    "$$\n",
    "|f\\vee h - g\\vee h| \\le|f-g|\n",
    "$$\n",
    "\n",
    "If $f,g,h\\in\\mathbb{R}^X_+$,  we have **minimum wiht a sum is less than the sum of two minimum**\n",
    "\n",
    "$$\n",
    "(f+g)\\wedge h \\le (f\\wedge h)+(g\\wedge h)\n",
    "$$"
   ]
  },
  {
   "cell_type": "markdown",
   "id": "4c48a3f2-054b-4912-9bf8-06903d6a473d",
   "metadata": {},
   "source": [
    "**Lemma (useful to DP)**\n",
    "\n",
    "Let $D$ be a finite set. If $f$ and $g$ are elements of $\\mathbb{R}^D$, then,\n",
    "\n",
    "$$\n",
    "|\\max_{z\\in D} f(z)- \\max_{z\\in D} g(z)|\\le \\max_{z\\in D}|f(z)-g(z)|\n",
    "$$"
   ]
  },
  {
   "cell_type": "markdown",
   "id": "9c3f5579-34d4-4fee-be22-acb24c214663",
   "metadata": {},
   "source": [
    "**Lemma (useful to DP)**\n",
    "\n",
    "If, for each $\\sigma\\in \\Sigma$, the operator $T_\\sigma$ is a contraction of modulus $\\lambda_\\sigma$ under the supremum norm, then $T = \\bigvee_\\sigma T_\\sigma$ is a contraction of modulus $\\max_\\sigma \\lambda_\\sigma$ under the same norm."
   ]
  },
  {
   "cell_type": "markdown",
   "id": "d6738783-5452-4f83-a175-b2d66f39eebe",
   "metadata": {},
   "source": [
    "### Newton's fixed point method"
   ]
  },
  {
   "cell_type": "markdown",
   "id": "b47afe49-4cc1-46ec-9b81-78e96562696f",
   "metadata": {},
   "source": [
    "Let $T$ be a differntiable self-map on an open set $U\\subset \\mathbb{R}^n$.\n",
    "\n",
    "We want to find a fixed point of $T$ on $U$.\n",
    "\n",
    "1. start from an arbitrary guess $u_0\\in U$. \n",
    "\n",
    "2. Find the fixed point of the linearization of $T$, i.e., $\\hat T$ around the guess and let this fixed point be $x_1$.\n",
    "\n",
    "Since $\\hat T u = Tu_0 + J_T(u_0)(u-u_0)$. Let $u_1$ be the fixed point of this linearization, this implies, \n",
    "\n",
    "$$\n",
    "u_1 = Tu_1 = Tu_0 + J_T(u_0)(u_1-u_0) = Tu_0 + J_T(u_0)u_1-J_T(u_0)u_0\n",
    "$$\n",
    "\n",
    "$$\n",
    "(I-J_T(u_0))u_1 = Tu_0 - J_T(u_0)u_0\n",
    "$$\n",
    "\n",
    "$$\n",
    "u_1 = (I-J_T(u_0))^{-1}(Tu_0 - J_T(u_0)u_0)\n",
    "$$\n",
    "\n",
    "3. Set $u_1$ as the new guess\n",
    "\n",
    "4. Find the fixed point of the linearization of $T$ around $u_1$, and let this be $u_2$\n",
    "\n",
    "5. Iterate the above procedure to lead to the sequence of points\n",
    "\n",
    "$$\n",
    "u_{k+1} = Qu_k\n",
    "$$\n",
    "\n",
    "where\n",
    "\n",
    "$$\n",
    "Qu: = (I-J_T(u))^{-1}(Tu - J_T(u)u)\n",
    "$$\n",
    "\n"
   ]
  },
  {
   "cell_type": "markdown",
   "id": "76acc754-f0ff-42fb-8fb9-799a48f8ace7",
   "metadata": {},
   "source": [
    "### Suprema and Infima under a pointwise order"
   ]
  },
  {
   "cell_type": "markdown",
   "id": "e080c0ac-492e-4712-95c8-fbcfe8da71d1",
   "metadata": {},
   "source": [
    "For a pair of functions $\\{u,v\\}$, the supremum in $(\\mathbb{R}^X,\\le)$ is the pointwise maximum, while the infimum in $(\\mathbb{R}^X, \\le)$ is the pointwise minimum.\n",
    "\n",
    "The same principle holds, for **finite collections of functions**.\n",
    "\n",
    "\n",
    "Thus, if $\\{v_i\\} = \\{v_i\\}_{i\\in I}$ is a finite subset of $\\mathbb{R}^X$, then, for all $x\\in X$, \n",
    "\n",
    "$$\n",
    "\\left(\\bigvee_{i} v_i\\right)(x) := \\max_{i\\in I}v_i{x}\n",
    "$$\n",
    "\n",
    "$$\n",
    "\\left(\\bigwedge_{i} v_i\\right)(x) := \\min_{i\\in I}v_i{x}\n",
    "$$"
   ]
  },
  {
   "cell_type": "code",
   "execution_count": null,
   "id": "cc5058e1-de5b-4c55-b7b1-6d93a2408efd",
   "metadata": {},
   "outputs": [],
   "source": []
  }
 ],
 "metadata": {
  "kernelspec": {
   "display_name": "Python 3 (ipykernel)",
   "language": "python",
   "name": "python3"
  },
  "language_info": {
   "codemirror_mode": {
    "name": "ipython",
    "version": 3
   },
   "file_extension": ".py",
   "mimetype": "text/x-python",
   "name": "python",
   "nbconvert_exporter": "python",
   "pygments_lexer": "ipython3",
   "version": "3.10.12"
  }
 },
 "nbformat": 4,
 "nbformat_minor": 5
}
