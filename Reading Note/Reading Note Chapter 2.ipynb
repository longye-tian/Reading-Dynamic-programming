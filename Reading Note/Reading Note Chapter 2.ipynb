{
 "cells": [
  {
   "cell_type": "markdown",
   "id": "c1d7098c-8210-4217-b5db-1d373716fbb3",
   "metadata": {},
   "source": [
    "# Chapter 2 Operators and Fixed Points Reading Note\n",
    "\n",
    "## Three subsections and seven subsubsections\n",
    "\n",
    "### Stability\n",
    "\n",
    "- conjugate maps\n",
    "\n",
    "- convergence rates\n",
    "\n",
    "- Newton's method\n",
    "\n",
    "### Order\n",
    "\n",
    "- Partial orders\n",
    "\n",
    "- Order-preserving maps\n",
    "\n",
    "- Fixed points and order\n",
    "\n",
    "### Matrices and Operators\n",
    "\n",
    "- Linear operators"
   ]
  },
  {
   "cell_type": "markdown",
   "id": "70c3f6e1-4702-485c-90c5-d05f027529a4",
   "metadata": {},
   "source": [
    "## Definition"
   ]
  },
  {
   "cell_type": "markdown",
   "id": "dde8b20a-883e-4190-9526-ee6ab8382c2f",
   "metadata": {},
   "source": [
    "**Definition (Dynamical system)**\n",
    "\n",
    "A **dynamical system** is a pair $(U,T)$ where\n",
    "\n",
    "- $U$: state space is a subset of $\\mathbb{R}^n$\n",
    "\n",
    "- $T$ is a self-"
   ]
  },
  {
   "cell_type": "markdown",
   "id": "518802dd-fdb4-4b49-9c3e-bd79f70c3e44",
   "metadata": {},
   "source": [
    "## Theorem"
   ]
  },
  {
   "cell_type": "markdown",
   "id": "601c8abc-d9ee-4488-964e-d6a0bb66afd7",
   "metadata": {},
   "source": []
  },
  {
   "cell_type": "markdown",
   "id": "779e561f-1131-4190-97cb-2db02174b483",
   "metadata": {},
   "source": [
    "## Stability - Conjugate Maps"
   ]
  },
  {
   "cell_type": "markdown",
   "id": "f2294795-9e36-4054-a807-f656a12d6224",
   "metadata": {},
   "source": [
    "Main idea: (Locally) Nonlinear system is topologically conjugated with its linearization. This allows us to simplify the problem."
   ]
  },
  {
   "cell_type": "markdown",
   "id": "2a8f06a2-d65e-455f-a0ea-606fb33776b8",
   "metadata": {},
   "source": []
  }
 ],
 "metadata": {
  "kernelspec": {
   "display_name": "Python 3 (ipykernel)",
   "language": "python",
   "name": "python3"
  },
  "language_info": {
   "codemirror_mode": {
    "name": "ipython",
    "version": 3
   },
   "file_extension": ".py",
   "mimetype": "text/x-python",
   "name": "python",
   "nbconvert_exporter": "python",
   "pygments_lexer": "ipython3",
   "version": "3.10.12"
  }
 },
 "nbformat": 4,
 "nbformat_minor": 5
}
