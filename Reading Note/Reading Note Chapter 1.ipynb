{
 "cells": [
  {
   "cell_type": "markdown",
   "id": "68c14285-1b98-4136-a5e3-9f79819fa337",
   "metadata": {},
   "source": [
    "## Definitions"
   ]
  },
  {
   "cell_type": "markdown",
   "id": "a998283b-b2e1-4a86-b42c-5ecad67840bd",
   "metadata": {},
   "source": [
    "**Definition (State)**\n",
    "\n",
    "The state variable $X_t$ is a vector listing current values of variables relevant to choosing the current action.\n",
    "\n",
    "**Definition (Value function)**\n",
    "\n",
    "The value function $v_t(w)$ track the optimal lifetime payoffs from a given state at a given time. It depends only on the parameters (think about the *indirect utility function*). \n",
    "\n",
    "**Definition (Bellman equation)**\n",
    "\n",
    "**Definition (Bellman's Principle of Optimality)**\n",
    "\n",
    "**Definition (Globally Stable)**\n",
    "\n",
    "A self-map $T$ is **globally stable** on $U\\subset \\mathbb{R}^n$ if \n",
    "- $T$ has a unique fixed point $x^*\\in U$\n",
    "- $T^ku\\to u^*$ as $k\\to\\infty$ for all $u\\in U$\n",
    "\n",
    "**Definition (Invariant)**\n",
    "\n",
    "Let $T$ be a self-map on $U\\subset\\mathbb{R}^n$. $C\\subset U$ is **invariant** if \n",
    "\n",
    "$$\\forall u\\in C, Tu\\in C$$\n",
    "\n",
    "($T$ is a self-map on $C$ also.)\n",
    "\n"
   ]
  },
  {
   "cell_type": "markdown",
   "id": "55b627d7-f263-41a9-be18-543f0c9c7640",
   "metadata": {},
   "source": [
    "## Theorem"
   ]
  },
  {
   "cell_type": "markdown",
   "id": "c587c5de-fc23-4ee9-8c0c-54acfc11434c",
   "metadata": {},
   "source": [
    "**Theorem**\n",
    "The value function $v^*$ is the solution of the Bellman equation.\n",
    "\n",
    "**Neumann Series Lemma**\n",
    "Let $\\rho(A)$ be the spetral radius of matrix A. If $\\rho(A)<1$, then\n",
    "\n",
    "- $I-A$ is nonsingular\n",
    "- $\\sum_{k\\ge 0} A^k$ converges to $(I-A)^{-1}$\n",
    "\n",
    "**Lemma**\n",
    "For any square matrix $B$ and any matrix norm $\\|\\cdot\\|$, we have\n",
    "\n",
    "- $\\rho(B)^k \\le \\|B^k\\|$, $\\forall k\\in\\mathbb{N}$\n",
    "\n",
    "- $\\rho(B) = \\lim_{k\\to\\infty} \\|B^k\\|^{1/k}$  (Gelfand's Formula)\n",
    "\n",
    "**Lemma**\n",
    "If $\\exists \\overline u \\in U, m\\in\\mathbb{N}$, s.t. $T^k u =\\overline u$, $\\forall u\\in U$ and $k\\ge m$, then $\\overline u$ is the unique fixed point of $T$ in $U$."
   ]
  },
  {
   "cell_type": "markdown",
   "id": "cc57da38-e889-4fc6-b3de-d8cafe497747",
   "metadata": {},
   "source": [
    "## Structure of a typical dynamic program"
   ]
  },
  {
   "cell_type": "markdown",
   "id": "7472c8bd-82c3-4cad-a150-1bbc2d950a5b",
   "metadata": {},
   "source": [
    "For a time period $t<T$, we (objective is to maximize the expected lifetime rewards **EPV**)\n",
    "\n",
    "- observe the current state $X_t$\n",
    "\n",
    "- choose an action $A_t$\n",
    "\n",
    "- receive a reward $R_t(X_t,A_t)$\n",
    "\n",
    "- update $X_{t+1} = F(X_t, A_t, \\xi_{t+1})$"
   ]
  },
  {
   "cell_type": "markdown",
   "id": "67b86ca2-c968-4f00-b619-17fbbe67af1d",
   "metadata": {},
   "source": [
    "## Finite-Horizon Job Search Problem"
   ]
  },
  {
   "cell_type": "markdown",
   "id": "fb54b7b2-4ae9-4731-8252-6ecb289a2c93",
   "metadata": {},
   "source": [
    "This section use a finite-horizon job search problem to illustrate finite-period DP. In particular\n",
    "\n",
    "- agent begins unemployed at time $t=0$\n",
    "\n",
    "- receive a new job offer paying wage $W_t$ for all $t = 0,1, 2,\\ldots, T$\n",
    "\n",
    "- Two choices and corresponding rewards\n",
    "  - *accept* $\\implies$ work *permanetly* with wage at the time accepting the offer\n",
    "  - *reject* $\\implies$ receive constant unemployment compensation $c$ for the current period\n",
    "  \n",
    "The state variable is wage $W_t\\sim \\varphi\\in \\mathcal{D}(W)\\,\\,iid, W\\subset \\mathbb{R}_{+}$ finite and $\\varphi$ is known. Action is to accept or reject the offer $A_{t}=0$ reject, $A_{t} = 1 $ accept.\n"
   ]
  },
  {
   "cell_type": "markdown",
   "id": "9198c704-275d-4fc8-9d06-74ffbe666736",
   "metadata": {},
   "source": [
    "We can represent this problem using Bellman Equations for each period $t = 0,1,2,\\ldots, T$,i.e.,\n",
    "\n",
    "$$\n",
    "\\begin{align}\n",
    "v_t(w_t) &= \\max\\left\\{\\text{stopping value, continuation value}\\right\\}\\\\\n",
    "&=\\max\\left\\{\\sum_{\\tau = 0}^{T-t} \\beta^\\tau w_t, c + \\beta \\sum_{w'\\in W} v_{t+1}(w')\\varphi(w')\\right\\}\n",
    "\\end{align}\n",
    "$$\n",
    "\n",
    "We can solve for all $v_t$ by backward induction to calculate the reservation wage at each period. This solves the problem of whether to accept or reject the offer."
   ]
  },
  {
   "cell_type": "markdown",
   "id": "99153798-08d1-4684-8080-fea2330b16da",
   "metadata": {},
   "source": [
    "### Code of Finite-Horizon Job Search Problem (T period)\n",
    "\n",
    "First, we start with importing `numpy` for numerical operations and `namedtuple` to store the model parameters."
   ]
  },
  {
   "cell_type": "code",
   "execution_count": 1,
   "id": "4667d245-a66e-4467-a28a-feb34fe46845",
   "metadata": {},
   "outputs": [],
   "source": [
    "import numpy as np\n",
    "from collections import namedtuple"
   ]
  },
  {
   "cell_type": "markdown",
   "id": "474e8bdd-261f-4fb1-8408-27daae1a533e",
   "metadata": {},
   "source": [
    "A `namedtuple` is a convenient way to define a class. This type of data structure allows us to create tuple-like objects that have fields accessible by attribute lookup as well as being indexable and interable. \n",
    "\n",
    "In this model, we want to use the `namedtuple` to store values of the model, hence, we name it as `Model`. It requires the following parameters:\n",
    "\n",
    "- `c`: the unemployment compensation\n",
    "- `w_vals`: $W$, the finite wage space\n",
    "- `n`: the cardinality of the wage space (in the following code, I use the uniform distribution, hence, this simplies the answer by not including extra parameters for the pdf)\n",
    "- `β`: the discount factor"
   ]
  },
  {
   "cell_type": "code",
   "execution_count": 4,
   "id": "1c3a883e-5c3b-4304-93c5-2ae96d6bac01",
   "metadata": {},
   "outputs": [],
   "source": [
    "Model = namedtuple(\"Model\", (\"c\", \"w_vals\", \"n\", \"β\",\"T\"))"
   ]
  },
  {
   "cell_type": "markdown",
   "id": "709ab2f2-1a89-4701-8313-6cc83af4dcc5",
   "metadata": {},
   "source": [
    "Then we use a function to input specific values into the `namedtuple`, i.e.,"
   ]
  },
  {
   "cell_type": "code",
   "execution_count": 35,
   "id": "ffdd34e2-069c-446a-a963-a99d041c1062",
   "metadata": {},
   "outputs": [],
   "source": [
    "def create_job_search_model(\n",
    "    n = 50,          # wage grid size\n",
    "    w_min = 11,      # lowest wage\n",
    "    w_max = 60,      # highest wage\n",
    "    c = 10,          # unemployment compensation\n",
    "    β = 0.96,        # discount factor\n",
    "    T = 10           # number of periods t= 0, 1,...,T\n",
    "):\n",
    "    \"\"\"\n",
    "    This function input the paramters with the above default values, and return a namedtuple\n",
    "    \"\"\"\n",
    "    w_vals = np.linspace(w_min,w_max, n) # create a evenly spaced numbers over the specified intervals, with specified number of sample\n",
    "    \n",
    "    return Model(c = c, w_vals = w_vals, n = n, β = β, T=T) # return the namedtuple with the input parameters"
   ]
  },
  {
   "cell_type": "markdown",
   "id": "f36819bf-993d-4e5a-8437-f69f19d6d883",
   "metadata": {},
   "source": [
    "Now we define a function that iteratively obtain the continuation value, and reservation wages"
   ]
  },
  {
   "cell_type": "code",
   "execution_count": 41,
   "id": "c38a3ce5-9a36-4c3d-8eaa-c00f38c8db82",
   "metadata": {},
   "outputs": [],
   "source": [
    "def reservation_wage(model):\n",
    "    c, w_vals, n, β, T = model.c, model.w_vals, model.n, model.β, model.T  # Input the model parameters\n",
    "    H = np.zeros(T+1)  # Initialize the continuation value sequence\n",
    "    R = np.zeros(T+1)  # Initialize the reservation wage sequence\n",
    "    S = np.zeros((T+1,n))  # Initialize the maximum values at each state at each period\n",
    "    H[T] = c         # Input the last continuation value which is just the unemployment compensation\n",
    "    R[T] = c         # The reservation wage at the last period is just the unemployment compensation\n",
    "    S[T,:] = np.maximum(c, w_vals) # At period T, it is just comparing the unemployment compensation with the wages\n",
    "    for t in range(1, T+1):\n",
    "        H[T-t] = c + β * np.mean(S[T-t+1,:]) # Assuming uniform distribution, we only need to calculate the mean\n",
    "        df = np.geomspace(1, β**t, t+1)   # this generate the sequence for the denominator\n",
    "        dfs = np.sum(df)  # this is the denominator for the reservation wage calculation\n",
    "        R[T-t] = H[T+1-t]/dfs    # This calculate the reservation wage at time T-t\n",
    "        S[T-t,:] = np.maximum(dfs * w_vals, H[T-t])   # This returns the maximum values for each wage state by comparing the continuation value and stopping value\n",
    "    return R\n",
    "    "
   ]
  },
  {
   "cell_type": "markdown",
   "id": "216b1a1f-ed98-473d-8837-e71990d3bc28",
   "metadata": {},
   "source": [
    "This function iteratively generate the reservation wage sequence. We can show the result by create the model and use this function to calculate the reservation wage sequence."
   ]
  },
  {
   "cell_type": "code",
   "execution_count": 42,
   "id": "c7839269-03b2-45e3-b295-61d46b9af3bf",
   "metadata": {},
   "outputs": [
    {
     "data": {
      "text/plain": [
       "array([36.50032766, 35.38365172, 34.07207926, 32.50704612, 30.6067209 ,\n",
       "       28.23780776, 25.19318638, 21.10849802, 15.29705719,  5.10204082,\n",
       "       10.        ])"
      ]
     },
     "execution_count": 42,
     "metadata": {},
     "output_type": "execute_result"
    }
   ],
   "source": [
    "model = create_job_search_model()\n",
    "reservation_wage(model)"
   ]
  },
  {
   "cell_type": "markdown",
   "id": "04e13c47-443d-4d1f-838f-85f3eeb85be9",
   "metadata": {},
   "source": [
    "The key idea is to break down this multi-stage decision problem into a two-stage decision problem. We obtain the value functions by comparing the continuation value and the stopping value. "
   ]
  },
  {
   "cell_type": "markdown",
   "id": "7fca13fb-f5fe-4577-9500-f6319fbcc2e2",
   "metadata": {},
   "source": [
    "## Infinite-Horizon Job Search Problem"
   ]
  },
  {
   "cell_type": "markdown",
   "id": "559e802c-e7ab-43d8-9c4b-56deaeb72d9b",
   "metadata": {},
   "source": [
    "The above example motivates the infinite-horizon job search problem. We let,\n",
    "\n",
    "- $v^*(w)$ denote the maximum lifetime EPV for the wage offer $w$.\n",
    "\n",
    "In the infinite horizon, we have\n",
    "\n",
    "$$\\text{Stopping value} = \\frac{w}{1-\\beta}$$\n",
    "\n",
    "$$\\text{Continuation value: }h^* = c+\\beta\\sum_{w'\\in W}v^*(w')\\varphi(w')$$\\\n",
    "This implies the optimal choice is\n",
    "$$\\mathbb{1}\\{\\text{Stopping value}\\ge \\text{Continuation value}\\} = \\mathbb{1}\\left\\{\\frac{w}{1-\\beta}\\ge h^*\\right\\}$$\n",
    "\n",
    "**Key Idea**\n",
    "Solve the Bellman equation to obtain the value function $v^*$, the corresponding Bellman equation is\n",
    "\n",
    "$$\n",
    "v^*(w) = \\max\\left\\{\\dfrac{w}{1-\\beta}, c+\\beta\\sum_{w'\\in W}v^*(w')\\varphi(w')\\right\\} \\,\\,\\,\\,(w\\in W)\n",
    "$$"
   ]
  },
  {
   "cell_type": "code",
   "execution_count": null,
   "id": "4c486517-075d-4af3-aa53-277b15e15dfe",
   "metadata": {},
   "outputs": [],
   "source": []
  }
 ],
 "metadata": {
  "kernelspec": {
   "display_name": "Python 3 (ipykernel)",
   "language": "python",
   "name": "python3"
  },
  "language_info": {
   "codemirror_mode": {
    "name": "ipython",
    "version": 3
   },
   "file_extension": ".py",
   "mimetype": "text/x-python",
   "name": "python",
   "nbconvert_exporter": "python",
   "pygments_lexer": "ipython3",
   "version": "3.10.12"
  }
 },
 "nbformat": 4,
 "nbformat_minor": 5
}
