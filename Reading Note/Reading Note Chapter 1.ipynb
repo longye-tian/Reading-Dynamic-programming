{
 "cells": [
  {
   "cell_type": "markdown",
   "id": "68c14285-1b98-4136-a5e3-9f79819fa337",
   "metadata": {},
   "source": [
    "## Definitions"
   ]
  },
  {
   "cell_type": "markdown",
   "id": "a998283b-b2e1-4a86-b42c-5ecad67840bd",
   "metadata": {},
   "source": [
    "## 1.1 Bellman Equations\n",
    "\n",
    "**Definition (State)**\n",
    "\n",
    "The state variable $X_t$ is a vector listing current values of variables relevant to choosing the current action.\n",
    "\n",
    "**Definition (Value function)**\n",
    "\n",
    "The value function $v_t(w)$ track the optimal lifetime payoffs from a given state at a given time. It depends only on the parameters (think about the *indirect utility function*). \n",
    "\n",
    "**Definition (Bellman equation)**\n",
    "\n",
    "**Definition (Bellman's Principle of Optimality)**\n",
    "\n",
    "\n",
    "## 1.2 Stability and Contractions\n",
    "\n",
    "****"
   ]
  },
  {
   "cell_type": "markdown",
   "id": "cc57da38-e889-4fc6-b3de-d8cafe497747",
   "metadata": {},
   "source": [
    "## Structure of a typical dynamic program"
   ]
  },
  {
   "cell_type": "markdown",
   "id": "7472c8bd-82c3-4cad-a150-1bbc2d950a5b",
   "metadata": {},
   "source": [
    "For a time period $t<T$, we (objective is to maximize the expected lifetime rewards **EPV**)\n",
    "\n",
    "- observe the current state $X_t$\n",
    "\n",
    "- choose an action $A_t$\n",
    "\n",
    "- receive a reward $R_t(X_t,A_t)$\n",
    "\n",
    "- update $X_{t+1} = F(X_t, A_t, \\xi_{t+1})$"
   ]
  },
  {
   "cell_type": "markdown",
   "id": "67b86ca2-c968-4f00-b619-17fbbe67af1d",
   "metadata": {},
   "source": [
    "## Finite-Horizon Job Search Problem"
   ]
  },
  {
   "cell_type": "markdown",
   "id": "fb54b7b2-4ae9-4731-8252-6ecb289a2c93",
   "metadata": {},
   "source": [
    "This section use a finite-horizon job search problem to illustrate finite-period DP. In particular\n",
    "\n",
    "- agent begins unemployed at time $t=0$\n",
    "\n",
    "- receive a new job offer paying wage $W_t$ for all $t = 0,1, 2,\\ldots, T$\n",
    "\n",
    "- Two choices and corresponding rewards\n",
    "  - *accept* $\\implies$ work *permanetly* with wage at the time accepting the offer\n",
    "  - *reject* $\\implies$ receive constant unemployment compensation $c$ for the current period\n",
    "  \n",
    "The state variable is wage $W_t\\sim \\varphi\\in \\mathcal{D}(W)\\,\\,iid, W\\subset \\mathbb{R}_{+}$ finite. Action is to accept or reject the offer $A_{t}=0$ reject, $A_{t} = 1 $ accept.\n"
   ]
  },
  {
   "cell_type": "markdown",
   "id": "9198c704-275d-4fc8-9d06-74ffbe666736",
   "metadata": {},
   "source": [
    "We can represent this problem using Bellman Equations for each period $t = 0,1,2,\\ldots, T$,i.e.,\n",
    "\n",
    "$$\n",
    "\\begin{align}\n",
    "v_t(w_t) &= \\max\\left\\{\\text{stopping value, continuation value}\\right\\}\\\\\n",
    "&=\\max\\left\\{\\sum_{\\tau = 1}^{T-t} \\beta^\\tau w_t, c + \\beta \\sum_{w'\\in W} v_{t+1}(w')\\varphi(w')\\right\\}\n",
    "\\end{align}\n",
    "$$\n",
    "\n",
    "We can solve for all $v_t$ by backward induction to calculate the reservation wage at each period. This solves the problem of whether to accept or reject the offer."
   ]
  },
  {
   "cell_type": "code",
   "execution_count": null,
   "id": "4667d245-a66e-4467-a28a-feb34fe46845",
   "metadata": {},
   "outputs": [],
   "source": []
  }
 ],
 "metadata": {
  "kernelspec": {
   "display_name": "Python 3 (ipykernel)",
   "language": "python",
   "name": "python3"
  },
  "language_info": {
   "codemirror_mode": {
    "name": "ipython",
    "version": 3
   },
   "file_extension": ".py",
   "mimetype": "text/x-python",
   "name": "python",
   "nbconvert_exporter": "python",
   "pygments_lexer": "ipython3",
   "version": "3.10.12"
  }
 },
 "nbformat": 4,
 "nbformat_minor": 5
}
