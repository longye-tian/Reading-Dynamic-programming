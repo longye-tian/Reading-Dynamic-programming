{
 "cells": [
  {
   "cell_type": "markdown",
   "id": "68c14285-1b98-4136-a5e3-9f79819fa337",
   "metadata": {},
   "source": [
    "## Definitions"
   ]
  },
  {
   "cell_type": "markdown",
   "id": "a998283b-b2e1-4a86-b42c-5ecad67840bd",
   "metadata": {},
   "source": [
    "**Definition (State)**\n",
    "\n",
    "The state variable $X_t$ is a vector listing current values of variables relevant to choosing the current action.\n",
    "\n",
    "**Definition (Value function)**\n"
   ]
  },
  {
   "cell_type": "code",
   "execution_count": null,
   "id": "80b4326a-ffed-42fd-aba3-8e9147d7ced5",
   "metadata": {},
   "outputs": [],
   "source": []
  }
 ],
 "metadata": {
  "kernelspec": {
   "display_name": "Python 3 (ipykernel)",
   "language": "python",
   "name": "python3"
  },
  "language_info": {
   "codemirror_mode": {
    "name": "ipython",
    "version": 3
   },
   "file_extension": ".py",
   "mimetype": "text/x-python",
   "name": "python",
   "nbconvert_exporter": "python",
   "pygments_lexer": "ipython3",
   "version": "3.10.12"
  }
 },
 "nbformat": 4,
 "nbformat_minor": 5
}
