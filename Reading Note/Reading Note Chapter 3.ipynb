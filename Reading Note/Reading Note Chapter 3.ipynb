{
 "cells": [
  {
   "cell_type": "markdown",
   "id": "3d0563a2-9a93-4841-99d7-bb699761d93c",
   "metadata": {},
   "source": [
    "# Chapter 3 Markov Dynamics Reading Note"
   ]
  },
  {
   "cell_type": "markdown",
   "id": "92f1b79e-4e0d-4f8c-9640-6f0d54a0ac50",
   "metadata": {},
   "source": [
    "Three subsections:\n",
    "\n",
    "1. Foundations: Markov chains, stationarity and ergodicity, approximation\n",
    "2. Conditional Expectations: mathematical expectations, geometric sums\n",
    "3. Job search revisited: Job search with Markov state, Job search with separation."
   ]
  },
  {
   "cell_type": "markdown",
   "id": "49c83513-8564-44c2-8ee0-5bcabb8773f7",
   "metadata": {},
   "source": [
    "## Definitions"
   ]
  },
  {
   "cell_type": "markdown",
   "id": "94ed834d-244b-479d-a3d4-4686765a34de",
   "metadata": {},
   "source": [
    "**Definition (Markov chain on State Space X)**\n",
    "\n",
    "Let $(X_t):= (X_t)_{t\\ge 0}$ be a sequence of random variables taking values in $X$ and call $(X_t)$ a **Markov chain on state space $X$** if there exists a $P\\in\\mathscr{M}(\\mathbb{R}^X)$ such that\n",
    "\n",
    "$$\n",
    "\\mathbb{P}\\{X_{t+1} = x'|X_0,X_1,\\cdots,X_t\\}=P(X_t,x') \\,\\,\\,\\forall t\\ge 0, x'\\in X \\tag{P-Markov}\n",
    "$$"
   ]
  },
  {
   "cell_type": "markdown",
   "id": "f3fdad60-9759-4d34-baaa-b4377b44533a",
   "metadata": {},
   "source": [
    "**Definition (P-Markov)**\n",
    "\n",
    "We call $(X_t)$ a $P$-Markov when the above condition holds.\n",
    "\n",
    "\n",
    "**Definition (initial distribution)**\n",
    "\n",
    "We call $X_0$ or its distribution $\\psi_0$ the **initial condition** of $(X_t)$ depending on the context.\n",
    "\n",
    "**Definition (transition matrix)**\n",
    "\n",
    "$P$ is also called the **transition matrix** of the Markov chain.\n",
    "\n",
    "**Definition (k-step transition matrix)**\n",
    "\n",
    "Since $\\mathscr{M}(\\mathbb{R}^X)$ is closed under multiplication, $P^k \\in\\mathscr{M}(\\mathbb{R}^X)$ for all $k\\in\\mathbb{N}$. In this context, $P^k$ is called the $k$-**step transition matrix** correponding to $P$.\n",
    "\n",
    "The $k$-step transition matrix has the following interpretation: \n",
    "\n",
    "If $(X_t)$ is $P$-Markov, then for any $t,k\\in\\mathbb{Z}_+$, and $x,x'\\in X$,\n",
    "\n",
    "$$\n",
    "P^k(x,x') = \\mathbb{P}\\{X_{t+k}=x'|X_t=x\\}\n",
    "$$\n",
    "\n",
    "Thus, $P^k$ provides the $k$-step transition probabilities for the $P$-Markov chain $(X_t)$.\n",
    "\n",
    "$P^k(x,x')$ denotes the $(x,x')$-th element of the matrix representation of $P^k$."
   ]
  },
  {
   "cell_type": "markdown",
   "id": "fd73f8b0-703c-47a7-b218-4dd2e9a3432d",
   "metadata": {},
   "source": [
    "## Theorem"
   ]
  },
  {
   "cell_type": "markdown",
   "id": "ba74cf06-432e-458e-b366-5e8717224549",
   "metadata": {},
   "source": [
    "**Lemma (Irreducibility)**\n",
    "\n",
    "Given $P\\in\\mathscr{M}(\\mathbb{R}^X)$, the following statements are equivalent:\n",
    "\n",
    "1. $P$ is irreducible\n",
    "\n",
    "2. If $(X_t)$ is $P$-Markov and $x,x'\\in X$, then there exists $k\\ge 0$ such that\n",
    "\n",
    "$$\n",
    "\\mathbb{P}\\{X_k=x'|X_0=x\\}>0\n",
    "$$\n",
    "\n",
    "Thus, **irreducibility of P means that the P-Markov chain eventually visits all states from any other states with positive probability**.\n",
    "\n",
    "(See Python Code fold for test of irreducibility using `quantecon` packages)."
   ]
  },
  {
   "cell_type": "markdown",
   "id": "b41911b3-8400-478b-b12e-dab8a78e947e",
   "metadata": {},
   "source": [
    "## Markov Chains"
   ]
  },
  {
   "cell_type": "markdown",
   "id": "e532e2bd-bcb1-4401-bdce-b3dae2c55169",
   "metadata": {},
   "source": [
    "The definition of a Markov chain says two things:\n",
    "\n",
    "1. When updating to $X_{t+1}$ from $X_t$, **earlier states are not required**.\n",
    "\n",
    "2. $P$ **encodes all of the information required to perform the update**, given the current state $X_t$."
   ]
  },
  {
   "cell_type": "markdown",
   "id": "a9ad706d-4a3e-4dc5-926c-2026f66a77d3",
   "metadata": {},
   "source": [
    "### Think about Markov chain in algorithmic way"
   ]
  },
  {
   "cell_type": "markdown",
   "id": "21e15885-7a48-4856-9c98-650c3c53d288",
   "metadata": {},
   "source": [
    "Fix $P\\in\\mathscr{M}(\\mathbb{R}^X)$ and let $\\psi_0$ be an element of $\\mathcal{D}(X)$. \n",
    "\n",
    "Now generate $(X_t)$ using the following algorithm, the resulting sequence is $P$-Markov with inital distribution $\\psi_0$.\n",
    "\n",
    "**Algorithm: Generate of $P$-Markov $(X_t)$ with initial condition $\\psi_0$**\n",
    "\n",
    "$t\\gets 0$\n",
    "\n",
    "$X_t\\gets$ a draw from $\\psi_0$\n",
    "\n",
    "**while** $t<\\infty$ **do**\n",
    "\n",
    "$X_{t+1}\\gets$ a draw from the distribution $P(X_t, \\cdot)$\n",
    "    \n",
    "$t\\gets t+1$\n",
    "\n",
    "**end**\n"
   ]
  },
  {
   "cell_type": "markdown",
   "id": "6a5767e8-6fdb-46c2-892b-0d8d2c95dd15",
   "metadata": {},
   "source": [
    "### Application: S-s dynamics"
   ]
  },
  {
   "cell_type": "markdown",
   "id": "0ebd74bb-2154-4346-9c8f-1ba74633f06c",
   "metadata": {},
   "source": [
    "Consider a firm whose inventory of some products follows a $S-s$ dynamics, meaning that the firm waits until its inventory falls below some level $s>0$ and then immediately replenishes by ordering $S$ units.\n",
    "\n",
    "This pattern of decisions can be rationalized if **ordering requires paying a fixed cost**. The $S-s$ behavior is optimal in **a setting where fixed costs exists and the firm's aim is to maximize its present value**."
   ]
  },
  {
   "cell_type": "markdown",
   "id": "f1fe88f4-0e6b-41b8-844d-2837c083cb31",
   "metadata": {},
   "source": [
    "To represent $S-s$ dynamics, we suppose that a firm's inventory $(X_t)_{t\\ge 0}$ of a given product obeys,\n",
    "\n",
    "$$\n",
    "X_{t+1} = \\max\\{X_t-D_{t+1},0\\} + S\\mathbb{1}\\{X_t\\le s\\}\n",
    "$$\n",
    "\n",
    "where\n",
    "\n",
    "- $(D_t)_{t\\ge 1}$ is an exogenous IID demand process with $D_t=_d\\varphi\\in\\mathcal{D}(\\mathbb{Z}_+)$ for all $t$\n",
    "\n",
    "- $S$ is the quantity ordered when $X_t\\le s$.\n",
    "\n",
    "- The distribution $\\varphi$ of demand, we take geometric distribution, so that \n",
    "\n",
    "$$\n",
    "\\varphi(d) = \\mathbb{P}\\{D_t=d\\} = p(1-p)^d,\\,\\,d\\in\\mathbb{Z}_+\n",
    "$$"
   ]
  },
  {
   "cell_type": "markdown",
   "id": "170b684f-995b-48c4-ab0c-1d54643cadf8",
   "metadata": {},
   "source": [
    "If we define $h(x,d):= \\max\\{x-d,0\\}+S\\mathbb{1}\\{x\\le s\\}$, so that $X_{t+1} = h(X_t,D_{t+1})$ for all $t$, then the transition matrix can be expressed as\n",
    "\n",
    "$$\n",
    "P(x,x') = \\mathbb{P}\\{h(x,D_{t+1})=x'\\} = \\sum_{d\\ge 0}\\mathbb{1}\\{h(x,d)=x'\\}\\varphi(d)\n",
    "$$\n",
    "\n",
    "for all $(x,x')\\in X\\times X$"
   ]
  },
  {
   "cell_type": "markdown",
   "id": "bdc55ce5-85df-44eb-ad1e-7b238deabb0b",
   "metadata": {},
   "source": [
    "(For Python code, see Python code folder)."
   ]
  },
  {
   "cell_type": "code",
   "execution_count": null,
   "id": "ff270500-cf3e-45a0-b85e-a57623c648c3",
   "metadata": {},
   "outputs": [],
   "source": []
  }
 ],
 "metadata": {
  "kernelspec": {
   "display_name": "Python 3 (ipykernel)",
   "language": "python",
   "name": "python3"
  },
  "language_info": {
   "codemirror_mode": {
    "name": "ipython",
    "version": 3
   },
   "file_extension": ".py",
   "mimetype": "text/x-python",
   "name": "python",
   "nbconvert_exporter": "python",
   "pygments_lexer": "ipython3",
   "version": "3.10.12"
  }
 },
 "nbformat": 4,
 "nbformat_minor": 5
}
