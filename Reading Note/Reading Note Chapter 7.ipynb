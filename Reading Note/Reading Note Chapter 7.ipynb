{
 "cells": [
  {
   "cell_type": "markdown",
   "id": "940052ce-74cd-4203-90ac-d4832e8354fb",
   "metadata": {},
   "source": [
    "# Chapter 7 Nonlinear Valuation Reading Note"
   ]
  },
  {
   "cell_type": "markdown",
   "id": "f063f7ba-9ade-4b78-b93f-41eda3611a33",
   "metadata": {},
   "source": [
    "How to combine a sequence of rewards into a corresponding lifetime value?\n",
    "\n",
    "- linear valuation based on summation over expected discounted rewards\n",
    "  - constant discount factor\n",
    "  - stochastic discount factor\n",
    "- compute lifetime value using recursion over the reward sequence instead of discounted sum\n",
    "  - more general specification of lifetime value"
   ]
  },
  {
   "cell_type": "markdown",
   "id": "33600075-4559-4eeb-a1b7-46f4212d5ad4",
   "metadata": {},
   "source": [
    "## Beyond Contraction Mapping"
   ]
  },
  {
   "cell_type": "markdown",
   "id": "9c5dee86-2ba2-4e84-8bad-a92d15b38269",
   "metadata": {},
   "source": [
    "- most natural way to express lifetime value in recursive preference environment is a fixed point of an operator\n",
    "  - some operators are not contraction\n",
    "\n",
    "- consider order-preserving operators as the operator we consider always inherit monotonicity from underlying preferences"
   ]
  },
  {
   "cell_type": "markdown",
   "id": "76098710-4dc6-403f-b3d6-8438e929893c",
   "metadata": {},
   "source": [
    "## Knaster-Tarski for Function Space"
   ]
  },
  {
   "cell_type": "markdown",
   "id": "6e6a1dd2-c891-4819-b96d-a2a4bc867217",
   "metadata": {},
   "source": [
    "Let $X$ be a finite set, and $V=[v_1,v_2]$ where $v_1\\le v_2$ are functions in $\\mathbb{R}^X$."
   ]
  },
  {
   "cell_type": "markdown",
   "id": "70289f38-767f-4024-bdf3-c4dfb709ede8",
   "metadata": {},
   "source": [
    "### KNASTER-TARSKI FIXED POINT THEOREM"
   ]
  },
  {
   "cell_type": "markdown",
   "id": "875163be-8780-480e-9c79-8fdf40dc5d63",
   "metadata": {},
   "source": [
    "If $T$ is an order-preserving self-map on $V$, then the set of fixed points of $T$ is nonempty and contains least and greatest elements $a\\le b$.\n",
    "\n",
    "Moreover, \n",
    "\n",
    "$$\n",
    "T^k v_1\\le a\\le b\\le T^k v_2 \\,\\,\\,\\,\\forall k\\ge 0\n",
    "$$\n",
    "\n",
    "Note: Knaster-Tarski fixed point theorem only gurantee existence but not uniqueness."
   ]
  },
  {
   "cell_type": "markdown",
   "id": "137affa8-5424-426a-bcf6-47cecbbb8b4a",
   "metadata": {},
   "source": [
    "## Concavity, Convexity, and Stability"
   ]
  },
  {
   "cell_type": "markdown",
   "id": "0dcad2b0-189d-4c47-97fe-d04ef691ea46",
   "metadata": {},
   "source": [
    "- sufficient conditions for global stability that replace contractivity with shape properties such as concavity and monotonicity."
   ]
  },
  {
   "cell_type": "markdown",
   "id": "4b104b40-ba0c-41b0-b8aa-4726ff997270",
   "metadata": {},
   "source": [
    "### One-Dimensional Case"
   ]
  },
  {
   "cell_type": "markdown",
   "id": "b6ecc4a8-daef-4dcd-8ede-29b88fe09221",
   "metadata": {},
   "source": [
    "#### Proposition 7.1.2. \n",
    "\n",
    "If $g$ is an increasing concave self-map on $U:=(0,\\infty)$ and, for all $x\\in U$, there exists, $a,b\\in U$ with $a\\le x\\le b$, $a< g(a), g(b)<b$, then $g$ is globally stable on $U$."
   ]
  },
  {
   "cell_type": "markdown",
   "id": "2296efb3-7051-4120-86b8-8615845df7bb",
   "metadata": {},
   "source": [
    "## Multi-dimensional Case"
   ]
  },
  {
   "cell_type": "markdown",
   "id": "14dc5e34-d151-43d5-b14d-f7edf23fa7db",
   "metadata": {},
   "source": [
    "## Du's Theorem\n",
    "\n",
    "If $T$ is order-preserving on $V$, then $T$ is globally stable on $V$ under any one of the following conditions:\n",
    "\n",
    "1. $T$ is concave and $Tv_1\\gg v_1$\n",
    "\n",
    "2. $T$ is concave and there exists $\\delta>0$ such that $Tv_1\\ge v_1+\\delta (v_2-v_1)$\n",
    "\n",
    "3. $T$ is convex and $Tv_2\\ll v_2$\n",
    "\n",
    "4. $T$ is convex and there exists $\\delta>0$ such that $Tv_2\\ll v_2- \\delta(v_2-v_1)$"
   ]
  },
  {
   "cell_type": "markdown",
   "id": "c3abd2d0-dd5f-464b-8235-edcd8c3881c2",
   "metadata": {},
   "source": [
    "# A Power-Transformed Affine Equation"
   ]
  },
  {
   "cell_type": "markdown",
   "id": "971036d7-5f85-42bc-b86b-c05b40485683",
   "metadata": {},
   "source": [
    "Let $X$ be a finite set and consider the equation:\n",
    "\n",
    "$$\n",
    "v = [h+(Av)^{1/\\theta}]^{\\theta}\n",
    "$$\n",
    "\n",
    "with $\\theta\\neq 0$, $A\\in\\mathcal{L}(\\mathbb{R}^X)$ with $A\\ge 0$, $V=(0,\\infty)^X$, $h\\in V$. \n",
    "\n",
    "\n",
    "We introduce the self-map:\n",
    "\n",
    "$$\n",
    "Gv = [h+(Av)^{1/\\theta}]^{\\theta}\n",
    "$$\n",
    "\n",
    "Assuming $h\\gg 0$, and $A$ a positive linear operator. "
   ]
  },
  {
   "cell_type": "markdown",
   "id": "d1a4ddf9-c8a2-4ac0-b1cb-9ab27e38cc6f",
   "metadata": {},
   "source": [
    "## Theorem 7.1.4. \n",
    "\n",
    "If $A$ is irreducible, then the following statement are equivalent:\n",
    "\n",
    "1. $\\rho(A)^{1/\\theta}<1$\n",
    "2. $G$ is globally stable on $V$\n",
    "\n",
    "In the case $\\rho(A)^{1/\\theta}\\ge 1$, the map $G$ has no fixed point in $V$."
   ]
  },
  {
   "cell_type": "code",
   "execution_count": null,
   "id": "6427e058-187b-4a06-9248-132651985d2b",
   "metadata": {},
   "outputs": [],
   "source": []
  }
 ],
 "metadata": {
  "kernelspec": {
   "display_name": "Python 3 (ipykernel)",
   "language": "python",
   "name": "python3"
  },
  "language_info": {
   "codemirror_mode": {
    "name": "ipython",
    "version": 3
   },
   "file_extension": ".py",
   "mimetype": "text/x-python",
   "name": "python",
   "nbconvert_exporter": "python",
   "pygments_lexer": "ipython3",
   "version": "3.10.12"
  }
 },
 "nbformat": 4,
 "nbformat_minor": 5
}
