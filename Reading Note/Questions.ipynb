{
 "cells": [
  {
   "cell_type": "markdown",
   "id": "8fccd54c-a7d9-42cf-9397-1a7db85756d8",
   "metadata": {},
   "source": [
    "## Chapter 3"
   ]
  },
  {
   "cell_type": "markdown",
   "id": "021e8cca-2a1a-456a-a597-8dd9c05a1363",
   "metadata": {},
   "source": [
    "Tauchen code, where is m?\n",
    "\n",
    "How to improve my code?\n",
    "\n"
   ]
  },
  {
   "cell_type": "markdown",
   "id": "2ac53677-a1cd-4744-acea-7c186f542c49",
   "metadata": {},
   "source": [
    "Proof of Lemma 4.1.4.\n",
    "\n"
   ]
  },
  {
   "cell_type": "markdown",
   "id": "c858ba4a-de47-496c-b4d5-157ca5e6b41d",
   "metadata": {},
   "source": [
    "exercise 5.1.2.; 5.1.4."
   ]
  },
  {
   "cell_type": "code",
   "execution_count": null,
   "id": "959357b5-f72a-4311-8d6a-65b467a614a2",
   "metadata": {},
   "outputs": [],
   "source": []
  }
 ],
 "metadata": {
  "kernelspec": {
   "display_name": "Python 3 (ipykernel)",
   "language": "python",
   "name": "python3"
  },
  "language_info": {
   "codemirror_mode": {
    "name": "ipython",
    "version": 3
   },
   "file_extension": ".py",
   "mimetype": "text/x-python",
   "name": "python",
   "nbconvert_exporter": "python",
   "pygments_lexer": "ipython3",
   "version": "3.10.12"
  }
 },
 "nbformat": 4,
 "nbformat_minor": 5
}
