{
 "cells": [
  {
   "cell_type": "markdown",
   "id": "40bff0db-ca70-44d3-8c04-5a05ad174c33",
   "metadata": {},
   "source": [
    "**Quasi-hyperbolic discounting**\n",
    "\n",
    "Quansi-hyperbolic discounting has the following form:\n",
    "\n",
    "$$\n",
    "\\beta_t = \\begin{cases*}\n",
    "                    1 & if  $t=0$  \\\\\n",
    "                    \\alpha \\beta^t & if $t=1,2,3,\\ldots$\n",
    "                 \\end{cases*}\n",
    "$$"
   ]
  },
  {
   "cell_type": "markdown",
   "id": "535c848a-4415-46ec-a717-5f4c3d98cc02",
   "metadata": {},
   "source": [
    "We can transform this into a state-dependent discount factor:\n",
    "\n",
    "$$\n",
    "\\beta_t = b(X_{t-1},X_t) = \\begin{cases*}\n",
    "                    1 & if  $t=0$  \\\\\n",
    "                    \\alpha \\beta^t & if $t=1,2,3,\\ldots$\n",
    "                 \\end{cases*}\n",
    "$$"
   ]
  },
  {
   "cell_type": "markdown",
   "id": "a70260be-7a1d-4858-8c27-929403c5802d",
   "metadata": {},
   "source": [
    "Following Dr.Yang's setting, we have,\n",
    "\n",
    "\\begin{align*}\n",
    "v(x) = \\mathbb{E}\\left[\\beta_0 h(X_0)+\\beta_1 h(X_1) + \\beta_2 h(X_2)+ \\cdots |X_0=x\\right]\n",
    "\\end{align*}"
   ]
  },
  {
   "cell_type": "markdown",
   "id": "362bd388-884f-4fc5-95de-b34d2a0e8ec2",
   "metadata": {},
   "source": [
    "We can take out $h(X_0)$, and since we assume $(X_t)_{t\\ge 0}$ follows a $P$-Markov, we have,\n",
    "\n",
    "$$\n",
    "v(x) = h(x) + \\sum_{x'\\in X} P(x,x') \\mathbb{E}\\left[\\beta_1 h(X_1)+\\beta_2 h(X_2) + \\beta_3 h(X_3) + \\cdots |X_1=x'\\right]\n",
    "$$\n",
    "\n",
    "by the law of total expectation."
   ]
  },
  {
   "cell_type": "markdown",
   "id": "600452d2-77e1-4363-996f-60c255acfb5c",
   "metadata": {},
   "source": [
    "By the linearity of conditional expectation we have,\n",
    "\n",
    "$$\n",
    "v(x) = h(x) + \\sum_{x'\\in X} P(x,x')\\left\\{\\mathbb{E}\\left[\\beta_1 h(X_1)|X_1=x'\\right]+\\mathbb{E}\\left[\\beta_2 h(X_2)|X_1=x'\\right]+\\mathbb{E}\\left[\\beta_3 h(X_3)|X_1=x'\\right]+\\cdots\\right\\}\n",
    "$$"
   ]
  },
  {
   "cell_type": "markdown",
   "id": "647ea9d5-36f6-4893-81c3-ffbc0172520f",
   "metadata": {},
   "source": [
    "Now we change the time index,\n",
    "\n",
    "\\begin{align*}\n",
    "v(x) = h(x) + \\sum_{x'\\in X} P(x,x')\\left\\{\\mathbb{E}\\left[\\beta_0 h(X_0)|X_0=x'\\right]+\\mathbb{E}\\left[\\beta_1 h(X_1)|X_0=x'\\right]+\\mathbb{E}\\left[\\beta_2 h(X_2)|X_0=x'\\right]+\\cdots\\right\\}\\\\\n",
    "= h(x)+\\sum_{x'\\in X} P(x,x') \\mathbb{E}\\left[\\beta_0 h(X_0)+ \\beta_1 h(X_1) + \\beta_2 h(X_2) + \\cdots |X_0=x'\\right]\n",
    "\\end{align*}"
   ]
  },
  {
   "cell_type": "markdown",
   "id": "1e729814-ee49-460e-ba07-6938a558e679",
   "metadata": {},
   "source": [
    "We have,\n",
    "\n",
    "$$\n",
    "v(x) = h(x)+\\sum_{x'\\in X} P(x,x') v(x')\n",
    "$$"
   ]
  },
  {
   "cell_type": "code",
   "execution_count": null,
   "id": "35de029e-e22f-415f-890c-15f8c574f034",
   "metadata": {},
   "outputs": [],
   "source": []
  }
 ],
 "metadata": {
  "kernelspec": {
   "display_name": "Python 3 (ipykernel)",
   "language": "python",
   "name": "python3"
  },
  "language_info": {
   "codemirror_mode": {
    "name": "ipython",
    "version": 3
   },
   "file_extension": ".py",
   "mimetype": "text/x-python",
   "name": "python",
   "nbconvert_exporter": "python",
   "pygments_lexer": "ipython3",
   "version": "3.10.12"
  }
 },
 "nbformat": 4,
 "nbformat_minor": 5
}
