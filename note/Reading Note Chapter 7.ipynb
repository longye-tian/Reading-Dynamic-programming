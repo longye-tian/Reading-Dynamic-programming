{
 "cells": [
  {
   "cell_type": "markdown",
   "id": "940052ce-74cd-4203-90ac-d4832e8354fb",
   "metadata": {},
   "source": [
    "# Chapter 7 Nonlinear Valuation Reading Note"
   ]
  },
  {
   "cell_type": "markdown",
   "id": "f063f7ba-9ade-4b78-b93f-41eda3611a33",
   "metadata": {},
   "source": [
    "How to combine a sequence of rewards into a corresponding lifetime value?\n",
    "\n",
    "- linear valuation based on summation over expected discounted rewards\n",
    "  - constant discount factor\n",
    "  - stochastic discount factor\n",
    "- compute lifetime value using recursion over the reward sequence instead of discounted sum\n",
    "  - more general specification of lifetime value"
   ]
  },
  {
   "cell_type": "markdown",
   "id": "33600075-4559-4eeb-a1b7-46f4212d5ad4",
   "metadata": {},
   "source": [
    "## Beyond Contraction Mapping"
   ]
  },
  {
   "cell_type": "markdown",
   "id": "9c5dee86-2ba2-4e84-8bad-a92d15b38269",
   "metadata": {},
   "source": [
    "- most natural way to express lifetime value in recursive preference environment is a fixed point of an operator\n",
    "  - some operators are not contraction\n",
    "\n",
    "- consider order-preserving operators as the operator we consider always inherit monotonicity from underlying preferences"
   ]
  },
  {
   "cell_type": "markdown",
   "id": "76098710-4dc6-403f-b3d6-8438e929893c",
   "metadata": {},
   "source": [
    "## Knaster-Tarski for Function Space"
   ]
  },
  {
   "cell_type": "markdown",
   "id": "6e6a1dd2-c891-4819-b96d-a2a4bc867217",
   "metadata": {},
   "source": [
    "Let $X$ be a finite set, and $V=[v_1,v_2]$ where $v_1\\le v_2$ are functions in $\\mathbb{R}^X$."
   ]
  },
  {
   "cell_type": "markdown",
   "id": "70289f38-767f-4024-bdf3-c4dfb709ede8",
   "metadata": {},
   "source": [
    "### KNASTER-TARSKI FIXED POINT THEOREM"
   ]
  },
  {
   "cell_type": "markdown",
   "id": "875163be-8780-480e-9c79-8fdf40dc5d63",
   "metadata": {},
   "source": [
    "If $T$ is an order-preserving self-map on $V$, then the set of fixed points of $T$ is nonempty and contains least and greatest elements $a\\le b$.\n",
    "\n",
    "Moreover, \n",
    "\n",
    "$$\n",
    "T^k v_1\\le a\\le b\\le T^k v_2 \\,\\,\\,\\,\\forall k\\ge 0\n",
    "$$\n",
    "\n",
    "Note: Knaster-Tarski fixed point theorem only gurantee existence but not uniqueness."
   ]
  },
  {
   "cell_type": "markdown",
   "id": "137affa8-5424-426a-bcf6-47cecbbb8b4a",
   "metadata": {},
   "source": [
    "## Concavity, Convexity, and Stability"
   ]
  },
  {
   "cell_type": "markdown",
   "id": "0dcad2b0-189d-4c47-97fe-d04ef691ea46",
   "metadata": {},
   "source": [
    "- sufficient conditions for global stability that replace contractivity with shape properties such as concavity and monotonicity."
   ]
  },
  {
   "cell_type": "markdown",
   "id": "4b104b40-ba0c-41b0-b8aa-4726ff997270",
   "metadata": {},
   "source": [
    "### One-Dimensional Case"
   ]
  },
  {
   "cell_type": "markdown",
   "id": "b6ecc4a8-daef-4dcd-8ede-29b88fe09221",
   "metadata": {},
   "source": [
    "#### Proposition 7.1.2. \n",
    "\n",
    "If $g$ is an increasing concave self-map on $U:=(0,\\infty)$ and, for all $x\\in U$, there exists, $a,b\\in U$ with $a\\le x\\le b$, $a< g(a), g(b)<b$, then $g$ is globally stable on $U$."
   ]
  },
  {
   "cell_type": "markdown",
   "id": "2296efb3-7051-4120-86b8-8615845df7bb",
   "metadata": {},
   "source": [
    "## Multi-dimensional Case"
   ]
  },
  {
   "cell_type": "markdown",
   "id": "14dc5e34-d151-43d5-b14d-f7edf23fa7db",
   "metadata": {},
   "source": [
    "## Du's Theorem\n",
    "\n",
    "If $T$ is order-preserving on $V$, then $T$ is globally stable on $V$ under any one of the following conditions:\n",
    "\n",
    "1. $T$ is concave and $Tv_1\\gg v_1$\n",
    "\n",
    "2. $T$ is concave and there exists $\\delta>0$ such that $Tv_1\\ge v_1+\\delta (v_2-v_1)$\n",
    "\n",
    "3. $T$ is convex and $Tv_2\\ll v_2$\n",
    "\n",
    "4. $T$ is convex and there exists $\\delta>0$ such that $Tv_2\\ll v_2- \\delta(v_2-v_1)$"
   ]
  },
  {
   "cell_type": "markdown",
   "id": "c3abd2d0-dd5f-464b-8235-edcd8c3881c2",
   "metadata": {},
   "source": [
    "# A Power-Transformed Affine Equation"
   ]
  },
  {
   "cell_type": "markdown",
   "id": "971036d7-5f85-42bc-b86b-c05b40485683",
   "metadata": {},
   "source": [
    "Let $X$ be a finite set and consider the equation:\n",
    "\n",
    "$$\n",
    "v = [h+(Av)^{1/\\theta}]^{\\theta}\n",
    "$$\n",
    "\n",
    "with $\\theta\\neq 0$, $A\\in\\mathcal{L}(\\mathbb{R}^X)$ with $A\\ge 0$, $V=(0,\\infty)^X$, $h\\in V$. \n",
    "\n",
    "\n",
    "We introduce the self-map:\n",
    "\n",
    "$$\n",
    "Gv = [h+(Av)^{1/\\theta}]^{\\theta}\n",
    "$$\n",
    "\n",
    "Assuming $h\\gg 0$, and $A$ a positive linear operator. "
   ]
  },
  {
   "cell_type": "markdown",
   "id": "d1a4ddf9-c8a2-4ac0-b1cb-9ab27e38cc6f",
   "metadata": {},
   "source": [
    "## Theorem 7.1.4. \n",
    "\n",
    "If $A$ is irreducible, then the following statement are equivalent:\n",
    "\n",
    "1. $\\rho(A)^{1/\\theta}<1$\n",
    "2. $G$ is globally stable on $V$\n",
    "\n",
    "In the case $\\rho(A)^{1/\\theta}\\ge 1$, the map $G$ has no fixed point in $V$."
   ]
  },
  {
   "cell_type": "markdown",
   "id": "4145a9e7-02ea-4668-ac30-2ab9a284a75c",
   "metadata": {},
   "source": [
    "# Recursive Preferences"
   ]
  },
  {
   "cell_type": "markdown",
   "id": "1c634d2e-c2b9-442e-acb5-a065e617ac4c",
   "metadata": {},
   "source": [
    "**Compute lifetime values associated with given reward processes in settings that involve nonlinear recursions**.\n",
    "\n",
    "These nonlinear recursions are called resursive preferences."
   ]
  },
  {
   "cell_type": "markdown",
   "id": "7393590a-4400-4d86-b05d-76adf3db53c4",
   "metadata": {},
   "source": [
    "## Optimal Savings"
   ]
  },
  {
   "cell_type": "markdown",
   "id": "6f511b42-af0b-487e-883b-3d88a7dd7ee8",
   "metadata": {},
   "source": [
    "### A recursive view of a standard model"
   ]
  },
  {
   "cell_type": "markdown",
   "id": "817141f8-66bd-4640-940c-0b52f19c4360",
   "metadata": {},
   "source": [
    "We can state the value $V_t$ of current and future consumption is defined at each point in time $t$ by the recursion:\n",
    "\n",
    "$$\n",
    "V_t = u(C_t) + \\beta \\mathbb{E}_t V_{t+1}\n",
    "$$"
   ]
  },
  {
   "cell_type": "markdown",
   "id": "1130ea8b-5566-4713-bc71-b45ccf9dc99b",
   "metadata": {},
   "source": [
    "Here $V_t, V_{t+1}$ are unknown random variables. \n",
    "\n",
    "The expectation $\\mathbb{E}_t$ conditions on $X_0, X_1, \\cdots, X_t$ and $C_t = c(X_t)$.\n",
    "\n",
    "The process $(X_t)_{t\\ge 0}$ is $P$-Markov."
   ]
  },
  {
   "cell_type": "markdown",
   "id": "618096e1-0f7a-4aca-8263-a8cd6493ba80",
   "metadata": {},
   "source": [
    "**Taking ansatz**\n",
    "\n",
    "Guess $V_t = v(X_t)$. Let $r = u\\circ c$, then we have,\n",
    "\n",
    "$$\n",
    "v(x) = r(x) + \\beta \\mathbb{E}_x v(X_{t+1}) = r(x) + \\beta (Pv)(x)\n",
    "$$\n",
    "\n",
    "In vector form, we have,\n",
    "\n",
    "$$\n",
    "v = r+\\beta Pv\n",
    "$$\n",
    "\n",
    "By Neumann series lemma, we get,\n",
    "\n",
    "$$\n",
    "v = (I-\\beta P)^{-1} r\n",
    "$$\n",
    "\n",
    "is the unique solution."
   ]
  },
  {
   "cell_type": "markdown",
   "id": "49e07919-5181-44ea-bf2a-835336ff52c0",
   "metadata": {},
   "source": [
    "**Importance of recursive formulation**\n",
    "\n",
    "When current value $V_t$ is nonlinear in current rewards and continuation values. The time-additive case is linear specification.\n",
    "\n",
    "Nonlinear specifications are called **recursive preference**."
   ]
  },
  {
   "cell_type": "markdown",
   "id": "300b5eb3-2b46-435f-97ba-af1b4825cc74",
   "metadata": {},
   "source": [
    "### Three limitations of time additive preferences"
   ]
  },
  {
   "cell_type": "markdown",
   "id": "f1de3a53-0597-4e8e-a1f7-10e4e4b44651",
   "metadata": {},
   "source": [
    "1. Constant positive discount rate\n",
    "2. Assume agents are risk-neutral to future utility\n",
    "3. Preferenes are indifferent to any variation in the joint distribution of rewards that leaves marginal distributions unchanged."
   ]
  },
  {
   "cell_type": "markdown",
   "id": "c18b1c70-c9a3-40ef-bf28-1090e2f81c2b",
   "metadata": {},
   "source": [
    "### Risk-sensitive preferences"
   ]
  },
  {
   "cell_type": "markdown",
   "id": "3b20661d-8555-4390-8514-b6849e3e4818",
   "metadata": {},
   "source": [
    "Imposing risk-sensitive preferences means replacing the recursion $v=r+\\beta Pv$ with\n",
    "\n",
    "$$\n",
    "v(x) = r(x) + \\beta \\frac{1}{\\theta} \\ln \\left\\{\\sum_{x'} \\exp(\\theta v(x')) P(x,x')\\right\\}\n",
    "$$"
   ]
  },
  {
   "cell_type": "markdown",
   "id": "bb442052-1114-46e4-b548-d6421122fd3a",
   "metadata": {},
   "source": [
    "### Risk-adjusted expectation"
   ]
  },
  {
   "cell_type": "markdown",
   "id": "0774464f-707e-48d9-a251-afd4e240b4bc",
   "metadata": {},
   "source": [
    "Let $\\xi$ be arbitrary random variable, $\\theta\\in\\mathbb{R}$.\n",
    "\n",
    "We define **entropic risk-adjusted expectation** of $\\xi$ given $\\theta$,\n",
    "\n",
    "$$\n",
    "\\varepsilon_\\theta[\\xi] = \\frac{1}{\\theta}\\ln \\{\\mathbb{E}[\\exp(\\theta \\xi)]\\}\n",
    "$$\n",
    "\n",
    "(Can we generalize the entropic risk-adjusted expectation to accomodate more risk preference, such that kurtosis etc.)"
   ]
  },
  {
   "cell_type": "markdown",
   "id": "f6ca720a-62e6-47f5-8d26-f3aee650e937",
   "metadata": {},
   "source": [
    "### Lemma 7.2.1 \n",
    "\n",
    "For any random variable $\\xi$ taking values in $X$, we have,\n",
    "\n",
    "1. $\\varepsilon_\\theta[\\xi]\\le \\mathbb{E}[\\xi]$ for all $\\theta<0$\n",
    "2. $\\varepsilon_\\theta[\\xi]\\ge \\mathbb{E}[\\xi]$ for all $\\theta>0$\n",
    "\n",
    "Moreover, both of these inequalities are strict if and only if $Var[\\xi]>0$."
   ]
  },
  {
   "cell_type": "markdown",
   "id": "9c04c351-716e-4f0b-aaa5-8a4ac22fcfd9",
   "metadata": {},
   "source": [
    "### Existence and Uniqueness\n",
    "\n",
    "Back to lifetime utility under risk-sensitive preference. We introduce **risk-sensitive Koopmans operator** $K_\\theta$ on $\\mathbb{R}^X$ via\n",
    "\n",
    "$$\n",
    "(K_\\theta v)(x) = r(x) + \\beta \\frac{1}{\\theta} \\ln \\left\\{\\sum_{x'}\\exp(\\theta v(x')) P(x,x') \\right\\}\n",
    "$$"
   ]
  },
  {
   "cell_type": "markdown",
   "id": "90f6e261-e535-4ce7-a0d1-87a7a6215078",
   "metadata": {},
   "source": [
    "For given nonzero $\\theta$, a function $v\\in\\mathbb{R}^X$ solves the risk-sensitive preference lifetime utility specification if and only if $v$ is a fixed point of $K_\\theta$."
   ]
  },
  {
   "cell_type": "markdown",
   "id": "88b7b192-cb53-4d82-858a-9709c8fa357e",
   "metadata": {},
   "source": [
    "## Proposition 7.2.2. Risk-sensitive Koopmans operator is globally stable if $\\beta<1$"
   ]
  },
  {
   "cell_type": "markdown",
   "id": "a3a3cab5-9bce-4961-83e1-b0e022b248df",
   "metadata": {},
   "source": [
    "### 7.2.2.4 The Gaussian Case"
   ]
  },
  {
   "cell_type": "markdown",
   "id": "ef644de5-f0b6-41d9-b035-353889b89508",
   "metadata": {},
   "source": [
    "Suppose $r(x)=x$ and $X_{t+1} = \\rho X_t + \\sigma W_{t+1}$, where $(W_t)_{t\\ge 1}$ is IID and standard normal with $|\\rho|<1$ and $\\sigma\\ge 0$ controls volatility of the state.\n",
    "\n",
    "In this case, the functional equation of the risk-sensitive preference is\n",
    "\n",
    "$$\n",
    "v(x) = x + \\beta \\varepsilon_\\theta[v(\\rho x +\\sigma W)]\n",
    "$$\n",
    "\n",
    "Since $\\rho x+\\sigma W$ is Gaussian, we can conjecture the value function is affine by previous results. We have,\n",
    "\n",
    "$$\n",
    "v(x) = \\frac{1}{1-\\rho\\beta} x + \\theta\\frac{\\beta}{1-\\beta} \\frac{(a\\sigma)^2}{2}\n",
    "$$\n",
    "\n",
    "- $a>0$ in general, this implies $v$ is increasing with $x$\n",
    "- $\\theta$ determines how lifetime utility is impacted by volatility."
   ]
  },
  {
   "cell_type": "markdown",
   "id": "58c808eb-32af-43e3-b817-e13bce09cc9e",
   "metadata": {},
   "source": [
    "# Epstein-Zin Preference"
   ]
  },
  {
   "cell_type": "markdown",
   "id": "0b2874a8-397b-4d5c-94b5-2850b44afd75",
   "metadata": {},
   "source": [
    "With **Epstein-Zin Preference**, we replace the relationship $V_{t+1} = u(C_t) + \\beta\\mathbb{E}_t V_{t+1}$ by\n",
    "\n",
    "$$\n",
    "V_t = \\left\\{(1-\\beta)C_t^\\alpha + \\beta[\\mathbb{E}_t V_{t+1}^\\gamma]^{a/\\gamma}\\right\\}^{1/\\alpha}\n",
    "$$\n",
    "\n",
    "where $\\gamma, \\alpha$ are nonzero parameters, and $\\beta\\in (0,1)$. \n",
    "\n",
    "Similar to risk-sensitive preferences, lack of time additivity implies that there is no neat sequential representation for lifetime value. \n",
    "\n",
    "As a result, we must work directly with the recursive expression."
   ]
  },
  {
   "cell_type": "markdown",
   "id": "2a6c80f6-d1fc-483e-9a69-43d8081b60e6",
   "metadata": {},
   "source": [
    "**Epstein-Zin Koopmans operator**\n",
    "\n",
    "We conjecture a solution of the form $V_t = v(X_t)$ for some $v\\in V=\\mathbb{R}^X_+$.\n",
    "\n",
    "Under this conjecture, we have the **Epstein-Zin Koopmans operator**\n",
    "\n",
    "$$\n",
    "(Kv)(x) = \\left\\{(1-\\beta)c(x)^\\alpha + \\beta \\left[\\sum_{x'}v(x')^{\\gamma}P(x,x')\\right]^{\\alpha/\\gamma}\\right\\}^{1/\\alpha}\n",
    "$$\n",
    "\n",
    "The parameter \n",
    "- $\\gamma$ governs risk aversion with respect to temporal gambles, where outcomes are resolved in the next period\n",
    "- $\\beta$ controls impatience\n",
    "- $\\alpha$ parameterizes the intertemporal elasticity of substitution.\n",
    "\n",
    "**What conditions do we need on primitives such that the Koopmans operator has a unique fixed point?**"
   ]
  },
  {
   "cell_type": "markdown",
   "id": "c95d3dec-5ebb-446f-8691-522ee9d18621",
   "metadata": {},
   "source": [
    "First, we rewrite it into vector form\n",
    "\n",
    "$$\n",
    "Kv = \\left\\{h+ \\beta (Pv^\\gamma)^{\\alpha/\\gamma}\\right\\}^{1/\\alpha}\n",
    "$$\n",
    "\n",
    "where $h = (1-\\beta) c^\\alpha$."
   ]
  },
  {
   "cell_type": "markdown",
   "id": "cd5c9490-5750-4aee-ab88-caa7003e4f3a",
   "metadata": {},
   "source": [
    "## Proposition 7.2.3. $P$ irreducible, $h\\gg 0$ implies $K$ globally stable in the interior of the positive cone."
   ]
  },
  {
   "cell_type": "markdown",
   "id": "3315ba37-3d2b-4935-925a-9e44c26d4607",
   "metadata": {},
   "source": [
    "**Proof**\n",
    "\n",
    "We first define \n",
    "\n",
    "$$\n",
    "\\hat K v= \\left\\{h + \\beta (Pv)^{1/\\theta}\\right\\}^\\theta\n",
    "$$\n",
    "\n",
    "where $\\theta = \\gamma/\\alpha$\n",
    "\n",
    "This operator is easier to work with than $K$ because it unifies $\\alpha, \\gamma$ into a single parameter $\\theta$ and decomposes the Epstein-Zin update rule into the linear map $P$ and the nonlinear component."
   ]
  },
  {
   "cell_type": "markdown",
   "id": "29d1dc27-0247-44e6-9a10-6c568c493151",
   "metadata": {},
   "source": [
    "## Lemma 7.2.4. $(V,K), (V,\\hat K)$ are topologically conjugated under $\\Phi v= v^\\gamma$."
   ]
  },
  {
   "cell_type": "markdown",
   "id": "0de9d572-15ef-429e-9259-c493ffb0893e",
   "metadata": {},
   "source": [
    "# General Representation"
   ]
  },
  {
   "cell_type": "markdown",
   "id": "1be37bf7-596c-447f-9f67-a9d14bde214c",
   "metadata": {},
   "source": [
    "## Koopmans Operators"
   ]
  },
  {
   "cell_type": "markdown",
   "id": "1d2f6630-4328-48af-bb24-2be4f368e21b",
   "metadata": {},
   "source": [
    "- Aggregation function + Certainty Equivalent Operator == Koopmans operator\n",
    "- Lifetime value is identified with the unique fixed point of the Koopmans operator"
   ]
  },
  {
   "cell_type": "markdown",
   "id": "048a5caa-1476-40f1-9021-bfbcdc948216",
   "metadata": {},
   "source": [
    "## Certainty Equivalent Operator"
   ]
  },
  {
   "cell_type": "markdown",
   "id": "464d6641-d78c-4ee3-9478-a6d4328812f4",
   "metadata": {},
   "source": [
    "A generalization of conditional expectation:\n",
    "\n",
    "Given $V\\subset\\mathbb{R}^X$, we define a **certainty equivalent operator** on $V$ to be a self-map $R$ on $V$ such that\n",
    "\n",
    "0. $R$ is a self-map on the interior of the positive cone.\n",
    "1. $R$ is order-preserving on $V$\n",
    "2. all constants are fixed under $R$, i.e., $R(\\lambda\\mathbb{1})=\\lambda\\mathbb{1}$ for all $\\lambda\\in\\mathbb{R}$ with $\\lambda\\mathbb{1}\\in V$.\n",
    "\n",
    "- The only linear certainty equivalent operator are the Markov operators\n",
    "- The set of certainty equivalent operators on $\\mathbb{R}^X$ is invariant under convex combinations."
   ]
  },
  {
   "cell_type": "markdown",
   "id": "d24fbcdc-231a-4711-8f9f-bf343291de62",
   "metadata": {},
   "source": [
    "**Entropic certainty equivalent operator**\n",
    "\n",
    "The entropic certainty equivalent operator is the operator $R_\\theta$ on $V$ defined by\n",
    "\n",
    "$$\n",
    "(R_\\theta v)(x) =\\frac{1}{\\theta}\\ln\\left\\{\\sum_{x'} \\exp(\\theta v(x'))P(x,x')\\right\\}\n",
    "$$"
   ]
  },
  {
   "cell_type": "markdown",
   "id": "287a5001-f16c-488a-851d-0f29162beea0",
   "metadata": {},
   "source": [
    "**Kreps-Porteus Certainty Equivalent Operator**\n",
    "\n",
    "Let $V$ be the interior of the positive cone, and fix $P\\in\\mathcal{M}(\\mathbb{R}^X)$. The operator \n",
    "\n",
    "$$\n",
    "(R_\\gamma v) (x) = \\left\\{\\sum_{x'}v(x')^\\gamma P(x,x')\\right\\}^{1/\\gamma}\n",
    "$$\n",
    "\n",
    "is called the **Kreps-Porteus Certainty Equivalent Operator**"
   ]
  },
  {
   "cell_type": "markdown",
   "id": "a4aae56b-261d-4e5d-9a0d-b9a2023ac0f0",
   "metadata": {},
   "source": [
    "**Quantile certainty equivalent operator**\n",
    "\n",
    "Let $V=\\mathbb{R}^X$ and fix $P\\in\\mathcal{M}(\\mathbb{R}^X)$ and $\\tau\\in[0,1]$. Let $R_\\tau$ be the **quantile certainty equivalent**.\n",
    "\n",
    "That is $(R_\\tau v)(x) = Q_\\tau v(X)$ where $X\\sim P(x,\\cdot)$ and $Q_\\tau$ is the quantile functional.\n",
    "\n",
    "More specifically,\n",
    "\n",
    "$$\n",
    "(R_\\tau v)(x) =\\min\\left\\{y\\in \\mathbb{R}\\bigg| \\sum_{x'} \\mathbb{1}\\{v(x')\\le y\\} P(x,x')\\ge \\tau\\right\\}\n",
    "$$\n",
    "\n",
    "$R_\\tau$ defines a certainty equivalent operator on $V$."
   ]
  },
  {
   "cell_type": "markdown",
   "id": "565c36da-0a42-4aa1-b0d6-1256a1c6380a",
   "metadata": {},
   "source": [
    "**Definitions**\n",
    "\n",
    "A certainty equivalent operator $R$ is called \n",
    "\n",
    "- **Positive homogeneous** on $V$ if $R\\lambda v =\\lambda Rv$ for all $v\\in V$, $\\lambda \\ge 0$, $\\lambda v\\in V$.\n",
    "- **Superadditive** on $V$ if $R(v+w)\\ge Rv+Rw$ for all $v,w\\in V$, $v+w\\in V$\n",
    "- **Subadditive** on $V$ if $R(v+w)\\le Rv+Rw$ for all $v,w\\in V$, $v+w\\in V$\n",
    "- **Constant-subadditive** on $V$ if $R(v+\\lambda \\mathbb{1})\\le Rv+\\lambda\\mathbb{1}$ for all $v\\in V$ and $\\lambda\\ge 0$ with $v+\\lambda\\mathbb{1}\\in V$."
   ]
  },
  {
   "cell_type": "markdown",
   "id": "8bb97615-a53c-4082-a4fc-b56e0bd1a328",
   "metadata": {},
   "source": [
    "**Convexity and Concavity**\n",
    "\n",
    "The entropic certainty equivalent operator $R_\\theta$ is concave on $\\mathbb{R}^X$ whenever $\\theta<0$. We have, \n",
    "\n",
    "$$\n",
    "\\varepsilon_\\theta(\\alpha Z + (1-\\alpha) Z') \\ge \\alpha \\varepsilon_\\theta(Z)+(1-\\alpha) \\varepsilon_\\theta (Z')\n",
    "$$"
   ]
  },
  {
   "cell_type": "markdown",
   "id": "f819d4d6-5423-4fcf-bfe3-56c8db8f0dcd",
   "metadata": {},
   "source": [
    "### Lemma 7.3.1. The Kreps-Porteus certainty equivalent operator $R_\\gamma$ is convex on $V$ when $\\gamma \\ge 1$ and concave on $V$ when $\\gamma\\le 1$."
   ]
  },
  {
   "cell_type": "markdown",
   "id": "0df7f110-c0a9-4e36-b292-c853071f4a29",
   "metadata": {},
   "source": [
    "### Monotonicity"
   ]
  },
  {
   "cell_type": "markdown",
   "id": "4ee0863d-def4-4678-b92e-f9c86bca69be",
   "metadata": {},
   "source": [
    "We call $R$ **monotone increasing** if $R$ is invariant on $i\\mathbb{R}^X\\subset V$.\n",
    "\n",
    "The concept of monotone increasing certainty equivalent operators is connected to outcomes where lifetime preferences are increasing in the state."
   ]
  },
  {
   "cell_type": "markdown",
   "id": "1c1d35c6-a0f2-4d7a-acf0-4f912d0775cc",
   "metadata": {},
   "source": [
    "### Aggregation"
   ]
  },
  {
   "cell_type": "markdown",
   "id": "358275b6-7e05-460c-9e54-cf750b89dc64",
   "metadata": {},
   "source": [
    "Koopmans operators are typically constructed by combining a certainty equivalent operator and an aggregation function.\n",
    "\n",
    "Given $V\\subset\\mathbb{R}^X$,  an **aggregator** $A$ on $V$ is a map $A$ from $X\\times \\mathbb{R}$ to $\\mathbb{R}$ such that\n",
    "\n",
    "1. $w(x) = A(x,v(x))$ is in $V$ whenever $v\\in V$\n",
    "2. $y\\mapsto A(x,y)$ is increasing for all $x\\in X$\n",
    "\n",
    "Intuitively, an aggregator combines current state and continuation values to measure lifetime value."
   ]
  },
  {
   "cell_type": "markdown",
   "id": "486dd5a8-4259-478e-9351-ec0ab9be1fcf",
   "metadata": {},
   "source": [
    "### Common types of aggregators"
   ]
  },
  {
   "cell_type": "markdown",
   "id": "23d7a644-e21f-4cd6-8a35-b828fcd4a50d",
   "metadata": {},
   "source": [
    "- **Leontief aggregator** $A_{MIN}(x,y) = \\min\\{r(x), \\beta y\\}$ with $r\\in \\mathbb{R}^X$, $\\beta \\ge 0$\n",
    "- **Uzawa aggregator** $A_{UZAWA}(x,y)=r(x) + b(x)y$ with $r\\in \\mathbb{R}^X$ and $b\\in\\mathbb{R}_+^X$\n",
    "- **CES aggregator** $A_{CES}(x,y)=\\{r(x)^\\alpha +\\beta y^\\alpha\\}^{1/\\alpha}$ with $r\\in (0,\\infty)^X$, $\\beta\\ge 0$ and $\\alpha \\neq 0$\n",
    "\n",
    "- **Additive aggregator** $A_{ADD}(x,y) = r(x)+\\beta y$ with $r\\in \\mathbb{R}^X$ and $\\beta \\ge 0$."
   ]
  },
  {
   "cell_type": "markdown",
   "id": "4f5644ea-3880-4294-8dc3-65cb7ae07143",
   "metadata": {},
   "source": [
    "## Building Koopmans operators\n",
    "\n",
    "Given $V\\subset\\mathbb{R}^X$, we call a self-map $K$ on $V$ a **Koopmans operator** if\n",
    "\n",
    "$$\n",
    "K = A\\circ R\n",
    "$$\n",
    "\n",
    "for some aggregator $A$ and certainty equivalent operator $R$ on $V$. \n",
    "\n",
    "In other words, we have,\n",
    "\n",
    "$$\n",
    "(Kv)(x) = A(x, (Rv)(x))\n",
    "$$\n",
    "\n",
    "at $v\\in V$ and $x\\in X$."
   ]
  },
  {
   "cell_type": "markdown",
   "id": "85ddfb49-dc5a-4de4-9222-3cc0198a35bd",
   "metadata": {},
   "source": [
    "It is generally appropriate to suppose that a uniform increase in continuation values will increase current value. \n",
    "\n",
    "This property holds for $K$ and $K$ is an order-preserving self-map on $V$."
   ]
  },
  {
   "cell_type": "markdown",
   "id": "4a4b2a06-30cb-4af3-a00c-398fe47a31cb",
   "metadata": {},
   "source": [
    "#### CES aggregation"
   ]
  },
  {
   "cell_type": "markdown",
   "id": "4f3debb3-b89c-4177-a0e9-6272b0851b32",
   "metadata": {},
   "source": [
    "CES aggregator in the present case refers to the constant elasticity of intertempral substitution (EIS).\n",
    "\n",
    "EIS under CES aggregator is significant because the EIS can be measured from data using regression and other techniques."
   ]
  },
  {
   "cell_type": "markdown",
   "id": "b2a28873-d31d-44c8-9147-3799b9773d3c",
   "metadata": {},
   "source": [
    "### Lifetime value"
   ]
  },
  {
   "cell_type": "markdown",
   "id": "29615bae-4cb6-46bb-b63e-47846a961de9",
   "metadata": {},
   "source": [
    "Globally stability of $K$ is equivalent to the statement that a finite-horizon valuation with arbitrary terminal condition converges to the infinite-horizon valuation.\n",
    "\n",
    "### Lemma 7.3.2. \n",
    "\n",
    "If $K$ is globally stable,  then $v^*$ is increasing on $X$ whenever\n",
    "\n",
    "1. $A(x,v)\\le A(x',v)$ for all $v\\in V$, $x\\precsim x'$ and\n",
    "2. $R$ is monotone increasing on $V$."
   ]
  },
  {
   "cell_type": "markdown",
   "id": "819f6dcf-cb05-4f34-bad3-7a9857cc4d1d",
   "metadata": {},
   "source": [
    "## Blackwell Aggregators"
   ]
  },
  {
   "cell_type": "markdown",
   "id": "fb59c7a6-1846-478b-99ba-43a4510a360b",
   "metadata": {},
   "source": [
    "We call an aggregator $A$ on $V$ a **Blackwell aggregator** if there exists $\\beta\\in (0,1)$ such that \n",
    "\n",
    "$$\n",
    "A(x,y+\\lambda) \\le A(x,y) + \\beta \\lambda\n",
    "$$\n",
    "\n",
    "for all $x\\in X, y\\in \\mathbb{R}$ and $\\lambda \\in \\mathbb{R}_+$."
   ]
  },
  {
   "cell_type": "markdown",
   "id": "fadd14ec-a87b-4235-93cd-35d260c70f87",
   "metadata": {},
   "source": [
    "### Proposition 7.3.3. If $A$ is a Blackwell aggregator and $R$ is constant-subadditive, then the Koopmans operator $K= A\\circ R$ is a contraction on $V$ with respect to $\\|\\cdot\\|_\\infty$ "
   ]
  },
  {
   "cell_type": "markdown",
   "id": "1da43397-7dab-48c2-8423-cda4aec91508",
   "metadata": {},
   "source": [
    "## Uzawa Aggregtion"
   ]
  },
  {
   "cell_type": "markdown",
   "id": "29d69c36-8a30-477a-8459-c74fab8e4fb9",
   "metadata": {},
   "source": [
    "Let's consider the Koopmans operator $K = A_{UZAWA} \\circ R$ where $V\\subset \\mathbb{R}^X$ and $R$ is a certainty equivalent operator on $V$. In particular,\n",
    "\n",
    "$$\n",
    "(Kv)(x) = r(x) + b(x)(Rv)(x)\n",
    "$$\n",
    "\n",
    "with $r,b\\in \\mathbb{R}^X$ and $b\\ge 0$.\n",
    "\n",
    "If $b(x)<1$, we can use the previous proposition. But this is rather restrictive.\n",
    "\n",
    "Now we consider:\n",
    "\n",
    "1. $bRv\\le c+Lv$ for some $c\\in\\mathbb{R}^X$ and $L\\in\\mathcal{L}(\\mathbb{R}^X)$ with $\\rho(L)<1$\n",
    "\n",
    "2. $r\\gg 0$ and $R$ is concave on $\\mathbb{R}_+^X$\n",
    "\n",
    "Let $V = [0,\\bar v]$ where $\\bar v = (I-L)^{-1}(r+c)$.\n",
    "\n",
    "\n",
    "**Proposition 7.3.4. If 1-2 holds, then $K$ is globally stable on $V$ by imploring Du's theorem**."
   ]
  },
  {
   "cell_type": "markdown",
   "id": "98875c38-e76a-4a33-80ac-d97246e16c1c",
   "metadata": {},
   "source": [
    "#### Epstein-Zin Preferences with State-Dependent Discounting"
   ]
  },
  {
   "cell_type": "markdown",
   "id": "de445cb5-b367-4b31-ab54-24177d1a493b",
   "metadata": {},
   "source": [
    "Combining\n",
    "\n",
    "- CES-Uzawa aggregator $A(x,y) = \\{r(x)^\\alpha + b(x) y^\\alpha\\}^{1/\\alpha}$\n",
    "- Kreps-Porteus certainty equivalent operator leads to the Koopmans operator\n",
    "\n",
    "$$\n",
    "Kv = \\{h + b[Pv^\\gamma]^{\\alpha/\\gamma}\\}^{1/\\alpha}\n",
    "$$\n",
    "\n",
    "with $h,b\\in\\mathbb{R}_+^X$.\n",
    "\n",
    "A fixed point of $K$ corresponds to lifetime value for an agent with Epstein-Zin preferenes and state-dependent discounting. "
   ]
  },
  {
   "cell_type": "markdown",
   "id": "998cc625-8a38-42ea-a430-0f596e6d5274",
   "metadata": {},
   "source": [
    "**Stability of $K$**\n",
    "\n",
    "To discuss stability of $K$, we introduce the operator $A \\in\\mathcal{L}(\\mathbb{R}^X)$ defined by\n",
    "\n",
    "$$\n",
    "(Av)(x):= b(x)^\\theta\\sum_{x'} v(x') P(x,x')\n",
    "$$\n",
    "\n",
    "where $\\theta = \\frac{\\gamma}{\\alpha}$"
   ]
  },
  {
   "cell_type": "markdown",
   "id": "6e9f34bd-6a1c-4f38-966b-d9980a08ea83",
   "metadata": {},
   "source": [
    "### Proposition 7.3.5.\n",
    "\n",
    "K is globally stable on $V$ if and only if $\\rho(A)^{\\alpha/\\gamma}<1$.\n",
    "\n",
    "(Prove by constructing a globally stable topologically conjugate operator)"
   ]
  },
  {
   "cell_type": "code",
   "execution_count": null,
   "id": "fd87bfe7-7e2c-4e6d-b2de-5a2376ef5835",
   "metadata": {},
   "outputs": [],
   "source": []
  }
 ],
 "metadata": {
  "kernelspec": {
   "display_name": "Python 3 (ipykernel)",
   "language": "python",
   "name": "python3"
  },
  "language_info": {
   "codemirror_mode": {
    "name": "ipython",
    "version": 3
   },
   "file_extension": ".py",
   "mimetype": "text/x-python",
   "name": "python",
   "nbconvert_exporter": "python",
   "pygments_lexer": "ipython3",
   "version": "3.10.12"
  }
 },
 "nbformat": 4,
 "nbformat_minor": 5
}
