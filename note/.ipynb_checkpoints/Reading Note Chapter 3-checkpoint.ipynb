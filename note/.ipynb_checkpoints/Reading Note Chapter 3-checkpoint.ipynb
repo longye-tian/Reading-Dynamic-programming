{
 "cells": [
  {
   "cell_type": "markdown",
   "id": "3d0563a2-9a93-4841-99d7-bb699761d93c",
   "metadata": {},
   "source": [
    "# Chapter 3 Markov Dynamics Reading Note"
   ]
  },
  {
   "cell_type": "markdown",
   "id": "92f1b79e-4e0d-4f8c-9640-6f0d54a0ac50",
   "metadata": {},
   "source": [
    "Three subsections:\n",
    "\n",
    "1. Foundations: Markov chains, stationarity and ergodicity, approximation\n",
    "2. Conditional Expectations: mathematical expectations, geometric sums\n",
    "3. Job search revisited: Job search with Markov state, Job search with separation."
   ]
  },
  {
   "cell_type": "markdown",
   "id": "49c83513-8564-44c2-8ee0-5bcabb8773f7",
   "metadata": {},
   "source": [
    "## Definitions"
   ]
  },
  {
   "cell_type": "markdown",
   "id": "94ed834d-244b-479d-a3d4-4686765a34de",
   "metadata": {},
   "source": [
    "**Definition (Markov chain on State Space X)**\n",
    "\n",
    "Let $(X_t):= (X_t)_{t\\ge 0}$ be a sequence of random variables taking values in $X$ and call $(X_t)$ a **Markov chain on state space $X$** if there exists a $P\\in\\mathscr{M}(\\mathbb{R}^X)$ such that\n",
    "\n",
    "$$\n",
    "\\mathbb{P}\\{X_{t+1} = x'|X_0,X_1,\\cdots,X_t\\}=P(X_t,x') \\,\\,\\,\\forall t\\ge 0, x'\\in X \\tag{P-Markov}\n",
    "$$"
   ]
  },
  {
   "cell_type": "markdown",
   "id": "f3fdad60-9759-4d34-baaa-b4377b44533a",
   "metadata": {},
   "source": [
    "**Definition (P-Markov)**\n",
    "\n",
    "We call $(X_t)$ a $P$-Markov when the above condition holds.\n",
    "\n",
    "\n",
    "**Definition (initial distribution)**\n",
    "\n",
    "We call $X_0$ or its distribution $\\psi_0$ the **initial condition** of $(X_t)$ depending on the context.\n",
    "\n",
    "**Definition (transition matrix)**\n",
    "\n",
    "$P$ is also called the **transition matrix** of the Markov chain."
   ]
  },
  {
   "cell_type": "markdown",
   "id": "b41911b3-8400-478b-b12e-dab8a78e947e",
   "metadata": {},
   "source": [
    "## Markov Chains"
   ]
  },
  {
   "cell_type": "markdown",
   "id": "e532e2bd-bcb1-4401-bdce-b3dae2c55169",
   "metadata": {},
   "source": [
    "The definition of a Markov chain says two things:\n",
    "\n",
    "1. When updating to $X_{t+1}$ from $X_t$, **earlier states are not required**.\n",
    "\n",
    "2. $P$ **encodes all of the information required to perform the update**, given the current state $X_t$."
   ]
  },
  {
   "cell_type": "markdown",
   "id": "a9ad706d-4a3e-4dc5-926c-2026f66a77d3",
   "metadata": {},
   "source": [
    "### Think about Markov chain in algorithmic way"
   ]
  },
  {
   "cell_type": "markdown",
   "id": "21e15885-7a48-4856-9c98-650c3c53d288",
   "metadata": {},
   "source": [
    "Fix $P\\in\\mathscr{M}(\\mathbb{R}^X)$ and let $\\psi_0$ be an element of $\\mathcal{D}(X)$. \n",
    "\n",
    "Now generate $(X_t)$ using the following algorithm, the resulting sequence is $P$-Markov with inital distribution $\\psi_0$.\n",
    "\n",
    "**Algorithm: Generate of $P$-Markov $(X_t)$ with initial condition $\\psi_0$**\n",
    "\n",
    "$t\\gets 0$\n",
    "\n",
    "$X_t\\gets$ a draw from $\\psi_0$\n",
    "\n",
    "**while** $t<\\infty$ **do**\n",
    "\n",
    "$X_{t+1}\\gets$ a draw from the distribution $P(X_t, \\cdot)$\n",
    "    \n",
    "$t\\gets t+1$\n",
    "\n",
    "**end**\n"
   ]
  },
  {
   "cell_type": "markdown",
   "id": "6a5767e8-6fdb-46c2-892b-0d8d2c95dd15",
   "metadata": {},
   "source": [
    "### Application: S-s dynamics"
   ]
  },
  {
   "cell_type": "markdown",
   "id": "0ebd74bb-2154-4346-9c8f-1ba74633f06c",
   "metadata": {},
   "source": [
    "Consider a firm whose inventory of some products follows a $S-s$ dynamics, meaning that the firm waits until its inventory falls below some level $s>0$ and then immediately replenishes by ordering $S$ units.\n",
    "\n",
    "This pattern of decisions can be rationalized if **ordering requires paying a fixed cost**. The $S-s$ behavior is optimal in **a setting where fixed costs exists and the firm's aim is to maximize its present value**."
   ]
  },
  {
   "cell_type": "markdown",
   "id": "f1fe88f4-0e6b-41b8-844d-2837c083cb31",
   "metadata": {},
   "source": [
    "To represent $S-s$ dynamics, we suppose that a firm's inventory $(X_t)_{t\\ge 0}$ of a given product obeys,\n",
    "\n",
    "$$\n",
    "X_{t+1} = \\max\\{X_t-D_{t+1},0\\} + S\\mathbb{1}\\{X_t\\le s\\}\n",
    "$$\n",
    "\n",
    "where\n",
    "\n",
    "- $(D_t)_{t\\ge 1}$ is an exogenous IID demand process with $D_t=_d\\varphi\\in\\mathcal{D}(\\mathbb{Z}_+)$ for all $t$\n",
    "\n",
    "- $S$ is the quantity ordered when $X_t\\le s$.\n",
    "\n",
    "- The distribution $\\varphi$ of demand, we take geometric distribution, so that \n",
    "\n",
    "$$\n",
    "\\varphi(d) = \\mathbb{P}\\{D_t=d\\} = p(1-p)^d,\\,\\,d\\in\\mathbb{Z}_+\n",
    "$$"
   ]
  },
  {
   "cell_type": "markdown",
   "id": "170b684f-995b-48c4-ab0c-1d54643cadf8",
   "metadata": {},
   "source": [
    "If we define $h(x,d):= \\max\\{x-d,0\\}+S\\mathbb{1}\\{x\\le s\\}$, so that $X_{t+1} = h(X_t,D_{t+1})$ for all $t$, then the transition matrix can be expressed as\n",
    "\n",
    "$$\n",
    "P(x,x') = \\mathbb{P}\\{h(x,D_{t+1})=x'\\} = \\sum_{d\\ge 0}\\mathbb{1}\\{h(x,d)=x'\\}\\varphi(d)\n",
    "$$\n",
    "\n",
    "for all $(x,x')\\in X\\times X$"
   ]
  },
  {
   "cell_type": "markdown",
   "id": "dad5ba68-c78d-4cf3-ba1e-9314a4aa2707",
   "metadata": {},
   "source": [
    "Now we create a code to simulate this model.\n",
    "\n",
    "First, let's create a namedtuple to store the model values."
   ]
  },
  {
   "cell_type": "code",
   "execution_count": 15,
   "id": "aa32604f-5984-47c3-b0ba-05521e8eaa05",
   "metadata": {},
   "outputs": [],
   "source": [
    "import numpy as np\n",
    "from collections import namedtuple\n",
    "import quantecon as qe\n",
    "from scipy.stats import geom\n",
    "import matplotlib.pyplot as plt"
   ]
  },
  {
   "cell_type": "code",
   "execution_count": 7,
   "id": "d7acc322-137d-4ef0-94bc-47413a496856",
   "metadata": {},
   "outputs": [],
   "source": [
    "Inventory_model = namedtuple (\"Inventory\",(\"S\",         # Order Size S\n",
    "                                           \"s\",         # Reorder threshold\n",
    "                                           \"p\",         # Geometric distribution parameter\n",
    "                                           \"ts_length\", # Length of simulation\n",
    "                                           \"seed\",      # seed for geometric distribution\n",
    "                                           \"D\"          # Demand sequence\n",
    "                                          ))\n",
    "\n",
    "# Create a model with parameter values\n",
    "\n",
    "def create_inventory_model(S=100, s=10, p=0.4, ts_length=200, seed=1):\n",
    "    D = geom.rvs(p, size=ts_length, random_state=seed)  # Generate random demand process under geometric distribution\n",
    "    return Inventory_model(S=S,s=s,p=p, ts_length=ts_length, seed=seed, D=D)     "
   ]
  },
  {
   "cell_type": "code",
   "execution_count": 53,
   "id": "d3172b5d-1420-4073-b7a7-8826818ed8ab",
   "metadata": {},
   "outputs": [],
   "source": [
    "# Create a function to generate simulated inventory sequence\n",
    "def simulate_inventory(inventory):\n",
    "    S, s, p, ts_length, seed, D = inventory            # Unpack model parameters\n",
    "    X = np.zeros(ts_length)                            # Initialize the Markov chain           \n",
    "    X[1] = S                                           # Set initial conditions\n",
    "    for t in range(1, ts_length-1):                    # Loop over time\n",
    "        if X[t]<s:       \n",
    "            X[t+1] = np.max(X[t]-D[t+1],0) + S         # Order S if below the threshold\n",
    "        else:\n",
    "            X[t+1] = np.max(X[t]-D[t+1])               # No order\n",
    "    return X\n",
    "\n",
    "def plot_inventory(inventory, X): \n",
    "    S, s, p, ts_length, seed, D = inventory            # Unpack model parameters\n",
    "    fig, ax = plt.subplots()                           # inititalize the fig and ax\n",
    "    ax.plot(range(0,ts_length), X)                     # plot the simulated sequence\n",
    "    ax.set_xlabel('time')                              # x-label\n",
    "    ax.set_ylabel('Inventory Stock')                   # y-label\n",
    "    plt.show()                                         # display the plot"
   ]
  },
  {
   "cell_type": "code",
   "execution_count": 56,
   "id": "eb3482fc-ddf1-4f9a-9034-364827e03186",
   "metadata": {},
   "outputs": [
    {
     "data": {
      "image/png": "[encoded data removed]",
      "text/plain": [
       "<Figure size 640x480 with 1 Axes>"
      ]
     },
     "metadata": {},
     "output_type": "display_data"
    }
   ],
   "source": [
    "inventory = create_inventory_model()                   # Initialize the model\n",
    "X = simulate_inventory(inventory)                      # obtain the simulated sequence X\n",
    "plot_inventory(inventory, X)                           # Plot the simulated inventory stock"
   ]
  },
  {
   "cell_type": "code",
   "execution_count": null,
   "id": "98093d96-f7a0-4002-acdd-135fc9705e4a",
   "metadata": {},
   "outputs": [],
   "source": []
  }
 ],
 "metadata": {
  "kernelspec": {
   "display_name": "Python 3 (ipykernel)",
   "language": "python",
   "name": "python3"
  },
  "language_info": {
   "codemirror_mode": {
    "name": "ipython",
    "version": 3
   },
   "file_extension": ".py",
   "mimetype": "text/x-python",
   "name": "python",
   "nbconvert_exporter": "python",
   "pygments_lexer": "ipython3",
   "version": "3.10.12"
  }
 },
 "nbformat": 4,
 "nbformat_minor": 5
}
