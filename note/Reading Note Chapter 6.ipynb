{
 "cells": [
  {
   "cell_type": "markdown",
   "id": "b2ac0e2e-2a24-475f-9d9b-00b26117db04",
   "metadata": {},
   "source": [
    "# Chapter 6 Stochastic discounting reading note"
   ]
  },
  {
   "cell_type": "markdown",
   "id": "231afa57-90cd-4de8-a341-695fcb9bba5a",
   "metadata": {},
   "source": [
    "- Extend MDP model to handle time-varying discount factors\n",
    "- Optimality with State-dependent discounting\n",
    "- Asset pricing application"
   ]
  },
  {
   "cell_type": "markdown",
   "id": "ca28b722-fa1d-44a2-bb1e-a2c6e22d2a0e",
   "metadata": {},
   "source": [
    "# Time-Varying Discount Factor"
   ]
  },
  {
   "cell_type": "markdown",
   "id": "726b5c9c-328b-46c8-b360-d9a765352b95",
   "metadata": {},
   "source": [
    "## Theory"
   ]
  },
  {
   "cell_type": "markdown",
   "id": "d76f57fd-4e2d-42ef-b5a9-5d7bae317ec3",
   "metadata": {},
   "source": [
    "- Let $X$ be finite, $P\\in\\mathcal{M}(\\mathbb{R}^X)$ and $(X_t)_{t\\ge 0}$ be a P-Markov. \n",
    "\n",
    "- Let $h\\in \\mathbb{R}^X$ with $h(X_t)$ as the reward function at time $t$ in state $X_t$\n",
    "\n",
    "- Let $b:X\\times X\\mapsto (0,\\infty)$ and\n",
    "\n",
    "$$\n",
    "\\beta:= b(X_{t-1},X_t)\\,\\,\\,t\\in\\mathbb{N}, \\,\\,\\beta_0=1\n",
    "$$\n",
    "\n",
    "**Discount Factor Process**\n",
    "\n",
    "The sequence $(\\beta_t)_{t\\ge 0}$ is called the **discount factor process** and \n",
    "\n",
    "- $\\prod_{i=0}^t \\beta_i$ is the discount factor for period $t$ payoffs evaluated at time zero.\n",
    "\n",
    "- Expected discounted sums of rewards:\n",
    "\n",
    "$$\n",
    "v(x):=\\mathbb{E}_x \\sum_{t=0}^\\infty \\left[\\prod_{i=0}^t \\beta_i\\right] h(X_t)$$"
   ]
  },
  {
   "cell_type": "markdown",
   "id": "de49bddd-8fb0-43f5-aa2c-199ef7da9b84",
   "metadata": {},
   "source": [
    "## Theorem 6.1.1.\n",
    "\n",
    "Let $L\\in\\mathcal{L}(\\mathbb{R}^X)$ be the discount operator defined by\n",
    "\n",
    "$$\n",
    "L(x,x') = b(x,x')P(x,x')\n",
    "$$\n",
    "\n",
    "for $(x,x')\\in X\\times X$. If $\\rho(L)<1$, then $v$ is finite for all $x\\in X$ and moreover,\n",
    "\n",
    "$$\n",
    "v = (I-L)^{-1} h = \\sum_{t=0}^\\infty L^t h\n",
    "$$"
   ]
  },
  {
   "cell_type": "markdown",
   "id": "c3a0ff71-bc19-44e8-a88c-ac18d1a43b25",
   "metadata": {},
   "source": [
    "## Sufficient and Necessary Condition for $\\rho(L)<1$"
   ]
  },
  {
   "cell_type": "markdown",
   "id": "90c2b797-6ca7-4717-8e7d-cb07035f6019",
   "metadata": {},
   "source": [
    "### Lemma 6.1.2. Alternative representation of spectral radius using expectation"
   ]
  },
  {
   "cell_type": "markdown",
   "id": "6d2103e9-7117-4564-b931-e19a15891f2b",
   "metadata": {},
   "source": [
    "Let $(X_t)$ be P-Markov starting at $X_0 = x$. The spectral radius of $L$ obeys\n",
    "\n",
    "$$\n",
    "\\rho(L) = \\lim_{t\\to\\infty} \\ell_t^{1/t},\\,\\,\\,l_t:= \\max_{x\\in X} \\mathbb{E}_x \\prod_{i=0}^t \\beta_i\n",
    "$$\n",
    "\n",
    "Moreover, \n",
    "\n",
    "$$\n",
    "\\rho(L)<1 \\iff \\exists t\\in\\mathbb{N}, \\ell_t<1\n",
    "$$"
   ]
  },
  {
   "cell_type": "markdown",
   "id": "f3aa5795-416d-4932-aa6c-0e7bb09b8f1d",
   "metadata": {},
   "source": [
    "When $P$ is irreducible, the spectral radius is the long-run geometric average of the discount factor process, i.e.,\n",
    "\n",
    "$$\n",
    "\\rho(L) = \\lim_{t\\to\\infty} \\left(\\mathbb{E}\\prod_{i=0}^t \\beta_i\\right)^{1/t}\n",
    "$$\n",
    "\n",
    "We need this long-run geometric average to be less than unity to give the spectral radius less than 1.\n",
    "\n",
    "**In the AR(1) model**\n",
    "\n",
    "The spectral radius is increasing with the autocorrelation and standard deviation parameters."
   ]
  },
  {
   "cell_type": "markdown",
   "id": "9e361316-5936-4d94-8212-58d4d9cb8fab",
   "metadata": {},
   "source": [
    "### Lemma 6.1.3. Simplifying the computation of the spectral radius when $(\\beta_t)$ only depends on a subset of the state variables."
   ]
  },
  {
   "cell_type": "markdown",
   "id": "e54a84ab-098d-41d4-a6d6-73c1e651138d",
   "metadata": {},
   "source": [
    "Let\n",
    "\n",
    "- $X = Y\\times Z$ be the state space\n",
    "- $Q \\in \\mathcal{M}(\\mathbb{R}^Z)$, $R\\in\\mathcal{M}(\\mathbb{R}^Y)$\n",
    "- The discount operator $L$ is\n",
    "\n",
    "$$\n",
    "L(x,x') = b(z,z')Q(z,z')R(y,y'), b:Z\\times Z \\mapsto \\mathbb{R}_+\n",
    "$$\n",
    "\n",
    "- Let $(Z_t), (Y_t)$ be Q-Markov, R-Markov\n",
    "\n",
    "- $P$ is the pointwise product of $Q$ and $R$ and $(X_t) = ((Z_t, Y_t))$ is P-Markov. $Z_t, Y_t$ are independent.\n",
    "\n",
    "- $L_Z(z,z') = b(z,z')Q(z,z')$\n",
    "\n",
    "\n",
    "**Lemma**\n",
    "\n",
    "The operator $L$ and $L_Z$ obey,\n",
    "\n",
    "$$\n",
    "\\rho(L_Z) = \\rho(L)\n",
    "$$\n",
    "\n",
    "where the first spectral radius is taken in $\\mathcal{L}(\\mathbb{R}^X)$ and the second is taken in $\\mathcal{L}(\\mathbb{R}^Z)$."
   ]
  },
  {
   "cell_type": "markdown",
   "id": "f6dab78d-f3f8-40bc-9e70-d538f6e1a7ef",
   "metadata": {},
   "source": [
    "### Lemma 6.1.4. Necessary condition of $\\rho(L)<1$"
   ]
  },
  {
   "cell_type": "markdown",
   "id": "7cb6e277-d194-4168-a30b-f674d4b35b49",
   "metadata": {},
   "source": [
    "If $h\\in V = (0,\\infty)^X$ and $L$ is a positive linear operator, then the next two statements are equivalent:\n",
    "\n",
    "1. $\\rho(L)<1$\n",
    "2. The equation $v = h + Lv$ has a unique solution in $V$\n",
    "\n"
   ]
  },
  {
   "cell_type": "markdown",
   "id": "deb68183-e817-41a8-9659-177749768e09",
   "metadata": {},
   "source": [
    "## Fixed Point Results"
   ]
  },
  {
   "cell_type": "markdown",
   "id": "1d5ad762-33a5-49ae-8e73-bac3dc4003fa",
   "metadata": {},
   "source": [
    "## Theorem 6.1.5. Eventually Contracting implies global stability"
   ]
  },
  {
   "cell_type": "markdown",
   "id": "b284f974-5d89-4d44-a091-fe3d4124afa4",
   "metadata": {},
   "source": [
    "**Eventually contracting**\n",
    "\n",
    "Fix $U\\subset\\mathbb{R}^X$. We call a self-map $T$ on $U$ **eventually contracting** if there exists a $k\\in\\mathbb{N}$ and a norm $\\|\\cdot\\|$ on $\\mathbb{R}^X$ such that $T^k$ is a contraction on $U$ under $\\|\\cdot\\|$.\n",
    "\n",
    "**Theorem 6.1.5.**\n",
    "\n",
    "Let $U$ be a closed subset of $\\mathbb{R}^X$ and let $T$ be a self-map on $U$. \n",
    "\n",
    "If $T$ is eventually contracting on $U$, then $T$ is globally stable on $U$.\n",
    "\n",
    "\n",
    "**Key point**\n",
    "- If $T$ is a contraction wrt to some norm with modulus $\\lambda$, then $T^k$ is also a contraction under the same norm with modulus $\\lambda^k$ (prove this by induction). \n",
    "\n",
    "- If $T$ is a contraction with respect to some given norm $\\|\\cdot\\|_a$, we **cannot say $T$ is a contraction with respect to other norms** (think about the shrink one by one example, that operator could be a contraction with some norm but not a contraction with sup norm)\n",
    "\n",
    "- But if $T$ is eventually contracting with respect to some given norm $\\|\\cdot\\|_a$, then $T$ is eventually contracting with respect to every norm. (exercise 6.1.5.)\n",
    "\n",
    "**Comparison with Neumann series lemma**\n",
    "\n",
    "- Theorem 6.1.5. is more general as it can be applied to nonlinear settings.\n",
    "- Neumann series lemma provides the inverse and power series representations of the fixed point.\n",
    "\n"
   ]
  },
  {
   "cell_type": "markdown",
   "id": "51757641-1287-48c9-aae5-311eef53142e",
   "metadata": {},
   "source": [
    "### Proposition 6.1.6. Spectral Radius less than 1 is sufficient for Eventually contracting\n",
    "\n",
    "Let $T$ be a self-map on $U\\subset \\mathbb{R}^X$. If there exists a positive linear operator $L$ on $\\mathbb{R}^X$ such that $\\rho(L)<1$ and,\n",
    "\n",
    "$$\n",
    "|Tv-Tw|\\le L|v-w|\n",
    "$$\n",
    "\n",
    "for all $v,w\\in U$, then $T$ is an eventual contraction on $U$. "
   ]
  },
  {
   "cell_type": "markdown",
   "id": "c113991e-a344-49df-bd55-f035d4c01026",
   "metadata": {},
   "source": [
    "## Proposition 6.1.7. (Generalized Blackwell condition) Sufficient condition for order-preserving map to be eventually contracting\n",
    "\n",
    "Let $T$ be an order-preserving self-map on $U$. If there exists a positive linear operator $L$ on $\\mathbb{R}^X$ such that $\\rho(L)<1$ and\n",
    "\n",
    "$$\n",
    "T(v+c)\\le Tv+Lc \\,\\,\\text{for all $c,v\\in\\mathbb{R}^X$, with $c\\ge 0$}\n",
    "$$\n",
    "\n",
    "then $T$ is eventually contracting on $U$."
   ]
  },
  {
   "cell_type": "markdown",
   "id": "99da273a-56de-4492-a7bd-a20562a9d5f3",
   "metadata": {},
   "source": [
    "# Optimality with state-dependent discounting"
   ]
  },
  {
   "cell_type": "markdown",
   "id": "8955358b-e5a7-404f-99a8-038d8217e0e3",
   "metadata": {},
   "source": [
    "**MDP with state-dependent discounting**\n",
    "\n",
    "We begin with a MDP $\\mathscr{M}(\\Gamma, \\beta, r, P)$ where \n",
    "\n",
    "- $\\beta$ is a function. $\\beta: G\\times X \\mapsto \\mathbb{R}_+$ which depends on current state, current action and next state.\n",
    "\n",
    "**Bellman Equation**\n",
    "\n",
    "$$\n",
    "v(x) = \\max_{a\\in\\Gamma(x)} \\left\\{r(x,a)+\\sum_{x'\\in X} v(x') \\beta(x,a,x')P(x,a,x')\\right\\}\n",
    "$$\n",
    "\n",
    "Start from the restriction that $\\beta(x,a,x')\\le b<1$ for all $(x,a,x')\\in G\\times X$, then we relax this restrictions to more general settings.\n",
    "\n",
    "**Policy operators**\n",
    "\n",
    "$$\n",
    "(T_\\sigma v)(x) = r(x,\\sigma(x)) + \\sum_{x'\\in X} v(x') \\beta(x,\\sigma(x),x')P(x,\\sigma(x),x')\n",
    "$$\n",
    "\n",
    "We set\n",
    "\n",
    "- $r_\\sigma(x) = r(x,\\sigma(x))$\n",
    "- $L_\\sigma (x,x') = \\beta(x,\\sigma(x),x')P(x,\\sigma(x),x')\\in \\mathcal{L}(\\mathbb{R}^X)$\n",
    "\n",
    "We have\n",
    "\n",
    "$$\n",
    "T_\\sigma v = r_\\sigma + L_\\sigma v\n",
    "$$\n",
    "\n",
    "If $T_\\sigma$ has a unique fixed point, we denote it as $v_\\sigma$ and intepret it as the lifetime value under $\\sigma$.\n",
    "\n",
    "**Assumption**\n",
    "\n",
    "For all $\\sigma\\in\\Sigma$, we have $\\rho(L_\\sigma)<1$.\n",
    "\n",
    "Under this assumption, we can use the Neumann series lemma to get,\n",
    "\n",
    "$$\n",
    "v_\\sigma = (I-L_\\sigma)^{-1}r_\\sigma\n",
    "$$\n",
    "\n",
    "- When all $L_\\sigma \\le L$, and $\\rho(L)<1$, then the assumption is satisfied,\n",
    "- under the assumption we get $T_\\sigma$ is globally stable with unique fixed point $v_\\sigma$.\n",
    "- And this $v_\\sigma$ is the lifetime present value\n",
    "\n",
    "**Bellman operator**\n",
    "\n",
    "The Bellman operator takes the form\n",
    "\n",
    "$$\n",
    "(Tv)(x) = \\max_{a\\in\\Gamma(x)} \\left\\{r(x,a)+ \\sum_{x'\\in X} v(x')\\beta(x,a,x')P(x,a,x')\\right\\}\n",
    "$$\n",
    "\n",
    "**Algorithm**\n",
    "\n",
    "- VFI, OPI: the same\n",
    "- HPI: the only change is to change $L_\\sigma$ under each iteration"
   ]
  },
  {
   "cell_type": "markdown",
   "id": "69b0e255-7441-44cb-bae0-23bf41bbc5c3",
   "metadata": {},
   "source": [
    "### Exogenous discounting"
   ]
  },
  {
   "cell_type": "markdown",
   "id": "5d1ee316-cc48-4f31-a62a-72bbdf3541f3",
   "metadata": {},
   "source": [
    "- exogenous state component to drive a discount factor process.\n",
    "\n",
    "We have\n",
    "\n",
    "- State space $X_t = (Y_t, Z_t)$, where $(Y_t)_{t\\ge 0}$ is endogenous, $(Z_t)_{t\\ge 0}$ is exogenous.\n",
    "- Nonempty correspondence $\\Gamma: Y\\times Z \\mapsto A$\n",
    "- Discount factor proess: $\\beta: Z \\mapsto \\mathbb{R}_+$\n",
    "- Feasible state-action pair: $G=\\{(y,a)\\in Y\\times A: a\\in \\Gamma(y)\\}$\n",
    "- Reward function: $r:G\\mapsto \\mathbb{R}$\n",
    "- Stochastic Matrix of the exogenous process: $Q$ on $Z$\n",
    "- Stochastic kernel: $R$ from $G$ to $Y$.\n",
    "\n",
    "\n",
    "**Bellman equation**\n",
    "\n",
    "$$\n",
    "v(y,z) = \\max_{a\\in \\Gamma(y)}\\left\\{r(x,a)+\\sum_{y'\\in y}\\sum_{z'\\in Z} v(y',z') \\beta(z,z')Q(z,z') R(y,a,y')\\right\\}\n",
    "$$\n",
    "\n",
    "for all $(y,z)\\in X$.\n",
    "\n",
    "**Greedy policy**\n",
    "\n",
    "$$\n",
    "\\sigma(y,z) = \\arg\\max_{a\\in\\Gamma{y}}\\left\\{r(x,a)+\\sum_{y'\\in y}\\sum_{z'\\in Z} v(y',z') \\beta(z,z')Q(z,z') R(y,a,y')\\right\\}\n",
    "$$\n",
    "\n",
    "**Exogenous discount model is a special case of the general MDP with state-dependent discounting**. The stochastic kernel in MDP becomes\n",
    "\n",
    "$$\n",
    "P((y,z),a,(y',z')) = Q(z,z')R(y,a,y') \n",
    "$$\n",
    "\n",
    "by independence."
   ]
  },
  {
   "cell_type": "markdown",
   "id": "3dd4d411-f17a-4997-9fb9-c6706abd095a",
   "metadata": {},
   "source": [
    "### Proposition 6.2.3. The optimality results holds in the exogenous discounting case.\n",
    "\n",
    "Let $L\\in \\mathcal{L}(\\mathbb{R}^Z)$ defined by $L(z,z') = \\beta(z)Q(z,z')$.\n",
    "\n",
    "If $\\rho(L)<1$, then all of the optimality results in proposition 6.2.2. hold.\n",
    "\n",
    "**The assumption that $\\sup \\beta_t <1$ is too strong, the assumption in this proposition is weaker.**"
   ]
  },
  {
   "cell_type": "markdown",
   "id": "2b832ec3-b8db-408d-87ed-c233d85fd48e",
   "metadata": {},
   "source": [
    "# Asset Pricing Model"
   ]
  },
  {
   "cell_type": "markdown",
   "id": "d6143ef4-7356-4bef-ab5e-2f6840f6c0cf",
   "metadata": {},
   "source": [
    "### Risk-neutral pricing --> Implausible\n",
    "\n",
    "Let $\\Pi_t$ denote the price, $G_{t+1}$ denote the payoff of the asset realizing in the next period. \n",
    "\n",
    "Under **risk-neutral pricing**, we have the price equals to the expected discounted payoff, i.e.,\n",
    "\n",
    "$$\n",
    "\\Pi_t = \\mathbb{E}_t\\beta G_{t+1}\n",
    "$$\n",
    "\n",
    "for some constant discount factor $\\beta\\in(0,1)$.\n",
    "\n",
    "**Assuming risk neutrality for all investors are not realistic as it ignores the spread of asset prices under risks. In reality, we observe that assets with higher volatilities/risks has higher return and prices**."
   ]
  },
  {
   "cell_type": "markdown",
   "id": "371e7bdf-16ba-4d25-bc1c-de2a1b4e19fa",
   "metadata": {},
   "source": [
    "## Stochastic discount factor"
   ]
  },
  {
   "cell_type": "markdown",
   "id": "de0f23e1-a896-44da-b734-c3e92940ee2c",
   "metadata": {},
   "source": [
    "A representative agent takes the price $\\Pi_t$ of a risky asset as given and solves,\n",
    "\n",
    "$$\n",
    "\\max_{0\\le \\alpha \\le 1}\\{u(C_t) +\\beta \\mathbb{E}_t u(C_{t+1})\\}\n",
    "$$\n",
    "\n",
    "subject to\n",
    "\n",
    "$$\n",
    "C_t + \\alpha \\Pi_t = Y_t, C_{t+1} = Y_{t+1} + \\alpha G_{t+1}\n",
    "$$\n",
    "\n",
    "We can use these constraints and transformed the problem into\n",
    "\n",
    "$$\n",
    "\\max_{0\\le \\alpha \\le 1} \\{u(Y_t-\\alpha \\Pi_t)+ \\beta\\mathbb{E}_t u(Y_{t+1}+\\alpha G_{t+1})\\}\n",
    "$$\n",
    "\n",
    "Let $\\mathscr{L}:= u(Y_t-\\alpha \\Pi_t)+ \\beta\\mathbb{E}_t u(Y_{t+1}+\\alpha G_{t+1})$.\n",
    "\n",
    "Taking the first order condition over $\\alpha$, we get\n",
    "\n",
    "$$\n",
    "\\dfrac{\\partial \\mathscr{L}}{\\partial \\alpha} = -u'(Y_t -\\alpha\\Pi_t)\\Pi_t + \\beta\\mathbb{E}_t u'(Y_{t+1}+\\alpha G_{t+1})G_{t+1}=0\n",
    "$$\n",
    "\n",
    "Rearrange, we obtain the Euler equation:\n",
    "\n",
    "$$\n",
    "u'(C_t)\\Pi_t= \\beta \\mathbb{E_t} u'(C_{t+1})G_{t+1}\n",
    "$$\n",
    "\n",
    "This gives the **Lucas stochastic discount factor or pricing kernel** which is a positive random variable rather than a constant, i.e.,\n",
    "\n",
    "$$\n",
    "M_{t+1}=\\dfrac{\\Pi_t}{G_{t+1}} = \\beta \\dfrac{u'(C_{t+1})}{u'(C_t)}\n",
    "$$\n",
    "\n",
    "**Examples**\n",
    "- Linear Utility: No curvature $\\implies$ LSDF is constant\n",
    "- CRRA utility: $M_{t+1} = \\beta \\exp(-\\gamma g_{t+1})$, $g_{t+1} = \\ln(C_{t+1}/C_t)$. This implies higher growth rate has heavier discounting."
   ]
  },
  {
   "cell_type": "markdown",
   "id": "ef23c09c-02d2-4c17-a666-b0f7995aa7bb",
   "metadata": {},
   "source": [
    "## General Specification with Markov Pricing"
   ]
  },
  {
   "cell_type": "markdown",
   "id": "b202d6f2-cf55-4ad7-98b9-6500b067055c",
   "metadata": {},
   "source": [
    "To generalize from Lucas SDF, we just assume there exists a positive random variable $M_{t+1}$ such that the price of an asset with payoff $G_{t+1}$ is\n",
    "\n",
    "$$\n",
    "\\Pi_t = \\mathbb{E}_t M_{t+1} G_{t+1}\n",
    "$$\n",
    "\n",
    "**Markov pricing**\n",
    "\n",
    "A common assumption in quantitative applications is that all underlying randomness is driven by a Markov model. \n",
    "\n",
    "Let $(X_t)$ be a $P$-Markov process, such that\n",
    "\n",
    "- SDF: $M_{t+1} = m(X_t, X_{t+1})$\n",
    "- Payoff: $G_{t+1} = g(X_t, X_{t+1})$\n",
    "- Price: $\\Pi_{t+1} = \\pi(X_{t+1})$\n",
    "\n",
    "for **fixed** function $m,g\\in\\mathbb{R}_+^{X\\times X}$. \n",
    "\n",
    "**Standard asset pricing under Markov pricing**\n",
    "\n",
    "Conditioning on $X_t= x$, the standard asset pricing equation\n",
    "\n",
    "$$\n",
    "\\Pi_t = \\mathbb{E}_t M_{t+1} G_{t+1}\n",
    "$$\n",
    "\n",
    "becomes\n",
    "\n",
    "$$\n",
    "\\pi(x) = \\sum_{x'\\in X} m(x,x') g(x,x') P(x,x')\n",
    "$$\n",
    "\n",
    "**Pricing a ex-dividend contract**\n",
    "\n",
    "Let $(D_t)_{t\\ge 0}$ denote the dividend process, such that $D_t = d(X_t)$.\n",
    "\n",
    "**Ex-dividend contract** means the dividend at the period of selling goes to the seller. \n",
    "\n",
    "Hence, this gives a recursive asset pricing equation:\n",
    "\n",
    "$$\n",
    "\\Pi_t = \\mathbb{E}_t M_{t+1} (\\Pi_{t+1}+D_{t+1}) \n",
    "$$\n",
    "\n",
    "or\n",
    "\n",
    "$$\n",
    "\\pi(x) = \\sum_{x'\\in X} m(x,x')(\\pi(x') + d(x'))P(x,x')\n",
    "$$\n",
    "\n",
    "or\n",
    "\n",
    "$$\n",
    "\\pi = mP\\pi + mPd = A\\pi + Ad,\\,\\,\\,\\,A(x,x') = m(x,x')P(x,x')\n",
    "$$\n",
    "\n",
    "Suppose $\\rho(A)<1$, by the Neumann series lemma, we obtain the **equilibrium price function** \n",
    "\n",
    "$$\n",
    "\\pi^* = (I-A)^{-1}Ad = \\sum_{k=1}^\\infty A^k d\n",
    "$$\n",
    "\n",
    "We call the operator $A$ the **Arrow-Debreu discount operator**. Its powers apply discounting: the valuation of any random payoff $g$ in $k$ periods is $A^k g$."
   ]
  },
  {
   "cell_type": "markdown",
   "id": "642521d2-c738-4b7d-b910-360190bc6e9d",
   "metadata": {},
   "source": []
  }
 ],
 "metadata": {
  "kernelspec": {
   "display_name": "Python 3 (ipykernel)",
   "language": "python",
   "name": "python3"
  },
  "language_info": {
   "codemirror_mode": {
    "name": "ipython",
    "version": 3
   },
   "file_extension": ".py",
   "mimetype": "text/x-python",
   "name": "python",
   "nbconvert_exporter": "python",
   "pygments_lexer": "ipython3",
   "version": "3.10.12"
  }
 },
 "nbformat": 4,
 "nbformat_minor": 5
}
