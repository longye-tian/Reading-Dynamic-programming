{
 "cells": [
  {
   "cell_type": "markdown",
   "id": "c1d7098c-8210-4217-b5db-1d373716fbb3",
   "metadata": {},
   "source": [
    "# Chapter 2 Operators and Fixed Points Reading Note\n",
    "\n",
    "## Three subsections and seven subsubsections\n",
    "\n",
    "### Stability\n",
    "\n",
    "- conjugate maps\n",
    "\n",
    "- convergence rates\n",
    "\n",
    "- Newton's method\n",
    "\n",
    "### Order\n",
    "\n",
    "- Partial orders\n",
    "\n",
    "- Order-preserving maps\n",
    "\n",
    "- Fixed points and order\n",
    "\n",
    "### Matrices and Operators\n",
    "\n",
    "- Linear operators"
   ]
  },
  {
   "cell_type": "markdown",
   "id": "70c3f6e1-4702-485c-90c5-d05f027529a4",
   "metadata": {},
   "source": [
    "## Definition"
   ]
  },
  {
   "cell_type": "markdown",
   "id": "dde8b20a-883e-4190-9526-ee6ab8382c2f",
   "metadata": {},
   "source": [
    "**Definition (Dynamical system)**\n",
    "\n",
    "A **dynamical system** is a pair $(U,T)$ where\n",
    "\n",
    "- $U$: state space is a subset of $\\mathbb{R}^n$\n",
    "\n",
    "- $T$ is a self-map on $U$. "
   ]
  },
  {
   "cell_type": "markdown",
   "id": "29e562c6-8c37-45e6-a3b1-6337486d4274",
   "metadata": {},
   "source": [
    "**Definition (Conjugate)**\n",
    "\n",
    "Dynamical systems $(U,T)$ and $(\\hat U, \\hat T)$ are called conjugated under $\\Phi$ if \n",
    "\n",
    "1. $\\Phi: U\\to\\hat U$ a bijection\n",
    "2. $T = \\Phi^{-1} \\circ \\hat T\\circ \\Phi$ on $U$"
   ]
  },
  {
   "cell_type": "markdown",
   "id": "faf0bec6-a9e1-4b2a-8f53-a2ffddac93e4",
   "metadata": {},
   "source": [
    "**Definition (Homeomorphism)**\n",
    "\n",
    "$\\Phi:U\\mapsto \\hat U$ is called a **homeomorphism** if it is\n",
    "\n",
    "- continuous\n",
    "- bijective\n",
    "- has continuous inverse"
   ]
  },
  {
   "cell_type": "markdown",
   "id": "0302027b-5b85-4de2-8e10-4f0a165ffc85",
   "metadata": {},
   "source": [
    "**Definition (Topologically conjugate)**\n",
    "\n",
    "The dynamical system $(U,T)$ and $(\\hat U,\\hat T)$ are **topologically conjugate** under $\\Phi$ if \n",
    "\n",
    "- $(U,T)$ and $(\\hat U,\\hat T)$ are conjugate under $\\Phi$\n",
    "\n",
    "- $\\Phi$ is a homeomorphism"
   ]
  },
  {
   "cell_type": "markdown",
   "id": "081186e3-3097-4cc9-b121-6687ebe141b2",
   "metadata": {},
   "source": [
    "**Definition (locally stable)**\n",
    "\n",
    "Let $U$ be a subset of $\\mathbb{R}^n$  and let $T$ be a self-map on $U$. \n",
    "\n",
    "A fixed point $u^*$ of $T$ in $U$ is called **locally stable** for the dynamical system $(U,T)$ if there exists an open set $O\\subset U$ such that $u^*\\in O$ and $T^k u\\to u^*$ as $k\\to\\infty$ for every $u\\in O$.\n",
    "\n",
    "In other words, the domain of attraction for $u^*$ contains an open neigborhood of $u^*$."
   ]
  },
  {
   "cell_type": "markdown",
   "id": "cce29c63-2a2b-4740-acb2-0f8269a2eabd",
   "metadata": {},
   "source": [
    "**Definition (at rate at least $q$)**\n",
    "\n",
    "Let $e_k := \\|u_k-u^*\\|$ for all $k\\in\\mathbb{N}$.\n",
    "\n",
    "We say that $(u_k)_{k\\ge 0}$ converges to $u^*$ **at rate at least $q$** if $q\\ge 1$ and for some $\\beta \\in (0,\\infty)$, $N\\in\\mathbb{N}$, we have\n",
    "\n",
    "$$\n",
    "e_{k+1}\\le \\beta e_k^q,\\,\\,\\forall k\\ge N\n",
    "$$"
   ]
  },
  {
   "cell_type": "markdown",
   "id": "ca68de30-8f27-4807-812e-d24de4eefb03",
   "metadata": {},
   "source": [
    "**Definition (at rate $q$)**\n",
    "\n",
    "We say that convergence occurs **at rate $q$** if, in addition, \n",
    "\n",
    "$$\n",
    "\\limsup_{k\\to\\infty} \\frac{e_{k+1}}{e_k^q} = \\beta\n",
    "$$\n",
    "\n",
    "-  If $q=2$, then we say that convergence is (at least) **quadratic**\n",
    "-  If $q=1$ and $\\beta <1$, then we say that convergence is (at least) **linear**"
   ]
  },
  {
   "cell_type": "markdown",
   "id": "2ab65c3c-0cc8-47f6-b7a8-8739cb25d068",
   "metadata": {},
   "source": [
    "**Definition (Worst case complexity)**\n",
    "\n",
    "Measures the number of fundamental operations such as addition and multiplication of floating point numbers."
   ]
  },
  {
   "cell_type": "markdown",
   "id": "3ad5c01a-757a-43b7-99fe-b5c50cfb821a",
   "metadata": {},
   "source": [
    "**Definition (partial order)**\n",
    "\n",
    "A **partial order** on a nonempty set $P$ is a relation $\\precsim$ on $P\\times P$ that, for any $p,q,r,\\in P$ satisfies\n",
    "\n",
    "- Reflexivity: $p\\precsim p$\n",
    "- Anti-symmetry: $p\\precsim q, q\\precsim p \\implies p=q$\n",
    "- Transitivity: $p\\precsim q, q\\precsim r\\implies p\\precsim r$"
   ]
  },
  {
   "cell_type": "markdown",
   "id": "0d724940-ce41-4b81-bb7d-1a80720faf26",
   "metadata": {},
   "source": [
    "**Definition (partially ordered set)**\n",
    "\n",
    "The pair $(P,\\precsim)$ is called a partially ordered set. "
   ]
  },
  {
   "cell_type": "markdown",
   "id": "a79cd4db-228f-4731-aff7-187462e3e8f9",
   "metadata": {},
   "source": [
    "**Definition (pointwise order)**\n",
    "\n",
    "Fix an arbitrary nonemptyset $X$. The **pointwise order** $\\le$ on the set $\\mathbb{R}^X$ of all functions from $X$ to $\\mathbb{R}$ is defined as follows,\n",
    "\n",
    "given $u,v$ in $\\mathbb{R}^X$, set $u\\le v$ if $u(x)\\le v(x)$ for all $x\\in X$.\n"
   ]
  },
  {
   "cell_type": "markdown",
   "id": "fee8879b-1dde-41b9-8f2a-13478704e2da",
   "metadata": {},
   "source": [
    "**Definition (total order)**\n",
    "\n",
    "A partial order $\\precsim$ on $P$ is called **total** if for all $p,q\\in P$, either $p\\precsim q$ or $q\\precsim p$"
   ]
  },
  {
   "cell_type": "markdown",
   "id": "fca14d9c-55cc-43db-97d7-ccba5e4686d1",
   "metadata": {},
   "source": [
    "**Definition (greatest element)**\n",
    "\n",
    "Given a partially ordered set $(P,\\precsim)$ and $A\\subset P$, we say that $g\\in P$ is a **greatest element** of $A$ if $g\\in A$ and\n",
    "\n",
    "$$\n",
    "a\\in A\\implies a\\precsim g\n",
    "$$\n",
    "\n",
    "**Definition (least element)**\n",
    "\n",
    "Given a partially ordered set $(P,\\precsim)$ and $A\\subset P$, we say that $l\\in P$ is a **least element** of $A$ if $l\\in A$ and\n",
    "\n",
    "$$\n",
    "a\\in A\\implies l\\precsim a\n",
    "$$"
   ]
  },
  {
   "cell_type": "markdown",
   "id": "d51c2062-f268-407e-b438-04dba9b1449c",
   "metadata": {},
   "source": [
    "**Definition (maximum)**\n",
    "\n",
    "If $A$ is totally ordered, then a greatest element $g$ of $A$ is called a maximum of $A$.\n",
    "\n",
    "**Definition (minimum)**\n",
    "\n",
    "If $A$ is totally ordered, then a least element $l$ of $A$ is called a minimum of $A$."
   ]
  },
  {
   "cell_type": "markdown",
   "id": "58025ea5-25dc-4f1a-b76d-057bd0c8f352",
   "metadata": {},
   "source": [
    "**Definition (upper bound)**\n",
    "\n",
    "Given a partially ordered set $(P,\\precsim)$ and a nonempty subset $A$ of $P$, we call $u\\in P$ an **upper bound** of $A$ if $a\\precsim u$ for all $a\\in A$."
   ]
  },
  {
   "cell_type": "markdown",
   "id": "a2d0d8bc-3dd9-4048-aee3-79181006853f",
   "metadata": {},
   "source": [
    "**Definition (supremum)**\n",
    "\n",
    "Letting $U_p(A)$ be the set of all upper bounds of $A$ in $P$, we call $\\bar u\\in P$ a **supremum** of $A$ if\n",
    "\n",
    "$$\n",
    "\\bar u \\in U_p(A), \\bar u\\precsim u\\,\\,\\forall u\\in U_p(A)\n",
    "$$\n",
    "\n",
    "Thus, $\\bar u$ is the least element of the set of upper bounds $U_p(A)$, whenever it exists.\n",
    "\n",
    "The supremum of $A$ is typically denoted as $\\bigvee A$."
   ]
  },
  {
   "cell_type": "markdown",
   "id": "9a9d9ca1-1a1d-4ece-91ee-ce9ed5efae35",
   "metadata": {},
   "source": [
    "**Definition (lower bound)**\n",
    "\n",
    "We call $\\ell\\in P$  a **lower bound** of $A$ if $a\\succsim\\ell$ for all $a\\in A$."
   ]
  },
  {
   "cell_type": "markdown",
   "id": "cdba1f78-bcff-4cb2-a8ba-23f727f7f263",
   "metadata": {},
   "source": [
    "**Definition (infimum)**\n",
    "\n",
    "An element $\\bar\\ell \\in P$ is called **infimum** of $A$ if $\\ell$ is a lower bound of $A$ and $\\bar\\ell\\succsim \\ell$ for every lower bound $\\ell$ of $A$.\n",
    "\n",
    "We write $\\bar \\ell = \\bigwedge A$ to denote the infimum."
   ]
  },
  {
   "cell_type": "markdown",
   "id": "ac3912cd-7c4f-402e-8d1f-6b5eba0df27b",
   "metadata": {},
   "source": [
    "**Definition(sublattice)**\n",
    "\n",
    "A subset $V$ of $\\mathbb{R}^X$ is called a **sublattice** of $\\mathbb{R}^X$ if\n",
    "\n",
    "$$\n",
    "u,v\\in V\\implies u\\vee v\\in v, u\\wedge v\\in V\n",
    "$$\n",
    "\n",
    "In other words, $V$ is closed under pairwise supremum and infimum."
   ]
  },
  {
   "cell_type": "markdown",
   "id": "e7266b22-026a-437a-8f47-cbe8c0cbc2db",
   "metadata": {},
   "source": [
    "**Definition (order interval)**\n",
    "\n",
    "Given a partially ordered set $(P,\\precsim)$, and $a,b\\in P$, the **order interval** $[a,b]$ is defined as all $p\\in P$ such that $a\\precsim p\\precsim b$.\n",
    "\n",
    "If $a\\not\\precsim b$, then $[a,b] = \\emptyset$.\n",
    "\n"
   ]
  },
  {
   "cell_type": "markdown",
   "id": "74e4fdf0-63e2-4bbf-bdcc-4937ba0f253c",
   "metadata": {},
   "source": [
    "**Definition (upper envelope)**\n",
    "\n",
    "Take $\\{T_\\sigma\\}:= \\{T_\\sigma\\}_{\\sigma\\in\\Sigma}$ to be a finite family of self-maps on a sublattice $V\\subset \\mathbb{R}^X$. \n",
    "\n",
    "Define, \n",
    "\n",
    "$$\n",
    "Tv = \\bigvee_{\\sigma\\in\\Sigma} T_\\sigma \\,\\,\\,(v\\in V)\n",
    "$$\n",
    "\n",
    "From the sublattice property, $T$ is a self-map on $V$. \n",
    "\n",
    "$T$ is called the **upper envelope** of the functions $\\{T_\\sigma\\}$."
   ]
  },
  {
   "cell_type": "markdown",
   "id": "2d76fe6f-5757-45c6-b5e4-38358ce75c33",
   "metadata": {},
   "source": [
    "**Definition (order-preserving)**\n",
    "\n",
    "Given two partially ordered sets $(P,\\precsim)$ and $(Q, \\trianglelefteq)$, a map $T$ from $P$ to $Q$ is called **order-preserving** if given $p,p'\\in P$, we have,\n",
    "\n",
    "$$\n",
    "p\\precsim p' \\implies Tp\\trianglelefteq Tp'\n",
    "$$\n",
    "\n",
    "**Definition (order-reversing)**\n",
    "\n",
    "$T$ is called **order-reversing** if,\n",
    "\n",
    "$$\n",
    "p\\precsim p' \\implies Tp'\\trianglelefteq Tp\n",
    "$$"
   ]
  },
  {
   "cell_type": "markdown",
   "id": "5a4279fb-cb95-4f66-afe4-85cf0f15d5de",
   "metadata": {},
   "source": [
    "**Definition (increasing)**\n",
    "\n",
    "Given two partially order sets $(P,\\precsim)$, $(\\mathbb{R},\\le)$, we call $h\\in\\mathbb{R}^P$ **increasing** if \n",
    "\n",
    "$$\n",
    "p\\precsim p'\\implies h(p)\\le h(p')\n",
    "$$\n",
    "\n",
    "**We use the symbol $i\\mathbb{R}^P$ for the set of increasing functions in $\\mathbb{R}^P$**.\n",
    "\n",
    "**Definition (decreasing)**\n",
    "\n",
    "Given two partially order sets $(P,\\precsim)$, $(\\mathbb{R},\\le)$, we call $h\\in\\mathbb{R}^P$ **decreasing** if \n",
    "\n",
    "$$\n",
    "p\\precsim p'\\implies h(p)\\ge h(p')\n",
    "$$"
   ]
  },
  {
   "cell_type": "markdown",
   "id": "515517b4-6be7-42a3-8784-0c72a043c05f",
   "metadata": {},
   "source": [
    "**Definition (Strictly increasing)**\n",
    "\n",
    "If $h:P\\mapsto Q$ and $P,Q \\subset \\mathbb{R}$, then we will call $h$ **strictly increasing** if $x<y\\implies h(x)<h(y)$.\n",
    "\n",
    "**Definition (Strictly decreasing)**\n",
    "\n",
    "If $h:P\\mapsto Q$ and $P,Q \\subset \\mathbb{R}$, then we will call $h$ **strictly decreasing** if $x<y\\implies h(x)>h(y)$."
   ]
  },
  {
   "cell_type": "markdown",
   "id": "1a2b69a5-2f5e-4b67-bc12-5fb3586b22d2",
   "metadata": {},
   "source": [
    "**Definition (stochastically dominates, first order stochastic dominance)**\n",
    "\n",
    "Given finite set $X$ partially ordered by $\\precsim$, and $\\varphi,\\psi\\in\\mathscr{D}(X)$, say we that $\\psi$ **stochastically dominates** $\\varphi$ and write $\\varphi\\precsim_F \\psi$ if\n",
    "\n",
    "$$\n",
    "\\sum_{x\\in X} u(x)\\varphi(x) \\le \\sum_{x\\in X} u(x) \\psi(x) \n",
    "$$\n",
    "\n",
    "for every $u\\in i\\mathbb{R}^X$.\n",
    "\n",
    "The relation $\\precsim_F$ is also called **first order stochastic dominance** to differentiate it from other forms of stochastic order."
   ]
  },
  {
   "cell_type": "markdown",
   "id": "525bb689-897a-4818-bcc7-19a2f76a654a",
   "metadata": {},
   "source": [
    "**Definition (counter CDF)**\n",
    "\n",
    "For a given distribution $\\varphi$, the function\n",
    "\n",
    "$$\n",
    "G^\\varphi (y) := \\sum_{x\\succsim y} \\varphi(x) \\,\\,\\,\\,\\,\\,\\,(\\varphi\\in\\mathscr{D}(X), y\\in X)\n",
    "$$\n",
    "\n",
    "is called the **counter CDF** (counter cumulative distribution function) of $\\varphi$. "
   ]
  },
  {
   "cell_type": "markdown",
   "id": "e97430c4-2126-400a-9872-86da31ce0e52",
   "metadata": {},
   "source": [
    "**Definition (dominates)**\n",
    "\n",
    "Let $(P,\\precsim)$ be a partially ordered set. Given two self-maps $S$ and $T$ on the set $P$.\n",
    "\n",
    "We write $S\\precsim T$ if $Su\\precsim Tu$ for every $u\\in P$, and say that $T$ **dominates** $S$ on $P$."
   ]
  },
  {
   "cell_type": "markdown",
   "id": "a74c4946-c1d9-4b2f-8712-f7ef5c782830",
   "metadata": {},
   "source": [
    "**Definition (nonnegative)**\n",
    "\n",
    "We call a matrix $A$ **nonnegative** and write $A\\ge 0$ if all elements of $A$ are nonnegative. \n",
    "\n",
    "**Definition (everywhere positive)**\n",
    "\n",
    "We call $A$ **everywhere positive** and write $A\\gg 0$ if all elements of $A$ are strictly positive.\n",
    "\n",
    "**Definition (irreducible)**\n",
    "\n",
    "A square matrix $A$ is called **irreducible** if $A\\gg 0$ and $\\sum_{k=1}^\\infty A\\gg 0$."
   ]
  },
  {
   "cell_type": "markdown",
   "id": "f8ce210c-0238-40d8-827c-5726232234db",
   "metadata": {},
   "source": [
    "**Definition (stochastic matrix or Markov matrix)**\n",
    "\n",
    "An $n\\times n$ matrix $P$ is called a **stochastic matrix or Markov matrix** if \n",
    "\n",
    "$$\n",
    "P\\ge 0, P\\mathbb{1} =\\mathbb{1}\n",
    "$$\n",
    "\n",
    "where $\\mathbb{1}$ is a column vector of ones, so that $P$ is nonnegative and has unit row sums."
   ]
  },
  {
   "cell_type": "markdown",
   "id": "f84fcd20-4fd7-40a5-bfd0-8ca284c05620",
   "metadata": {},
   "source": [
    "**Definition (Stationary distribution)**\n",
    "\n",
    "The row vector $\\psi\\in\\mathbb{R}_+^n$ such that $\\psi\\mathbb{1}=1,\\psi P=\\psi$ is called the **stationary distribution** for $P$."
   ]
  },
  {
   "cell_type": "markdown",
   "id": "01194507-3ac5-41d3-abce-826e0e6f7879",
   "metadata": {},
   "source": [
    "**Definition (dominant eigenvector)**\n",
    "\n",
    "In the language of Perron-Frobenius theory, the right eigenvector $\\bar x$ is called the **dominant eigenvector**, since it corresponds to the dominant(i.e., largest) eigenvalue $\\rho(A)$. \n",
    "\n",
    "This eigenvector plays an important role in determining long run outcome.\n",
    "\n",
    "In the Lake model, the dominant eigenvector provides with both the long-run rate of unemployment adn the stable growth path, to which all trajectories with positive initial conditions converge over time."
   ]
  },
  {
   "cell_type": "markdown",
   "id": "5da5bf7f-6315-4cbc-86ec-c6536e15ec7b",
   "metadata": {},
   "source": [
    "**Definition (Linear operator)**\n",
    "\n",
    "A **linear operator** on $\\mathbb{R}^n$ is a map $L:\\mathbb{R}^n \\mapsto \\mathbb{R}^n$ such that,\n",
    "\n",
    "$$\n",
    "L(\\alpha u+\\beta v) = \\alpha Lu +\\beta Lv\n",
    "$$\n",
    "\n",
    "for all $u,v\\in\\mathbb{R}^n$, $\\alpha,\\beta \\in\\mathbb{R}$.\n",
    "\n",
    "A **linear operator on $\\mathbb{R}^X$** is a map $L:\\mathbb{R}^X\\mapsto \\mathbb{R}^X$ such that, for all $u,v\\in\\mathbb{R}^X$, and $\\alpha,\\beta\\in\\mathbb{R}$, we have,\n",
    "\n",
    "$$\n",
    "L(\\alpha u+\\beta v) = \\alpha Lu +\\beta Lv\n",
    "$$\n",
    "\n",
    "In what follows,\n",
    "\n",
    "$$\n",
    "\\mathscr{L}(\\mathbb{R}^X):=\\{L:L(\\alpha u+\\beta v) = \\alpha Lu +\\beta Lv\\}\n",
    "$$\n",
    "be the set of all linear operators on $\\mathbb{R}^X$.\n",
    "\n",
    "Let $L$ be a function from $X\\times X$ to $\\mathbb{R}$. This function induces an operator $L$ from $\\mathbb{R}^X$ to itself via\n",
    "\n",
    "$$\n",
    "(Lu)(x) = \\sum_{x'\\in X} L(x,x')u(x') \\tag{$x\\in X, u\\in\\mathbb{R}^X$}\n",
    "$$\n",
    "\n",
    "The function on the right hand side is called the **kernel** of the operator $L$. \n",
    "\n",
    "Since $L(x,x') = L(x_i,x_j)$ is just an $n\\times n$ arrary of real numbers, when more precision is required, we call it the **matrix representation** of $L$. \n",
    "\n",
    "The eigenvalues and eigenvectors of the linear operator $L\\in\\mathscr{L}(\\mathbb{R}^X)$ are defined as the eigenvalues and eigenvectors of its matrix representation.\n",
    "\n",
    "The spectral radius $\\rho(L)$ of $L$ is defined as the spectral radius of its matrix representation."
   ]
  },
  {
   "cell_type": "markdown",
   "id": "1bff4e8e-fafc-46e3-82be-dbcd27c8d43a",
   "metadata": {},
   "source": [
    "**Definition (column-major ordering)**\n",
    "\n",
    "Let $A$ be a $j\\times k$ matrix. We call the arrangement of stacking all $k$ columns vertically into one long column as **column-major ordering**.\n",
    "\n",
    "**Definition (row-major ordering)**\n",
    "\n",
    "Let $A$ be a $j\\times k$ matrix. We call the arrangement of concatenating all $j$ rows horizontally into one long row as **row-major ordering**."
   ]
  },
  {
   "cell_type": "markdown",
   "id": "af595128-5c49-49a4-94fc-c0c13f9a0a38",
   "metadata": {},
   "source": [
    "**Definition (positive cone)**\n",
    "\n",
    "The set\n",
    "\n",
    "$$\n",
    "\\mathbb{R}_+^X:=\\{u\\in\\mathbb{R}^X: u\\ge 0\\}\n",
    "$$\n",
    "\n",
    "is called the **positive cone of $\\mathbb{R}^X$**.\n",
    "\n",
    "**Definition (positive operator)**\n",
    "\n",
    "An linear operator $L\\in\\mathscr{L}(\\mathbb{R}^X)$ is called **positive linear operator** if $L$ is invariant on the positive cone, that, if\n",
    "\n",
    "$$\n",
    "u\\ge 0\\implies Lu\\ge 0\n",
    "$$"
   ]
  },
  {
   "cell_type": "markdown",
   "id": "3f463566-0379-4870-a2a3-fa49a69dec5a",
   "metadata": {},
   "source": [
    "**Definition (Markov operator)**\n",
    "\n",
    "An operator $P\\in\\mathscr{L}(\\mathbb{R}^X)$ is called a **Markov operator** on $\\mathbb{R}^X$ if $P$ is positive and $P\\mathbb{1}=\\mathbb{1}$.\n",
    "\n",
    "We let\n",
    "\n",
    "$$\n",
    "\\mathscr{M}(\\mathbb{R}^X):=\\{P\\in \\mathscr{L}(\\mathbb{R}^X): u\\ge 0\\implies Pu\\ge 0, P\\mathbb{1} = \\mathbb{1}\\}\n",
    "$$\n",
    "\n",
    "denote the set of all Markov operators on $\\mathbb{R}^X$.\n",
    "\n",
    "The matrix representation of Markov operators are Markov matrix.\n",
    "\n",
    "$\\mathscr{M}(\\mathbb{R}^X)$ is closed under multiplication."
   ]
  },
  {
   "cell_type": "markdown",
   "id": "518802dd-fdb4-4b49-9c3e-bd79f70c3e44",
   "metadata": {},
   "source": [
    "## Theorem and some key takeaway"
   ]
  },
  {
   "cell_type": "markdown",
   "id": "601c8abc-d9ee-4488-964e-d6a0bb66afd7",
   "metadata": {},
   "source": [
    "### Key takeaway\n",
    "\n",
    "- Linear transformations are conjugated (diffeomorphic) with their Jordan normal form though their generalized eigenbasis\n",
    "\n",
    "- Conjugation implies fixed point in one system is the fixed point in the other system\n",
    "\n",
    "- $\\Phi: fix(T)\\mapsto fix(\\hat T)$ is a bijection.\n",
    "\n",
    "- Topological conjugacy preserves convergence.\n",
    "\n",
    "- Topological conjugacy is a equivalence relation\n",
    "\n",
    "- Orders of convergence are studied in the neigborhood of zero, implying that higher orders are faster.\n",
    "\n",
    "- Successive approximation typically converge at a **linear rate**.\n",
    "\n",
    "- Successive approximation always converges when global stability holds\n",
    "\n",
    "- Under mild conditions, there exists a neigborhood of the fixed point within which the Newton iterates converge **quadratically**\n",
    "\n",
    "- We can accelerate computation by exploiting the problem's special structure such as differentiability, convexity, monotonicity. But we face a **tradeoff between speed and robustneess**. **More robust methods exploit less structure (less speed)**\n",
    "\n",
    "- Successive approximate can be partially parallelized, but the algorithm is inherently serial\n",
    "\n",
    "- Newton's method is less serial (involving less steps of iteration) but each steps is more expensive (inverting high dimension matrices). Since less serial $\\implies$ more potential for parallelization. \n",
    "\n",
    "- The objective in dynamic programming is to maximize/minimize a lifetime value/cost function. A function over a state space. Thus, the objective takes values in a particular ordered set and we seek greatest/least elements.\n",
    "\n",
    "- If a partially ordered set has a greatest element, it is the supremum of the set, if the supremum is in the set, it is the greatest element.\n",
    "\n",
    "- If $V$ is a sublattice, then the supremum and infimum of any finite subset of $V$ is in $V$.\n",
    "\n",
    "- The $i\\mathbb{R}^P$ is a sublattice.\n",
    "\n",
    "- While a one-to-one correspondence between linear operators and matrix holds in $\\mathbb{R}^n$, the concept of linear operators is far more general. Linear operators can be defined over many differenet kinds of sets whose elements have vector-link properties."
   ]
  },
  {
   "cell_type": "markdown",
   "id": "8974ab8e-5efd-4281-8667-d6d2b2e3cd35",
   "metadata": {},
   "source": [
    "**Proposition 2.1.1.**\n",
    "\n",
    "If $(U,T)$ and $(\\hat U, \\hat T)$ are conjugated dynamical systems, then\n",
    "\n",
    "- $u \\in fix (T)\\iff \\Phi u \\in fix(\\hat T)$\n",
    "\n",
    "- $\\Phi^{-1} \\hat u \\in fix (T)\\iff \\hat u \\in fix(\\hat T)$\n",
    "\n",
    "- $|fix(T)| = |fix(\\hat T)|$"
   ]
  },
  {
   "cell_type": "markdown",
   "id": "79528645-f8e2-4e49-a1be-ada82711897d",
   "metadata": {},
   "source": [
    "**Proposition 2.1.2.**\n",
    "\n",
    "If $(U,T)$ and $(\\hat U,\\hat T)$ are topologically conjugate, then\n",
    "\n",
    "- $T$ is globally stable on $U$ if and only if $\\hat T$ is globally stable on $\\hat U$\n",
    "\n",
    "- the unique fixed points $u^*\\in U$ and $\\hat u^*\\in\\hat U$ satisfy $\\hat u^* = \\Phi u^*$."
   ]
  },
  {
   "cell_type": "markdown",
   "id": "06949cc3-5500-4fea-b587-e5596b8043f5",
   "metadata": {},
   "source": [
    "**Hartman-Grobman Theorem**\n",
    "\n",
    "If $J_T(u^*)$ is nonsingular and contains no eigenvalues on the unit circle in $\\mathbb{C}$, then there exists an open neigborhood $O$ of $u^*$ such that $(O,T)$ and $(O,\\hat T)$ are topologically conjugate. \n",
    "\n",
    "$\\hat T$ is the linearization of $T$ near $u^*$, i.e.,\n",
    "\n",
    "$$\n",
    "\\hat T u = u^* + J_T(u^*) (u-u^*) + \\mathcal{O}((u-u^*)^2)\n",
    "$$"
   ]
  },
  {
   "cell_type": "markdown",
   "id": "3e53724d-393b-4112-a26b-bb9806a54a26",
   "metadata": {},
   "source": [
    "**Corolloary of Hartman-Grobman Theorem**\n",
    "\n",
    "Under the condition in Hartman-Grobman theorem, the fixed point $u^*$ is locally stable whenever $\\rho(J_T(u^*))<1$. "
   ]
  },
  {
   "cell_type": "markdown",
   "id": "7009930a-d680-446a-ac37-bd8bfdd06222",
   "metadata": {},
   "source": [
    "**Lemma (Inequalities and identities related to pointwise partial order on $\\mathbb{R}^X$, $X$ is finite)**\n",
    "\n",
    "For $f,g,h \\in\\mathbb{R}^X$, we have\n",
    "\n",
    "1. Triangle inequality: $|f+g|\\le |f| + |g|$\n",
    "\n",
    "2. Distribution law with addition: \n",
    "\n",
    "$$\n",
    "(f\\wedge g)+h = (f+h)\\wedge (g+h)\n",
    "$$\n",
    "\n",
    "$$\n",
    "(f\\vee g)+h = (f\\vee h) + (g\\vee h)\n",
    "$$\n",
    "\n",
    "3. Distribution with wedge and vee:\n",
    "\n",
    "$$\n",
    "(f\\vee g)\\wedge h = (f\\wedge h)\\vee(g\\wedge h)\n",
    "$$\n",
    "\n",
    "$$\n",
    "(f\\wedge g)\\vee h = (f\\vee h)\\wedge (g\\vee h)\n",
    "$$\n",
    "\n",
    "4. Difference of minimum is less than the difference\n",
    "\n",
    "$$\n",
    "|f\\wedge h- f\\wedge g| \\le |f-g|\n",
    "$$\n",
    "\n",
    "5. Difference of maximum is less than the difference\n",
    "\n",
    "$$\n",
    "|f\\vee h - g\\vee h| \\le|f-g|\n",
    "$$\n",
    "\n",
    "If $f,g,h\\in\\mathbb{R}^X_+$,  we have **minimum wiht a sum is less than the sum of two minimum**\n",
    "\n",
    "$$\n",
    "(f+g)\\wedge h \\le (f\\wedge h)+(g\\wedge h)\n",
    "$$"
   ]
  },
  {
   "cell_type": "markdown",
   "id": "4c48a3f2-054b-4912-9bf8-06903d6a473d",
   "metadata": {},
   "source": [
    "**Lemma (useful to DP)**\n",
    "\n",
    "Let $D$ be a finite set. If $f$ and $g$ are elements of $\\mathbb{R}^D$, then,\n",
    "\n",
    "$$\n",
    "|\\max_{z\\in D} f(z)- \\max_{z\\in D} g(z)|\\le \\max_{z\\in D}|f(z)-g(z)|\n",
    "$$"
   ]
  },
  {
   "cell_type": "markdown",
   "id": "9c3f5579-34d4-4fee-be22-acb24c214663",
   "metadata": {},
   "source": [
    "**Lemma (useful to DP)**\n",
    "\n",
    "If, for each $\\sigma\\in \\Sigma$, the operator $T_\\sigma$ is a contraction of modulus $\\lambda_\\sigma$ under the supremum norm, then $T = \\bigvee_\\sigma T_\\sigma$ is a contraction of modulus $\\max_\\sigma \\lambda_\\sigma$ under the same norm."
   ]
  },
  {
   "cell_type": "markdown",
   "id": "de2c0d9b-f034-43f0-bce2-1980ff71e1fd",
   "metadata": {},
   "source": [
    "**Lemma (Order-preserving and contraction)**\n",
    "\n",
    "Let $(U\\subset\\mathbb{R}^X,\\le)$ be a partially ordered set, $X$ finite. \n",
    "\n",
    "And for all $u\\in U$, $c\\in\\mathbb{R}$, $u+c\\in U$.\n",
    "\n",
    "If $T:U\\mapsto U$ is an order preserving self-map on $U$ and there exists a constant $\\beta\\in(0,1)$ such that\n",
    "\n",
    "$$\n",
    "T(u+c)\\le Tu + \\beta c\n",
    "$$\n",
    "\n",
    "for all $u\\in U$ and $c\\in \\mathbb{R}_+$\n",
    "\n",
    "then, $T$ is a contraction of modulus $\\beta$ on $U$ with respect to the supremum norm."
   ]
  },
  {
   "cell_type": "markdown",
   "id": "2c59588e-ab43-4926-a9cb-deedafec31f2",
   "metadata": {},
   "source": [
    "**Lemma (related to Counter CDF)**\n",
    "\n",
    "For each $\\varphi,\\psi \\in\\mathscr{D}(X)$, the following statement hold:\n",
    "\n",
    "$$\n",
    "\\varphi\\precsim_F \\psi \\implies G^\\varphi \\le G^\\psi\n",
    "$$\n",
    "\n",
    "and\n",
    "\n",
    "\n",
    "If $X$ is totally ordered by $\\precsim$, then $G^\\varphi\\le G^\\psi\\implies \\varphi\\precsim_F\\psi$"
   ]
  },
  {
   "cell_type": "markdown",
   "id": "092aa322-46bb-4d8c-aec5-a9b9b64f2284",
   "metadata": {},
   "source": [
    "**Lemma(Stochastic dominance is a partial order on $\\mathscr{D}(X)$)**\n",
    "\n",
    "Stochastic dominance is a partial order on $\\mathscr{D}(X)$."
   ]
  },
  {
   "cell_type": "markdown",
   "id": "096279f2-3aa4-4320-8fdf-4ace5d4f87ee",
   "metadata": {},
   "source": [
    "**Proposition (Dominance and globally stable)**\n",
    "\n",
    "Let $S$ and $T$ be self-maps on $M\\subset \\mathbb{R}^n$ and let $\\le$ be the pointwise order.\n",
    "\n",
    "If $T$ dominates $S$ on $M$ and, in addition, $T$ is order-preserving and globally stable on $M$, then its unique fixed point dominates any fixed point of $S$."
   ]
  },
  {
   "cell_type": "markdown",
   "id": "fe64969e-1e9a-403a-a1ac-c499a0af1ce2",
   "metadata": {},
   "source": [
    "### Perron-Frobenius Theorem\n",
    "\n",
    "If $A\\ge 0$, then $\\rho(A)$ is an eigenvalue of $A$ with nonnegative, real-valued right and left eigenvectors.\n",
    "\n",
    "In particular, we can find a nonnegative, nonzero column vector $e$ and a nonnegative,nonzero row vector $\\varepsilon$ such that\n",
    "\n",
    "$$\n",
    "Ae = \\rho(A)e, \\,\\,\\text{and} \\,\\, \\varepsilon A = \\rho(A) \\varepsilon\n",
    "$$\n",
    "\n",
    "If $A$ is irreducible, then, the right and left eigenvectors are everywhere positive and unique. \n",
    "\n",
    "Moreover, if $A$ is everywhere positive, then with $e$ and $\\varepsilon$ normalized so that $\\langle \\varepsilon, e\\rangle =1$, we have,\n",
    "\n",
    "$$\n",
    "\\rho(A)^{-t} A^t\\to e\\varepsilon  \\tag{$t\\to\\infty$}\n",
    "$$\n",
    "\n",
    "The assumption that $A$ is everywhere positive can be weakened without affecting this convergence."
   ]
  },
  {
   "cell_type": "markdown",
   "id": "59ef55f6-14ae-4641-80b3-d9139b07a3a9",
   "metadata": {},
   "source": [
    "**Lemma (PF)**\n",
    "\n",
    "We can use the Perron-Frobenius theorem to provide bounds on the spectral radius of a nonnegative matrix. Fix $n\\times n$ matrix $A=(a_{ij})$ and set,\n",
    "\n",
    "- $rowsum_i(A): =\\sum_{j=1}^n a_{ij}=$ the $i$-th row sum of $A$\n",
    "\n",
    "- $colsum_j(A): =\\sum_{i=1}^n a_{ij}=$ the $j$-th column sum of $A$\n",
    "\n",
    "\n",
    "If $A\\ge 0$,  then,\n",
    "\n",
    "$$\n",
    "\\min_{i\\in[n]} rowsum_i (A) \\le \\rho(A) \\le \\max_{i\\in[n]} rowsum_i(A)\n",
    "$$\n",
    "\n",
    "$$\n",
    "\\min_{j\\in[n]} colsum_i(A) \\le \\rho(A) \\le \\max_{j\\in[n]} colsum_{j} (A)\n",
    "$$"
   ]
  },
  {
   "cell_type": "markdown",
   "id": "22858ccd-c42d-434a-9213-89959db9d8ed",
   "metadata": {},
   "source": [
    "**Lemma (Local spectral radius result)**\n",
    "\n",
    "Let $\\|\\cdot\\|$ be any norm on $\\mathbb{R}^n$. If $A$ is nonnegative and $h\\in\\mathbb{R}^n$ obeys $h\\gg 0$, then\n",
    "\n",
    "$$\n",
    "\\|A^kh\\|^{1/k} \\to \\rho(A),\\,\\,\\text{as $k\\to\\infty$}\n",
    "$$\n",
    "\n",
    "The expression on the left is called the **local spetral radius** of $A$ at $h$. This lemma gives one set of conditions under which a local spectral radius equals the spectral radius."
   ]
  },
  {
   "cell_type": "markdown",
   "id": "f46461b5-e008-44f1-b49f-da86e868dbdb",
   "metadata": {},
   "source": [
    "**Theorem (matrix is a linear operator)**\n",
    "\n",
    "If $L$ is a linear operator on $\\mathbb{R}^n$, then there exists an $n\\times n$ matrix $A=(a_{ij})$ such that $Lu=Au$ for all $u\\in\\mathbb{R}^n$."
   ]
  },
  {
   "cell_type": "markdown",
   "id": "3d66a274-f429-49de-8d41-81cd129a5809",
   "metadata": {},
   "source": [
    "**Lemma (Equivalence of linear operators)**\n",
    "\n",
    "When $X=\\{x_1,\\cdots,x_n\\}$,  the followings sets are in one-to-one correspondence:\n",
    "\n",
    "1. The set of all $n\\times n$ real matrices.\n",
    "\n",
    "2. The set of all linear operators on $\\mathbb{R}^n$.\n",
    "\n",
    "3. The set $\\mathscr{L}(\\mathbb{R}^X)$ of linear operators on $\\mathbb{R}^X$. \n",
    "\n",
    "4. The set of all functions from $X\\times X$ to $\\mathbb{R}$."
   ]
  },
  {
   "cell_type": "markdown",
   "id": "4eac6305-3c1f-441f-906c-2d18b801548f",
   "metadata": {},
   "source": [
    "**Lemma (Positive linear operator)**\n",
    "\n",
    "An linear operator $L\\in\\mathscr{L}(\\mathbb{R}^X)$ is positive if and only if its matrix representation is a nonnegative matrix."
   ]
  },
  {
   "cell_type": "markdown",
   "id": "d6738783-5452-4f83-a175-b2d66f39eebe",
   "metadata": {},
   "source": [
    "### Newton's fixed point method"
   ]
  },
  {
   "cell_type": "markdown",
   "id": "b47afe49-4cc1-46ec-9b81-78e96562696f",
   "metadata": {},
   "source": [
    "Let $T$ be a differntiable self-map on an open set $U\\subset \\mathbb{R}^n$.\n",
    "\n",
    "We want to find a fixed point of $T$ on $U$.\n",
    "\n",
    "1. start from an arbitrary guess $u_0\\in U$. \n",
    "\n",
    "2. Find the fixed point of the linearization of $T$, i.e., $\\hat T$ around the guess and let this fixed point be $x_1$.\n",
    "\n",
    "Since $\\hat T u = Tu_0 + J_T(u_0)(u-u_0)$. Let $u_1$ be the fixed point of this linearization, this implies, \n",
    "\n",
    "$$\n",
    "u_1 = Tu_1 = Tu_0 + J_T(u_0)(u_1-u_0) = Tu_0 + J_T(u_0)u_1-J_T(u_0)u_0\n",
    "$$\n",
    "\n",
    "$$\n",
    "(I-J_T(u_0))u_1 = Tu_0 - J_T(u_0)u_0\n",
    "$$\n",
    "\n",
    "$$\n",
    "u_1 = (I-J_T(u_0))^{-1}(Tu_0 - J_T(u_0)u_0)\n",
    "$$\n",
    "\n",
    "3. Set $u_1$ as the new guess\n",
    "\n",
    "4. Find the fixed point of the linearization of $T$ around $u_1$, and let this be $u_2$\n",
    "\n",
    "5. Iterate the above procedure to lead to the sequence of points\n",
    "\n",
    "$$\n",
    "u_{k+1} = Qu_k\n",
    "$$\n",
    "\n",
    "where\n",
    "\n",
    "$$\n",
    "Qu: = (I-J_T(u))^{-1}(Tu - J_T(u)u)\n",
    "$$\n",
    "\n"
   ]
  },
  {
   "cell_type": "markdown",
   "id": "76acc754-f0ff-42fb-8fb9-799a48f8ace7",
   "metadata": {},
   "source": [
    "### Suprema and Infima under a pointwise order"
   ]
  },
  {
   "cell_type": "markdown",
   "id": "e080c0ac-492e-4712-95c8-fbcfe8da71d1",
   "metadata": {},
   "source": [
    "For a pair of functions $\\{u,v\\}$, the supremum in $(\\mathbb{R}^X,\\le)$ is the pointwise maximum, while the infimum in $(\\mathbb{R}^X, \\le)$ is the pointwise minimum.\n",
    "\n",
    "The same principle holds, for **finite collections of functions**.\n",
    "\n",
    "\n",
    "Thus, if $\\{v_i\\} = \\{v_i\\}_{i\\in I}$ is a finite subset of $\\mathbb{R}^X$, then, for all $x\\in X$, \n",
    "\n",
    "$$\n",
    "\\left(\\bigvee_{i} v_i\\right)(x) := \\max_{i\\in I}v_i{x}\n",
    "$$\n",
    "\n",
    "$$\n",
    "\\left(\\bigwedge_{i} v_i\\right)(x) := \\min_{i\\in I}v_i{x}\n",
    "$$"
   ]
  },
  {
   "cell_type": "markdown",
   "id": "05bb24a0-a35a-444b-9319-d806f5720ab8",
   "metadata": {},
   "source": [
    "## Stochastic dominance"
   ]
  },
  {
   "cell_type": "markdown",
   "id": "4413916d-1ed8-489e-a07b-5f7d23e0a43f",
   "metadata": {},
   "source": [
    "- First-order stochastic dominance can be understood by considering an agent with a utility function $u \\in \\mathbb{R}^X$ that prefers more to less ($u \\in i\\mathbb{R}^X$). The agent ranks lotteries over $X$ by expected utility, evaluating $\\varphi \\in \\mathscr{D}(X)$ as $\\sum_x u(x)\\varphi(x)$. The agent (weakly) prefers $\\psi$ to $\\varphi$ if $\\varphi \\precsim_F \\psi$\n",
    "\n",
    "Consider the class $\\mathscr{A}$ of all agents who\n",
    "\n",
    "1. have preferences over $X$, i.e., $u\\in\\mathbb{R}^X$;\n",
    "2. prefer more to less, i.e., $u\\in i\\mathbb{R}^X$;\n",
    "3. rank lotteries over $X$ according to expected utilities, i.e., $\\sum_x u(x)\\varphi(x)$\n",
    "\n",
    "Then,\n",
    "\n",
    "$$\n",
    "\\varphi\\precsim_F \\psi \\iff (a\\in\\mathscr{A} \\implies \\text{$a$ prefers $\\psi$ to $\\varphi$})\n",
    "$$"
   ]
  },
  {
   "cell_type": "markdown",
   "id": "2ecd537b-97d7-4be9-93d5-4977c91258fd",
   "metadata": {},
   "source": [
    "## Computational Issues"
   ]
  },
  {
   "cell_type": "markdown",
   "id": "5b4e9e82-6875-4543-9fdf-f6531c4eeb28",
   "metadata": {},
   "source": [
    "Linear operators brings some computational advantages compared to matrices.\n",
    "\n",
    "Consider a setting where the state space $X$ takes the form\n",
    "\n",
    "$$\n",
    "X = Y\\times Z, |Y|=j, |Z|=k\n",
    "$$\n",
    "\n",
    "A typical element of $X$ is $x=(y,z)$.\n",
    "\n",
    "Let $Q$ be a map from $Z\\times Z$ to $\\mathbb{R}$, i.e., a $k\\times k$ matrix, and consider the operator sending $u\\in\\mathbb{R}^X$ according to the rule,\n",
    "\n",
    "$$\n",
    "(Lu)(x)=(Lu)(y,z) = \\sum_{z'\\in Z} u(y,z')Q(z,z') \\tag{natural representation}\n",
    "$$\n",
    "\n",
    "and $L\\in\\mathscr{L}(\\mathbb{R}^X)$."
   ]
  },
  {
   "cell_type": "markdown",
   "id": "51772b5f-7d89-47c0-99dd-774788f51a8c",
   "metadata": {},
   "source": [
    "Since $L$ is a linear operator on $\\mathbb{R}^X$, by lemma 2.3.5., $L$ can be represented as a $n\\times n$ matrix $(L(x_i,x_j))=(L_{ij})$, where $n = |X| =j\\times k$.\n",
    "\n",
    "To construct this matrix, we first need to **flatten** $Y\\times Z$ into a set $X=\\{x_1,\\cdots,x_n\\}$ with a single index.\n",
    "\n",
    "### Two natural way to flatten $Y\\times Z$\n",
    "\n",
    "Considering $Y\\times Z$ as a two-dimensional array with typical element $(y_i,z_j)$.\n",
    "\n",
    "We can\n",
    "\n",
    "1. **Column-major ordering** stack all $k$ columns vertically into one long column (**default for Julia and Fortran**)\n",
    "\n",
    "2. **Row-major ordering** concatenate all $j$ rows into one long row (**default for Python and C**)\n",
    "\n",
    "After adopting one of these conventions, by Lemma 2.3.5., we can construct a uniquely defined $n\\times n$ matrix that represents $L$.\n",
    "\n",
    "Once we decide how to construct this matrix, we can instantiate it in computer memory and compute the operation $u\\mapsto Lu$ by matrix operation. \n",
    "\n",
    "#### Disadvantage using matrix approach\n",
    "\n",
    "1. Constructing the matrix representatioin is tedious\n",
    "\n",
    "2. Confusion can arise when swapping between column and row major ordering in order to shift between languages or to communicate with others.\n",
    "\n",
    "3. Differences are introduced between computer code and the natural representation can be a source of bugs.\n",
    "\n",
    "4. An $n\\times n$ matrix has to be instantiated in memory, even though the linear operation is only an inner product in $\\mathbb{R}^k$. (This issuse can be alleviated in most languages by employing sparse matrices, but doing so add boilerplate and can be a source of inefficiency)\n",
    "\n",
    "Hence, modern scientific computing environment support linear operation directly, as well as actions on linear operators such as inverting linear maps. This encourages us to take an operator-based approach."
   ]
  },
  {
   "cell_type": "markdown",
   "id": "f086e2f1-8403-49ff-b760-d942d3e531fc",
   "metadata": {},
   "source": []
  }
 ],
 "metadata": {
  "kernelspec": {
   "display_name": "Python 3 (ipykernel)",
   "language": "python",
   "name": "python3"
  },
  "language_info": {
   "codemirror_mode": {
    "name": "ipython",
    "version": 3
   },
   "file_extension": ".py",
   "mimetype": "text/x-python",
   "name": "python",
   "nbconvert_exporter": "python",
   "pygments_lexer": "ipython3",
   "version": "3.10.12"
  }
 },
 "nbformat": 4,
 "nbformat_minor": 5
}
