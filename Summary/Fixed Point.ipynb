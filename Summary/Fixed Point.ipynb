{
 "cells": [
  {
   "cell_type": "markdown",
   "id": "55c16b87-eac3-4fb0-a060-3f775e25f97e",
   "metadata": {},
   "source": [
    "# Summary on Fixed Point Theorem"
   ]
  },
  {
   "cell_type": "markdown",
   "id": "d6af2d10-2426-467f-94a5-662e2ac0bad8",
   "metadata": {},
   "source": [
    "**Definition (Fixed point)**\n",
    "\n",
    "Let $T:U\\mapsto U$ be a self-map, a point $u^*\\in U$ is called a **fixed point** of $T$ in $U$ if\n",
    "\n",
    "$$\n",
    "Tu^*=u^*\n",
    "$$"
   ]
  },
  {
   "cell_type": "markdown",
   "id": "a2d4d0db-13cd-4137-9745-cb864c11209a",
   "metadata": {},
   "source": [
    "# Fixed Point Theorems"
   ]
  },
  {
   "cell_type": "markdown",
   "id": "56d42011-7c18-4328-98c9-659a48c29760",
   "metadata": {},
   "source": [
    "## Banach's Contraction Mapping Theorem\n",
    "\n",
    "If $U\\subset\\mathbb{R}^n$ closed and $T$ is a contraction of modulus $\\lambda$ on $U$ with respect to the norm $\\|\\cdot\\|$.\n",
    "\n",
    "Then $T$ has a unique fixed point $u^*\\in U$ with error bound\n",
    "\n",
    "$$\n",
    "\\|T^k u-u^*\\|\\le \\lambda^k\\|u-u^*\\|\n",
    "$$\n",
    "\n",
    "for all $k\\in\\mathbb{N}$ and $u\\in U$.\n",
    "\n",
    "In particular, $T$ is globally stable on $U$."
   ]
  },
  {
   "cell_type": "markdown",
   "id": "fab570fd-bdc1-4608-bc0c-37f64937d3c1",
   "metadata": {},
   "source": []
  },
  {
   "cell_type": "markdown",
   "id": "09b39086-4d2c-45fb-9f7c-cff8a299123d",
   "metadata": {},
   "source": [
    "# Fixed Point Propositions"
   ]
  },
  {
   "cell_type": "markdown",
   "id": "2db7f271-1d85-4d30-a850-c67a94fdb0d5",
   "metadata": {},
   "source": [
    "**Proposition (Converging iterative sequence and continuous at limit gives fixed point)**\n",
    "\n",
    "Let $T:U\\mapsto U$ be a self-map. If $T^m u\\to u^*$ and $T$ is continuous at $u^*$, then $u^*$ is a fixed point of $T$. "
   ]
  },
  {
   "cell_type": "markdown",
   "id": "e0d10d34-1246-46ff-a507-8389f70a6b39",
   "metadata": {},
   "source": [
    "**Proposition (Closed and globally stable with invariance implies fixed point in the set)**\n",
    "\n",
    "Let $T:U\\mapsto U$ a **globally stable** self-map. If $C$ is closed and $T$ is invariant on $C$, then $u^*\\in C$."
   ]
  },
  {
   "cell_type": "markdown",
   "id": "cbbf4075-8c0c-4ecc-844d-59c7521c0b0e",
   "metadata": {},
   "source": [
    "**Proposition (Contraction is continuous with at most one fixed point)**\n",
    "\n",
    "Let $T$ be a contraction on $U$. Then $T$ is continuous with at most one fixed point."
   ]
  },
  {
   "cell_type": "markdown",
   "id": "ff81f428-ecc3-4b6d-be00-91c17a22fe8a",
   "metadata": {},
   "source": [
    "**Proposition (Conjugacy preserves the fixed point)**\n",
    "\n",
    "If $(U,T)$ and $(\\hat U, \\hat T)$ are conjugate under $\\Phi$, $\\Phi|_{fix(T)}: fix(T) \\mapsto fix(\\hat T)$ is a bijection."
   ]
  },
  {
   "cell_type": "code",
   "execution_count": null,
   "id": "c49b802e-cc4d-4abe-841c-c28033e180ba",
   "metadata": {},
   "outputs": [],
   "source": []
  },
  {
   "cell_type": "code",
   "execution_count": null,
   "id": "35449415-ebcf-4a48-ad4f-8d4222371045",
   "metadata": {},
   "outputs": [],
   "source": []
  }
 ],
 "metadata": {
  "kernelspec": {
   "display_name": "Python 3 (ipykernel)",
   "language": "python",
   "name": "python3"
  },
  "language_info": {
   "codemirror_mode": {
    "name": "ipython",
    "version": 3
   },
   "file_extension": ".py",
   "mimetype": "text/x-python",
   "name": "python",
   "nbconvert_exporter": "python",
   "pygments_lexer": "ipython3",
   "version": "3.10.12"
  }
 },
 "nbformat": 4,
 "nbformat_minor": 5
}
