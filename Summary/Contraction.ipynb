{
 "cells": [
  {
   "cell_type": "markdown",
   "id": "8de3ff20-280e-4745-9471-34261c8a6aed",
   "metadata": {},
   "source": [
    "## Summary on Contraction"
   ]
  },
  {
   "cell_type": "markdown",
   "id": "11470f8c-7ceb-42e8-acbe-9024ab622864",
   "metadata": {},
   "source": [
    "### Definition (Contraction)\n",
    "\n",
    "Let $U$ be a nonempty subset of $\\mathbb{R}^n$ and let $\\|\\cdot\\|$ be a norm on $\\mathbb{R}^n$. \n",
    "\n",
    "A self map $T$ on $U$ is called a **contraction** on $U$ with respect to $\\|\\cdot\\|$ if there exists a $\\lambda<1$, such that,\n",
    "\n",
    "$$\n",
    "\\|Tu-Tv\\|\\le \\lambda\\|u-v\\|\n",
    "$$\n",
    "\n",
    "for all $u,v\\in U$.\n",
    "\n",
    "The constant $\\lambda$ is called the **modulus of contraction**."
   ]
  },
  {
   "cell_type": "markdown",
   "id": "7d76a43c-15ea-4c64-b031-beb3a56f354e",
   "metadata": {},
   "source": [
    "### Definition (Eventually contracting)\n",
    "\n",
    "Fix $U\\subset \\mathbb{R}^X$. We call $T:U\\mapsto U$ **eventually contracting** if there exists a $k\\in\\mathbb{N}$ and a norm $\\|\\cdot\\|$ on $\\mathbb{R}^X$ such that $T^k$ is a contraction on $U$ under $\\|\\cdot\\|$."
   ]
  },
  {
   "cell_type": "markdown",
   "id": "319ca126-7b8e-40ba-bac8-c401b23488de",
   "metadata": {},
   "source": [
    "## Properties of Contraction"
   ]
  },
  {
   "cell_type": "markdown",
   "id": "4856780b-a19a-4c7b-8b27-515757100ac3",
   "metadata": {},
   "source": [
    "1. Contraction is **continuous** and has **at most one** fixed point.\n",
    "\n",
    "2. In Banach space, contraction is globally stable with unique fixed point.\n",
    "\n",
    "3. Contraction converges **at least linearly**.\n",
    "\n",
    "4. The **upper envelope** of contractions is a contraction with modulus as the maximum of the contractions.\n",
    "\n",
    "5. In a **closed** set (Banach space), **eventually contracting** implies globally stable.\n",
    "\n",
    "6. $T$ is a contraction wrt to one norm **does not implies** $T$ is a contraction wrt to another norm.\n",
    "\n",
    "7. $T$ is eventually contracting with one norm implies $T$ is eventually contracting **on every norm**."
   ]
  },
  {
   "cell_type": "markdown",
   "id": "67530d3e-561e-434a-a271-b6743de1a76d",
   "metadata": {},
   "source": [
    "## Useful Theorem and Propositions to prove contraction"
   ]
  },
  {
   "cell_type": "markdown",
   "id": "bfdee6e4-8e34-4598-9404-0eb5dd087acf",
   "metadata": {},
   "source": [
    "#### Proposition (Absolute difference of maximum with other is less than the absolute difference)\n",
    "\n",
    "$$\n",
    "|\\alpha \\vee x - \\alpha\\vee  y |\\le |x-y| \\tag{$\\alpha, x, y\\in\\mathbb{R}$}\n",
    "$$\n",
    "\n",
    "This proposition is useful when proving Bellman operator is a contraction. "
   ]
  },
  {
   "cell_type": "markdown",
   "id": "af8336a9-ec8f-46d4-9d1c-239320480ea1",
   "metadata": {},
   "source": [
    "#### Proposition (Absolute difference of maximum with other is less than the absolute maximum of difference)\n",
    "\n",
    "$$\n",
    "|\\max_{z\\in D} f(z)- \\max_{z\\in D} g(z)| \\le \\max_{z\\in D} |f(z)-g(z)|\n",
    "$$"
   ]
  },
  {
   "cell_type": "markdown",
   "id": "5f8a7923-c9d2-419e-aa5a-479ec00b7447",
   "metadata": {},
   "source": [
    "#### Lemma: Blackwell's condition\n",
    "\n",
    "Let $T: U\\mapsto U$ be an order-preserving self-map, and there exists $\\beta\\in (0,1)$ such that,\n",
    "\n",
    "$$\n",
    "T(u+c)\\le Tu + \\beta c\n",
    "$$\n",
    "\n",
    "for all $u\\in U$, $c\\in\\mathbb{R}_+$.\n",
    "\n",
    "Then, $T$ is a contraction of modulus $\\beta$ on $U$ wrt the supremum norm. \n",
    "\n",
    "#### Proposition: Generalized Blackwell Condition\n",
    "\n",
    "Let $T:U\\mapsto U$ be an order-preserving self-map. If there exists $L\\in\\mathcal{L}_+(\\mathbb{R}^X)$ with $\\rho(L)<1$, and\n",
    "\n",
    "$$\n",
    "T(v+c)\\le Tv+Lc \n",
    "$$\n",
    "\n",
    "for all $c,v\\in\\mathbb{R}^X$ with $c\\ge 0$.\n",
    "\n",
    "Then $T$ is **eventually contracting** on $U$."
   ]
  },
  {
   "cell_type": "markdown",
   "id": "c549b31b-fb97-4add-b91a-2e8f028955ad",
   "metadata": {},
   "source": [
    "#### Proposition (Bounded by a positive linear operator implies eventually contracting)\n",
    "\n",
    "Let $T: U\\mapsto U$, $U\\subset \\mathbb{R}^X$. If there exists a positive linear operator $L$ on $\\mathbb{R}^X$ such that $\\rho(L)<1$ and\n",
    "\n",
    "$$\n",
    "|Tv-Tw|\\le L|v-w|\n",
    "$$\n",
    "\n",
    "for all $v,w\\in U$, then $T$ is an **eventual contraction** on $U$."
   ]
  }
 ],
 "metadata": {
  "kernelspec": {
   "display_name": "Python 3 (ipykernel)",
   "language": "python",
   "name": "python3"
  },
  "language_info": {
   "codemirror_mode": {
    "name": "ipython",
    "version": 3
   },
   "file_extension": ".py",
   "mimetype": "text/x-python",
   "name": "python",
   "nbconvert_exporter": "python",
   "pygments_lexer": "ipython3",
   "version": "3.10.12"
  }
 },
 "nbformat": 4,
 "nbformat_minor": 5
}
