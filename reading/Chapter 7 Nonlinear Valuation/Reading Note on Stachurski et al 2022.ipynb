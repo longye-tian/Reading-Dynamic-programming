{
 "cells": [
  {
   "cell_type": "markdown",
   "id": "4a4c85b6-00b6-4f4c-8e04-967491ee6a6f",
   "metadata": {},
   "source": [
    "# Reading Note on Stachurski et al 2022"
   ]
  },
  {
   "cell_type": "markdown",
   "id": "d55f3018-1713-48f2-8685-05f9f95b0339",
   "metadata": {},
   "source": [
    "Terminology:\n",
    "\n",
    "**Discrete Lyapunov equation**\n",
    "\n",
    "This takes the form:\n",
    "\n",
    "$$\n",
    "GXG^\\top -X +Q=0\n",
    "$$\n",
    "\n",
    "where,\n",
    "\n",
    "- $G$ is the system matrix of a discrete-time linear system\n",
    "- $X$ is the unknown matrix we are solving for (represent the total energy over infinite time steps)\n",
    "- $Q$ is the given positive definite matrix\n",
    "\n",
    "\n",
    "Purpose: this equation is used to analyze the stability of discrete-time linear system.\n",
    "\n",
    "**If we can find a positive definition solution $X$ for a given positive definite $Q$, then the system described by the matrix $G$ is asymptotically stable**.\n",
    "\n",
    "**Continuous Lyapunov equation**\n",
    "\n",
    "This takes the form:\n",
    "\n",
    "$$\n",
    "GX + XG^\\top +Q=0\n",
    "$$\n",
    "\n",
    "where\n",
    "\n",
    "- $G$ is the state-space of the system matrix\n",
    "- Stable if all eigenvalues of $G$ have negative real parts\n",
    "- $X$ represent the instantaneous engergy of the system\n",
    "\n",
    "**$\\alpha$-concave**\n",
    "\n",
    "An operator $B$ is $\\alpha$-concave if for any $t\\in(0,1)$, there exists $\\alpha\\in (0,1)$ such that $B(tx)\\ge t^\\alpha Bx$"
   ]
  },
  {
   "cell_type": "markdown",
   "id": "af0f7038-9b71-4351-8c63-19522d703750",
   "metadata": {},
   "source": [
    "This paper studies the transformed system:\n",
    "\n",
    "$$\n",
    "x = (Ax^s)^{1/s}+b, \\qquad s\\in\\mathbb{R}, s\\neq 0\n",
    "$$"
   ]
  },
  {
   "cell_type": "code",
   "execution_count": null,
   "id": "e6995d67-9d01-4909-88d0-9c0d8ed608dc",
   "metadata": {},
   "outputs": [],
   "source": []
  }
 ],
 "metadata": {
  "kernelspec": {
   "display_name": "Python 3 (ipykernel)",
   "language": "python",
   "name": "python3"
  },
  "language_info": {
   "codemirror_mode": {
    "name": "ipython",
    "version": 3
   },
   "file_extension": ".py",
   "mimetype": "text/x-python",
   "name": "python",
   "nbconvert_exporter": "python",
   "pygments_lexer": "ipython3",
   "version": "3.10.12"
  }
 },
 "nbformat": 4,
 "nbformat_minor": 5
}
