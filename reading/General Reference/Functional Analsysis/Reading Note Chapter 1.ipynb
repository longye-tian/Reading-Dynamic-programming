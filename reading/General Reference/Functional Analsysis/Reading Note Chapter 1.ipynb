{
 "cells": [
  {
   "cell_type": "markdown",
   "id": "eed4eecc-d8ba-4743-95cf-ded041b9ae3a",
   "metadata": {},
   "source": [
    "# Chapter 1 Metric Spaces"
   ]
  },
  {
   "cell_type": "markdown",
   "id": "8bc894da-8c97-4976-83b2-53c3cacc6b91",
   "metadata": {},
   "source": [
    "## Definitions"
   ]
  },
  {
   "cell_type": "markdown",
   "id": "209c35fa-11bb-45ae-bdfa-4e534b682e35",
   "metadata": {},
   "source": [
    "### Metric space, metric\n",
    "\n",
    "A **metric space** is a pair $(X,d)$, where $X$ is a set and $d$ is a **metric** on the **underlying set** $X$.\n",
    "\n",
    "A metric is a function defined on $X\\times X$ such that for all **points**, $x,y,z\\in X$, we have, four **axiom of a metric**\n",
    "\n",
    "1. $d$ is real-valued, finite, and nonnegative\n",
    "2. $d(x,y)=0$ if and only if $x=y$\n",
    "3. $d(x,y)=d(y,x)$ symmetry\n",
    "4. $d(x,y)\\le d(x,z)+d(z,y)$, triangle inequality"
   ]
  },
  {
   "cell_type": "markdown",
   "id": "e6e67802-5e62-4c4b-ae7c-f44aeab78afc",
   "metadata": {},
   "source": [
    "### Subspace, induced metric\n",
    "\n",
    "A **subspace** $(Y,\\tilde d)$ of $(X,d)$ is obtained if we take a subset $Y\\subset X$ and restrict $d$ to $Y\\times Y$, thus the metric on $Y$ is the restriction:\n",
    "\n",
    "$$\n",
    "\\tilde d = d|_{Y\\times Y}\n",
    "$$\n",
    "\n",
    "$\\tilde d$ is called the metric **induced** on $Y$ by $d$."
   ]
  },
  {
   "cell_type": "markdown",
   "id": "f77e4f5f-5faa-4230-a30a-5c364e3bd609",
   "metadata": {},
   "source": [
    "### Discrete metric space\n",
    "\n",
    "For any set $X$, with the **discrete metric** $d$,\n",
    "\n",
    "$$\n",
    "d(x,x)=0,\\qquad d(x,y)=1 \\qquad \\forall x\\neq y\n",
    "$$\n",
    "\n",
    "The pair $(X,d)$ is called the **discrete metric space**"
   ]
  },
  {
   "cell_type": "markdown",
   "id": "b0c237d8-ac86-4938-9988-20d0603d1dfa",
   "metadata": {},
   "source": [
    "## Theorems"
   ]
  },
  {
   "cell_type": "markdown",
   "id": "9bbf51ec-5b3f-45b4-ba7d-6918ef85a6da",
   "metadata": {},
   "source": [
    "## Properties"
   ]
  },
  {
   "cell_type": "markdown",
   "id": "6bc1a699-fb91-433f-a90c-a09d40d307c2",
   "metadata": {},
   "source": [
    "### Triangle related inequality\n",
    "\n",
    "For $x,y,z\\in X$, we have,\n",
    "\n",
    "$$\n",
    "|d(x,z)-d(y,z)|\\le d(x,y)\\le d(x,z)+d(y,z)\n",
    "$$\n",
    "\n",
    "$$\n",
    "|d(x,y)-d(z,w)|\\le d(x,z)+d(y,w)\n",
    "$$"
   ]
  },
  {
   "cell_type": "code",
   "execution_count": null,
   "id": "af71d5a8-fb20-486a-8562-f19ce8eb26e6",
   "metadata": {},
   "outputs": [],
   "source": []
  }
 ],
 "metadata": {
  "kernelspec": {
   "display_name": "Python 3 (ipykernel)",
   "language": "python",
   "name": "python3"
  },
  "language_info": {
   "codemirror_mode": {
    "name": "ipython",
    "version": 3
   },
   "file_extension": ".py",
   "mimetype": "text/x-python",
   "name": "python",
   "nbconvert_exporter": "python",
   "pygments_lexer": "ipython3",
   "version": "3.10.12"
  }
 },
 "nbformat": 4,
 "nbformat_minor": 5
}
