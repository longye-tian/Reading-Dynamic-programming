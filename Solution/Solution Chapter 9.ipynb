{
 "cells": [
  {
   "cell_type": "markdown",
   "id": "c44fece3-6fab-4f5e-8e02-0bbbb2e2b197",
   "metadata": {},
   "source": [
    "### EXERCISE 9.1.1.\n",
    "\n",
    "Let $X$ be finite and consider the self-map on $V:=(\\mathbb{R}^X,\\le)$ defined by $Tv = r+ Av$ for some $r\\in\\mathbb{R}^X$ and $A\\in\\mathcal{L}(\\mathbb{R}^X)$ with $0\\le A$ and $\\rho(A)<1$.\n",
    "\n",
    "Prove that $T$ is order stable on $V$."
   ]
  },
  {
   "cell_type": "markdown",
   "id": "fe7ba208-01a9-4ac5-b839-5c8c3f0912e1",
   "metadata": {},
   "source": [
    "**Proof**\n",
    "\n",
    "We first show that $T$ has a unique fixed point, i.e.,\n",
    "\n",
    "$$\n",
    "\\bar v = r+A\\bar v \\implies \\bar v = (I-A)^{-1}r\n",
    "$$\n",
    "\n",
    "as $\\rho(A)<1$, we have $\\bar v$ is the unique fixed point of $T$.\n",
    "\n",
    "Now we prove that $T$ is both upward and downward stable.\n",
    "\n",
    "Let $v\\in V, v\\le Tv = r + Av \\implies v \\le (I-A)^{-1}r = \\bar v$.\n",
    "\n",
    "Let $v\\in V, Tv\\le v\\implies (I-A)^{-1} r \\le v \\implies \\bar v\\le v$.\n",
    "\n",
    "Hence, we have $Tv= r + Av$ is order stable."
   ]
  },
  {
   "cell_type": "markdown",
   "id": "38ddf527-eb63-431b-9d37-85f384bfb0b3",
   "metadata": {},
   "source": [
    "### EXERCISE 9.2.1.\n",
    "\n",
    "Show that\n",
    "\n",
    "1. $\\sigma\\in\\Sigma$ is $v$-greedy if and only if $T_\\sigma v = Tv$\n",
    "2. $T$ is order-preserving whenever $T_\\sigma$ is order-preserving for all $\\sigma\\in\\Sigma$."
   ]
  },
  {
   "cell_type": "markdown",
   "id": "39615eea-9d0c-4663-a43d-78555cd91f07",
   "metadata": {},
   "source": [
    "**Proof part 1**\n",
    "\n",
    "$(\\implies)$\n",
    "\n",
    "Suppose $\\sigma\\in \\Sigma$ is $v$-greedy. By definition, this implies, \n",
    "\n",
    "$$\n",
    "T_\\sigma v\\ge T_\\tau v\n",
    "$$\n",
    "\n",
    "for all $\\tau\\in\\Sigma$, i.e., this implies\n",
    "\n",
    "$$\n",
    "T_\\sigma v = \\bigvee_\\tau T_\\tau v = Tv\n",
    "$$\n",
    "\n",
    "$(\\impliedby)$\n",
    "\n",
    "Suppose we have $T_\\sigma v= Tv$. By definition, we have,\n",
    "\n",
    "$$\n",
    "T_\\sigma v = Tv = \\bigvee_\\tau T_\\tau v\n",
    "$$\n",
    "\n",
    "Hence, this implies \n",
    "\n",
    "$$\n",
    "T_\\sigma v \\ge T_\\tau v\n",
    "$$\n",
    "\n",
    "for all $\\tau\\in\\Sigma$. Hence, by definition, $\\sigma$ is the $v$-greedy policy.\n",
    "\n",
    "\n",
    "**Proof part 2**\n",
    "\n",
    "Let $T_\\sigma$ be an order-preserving self-map for all $\\sigma\\in\\Sigma$, i.e., let $v,v'\\in V$, $v\\le v'$, then,\n",
    "\n",
    "$$\n",
    "T_\\sigma v\\le T_\\sigma v'\n",
    "$$\n",
    "\n",
    "for all $\\sigma\\in\\Sigma$.\n",
    "\n",
    "Hence, we have\n",
    "\n",
    "$$\n",
    "Tv = \\bigvee_\\sigma v \\le \\bigvee_\\sigma v' = Tv'\n",
    "$$\n",
    "\n",
    "Hence, $T$ is order-preserving whenever $T_\\sigma$ is order-preserving for all $\\sigma\\in\\Sigma$."
   ]
  },
  {
   "cell_type": "markdown",
   "id": "cebd8081-682b-41de-b8eb-5a28be013a52",
   "metadata": {},
   "source": [
    "### EXERCISE 9.2.2.\n",
    "\n",
    "Show that the ADP in Example 9.1.3. is max-stable."
   ]
  },
  {
   "cell_type": "markdown",
   "id": "7abf627f-e3f9-4392-aa67-d6c8c83c40cb",
   "metadata": {},
   "source": [
    "**Proof**\n",
    "\n",
    "Since $\\Sigma$ is assumed to be finite, we only need to show that all the policy operators are order stable.\n",
    "\n",
    "\n",
    "We have,\n",
    "\n",
    "$$\n",
    "(S_\\sigma q)(x,a) = r(x,a)+\\beta\\sum_{x'}q(x',\\sigma(x'))P(x,a,x')\n",
    "$$\n",
    "\n",
    "\n",
    "We first prove that $S_\\sigma$ is order-preserving.\n",
    "\n",
    "\n",
    "Let $q\\le q'$, we have\n",
    "\n",
    "$$\n",
    "(S_\\sigma q)(x,a) = r(x,a)+\\beta\\sum_{x'}q(x',\\sigma(x'))P(x,a,x')\\le r(x,a)+\\beta\\sum_{x'}q'(x',\\sigma(x'))P(x,a,x') = (S_\\sigma q')(x,a)\n",
    "$$\n",
    "\n",
    "Hence, $S_\\sigma$ is order-presering for all $\\sigma\\in\\Sigma$.\n",
    "\n",
    "\n",
    "Then, we prove that $S_\\sigma$ is a contraction under supremum norm.\n",
    "\n",
    "\n",
    "$$\n",
    "|(S_\\sigma q)(x,a)-(S_\\sigma q')(x,a)|  = \\beta |\\sum_{x'}q(x',\\sigma(x'))P(x,a,x')-\\sum_{x'}q'(x',\\sigma(x'))P(x,a,x')|\\le \\beta\\|q-q'\\|_\\infty\n",
    "$$\n",
    "\n",
    "for all $(x,a)\\in G$. Hence, we have $S_\\sigma$ is a contraction on $\\mathbb{R}^G$, hence globally stable.\n",
    "\n",
    "\n",
    "By lemma 9.1.1., $S_\\sigma$ is order stable for all $\\sigma\\in\\Sigma$.\n",
    "\n",
    "This gives the proof.\n",
    "\n",
    "\n",
    "\n",
    "\n",
    "\n",
    "\n",
    "\n",
    "\n",
    "\n",
    "\n",
    "\n"
   ]
  },
  {
   "cell_type": "markdown",
   "id": "25c7e51a-a44e-4585-8df5-e8929e9e2b10",
   "metadata": {},
   "source": [
    "### EXERCISE 9.2.3.\n",
    "\n",
    "Prove that $V_\\Sigma\\subset V_u$."
   ]
  },
  {
   "cell_type": "markdown",
   "id": "024007a8-54ac-409c-8d7b-028ec674ebf6",
   "metadata": {},
   "source": [
    "**Proof**\n",
    "\n",
    "We want to show that $v_\\sigma\\precsim Tv_\\sigma$ for all $\\sigma\\in \\Sigma$.\n",
    "\n",
    "Since $v_\\sigma$ is the unique fixed point of $T_\\sigma$, we have,\n",
    "\n",
    "$$\n",
    "v_\\sigma = T_\\sigma v_\\sigma \\precsim (\\bigvee_\\sigma T_\\sigma) v_\\sigma = Tv_\\sigma\n",
    "$$"
   ]
  },
  {
   "cell_type": "markdown",
   "id": "087721bc-5e2f-499d-abf4-7cb01c0dee91",
   "metadata": {},
   "source": [
    "### EXERCISE 9.2.4.\n",
    "\n",
    "Fix $v\\in V$. Prove: If $\\varphi\\in\\Phi$ and for each $x\\in X$, the distribution $\\varphi_x$ is supported on $\\arg\\max_{a\\in\\Gamma(x)} B(x,a,v)$, then $\\hat T_\\varphi v\\ge \\hat T_\\psi v$ for all $\\psi\\in \\Phi$."
   ]
  },
  {
   "cell_type": "markdown",
   "id": "32f9bd8c-9607-41c7-8f31-7fd855831f9a",
   "metadata": {},
   "source": [
    "**Proof**\n",
    "\n",
    "As the distribution $\\varphi_x$ is supported on $A_x^* = \\arg\\max_{a\\in\\Gamma(x)} B(x,a,v)$, this implies, \n",
    "\n",
    "$$\n",
    "\\sum_{a\\in A_x^*} \\varphi_x(a)=1\n",
    "$$\n",
    "\n",
    "This implies,\n",
    "\n",
    "$$\n",
    "\\left(\\hat T_\\varphi v\\right)(x) = \\sum_{a\\in A}B(x,a,v)\\varphi_x(a) = \\sum_{a\\in A_x^*} B(x,a,v)\\varphi_x(a)\n",
    "$$\n",
    "\n",
    "Let $B^*(x,v) = \\max_{a\\in\\Gamma(x)} B(x,a,v)$. Then, we have,\n",
    "\n",
    "$$\n",
    "\\left(\\hat T_\\varphi v\\right)(x) = B^*(x,v) = \\max_{a\\in\\Gamma(x)} B(x,a,v)\\ge \\left(\\hat T_\\psi v\\right)(x)\n",
    "$$\n",
    "\n",
    "for all $\\psi\\in\\Phi$."
   ]
  },
  {
   "cell_type": "markdown",
   "id": "5ce4f581-f4e1-498f-a005-3936bc24191e",
   "metadata": {},
   "source": [
    "### EXERCISE 9.2.5.\n",
    "\n",
    "Show that, given $v\\in V$ and $x\\in X$, we have,\n",
    "\n",
    "$$\n",
    "\\max_{\\varphi\\in\\Phi}\\left(\\hat T_\\varphi v\\right)(x) = \\max_{a\\in\\Gamma(x)} B(x,a,v)\n",
    "$$"
   ]
  },
  {
   "cell_type": "markdown",
   "id": "922dd560-2f23-4438-9cd5-b5189b2543c6",
   "metadata": {},
   "source": [
    "**Proof**\n",
    "\n",
    "See Exercise 9.2.4."
   ]
  },
  {
   "cell_type": "markdown",
   "id": "407b8588-bae1-4560-9f1d-e7de4c66a494",
   "metadata": {},
   "source": [
    "### EXERCISE 9.2.6.\n",
    "\n",
    "Show that, under the assumptions stated above, $\\{\\hat T_\\varphi\\}_{\\varphi\\in\\Phi}$ and $\\hat T$ are all contraction mappings."
   ]
  },
  {
   "cell_type": "markdown",
   "id": "7a023d32-d19b-4eba-8485-9f3ca5ae3c9a",
   "metadata": {},
   "source": [
    "**Proof**\n",
    "\n",
    "We prove that $\\hat T_\\varphi$ is a contraction for all $\\varphi\\in \\Phi$ and hence the upper envelope $\\hat T$ is also a contraction.\n",
    "\n",
    "By definition, let $v,v'\\in V$ we have,\n",
    "\n",
    "$$\n",
    "\\begin{align*}\n",
    "\\left|\\left(\\hat T_\\varphi v\\right)(x) - \\left(\\hat T_\\varphi v'\\right)(x)\\right| &= \\left|\\sum_{a\\in A} (B(x,a,v)-B(x,a,v'))\\varphi_x(a)\\right|\\\\\n",
    "&\\le \\sum_{a\\in A} \\left|B(x,a,v)-B(x,a,v')\\right|\\varphi_x(a)\\\\\n",
    "&\\le \\beta \\|v-w\\|_\\infty \n",
    "\\end{align*}\n",
    "$$\n",
    "\n",
    "Hence, it is a contraction."
   ]
  },
  {
   "cell_type": "code",
   "execution_count": null,
   "id": "73a819ae-7fda-4180-a2c0-42628214cbe0",
   "metadata": {},
   "outputs": [],
   "source": []
  }
 ],
 "metadata": {
  "kernelspec": {
   "display_name": "Python 3 (ipykernel)",
   "language": "python",
   "name": "python3"
  },
  "language_info": {
   "codemirror_mode": {
    "name": "ipython",
    "version": 3
   },
   "file_extension": ".py",
   "mimetype": "text/x-python",
   "name": "python",
   "nbconvert_exporter": "python",
   "pygments_lexer": "ipython3",
   "version": "3.10.14"
  }
 },
 "nbformat": 4,
 "nbformat_minor": 5
}
