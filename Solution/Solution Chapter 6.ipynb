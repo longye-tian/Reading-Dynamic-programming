{
 "cells": [
  {
   "cell_type": "markdown",
   "id": "4e75e401-f67d-4c02-881b-29e71a6ea0e6",
   "metadata": {},
   "source": [
    "### EXERCISE 6.1.1.\n",
    "\n",
    "Consider Example 6.1.1. again but now assume that $(X_t)$ is P-Markov, $\\pi_t = \\pi(X_t)$ and $r_t = r(X_t)$ for some $r,\\pi \\in\\mathbb{R}^X$.\n",
    "\n",
    "The expected present value of the firm given current state $X_0 = x$ is\n",
    "\n",
    "$$\n",
    "v(x)=\\mathbb{E}_x\\sum_{t=0}^\\infty\\left[\\prod_{i=0}^t \\beta_i\\right]\\pi_t\n",
    "$$\n",
    "\n",
    "suggest a consider under which $v(x)$ is finite and discuss how to compute it."
   ]
  },
  {
   "cell_type": "markdown",
   "id": "f89d60a9-e260-45e7-b33d-2cb22fa803aa",
   "metadata": {},
   "source": [
    "**Solution**:\n",
    "\n",
    "As stated in the theorem 6.1.1., we need the spectral radius of $L$, $\\rho(L)<1$. Then, we use the Neumann series lemma, we get,\n",
    "\n",
    "$$\n",
    "v = (I-L)^{-1}\\pi\n",
    "$$\n",
    "\n",
    "To compute this value, we can either create an operator to compute this value using successive approximation or we can obtain the matrix and invert the matrix if the state space is not big."
   ]
  },
  {
   "cell_type": "markdown",
   "id": "b2feb7d2-b0fa-4a59-ba7a-c92623216e96",
   "metadata": {},
   "source": [
    "### EXERCISE 6.1.2.\n",
    "\n",
    "Let $X$ be partially ordered and assume $\\rho(L)<1$. Prove that $v$ is increasing on $X$ whenever $P$ is monotone increasing, $\\pi$ is increasing on $X$ and $r$ is decreasing on $X$."
   ]
  },
  {
   "cell_type": "markdown",
   "id": "1b7ea128-e481-4fac-8dd3-965452410dfb",
   "metadata": {},
   "source": [
    "**Proof**\n",
    "\n",
    "First, we have $\\beta_t = b(X_{t-1},X_t) = \\frac{1}{1+r_t} = \\frac{1}{1+r(X_t)}$. Then, since we have $r$ is decreasing on $X$, this implies, we have,\n",
    "\n",
    "$$\n",
    "\\beta_t = b(X_{t-1},X_t)\n",
    "$$\n",
    "\n",
    "is increasing on $X$, i.e., $b\\in i\\mathbb{R}^X$.\n",
    "\n",
    "Since we have $P$ is monotone increasing and $\\pi\\in i\\mathbb{R}^X$ and $\\rho(L)<1$, this implies we have for $x\\precsim y$,\n",
    "\n",
    "$$\n",
    "v(x) = \\left(\\sum_{t\\ge 0} L^t\\pi\\right)(x) = \\sum_{t\\ge 0} b(x,x')\\pi(x)P^t(x,x')\\le \\sum_{t\\ge 0} b(y,x')\\pi(y)P^t(y,x') = v(y)\n",
    "$$\n",
    "\n",
    "hence, $v$ is increasing."
   ]
  },
  {
   "cell_type": "markdown",
   "id": "312bc776-201d-4563-b5e3-e24c83544562",
   "metadata": {},
   "source": [
    "### EXERCISE 6.1.3.\n",
    "\n",
    "Let $P$ be irreducible. Show that, when $(X_t)$ is P-Markov with $X_0$ drawn from the unique stationary distribution $\\varphi^*$ of $P$, we also have,\n",
    "\n",
    "$$\n",
    "\\rho(L) = \\lim_{t\\to\\infty} \\left(\\mathbb{E}\\prod_{i=0}^t \\beta_i\\right)^{1/t}\n",
    "$$"
   ]
  },
  {
   "cell_type": "markdown",
   "id": "566ff310-9317-45ed-bb7d-7ced4c32f6c5",
   "metadata": {},
   "source": [
    "**Proof**\n",
    "\n",
    "Let\n",
    "\n",
    "$$\n",
    "h_t = \\mathbb{E}\\prod_{i=0}^t \\beta_i = \\sum_{x'\\in X} \\left(\\prod_{i=0}^t \\beta_i\\right)(x')\\varphi^*(x')\n",
    "$$\n",
    "\n",
    "Since, $P$ is irreducible, this implies $\\varphi^*\\gg 0$. Hence, by exercise 1.2.3., we know that,\n",
    "\n",
    "$$\n",
    "\\left(\\mathbb{E}\\prod_{i=0}^t \\beta_i\\right)^{1/t} = \\|h\\|_*^{1/t}\n",
    "$$\n",
    "\n",
    "Moreover, since every norm on $\\mathbb{R}^X$ is equivalent. Then, the first part of the lemma 6.1.2., gives the proof."
   ]
  },
  {
   "cell_type": "markdown",
   "id": "6fe0194f-99a4-4e0d-8067-2bc881ff19b3",
   "metadata": {},
   "source": [
    "### EXERCISE 6.1.4.\n",
    "\n",
    "Prove Theorem 6.1.5."
   ]
  },
  {
   "cell_type": "markdown",
   "id": "647d0284-e430-45c6-beda-876bf3f694ed",
   "metadata": {},
   "source": [
    "**Proof**\n",
    "\n",
    "Let $U$ be a closed subset of $\\mathbb{R}^X$, and $X$ is finite. \n",
    "\n",
    "Let $T$ be a self-map on $U$. \n",
    "\n",
    "Since $T$ is eventually contracting, this implies there exists $k\\in\\mathbb{N}$ such that $T^k$ is a contraction under some norm $\\|\\cdot\\|$ with modulus $\\lambda$\n",
    "\n",
    "Since a closed subset of a complete metric space is a complete metric space, we get $U$ is complete. \n",
    "\n",
    "Hence, we have, by the Banach fixed point theorem, we have $T^k$ has a unique fixed point and \n",
    "\n",
    "$$\n",
    "\\|(T^k)^nu -u^*\\| \\le \\lambda^n\\|u-u^*\\|\n",
    "$$\n",
    "\n",
    "for all $n\\in \\mathbb{N}$.\n",
    "\n",
    "This implies, for all $\\epsilon>0$, there exists $N(\\epsilon,k)\\in\\mathbb{N}$, such that $kn \\ge N$ implies \n",
    "\n",
    "$$\n",
    "\\|T^{kn}u -u^*\\|<\\epsilon\n",
    "$$\n",
    "\n",
    "Hence, we have $T$ is globally stable. \n"
   ]
  },
  {
   "cell_type": "markdown",
   "id": "f748f86a-d9a4-4029-8b5c-3b6e7feb7cb6",
   "metadata": {},
   "source": [
    "### EXERCISE 6.1.5.\n",
    "\n",
    "Let $\\|\\cdot\\|_a$ and $\\|\\cdot\\|_b$ be norms on $\\mathbb{R}^X$ and let $T$ be a self-map on $U\\subset \\mathbb{R}^X$ such that $T^k$ is a contraction on $U$ with respect to $\\|\\cdot\\|_a$ for some $k\\in\\mathbb{N}$.\n",
    "\n",
    "Prove that there exists an $\\ell\\in\\mathbb{N}$ such that $T^\\ell$ is a contraction on $U$ with respect to $\\|\\cdot\\|_b$."
   ]
  },
  {
   "cell_type": "markdown",
   "id": "6b8e883b-4c38-43c7-9575-593f42ec0897",
   "metadata": {},
   "source": [
    "**Proof**\n",
    "\n",
    "Since $X$ is finite, we know there exists an equivalence relationship between $\\|\\cdot\\|_a$ and $\\|\\cdot\\|_b$. In other words, there exists positive number $N,M$ such that\n",
    "\n",
    "$$\n",
    "M\\|u\\|_a \\le \\|u\\|_b \\le N\\|u\\|_a\n",
    "$$\n",
    "\n",
    "or\n",
    "\n",
    "$$\n",
    "\\frac{1}{N}\\|u\\|_b\\le \\|u\\|_a \\le \\frac{1}{M} \\|u\\|_b\n",
    "$$\n",
    "\n",
    "Since $T^k$ is a contraction with respect to $\\|\\cdot\\|_a$, and suppose it has modulus $\\lambda_k$, by definition, we have,\n",
    "\n",
    "\\begin{align*}\n",
    "\\|T^k u - T^k v\\|_b &\\le N\\|T^k u - T^k v\\|_a\\\\\n",
    "&\\le N\\lambda_k \\|u-v\\|_a\\\\\n",
    "&\\le \\frac{N\\lambda_k}{M}\\|u-v\\|_b\n",
    "\\end{align*}\n",
    "\n",
    "Next, we prove the following statement by induction:\n",
    "\n",
    "$$\n",
    "\\|(T^k)^n u- (T^k)^n v\\|_b \\le \\frac{N\\lambda_k^n}{M}\\|u-v\\|_b\n",
    "$$\n",
    "\n",
    "for all $n\\in\\mathbb{N}$.\n",
    "\n",
    "When $n=1$, the statement is true as we prove it before.\n",
    "\n",
    "Suppose, when at $n$, the above statement is true. Now we prove that it is also true at $n+1$ as follows,\n",
    "\n",
    "\\begin{align*}\n",
    "\\|(T^k)^{n+1} u - (T^k)^{n+1} v\\|_b &= \\|T^k(T^k)^{n} u - T^k(T^k)^{n} v\\|_b\\\\\n",
    "&\\le \\lambda_k\\|(T^k)^n u- (T^k)^n v\\|_b\\\\\n",
    "&\\le \\frac{N\\lambda_k^{n+1}}{M}\\|u-v\\|_b\n",
    "\\end{align*}\n",
    "\n",
    "This gives the proof of the above statement. \n",
    "\n",
    "This statement implies there exists $n\\in \\mathbb{N}$ such that, $\\frac{N\\lambda_k^{n}}{M}<1$, let $n'$ denote that. Then, we have $\\ell = kn^*$ and let $\\lambda_\\ell:= \\frac{N\\lambda_k^{n}}{M}<1$, hence, we have,\n",
    "\n",
    "$$\n",
    "\\|T^\\ell u -T^ell v\\|_b \\le \\lambda_\\ell \\|u-v\\|_b\n",
    "$$\n",
    "\n",
    "Hence, we have $T^\\ell$ is a contraction."
   ]
  },
  {
   "cell_type": "markdown",
   "id": "e949432b-5f0d-4a64-869e-e0bc9d8454d2",
   "metadata": {},
   "source": [
    "### EXERCISE 6.2.1.\n",
    "\n",
    "Fix $\\sigma \\in\\Sigma$, set $\\beta_t:=\\beta(X_{t-1}, \\sigma(X_{t-1}),X_t)$ for $t\\ge 1$ and $\\beta_0 = 1$.\n",
    "\n",
    "Let $(X_t)$ be $P_\\sigma$-Markov with initial condition $x$. \n",
    "\n",
    "Prove that, under assumption 6.2.1., the function $v_\\sigma$ obeys\n",
    "\n",
    "$$\n",
    "v_\\sigma(x) = \\mathbb{E}_x \\sum_{t=0}^\\infty\\left[\\prod_{i=0}^t \\beta_i\\right] r_\\sigma(X_t)\n",
    "$$"
   ]
  },
  {
   "cell_type": "markdown",
   "id": "cc60fb75-63be-45b3-a156-18c6c143ae04",
   "metadata": {},
   "source": [
    "**Proof**\n",
    "\n",
    "Discussed in the main text, under the assumption, using lemma 6.2.1., we have\n",
    "\n",
    "$$\n",
    "v_\\sigma = (I-L_\\sigma)^{-1} r_\\sigma = (I + L + L^2 + \\cdots) r_\\sigma = \\sum_{t=0}^\\infty L_\\sigma^t r_\\sigma\n",
    "$$\n",
    "\n",
    "This implies with initial condition $X_0=x$, we have,\n",
    "\n",
    "$$\n",
    "v_\\sigma(x) = \\mathbb{E}_x\\sum_{t=0}^\\infty L_\\sigma^t r_\\sigma (X_t)\n",
    "$$\n",
    "\n",
    "Now apply the definition of $L_\\sigma$, we have,\n",
    "\n",
    "$$\n",
    "v_\\sigma(x) = \\mathbb{E}_x\\sum_{t=0}^\\infty \\mathbb{E}_t \\beta^t(x,\\sigma(x),x') r_\\sigma (x)\n",
    "$$\n",
    "\n",
    "Using monotone convergence theorem and dominated convergence theorem, we get,\n",
    "\n",
    "$$\n",
    "v_\\sigma(x) = \\mathbb{E}_x \\mathbb{E}_t \\sum_{t=0}^\\infty \\beta^t(x,\\sigma(x),x') r_\\sigma (x)\n",
    "$$\n",
    "\n",
    "Using iterated law of expectation, we have, \n",
    "\n",
    "$$\n",
    "v_\\sigma(x) = \\mathbb{E}_x \\sum_{t=0}^\\infty \\prod_{i=0}^t \\beta (X_i,\\sigma(X_i), X_t) r_\\sigma (X_t)\n",
    "$$\n",
    "\n",
    "This gives the proof."
   ]
  },
  {
   "cell_type": "markdown",
   "id": "2e8b42cc-c730-4ad5-8191-7c1e4af68044",
   "metadata": {},
   "source": [
    "### EXERCISE 6.2.2.\n",
    "\n",
    "Show that under assumption 6.2.1., the operator $T_\\sigma$ is globally stable on $\\mathbb{R}^X$. "
   ]
  },
  {
   "cell_type": "markdown",
   "id": "9a8882e6-54f9-44fd-9c46-9097231797f2",
   "metadata": {},
   "source": [
    "**Proof**\n",
    "\n",
    "We prove this statement by first showing that $T_\\sigma$ is eventually contracting. Then we use Theorem 6.1.5. to get $T_\\sigma$ is globally stable.\n",
    "\n",
    "To show that $T_\\sigma$ is eventually contracting, we follow proposition 6.1.6.\n",
    "\n",
    "Since we already assume $\\rho(L_\\sigma)<1$. We only need to show that\n",
    "\n",
    "$$\n",
    "|T_\\sigma v - T_\\sigma w|\\le L_\\sigma|v-w|\n",
    "$$\n",
    "\n",
    "for all $v,w\\in U$.\n",
    "\n",
    "By definition, we have,\n",
    "\n",
    "\\begin{align*}\n",
    "|T_\\sigma v-T_\\sigma w| &= |r_\\sigma + L_\\sigma v -r_\\sigma -L_\\sigma w|\\\\\n",
    "&= |L_\\sigma v-L_\\sigma w|\\\\\n",
    "&\\le L_\\sigma|v-w|\n",
    "\\end{align*}\n",
    "\n",
    "The last inequality is by $L_\\sigma \\in \\mathcal{L}(\\mathbb{R}^X)$ is a positive linear operator, this gives the proof."
   ]
  },
  {
   "cell_type": "markdown",
   "id": "ddabb452-0712-4c46-b403-4dde7e69a294",
   "metadata": {},
   "source": [
    "### EXERCISE 6.2.3. \n",
    "\n",
    "Show that under the assumption 6.2.1 holds whenever there exists an $L\\in \\mathcal{L}(\\mathbb{R}^X)$ such that $\\rho(L)<1$ and\n",
    "\n",
    "$$\n",
    "\\beta(x,a,x')P(x,a,x')\\le L(x,x')\n",
    "$$\n",
    "\n",
    "for all $(x,a)\\in G$ and $x'\\in X$."
   ]
  },
  {
   "cell_type": "markdown",
   "id": "e8f04bf2-ce46-460b-b0e7-cd0fb5bc269f",
   "metadata": {},
   "source": [
    "**Proof**\n",
    "\n",
    "Given there exists $L \\in\\mathcal{L}(\\mathbb{R}^X)$ such that $\\rho(L)<1$ and\n",
    "\n",
    "$$\n",
    "\\beta(x,a,x')P(x,a,x')\\le L(x,x')\n",
    "$$\n",
    "\n",
    "for all $(x,a)\\in G$ and $x'\\in X$.\n",
    "\n",
    "By definition, this implies, for all $\\sigma\\in \\Sigma$, we have,\n",
    "\n",
    "$$\n",
    "0\\le L_\\sigma\\le L\n",
    "$$\n",
    "\n",
    "By Exercise 2.2.28, this implies, we have for all $\\sigma\\in \\Sigma$,\n",
    "\n",
    "$$\n",
    "\\rho(L_\\sigma)\\le \\rho(L)<1\n",
    "$$\n",
    "\n",
    "This gives the proof."
   ]
  },
  {
   "cell_type": "markdown",
   "id": "2a168504-fd8e-411d-ab8b-41d65d2d4676",
   "metadata": {},
   "source": [
    "### EXERCISE 6.2.4. \n",
    "\n",
    "Prove proposition 6.2.3."
   ]
  },
  {
   "cell_type": "markdown",
   "id": "ea97aa4e-adcf-4775-8180-dbec6262bc92",
   "metadata": {},
   "source": [
    "**Proof**\n",
    "\n",
    "Let $L'(x,a,x') = \\beta(z,z')Q(z,z')R(y,a,y')$.\n",
    "\n",
    "According to Lemma 6.1.3., under the current definition, we know that $\\rho(L)<1$ implies $\\rho(L')<1$. This implies the assumption is satisfied hence we get proposition 6.2.2."
   ]
  },
  {
   "cell_type": "markdown",
   "id": "3d444738-6c2b-4076-9a34-2f1448b90110",
   "metadata": {},
   "source": [
    "### EXERCISE 6.3.1.\n",
    "\n",
    "Show that $\\rho(A)<1$ is both sufficient and necessary for existence of a unique solution to \n",
    "\n",
    "$$\n",
    "\\pi(x) = \\sum_{x'\\in X} m(x,x')(\\pi(x')+d(x'))P(x,x')\n",
    "$$\n",
    "\n",
    "in $(0,\\infty)^X$ whenever $m,d\\gg 0$."
   ]
  },
  {
   "cell_type": "markdown",
   "id": "1477f628-a88f-4f92-bb38-767daed79b52",
   "metadata": {},
   "source": [
    "**Proof**\n",
    "\n",
    "$(\\implies)$\n",
    "\n",
    "Suppose $\\rho(A)<1$, by Neumann series lemma, we have the existence of a unique solution.\n",
    "\n",
    "$(\\impliedby)$\n",
    "\n",
    "Suppose there exists a unique solution to \n",
    "\n",
    "$$\n",
    "\\pi(x) = \\sum_{x'\\in X} m(x,x')(\\pi(x')+d(x'))P(x,x')\n",
    "$$\n",
    "\n",
    "in $(0,\\infty)^X$ and $m,d\\gg 0$.\n",
    "\n",
    "Since $m\\gg 0$ and $P\\ge 0$, this implies we have $A\\gg 0$. Combining with $d\\gg 0$, this implies $Ad\\gg 0$. \n",
    "\n",
    "Since we have a unique solution, let $\\pi^*$ denote this unique solution. Then, we have,\n",
    "\n",
    "$$\n",
    "\\pi^* = A\\pi^* + Ad\n",
    "$$\n",
    "\n",
    "This implies $A\\pi^* = \\pi^*-Ad$, hence, $A\\pi^*\\ll \\pi^*$. \n",
    "\n",
    "In the asset pricing settings, we have $\\pi\\ge 0$. This implies the maximum row sum of $A<1$. Hence, this implies $\\rho(A)<1$ using the corollary of Perron-Frobenius Theorem. "
   ]
  },
  {
   "cell_type": "markdown",
   "id": "c9d90cba-947e-4e5f-85a0-25fabf07a12d",
   "metadata": {},
   "source": [
    "### EXERCISE 6.3.2.\n",
    "\n",
    "As discussed in 6.3.1.1., the case $m\\equiv \\beta$ for some $\\beta \\in\\mathbb{R}_+$ is called the risk-neutral case.\n",
    "\n",
    "Provide the condition on $\\beta$ under which $\\rho(A)<1$."
   ]
  },
  {
   "cell_type": "markdown",
   "id": "25e52500-1609-4828-b550-a838c7f9a035",
   "metadata": {},
   "source": [
    "**Solution**\n",
    "\n",
    "Under constant discount rate $\\beta\\in\\mathbb{R}_+$, we have,\n",
    "\n",
    "$$\n",
    "\\rho(A) = \\rho(\\beta P) = \\beta<1\n",
    "$$"
   ]
  },
  {
   "cell_type": "markdown",
   "id": "d0143809-bcca-4122-a49e-1e6b7ee09001",
   "metadata": {},
   "source": [
    "### EXERCISE 6.3.3.\n",
    "\n",
    "Confirm that $(\\Pi_t)_{t\\ge 0}$ generated by $\\Pi_t=\\pi^*(X_t)$ solves\n",
    "\n",
    "$$\n",
    "\\Pi_t = \\mathbb{E}_t M_{t+1}(\\Pi_{t+1}+D_{t+1})\n",
    "$$"
   ]
  },
  {
   "cell_type": "markdown",
   "id": "f0c6e8d0-27b1-44ac-8861-cf3f8808e28c",
   "metadata": {},
   "source": [
    "**Solution**\n",
    "\n",
    "We have $\\pi^*(X_t+1) = (I-A)^{-1}Ad(X_t+1)$. This implies to show that this process solves that equation is equivalent to show that\n",
    "\n",
    "$$\n",
    "(I-A)^{-1}Ad = A((I-A)^{-1}Ad+d)\n",
    "$$\n",
    "\n",
    "which is straightforward to show using simple linear algebra."
   ]
  },
  {
   "cell_type": "markdown",
   "id": "9625201d-71b6-44c9-892c-e85e899f00ad",
   "metadata": {},
   "source": [
    "### EXERCISE 6.3.4.\n",
    "\n",
    "Derive the price for a **cum-dividend contract** on the dividend stream $(D_t)_{t\\ge 0}$, with the model otherwise unchanged. Under this contract, should the right to the dividend stream be traded at time $t$, the dividend paid at time $t$ goes to the buyer rather than the seller."
   ]
  },
  {
   "cell_type": "markdown",
   "id": "d060433b-3939-4815-8f05-d06167dd3be9",
   "metadata": {},
   "source": [
    "**Solution**\n",
    "\n",
    "Under this setting, the price dynamics follows:\n",
    "\n",
    "$$\n",
    "\\Pi_t=D_t+ \\mathbb{E}_tM_{t+1} \\Pi_{t+1}\n",
    "$$\n",
    "\n",
    "Conditioning on initial state $X_0=x$, we have,\n",
    "\n",
    "$$\n",
    "\\pi(x) =d(x) \\sum_{x'\\in X} m(x,x')\\pi(x')P(x,x')\n",
    "$$\n",
    "\n",
    "Hence, we have,\n",
    "\n",
    "$$\n",
    "\\pi= A\\pi+d\n",
    "$$\n",
    "\n",
    "Hence, if we have $\\rho(A)<1$, this implies, the price is\n",
    "\n",
    "$$\n",
    "\\pi = (I-A)^{-1}d\n",
    "$$"
   ]
  },
  {
   "cell_type": "code",
   "execution_count": null,
   "id": "8c6f037e-6029-4c80-a182-30da0dbe3ed4",
   "metadata": {},
   "outputs": [],
   "source": []
  }
 ],
 "metadata": {
  "kernelspec": {
   "display_name": "Python 3 (ipykernel)",
   "language": "python",
   "name": "python3"
  },
  "language_info": {
   "codemirror_mode": {
    "name": "ipython",
    "version": 3
   },
   "file_extension": ".py",
   "mimetype": "text/x-python",
   "name": "python",
   "nbconvert_exporter": "python",
   "pygments_lexer": "ipython3",
   "version": "3.10.12"
  }
 },
 "nbformat": 4,
 "nbformat_minor": 5
}
