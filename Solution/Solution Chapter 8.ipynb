{
 "cells": [
  {
   "cell_type": "markdown",
   "id": "646418ba-ae65-46dc-9096-8cca45243b2f",
   "metadata": {},
   "source": [
    "### EXERCISE 8.1.1.\n",
    "\n",
    "Verify that the monotonicity and consistency conditions hold for Example 8.1.3."
   ]
  },
  {
   "cell_type": "markdown",
   "id": "ea228f28-84ef-40bd-acbd-de929f31cf8d",
   "metadata": {},
   "source": [
    "**Proof**\n",
    "\n",
    "From (8.6), we have the following value aggregator\n",
    "\n",
    "$$\n",
    "B(x,a,v) = ae(x)+(1-a)\\left[c(x)+\\beta\\sum_{x'}v(x')P(x,x')\\right]\n",
    "$$\n",
    "\n",
    "We first show that this value aggregator is monotonic.\n",
    "\n",
    "Let $v,w\\in V$ and $v\\le w$. Then, we have,\n",
    "\n",
    "$$\n",
    "B(x,a,v) = ae(x)+(1-a)\\left[c(x)+\\beta\\sum_{x'}v(x')P(x,x')\\right]\\le ae(x)+(1-a)\\left[c(x)+\\beta\\sum_{x'}w(x')P(x,x')\\right] = B(x,a,w)\n",
    "$$\n",
    "\n",
    "Then, we prove that this value aggregator is consistent\n",
    "\n",
    "Let $\\sigma\\in \\Sigma$ and $v\\in V$, we have,\n",
    "\n",
    "$$\n",
    "B(x,\\sigma(x),v) = \\sigma(x)e(x)+(1-\\sigma(x))\\left[c(x)+\\beta\\sum_{x'}v(x')P(x,x')\\right]\n",
    "$$\n",
    "\n",
    "Since $\\sigma(x)\\in \\Gamma(x)$, this implies, $(x,\\sigma(x))\\in G$, hence, $w(x)=B(x,\\sigma(x),v)\\in\\mathbb{R}$. This gives us the consistency."
   ]
  },
  {
   "cell_type": "markdown",
   "id": "5a11295d-ff39-46eb-a43d-97b62202eaf3",
   "metadata": {},
   "source": [
    "### EXERCISE 8.1.2.\n",
    "\n",
    "Show that the RDP in Example 8.1.4. can also be expressed as an MDP."
   ]
  },
  {
   "cell_type": "markdown",
   "id": "4fd46108-0d9a-46c1-b1f4-aa35356a338f",
   "metadata": {},
   "source": [
    "**Solution**\n",
    "\n",
    "We let\n",
    "\n",
    "- $X:=Y\\times Z$ denote the state space, where\n",
    "- $Y$: denote the action space\n",
    "- $Z$: denote the exogenous space, with $(Z_t)$ is $Q$-Markov\n",
    "\n",
    "We have the feasible correspondence as\n",
    "\n",
    "$$\n",
    "\\Gamma: X\\mapsto \\mathcal{P}(A)\n",
    "$$\n",
    "\n",
    "Let \n",
    "\n",
    "- $\\beta$: denote the discount factor\n",
    "- $F: G\\times A\\mapsto \\mathbb{R}$ denote the current reward\n",
    "- $P((y,z), q, (y',z')) = \\mathbb{1}\\{y'=q\\}Q(z,z')$ be the stochastic kernel.\n",
    "\n",
    "Now, we set $\\mathcal{M} = (\\Gamma, \\beta, F, P)$ is the MDP representation."
   ]
  },
  {
   "cell_type": "markdown",
   "id": "746df3d2-0f2c-4bdf-9ee8-f1436ce2158f",
   "metadata": {},
   "source": [
    "### EXERCISE 8.1.3.\n",
    "\n",
    "Verify that $(\\Gamma, V,B)$ as defined in Example 8.1.5. is an RDP."
   ]
  },
  {
   "cell_type": "markdown",
   "id": "24df868f-bd84-43ac-a272-f15695e4ddb9",
   "metadata": {},
   "source": [
    "**Proof**\n",
    "\n",
    "We need to show that $B$ satisfies the monotonicity and consistency condition.\n",
    "\n",
    "We have,\n",
    "\n",
    "$$\n",
    "B(x,a,v) = r(x,a)+\\sum_{x'}v(x')\\beta(x,a,x')P(x,a,x')\n",
    "$$\n",
    "\n",
    "For monotonicity, let $v,w\\in V$ and $v\\le w$, we have,\n",
    "\n",
    "$$\n",
    "B(x,a,v) = r(x,a)+\\sum_{x'}v(x')\\beta(x,a,x')P(x,a,x')\\le r(x,a)+\\sum_{x'}w(x')\\beta(x,a,x')P(x,a,x') = B(x,a,w)\n",
    "$$\n",
    "\n",
    "For consistency, let $\\sigma\\in\\Sigma$, $v\\in V$, we have,\n",
    "\n",
    "$$\n",
    "B(x,\\sigma(x),v) = r(x,\\sigma(x))+\\sum_{x'}v(x')\\beta(x,\\sigma(x),x')P(x,\\sigma(x),x')\n",
    "$$\n",
    "\n",
    "Since we have $\\sigma(x)\\in \\Gamma(x)$, we have $w(x)=B(x,\\sigma(x),v)\\in\\mathbb{R}$. This proves consistency."
   ]
  },
  {
   "cell_type": "markdown",
   "id": "b6954e4c-2719-493b-971c-21a90ddad435",
   "metadata": {},
   "source": [
    "### EXERCISE 8.1.4.\n",
    "\n",
    "Confirm that the risk-sensitive model $(\\Gamma, V,B)$ in Example 8.1.6. is an RDP for all nonzero $\\theta$."
   ]
  },
  {
   "cell_type": "markdown",
   "id": "24ea033c-4118-4860-9779-36769ebecaa1",
   "metadata": {},
   "source": [
    "**Proof**\n",
    "\n",
    "We have,\n",
    "\n",
    "$$\n",
    "B(x,a,v) = r(x,a)+\\beta\\frac{1}{\\theta}\\ln\\left\\{\\sum_{x'}\\exp(\\theta v(x'))P(x,a,x')\\right\\}\n",
    "$$\n",
    "\n",
    "We need to show monotonicity and consistency holds.\n",
    "\n",
    "For monotonicity, let $v,w\\in V$ and $v\\le w$. Then we have,\n",
    "\n",
    "$$\n",
    "B(x,a,v) = r(x,a)+\\beta\\frac{1}{\\theta}\\ln\\left\\{\\sum_{x'}\\exp(\\theta v(x'))P(x,a,x')\\right\\}\\le r(x,a)+\\beta\\frac{1}{\\theta}\\ln\\left\\{\\sum_{x'}\\exp(\\theta w(x'))P(x,a,x')\\right\\} = B(x,a,w)\n",
    "$$\n",
    "\n",
    "For consistency, let $\\sigma\\in\\Sigma$, $v\\in V$, we have,\n",
    "\n",
    "$$\n",
    "B(x,\\sigma(x),v) = r(x,\\sigma(x))+\\beta\\frac{1}{\\theta}\\ln\\left\\{\\sum_{x'}\\exp(\\theta v(x'))P(x,\\sigma(x),x')\\right\\}\n",
    "$$\n",
    "\n",
    "Since we have $\\sigma(x)\\in \\Gamma(x)$, we have $w(x)=B(x,\\sigma(x),v)\\in\\mathbb{R}$. This proves consistency."
   ]
  },
  {
   "cell_type": "markdown",
   "id": "a6092716-891e-4610-9edc-2f546cb4ce6b",
   "metadata": {},
   "source": [
    "### EXERCISE 8.1.5.\n",
    "\n",
    "Let $V$ be all strictly positive functions in $\\mathbb{R}^X$. Then $(\\Gamma, V,B)$ in Example 8.1.7. is an RDP."
   ]
  },
  {
   "cell_type": "markdown",
   "id": "30fb06a9-95cb-47ce-8654-a68cc863ca31",
   "metadata": {},
   "source": [
    "**Proof**\n",
    "\n",
    "We have,\n",
    "\n",
    "$$\n",
    "B(x,a,v) = \\left\\{r(x,a)+\\beta\\left[\\sum_{x'}v(x')^\\gamma P(x,a,x')\\right]^{\\alpha/\\gamma}\\right\\}^{1/\\alpha}\n",
    "$$\n",
    "\n",
    "We want to show that monotonicity and consistency holds.\n",
    "\n",
    "For monotonicity, let $v,w\\in V$ and $0\\ll v\\le w$, we have,\n",
    "\n",
    "$$\n",
    "B(x,a,v) = \\left\\{r(x,a)+\\beta\\left[\\sum_{x'}v(x')^\\gamma P(x,a,x')\\right]^{\\alpha/\\gamma}\\right\\}^{1/\\alpha}\\le \\left\\{r(x,a)+\\beta\\left[\\sum_{x'}w(x')^\\gamma P(x,a,x')\\right]^{\\alpha/\\gamma}\\right\\}^{1/\\alpha} = B(x,a,w)\n",
    "$$\n",
    "\n",
    "\n",
    "For consistency, let $\\sigma\\in\\Sigma$, $v\\in V$, we have,\n",
    "\n",
    "$$\n",
    "B(x,\\sigma(x),v) = \\left\\{r(x,\\sigma(x))+\\beta\\left[\\sum_{x'}v(x')^\\gamma P(x,\\sigma(x),x')\\right]^{\\alpha/\\gamma}\\right\\}^{1/\\alpha}\n",
    "$$\n",
    "\n",
    "Since we have $\\sigma(x)\\in \\Gamma(x)$, we have $w(x)=B(x,\\sigma(x),v)\\in\\mathbb{R}$. This proves consistency."
   ]
  },
  {
   "cell_type": "markdown",
   "id": "d482ce76-8da2-46c4-9155-6073caf4bd7d",
   "metadata": {},
   "source": [
    "### EXERCISE 8.1.6.\n",
    "\n",
    "Show that $T_\\sigma$ is an order-preserving self-map on $V$ for all $\\sigma\\in\\Sigma$."
   ]
  },
  {
   "cell_type": "markdown",
   "id": "553b3a27-719b-4925-b00f-93022cad5c6b",
   "metadata": {},
   "source": [
    "**Proof**\n",
    "\n",
    "Since $(T_\\sigma v)(x) = B(x,\\sigma(x),v)$ and by consistency, we have $T_\\sigma v\\in V$. Hence, $T_\\sigma$ is a self-map.\n",
    "\n",
    "Let $v,w\\in V$ and $v\\le w$.\n",
    "\n",
    "Then we have,\n",
    "\n",
    "$$\n",
    "(T_\\sigma v)(x) = B(x,\\sigma(x),v)\\le B(x,\\sigma(x),w) = (T_\\sigma w)(x)\n",
    "$$\n",
    "\n",
    "By the monotonicity of $B$.\n",
    "\n",
    "Hence $T_\\sigma$ is order-preserving."
   ]
  },
  {
   "cell_type": "markdown",
   "id": "52011e7a-1160-4be6-9b51-4da5ed4386ff",
   "metadata": {},
   "source": [
    "### EXERCISE 8.1.7.\n",
    "\n",
    "Show that for each $v\\in V$, the set $\\{T_\\sigma v\\}_{\\sigma\\in\\Sigma}\\subset V$ contains a least and greatest element.\n",
    "\n",
    "Explain the connection between the greatest element and $v$-greedy policies."
   ]
  },
  {
   "cell_type": "markdown",
   "id": "27283c23-1bc9-4bda-aa9c-4ffe24c9dcd0",
   "metadata": {},
   "source": [
    "**Proof**\n",
    "\n",
    "By definition, we have,\n",
    "\n",
    "$$\n",
    "(T_\\sigma v)(x_i) = B(x,\\sigma(x_i),v)\n",
    "$$\n",
    "\n",
    "for $i=1,2,\\cdots,N$, where $N$ is the cardinality of $X$.\n",
    "\n",
    "Let $\\sigma_i\\in \\arg\\max_{\\sigma\\in\\Sigma} B(x,\\sigma(x),v)$.\n",
    "\n",
    "Let $\\sigma (x_i)=\\sigma_i(x_i)$, then $\\sigma (x_i)\\ge \\sigma'(x_i)$ for all $\\sigma'\\in\\Sigma$. Hence, we have a greatest element. This is the v-greedy policy.\n",
    "\n",
    "Similarly, change the above argument to minimum, we also get a least element."
   ]
  },
  {
   "cell_type": "markdown",
   "id": "5a2f05ad-0d7d-4a47-bceb-4692107b3bba",
   "metadata": {},
   "source": [
    "### EXERCISE 8.1.8.\n",
    "\n",
    "Given RDP $\\mathcal{R}=(\\Gamma, V, B)$ with policy operators $\\{T_\\sigma\\}$ and Bellman operator $T$,  show that, for each $v\\in V$,\n",
    "\n",
    "1. $Tv= \\bigvee_\\sigma T_\\sigma v:= \\bigvee_{\\sigma\\in\\Sigma}(T_\\sigma v)$\n",
    "2. $\\sigma$ is $v$-greedy if and only if $Tv=T_\\sigma v$\n",
    "3. $T$ is an order-preserving self-map on $V$"
   ]
  },
  {
   "cell_type": "markdown",
   "id": "31622181-11b2-4657-b50f-e28b5441f16b",
   "metadata": {},
   "source": [
    "**Proof part 1**\n",
    "\n",
    "By definition, we have,\n",
    "\n",
    "$$\n",
    "(Tv)(x) = \\max_{a\\in\\Gamma(x)} B(x,a,v)\n",
    "$$\n",
    "\n",
    "We want to show that\n",
    "\n",
    "$$\n",
    "\\max_{a\\in\\Gamma(x)} B(x,a,v) = \\max_{\\sigma\\in\\Sigma} (T_\\sigma v)(x)\n",
    "$$\n",
    "\n",
    "From EXERCISE 8.1.7., we have shown that there exists $\\sigma$ such that \n",
    "$$\n",
    "\\sigma(x) = a_x\\in\\arg\\max_{a\\in \\Gamma(x)}B(x,a,v)\n",
    "$$\n",
    "\n",
    "This proves part 1.\n",
    "\n",
    "**Proof part 2**\n",
    "\n",
    "$(\\implies)$\n",
    "\n",
    "Suppose $\\sigma$ is $v$-greedy, by definition, this implies,\n",
    "\n",
    "$$\n",
    "\\sigma(x)\\in \\arg\\max_{a\\in\\Gamma(x)} B(x,a,v)\n",
    "$$\n",
    "\n",
    "Hence, we have,\n",
    "\n",
    "$$\n",
    "(T_\\sigma v)(x) = \\max_{a\\in\\Gamma(x)} B(x,a,v) = (Tv)(x)\n",
    "$$\n",
    "\n",
    "$(\\impliedby)$\n",
    "\n",
    "Suppose we have $(Tv)(x)=(T_\\sigma v)(x)$, this implies, we have,\n",
    "\n",
    "$$\n",
    "(T_\\sigma v)(x) = \\max_{a\\in\\Gamma(x)}B(x,a,v) = B(x,\\sigma(x),v)\n",
    "$$\n",
    "\n",
    "Hence, we have,\n",
    "\n",
    "$$\n",
    "\\sigma(x) \\in\\arg\\max_{a\\in\\Gamma(x)} B(x,a,v) \n",
    "$$\n",
    "\n",
    "by definition, $\\sigma$ is the $v$-greedy policy.\n",
    "\n",
    "**Proof part 3**\n",
    "\n",
    "We first show that $T$ is a self-map.\n",
    "\n",
    "Let $v\\in V$, we have,\n",
    "\n",
    "$$\n",
    "(Tv)(x) = \\max_{a\\in\\Gamma(x)}B(x,a,v)\n",
    "$$\n",
    "\n",
    "Since we choose $a\\in\\Gamma(x)$, this implies there exists $\\sigma$ such that $\\sigma(x)=a$. \n",
    "\n",
    "By the consistency condition, we have $Tv\\in V$. Hence $T$ is a self-map.\n",
    "\n",
    "Now, we show that $T$ is order-preserving.\n",
    "\n",
    "Let $v,w\\in V$ and $v\\le w$.\n",
    "\n",
    "Now we have,\n",
    "\n",
    "\n",
    "$$\n",
    "(Tv)(x) = \\max_{a\\in\\Gamma(x)}B(x,a,v)\\le \\max_{a\\in\\Gamma(x)}B(x,a,w) = (Tw)(x)\n",
    "$$\n",
    "\n",
    "as $B(x,a,v)\\le B(x,a,w)$ for all $a\\in\\Gamma(x)$ due to the monotonicity condition.\n",
    "\n",
    "This gives the proof.\n"
   ]
  },
  {
   "cell_type": "markdown",
   "id": "bdf8c9de-337c-4202-85b1-afe1fb8e23c4",
   "metadata": {},
   "source": [
    "### EXERCISE 8.1.9.\n",
    "\n",
    "Show that, for a given RDP $(\\Gamma, V, B)$ and fixed $v\\in V$, the Bellman operator $T$ obeys,\n",
    "\n",
    "$$\n",
    "(T^k v)(x) = \\max_{a\\in\\Gamma(x)}B(x,a,T^{k-1}v)\n",
    "$$\n",
    "\n",
    "for all $k\\in\\mathbb{Z}_+$ and all $x\\in X$.\n",
    "\n",
    "\n",
    "Show, in addition, that for any policy $\\sigma\\in\\Sigma$, the policy oeprator $T_\\sigma$ obeys,\n",
    "\n",
    "$$\n",
    "(T^k_\\sigma)(x) = B(x,\\sigma(x), T^{k-1}_\\sigma v)\n",
    "$$\n",
    "\n",
    "for all $k\\in\\mathbb{Z}_+$ and all $x\\in X$."
   ]
  },
  {
   "cell_type": "markdown",
   "id": "5e08b385-d83b-437a-9005-a792d58d9a9d",
   "metadata": {},
   "source": [
    "**Proof part 1 by induction**\n",
    "\n",
    "For $k=1$, we have, by definition,\n",
    "\n",
    "$$\n",
    "(Tv)(x) = \\max_{a\\in\\Gamma(x)} B(x,a,T^0 v) = \\max_{a\\in\\Gamma(x)} B(x,a,v)\n",
    "$$\n",
    "\n",
    "Induction Hypothesis:\n",
    "\n",
    "Suppose at $k$, this is also true, i.e.,\n",
    "\n",
    "$$\n",
    "(T^k v)(x) = \\max_{a\\in\\Gamma(x)}B(x,a,T^{k-1}v) \\tag{IH}\n",
    "$$"
   ]
  },
  {
   "cell_type": "markdown",
   "id": "70b36fbd-6c36-4f2d-82bc-4608f2ac0037",
   "metadata": {},
   "source": [
    "When at $k+1$, we have,\n",
    "\n",
    "$$\n",
    "(T^{k+1}v)(x) = T(T^kv)(x) = \\max_{a\\in\\Gamma(x)}B(x,a,T^kv)\n",
    "$$\n",
    "\n",
    "Hence, we give the proof by induction."
   ]
  },
  {
   "cell_type": "markdown",
   "id": "a3d7882d-f3a6-45e8-ae5b-d21357a66152",
   "metadata": {},
   "source": [
    "**Proof part 2 by induction**\n",
    "\n",
    "\n",
    "For $k=1$, we have, by definition,\n",
    "\n",
    "$$\n",
    "(T_\\sigma v)(x) =  B(x,\\sigma(x),T^0 v) =  B(x,\\sigma(x),v)\n",
    "$$\n",
    "\n",
    "Induction Hypothesis:\n",
    "\n",
    "Suppose at $k$, this is also true, i.e.,\n",
    "\n",
    "$$\n",
    "(T^k_\\sigma v)(x) = B(x,\\sigma(x),T^{k-1}_\\sigma v) \\tag{IH}\n",
    "$$\n",
    "\n",
    "When at $k+1$, we have,\n",
    "\n",
    "$$\n",
    "(T^{k+1}_\\sigma v)(x) = T_\\sigma (T^k_\\sigma v)(x) = B(x,\\sigma(x),T^k_\\sigma v)\n",
    "$$\n",
    "\n",
    "Hence, we give the proof by induction."
   ]
  },
  {
   "cell_type": "markdown",
   "id": "e4e7cc15-16c3-4287-9799-78939fab5dd2",
   "metadata": {},
   "source": [
    "### EXERCISE 8.1.10.\n",
    "\n",
    "Prove that, for the sequence $(v_k)$ in the OPI algorithm, we have $v_k = T^kv_0$ whenever $m=1$."
   ]
  },
  {
   "cell_type": "markdown",
   "id": "add54dfd-345a-4cba-925b-5555ffdab8c9",
   "metadata": {},
   "source": [
    "**Proof**\n",
    "We prove this claim by induction. \n",
    "\n",
    "Let $v_0 = v_\\sigma$ for some $\\sigma\\in\\Sigma$. And let $\\sigma_i$ denote the $v_i$_greedy policy. \n",
    "\n",
    "When $k=1$, we have, $v_1 = T_{\\sigma_0} v_0 = Tv_0$.\n",
    "\n",
    "*Induction Hypothesis: When at $k$, suppose we have, $v_k = T^k v_0$*.\n",
    "\n",
    "When at $k+1$, we have,\n",
    "\n",
    "$$\n",
    "v_{k+1} = T^{\\sigma_k} v_k = Tv_k = T(T^kv_0)=T^{k+1}v_0\n",
    "$$\n",
    "\n",
    "Hence, we have proved this statement by induction."
   ]
  },
  {
   "cell_type": "markdown",
   "id": "02ae3b91-73e6-4032-8f7d-a48bad77611f",
   "metadata": {},
   "source": [
    "### EXERCISE 8.1.11.\n",
    "\n",
    "Show that under the stated conditions, $v_k \\le T^k v$ for all $k\\in\\mathbb{N}$."
   ]
  },
  {
   "cell_type": "markdown",
   "id": "99010e18-0652-49d8-964f-8892de6801d4",
   "metadata": {},
   "source": [
    "**Proof**\n",
    "\n",
    "We prove this claim by induction.\n",
    "\n",
    "For $k=1$, we have, by definition of Bellman operator,\n",
    "\n",
    "$$\n",
    "v_1 = T_{\\sigma_1} v\\le Tv\n",
    "$$\n",
    "\n",
    "*Induction hypothesis: when at $k$, suppose we have $v_k \\le T^k v$*.\n",
    "\n",
    "When at $k+1$, we have,\n",
    "\n",
    "$$\n",
    "v_{k+1} = T_{\\sigma_{k+1}} v_k \\le T_{\\sigma_{k+1}}T^k v\\le T^{k+1}v\n",
    "$$\n",
    "\n",
    "This proves the claim by induction."
   ]
  },
  {
   "cell_type": "markdown",
   "id": "4c27ad77-e643-44b2-a67f-ddf39d43b4ab",
   "metadata": {},
   "source": [
    "### EXERCISE 8.1.12.\n",
    "\n",
    "Let $(\\Gamma, V, B)$ be bounded and let $v_1, v_2 \\in V$ be such that $v_1\\le v_2$ and\n",
    "\n",
    "$$\n",
    "v_1(x) \\le B(x,a,v_1), B(x,a,v_2)\\le v_2(x)\n",
    "$$\n",
    "\n",
    "for all $(x,a)\\in G$.\n",
    "\n",
    "Prove that in this setting, $(\\Gamma, \\hat V, B)$ is also an RDP when $\\hat V=[v_1, v_2]$."
   ]
  },
  {
   "cell_type": "markdown",
   "id": "2763001b-3a89-4c5e-99ce-eff46387a7fb",
   "metadata": {},
   "source": [
    "**Proof**\n",
    "\n",
    "To prove $(\\Gamma, \\hat V, B)$ is an RDP, we need to show that $B|_{\\hat V}$ is monotonic and consistent.\n",
    "\n",
    "For all $v,w\\in \\hat V$, $v,w\\in V$. Hence, we have monotonicity and consistency. Hence, $(\\Gamma, \\hat V, B)$ is a RDP."
   ]
  },
  {
   "cell_type": "markdown",
   "id": "1b9ec0ce-244b-43ec-bd40-0aa1a98e8f8e",
   "metadata": {},
   "source": [
    "### EXERCISE 8.1.13.\n",
    "\n",
    "In addition, suppose $(\\Gamma, V, B)$ is well-posed, show that $v_\\sigma\\in\\hat V$ for all $\\sigma\\in\\Sigma$."
   ]
  },
  {
   "cell_type": "markdown",
   "id": "0734a354-cef1-4863-a226-5e536e7ad600",
   "metadata": {},
   "source": [
    "**Proof**\n",
    "\n",
    "By definition, we have,\n",
    "\n",
    "$$\n",
    "v_1 \\le T_\\sigma v_1 \\le T_\\sigma v_2 \\le v_2\n",
    "$$\n",
    "\n",
    "for all $\\sigma\\in\\Sigma$. Hence, we have, $\\{T_\\sigma^k v_1\\}_{k\\in\\mathbb{N}}$ is bounded and monotonically increasing. Hence, $\\{T_\\sigma^k v_1\\}_{k\\in\\mathbb{N}}$ converges in $\\hat V$. Since the RDP is well-posed, this implies $v_\\sigma\\in \\hat V$ for all $\\sigma\\in\\Sigma$."
   ]
  },
  {
   "cell_type": "markdown",
   "id": "319fe984-dd10-40fa-8406-70c0a78bb74b",
   "metadata": {},
   "source": [
    "### EXERCISE 8.1.14. \n",
    "\n",
    "Show that the RDP generated by an MDP in Example 8.1.1. is bounded."
   ]
  },
  {
   "cell_type": "markdown",
   "id": "bb79a940-fab1-4752-950c-a683b09f4c2c",
   "metadata": {},
   "source": [
    "**Proof**\n",
    "\n",
    "In this example, we have, for $V= \\mathbb{R}^X$.\n",
    "\n",
    "$$\n",
    "B(x,a,v) = r(x,a) + \\beta\\sum_{x'} v(x') P(x,a,x')\n",
    "$$\n",
    "\n",
    "We want show that there exists $v_1$ such that \n",
    "\n",
    "$$\n",
    "v_1(x)\\le r_\\sigma(x) + \\beta\\sum_{x'} v_1(x') P_\\sigma(x,x')\n",
    "$$\n",
    "\n",
    "for all $x\\in X$ and $\\sigma\\in\\Sigma$, i.e.,\n",
    "\n",
    "$$\n",
    "v_1\\le (I-\\beta P_\\sigma)^{-1} r_\\sigma\n",
    "$$\n",
    "\n",
    "for all $\\sigma\\in\\Sigma$.\n",
    "\n",
    "Since we assume $\\beta<1$, this implies, we have, \n",
    "\n",
    "$$\n",
    "v_\\sigma = (I-\\beta P_\\sigma)^{-1} r_\\sigma\n",
    "$$\n",
    "\n",
    "for all $\\sigma\\in\\Sigma$.\n",
    "\n",
    "\n",
    "Hence, we can define $v_1:= \\bigwedge_{\\sigma\\in\\Sigma} v_\\sigma$. And similarly, we know in this setting, we have $v^* = \\bigvee_{\\sigma\\in\\Sigma}$, hence, we have,\n",
    "\n",
    "$$\n",
    "v_2(x) = v^*(x) = \\max_{\\sigma\\in\\Sigma} v_\\sigma(x)\\ge B(x,a,v_2)\n",
    "$$\n",
    "\n",
    "Hence, this implies the RDP generated by the MDP is bounded."
   ]
  },
  {
   "cell_type": "markdown",
   "id": "2d8a5cb1-ed57-45b3-a022-61e63e5516b7",
   "metadata": {},
   "source": [
    "### EXERCISE 8.1.15.\n",
    "\n",
    "Show that the optimal stopping RDP from Example 8.1.3. is bounded."
   ]
  },
  {
   "cell_type": "markdown",
   "id": "482bf281-1a00-4798-a2ad-3937f4a19c48",
   "metadata": {},
   "source": [
    "**Proof**\n",
    "\n",
    "From example 8.1.3., we know that job search model is an MDP, hence by EXERCISE 8.1.14, we have it is bounded."
   ]
  },
  {
   "cell_type": "markdown",
   "id": "012dc930-5fb0-4bdb-b9fb-7c7df125be61",
   "metadata": {},
   "source": [
    "### EXERCISE 8.1.16.\n",
    "\n",
    "Consider the RDP $(\\Gamma, V, B)$ generated by an MDP with stochastic discounting in Example 8.1.5. Prove that this RDP is bounded whenever the condition of Proposition 6.2.2. hold."
   ]
  },
  {
   "cell_type": "markdown",
   "id": "9f620d28-75ca-4060-9535-f85ca27f6749",
   "metadata": {},
   "source": [
    "**Proof**\n",
    "\n",
    "Condition of proposition 6.2.2.: for $\\sigma\\in\\Sigma$, we have $\\rho(L_\\sigma)<1$.\n",
    "\n",
    "From Example 8.1.5., we have,\n",
    "\n",
    "$$\n",
    "B(x,a,v) = r(x,a) + \\sum_{x'}v(x')\\beta(x,a,x')P(x,a,x')\n",
    "$$\n",
    "\n",
    "Let $L_\\sigma (x,x') = \\beta(x,\\sigma(x),x') P(x,\\sigma(x),x')$.\n",
    "\n",
    "We have,\n",
    "\n",
    "$$\n",
    "B(x,\\sigma(x),v) = r_\\sigma(x) + \\sum_{x'}v(x')L_\\sigma(x,x')\n",
    "$$\n",
    "\n",
    "We want to find $v_1$ such that,\n",
    "\n",
    "$$\n",
    "v_1 (x) \\le B(x,\\sigma(x),v_1)\n",
    "$$\n",
    "\n",
    "for all $\\sigma\\in\\Sigma$, i.e.,\n",
    "\n",
    "$$\n",
    "v_1 \\le r_\\sigma + L_\\sigma v_1\n",
    "$$\n",
    "\n",
    "for all $\\sigma\\in\\Sigma$.\n",
    "\n",
    "Following assumption 6.2.1, and according to lemma 6.2.1, we have, \n",
    "\n",
    "$$\n",
    "v_\\sigma = r_\\sigma + L_\\sigma v_\\sigma\n",
    "$$\n",
    "\n",
    "for all $\\sigma\\in\\Sigma$.\n",
    "\n",
    "Hence, we can contruct, $v_1 = \\bigwedge_{\\sigma\\in\\Sigma} v_\\sigma$. And accoridng to proposition 6.2.2., we can construct $v_2 = v^*$.\n",
    "\n",
    "This proves the claim."
   ]
  },
  {
   "cell_type": "markdown",
   "id": "1eb7d207-45b3-4cda-bf63-5b1aa4542837",
   "metadata": {},
   "source": [
    "### EXERCISE 8.1.17.\n",
    "\n",
    "Consider the shortest path RDP $(\\Gamma, V, B)$ in Example 8.1.8. and assume in addition that the graph $\\mathcal{G}$ contains only one cycle, which is a self-loop at $d$, that $d$ is accessible from every vertex $x\\in X$, and that $c(d,d)=0$.\n",
    "\n",
    "These assumptions imply that every path leads to $d$ in finite time and that travelers reaching $d$ remain there forever at zero cost.\n",
    "\n",
    "Let $C(x)$ be the maximum cost of travelling to $d$ from $x$, which is finite by the stated assumptions.\n",
    "\n",
    "Show that\n",
    "\n",
    "$$\n",
    "v_1(x) \\le B(x,a,v_1), B(x,a,v_2) \\le v_2(x)\n",
    "$$\n",
    "\n",
    "holds when $v_1=0$ and $v_2 =C$."
   ]
  },
  {
   "cell_type": "markdown",
   "id": "c0a0c976-2d24-4b37-a588-0f7aedd5f9aa",
   "metadata": {},
   "source": [
    "**Proof**\n",
    "\n",
    "Since we have $c(x,x')\\ge 0$, we have,\n",
    "\n",
    "$$\n",
    "0\\le c(x,x')\n",
    "$$\n",
    "\n",
    "for all $x'\\in X$.\n",
    "\n",
    "And since $C$ is maximum cost, we have $c(x,x')+v(x')\\le C$.\n",
    "\n",
    "This gives the proof."
   ]
  },
  {
   "cell_type": "markdown",
   "id": "9c4750e2-e6fc-43e6-b501-267ff4dc7429",
   "metadata": {},
   "source": [
    "### EXERCISE 8.1.18.\n",
    "\n",
    "Prove the following: If $\\varphi:\\mathbb{M}\\mapsto \\hat{\\mathbb{M}}$ is a homeomorphism and $\\Phi v := \\varphi\\circ v$, then $\\Phi: V\\mapsto \\hat V$ is a homeomorphism."
   ]
  },
  {
   "cell_type": "markdown",
   "id": "7d5891b6-88ff-419a-8175-b1b8f3fb8784",
   "metadata": {},
   "source": [
    "**Proof**\n",
    "\n",
    "We want to prove that $\\Phi$ is continuous with continuous inverse.\n",
    "\n",
    "Let $\\Phi^{-1}v: = \\varphi^{-1}\\circ v$. We have $\\Phi^{-1}\\Phi v = \\varphi^{-1}\\circ\\varphi\\circ v = v$. Hence $\\Phi$ is a bijection.\n",
    "\n",
    "\n",
    "Now we prove that $\\Phi$ is continuous.\n",
    "\n",
    "Let $\\|\\cdot\\|_\\infty$ be the supremum norm.\n",
    "\n",
    "We want to show that for all $\\epsilon>0$, for all $x\\in X$, there exists $\\delta(\\epsilon,x)>0$ such that for all $v,w\\in V$, we have,\n",
    "\n",
    "$$\n",
    "|v (x)-w(x)|<\\delta\\implies |(\\Phi v)(x)-(\\Phi w)(x)\\| <\\epsilon\n",
    "$$\n",
    "\n",
    "\n",
    "By definition, we have, as $\\varphi$ is continuous, \n",
    "\n",
    "$$\n",
    "|v(x)-w(x)\\|<\\delta\\implies |(\\varphi\\circ v)(x)-(\\varphi\\circ w)(x)\\| <\\epsilon\n",
    "$$\n",
    "\n",
    "Hence, we have $\\Phi$ is continuous. Similarly, we also have $\\Phi^{-1}$ is continuous."
   ]
  },
  {
   "cell_type": "markdown",
   "id": "e2b52f0e-8ecc-4cae-bce4-a7521c005784",
   "metadata": {},
   "source": [
    "### EXERCISE 8.1.19\n",
    "\n",
    "Prove that $\\mathcal{R}$ and $\\hat{\\mathcal{R}}$ are topologically conjugate RDPs."
   ]
  },
  {
   "cell_type": "markdown",
   "id": "a904909b-472d-417d-8b5c-dc9531ec7cf4",
   "metadata": {},
   "source": [
    "**Proof**\n",
    "\n",
    "Let $\\varphi (x) = x^{\\gamma}$, from (8.23), we have,\n",
    "\n",
    "$$\n",
    "B(x,a,v) = \\hat B(x,a,v^\\gamma)^{1/\\gamma} = \\varphi^{-1}[\\hat B(x,a,\\varphi\\circ v)]\n",
    "$$\n",
    "\n",
    "By definition, this implies $\\mathcal{R}$ and $\\hat{\\mathcal{R}}$ are topologically equivalent.\n"
   ]
  },
  {
   "cell_type": "markdown",
   "id": "63d617ce-995e-4764-97ea-9d72f412f9d8",
   "metadata": {},
   "source": [
    "### EXERCISE 8.2.1.\n",
    "\n",
    "Show that any MDP is a contracting RDP."
   ]
  },
  {
   "cell_type": "markdown",
   "id": "2beddb69-1975-4f87-9d7d-2f18d504b5a2",
   "metadata": {},
   "source": [
    "**Proof**\n",
    "\n",
    "For any MDP, we have,\n",
    "\n",
    "$$\n",
    "|B(x,a,v)-B(x,a,w)| = \\beta|\\sum_{x'}(v(x')-w(x'))P(x,x')| \\le \\beta \\|v-w\\|_\\infty\n",
    "$$\n",
    "\n",
    "Hence, it is also a contracting RDP."
   ]
  },
  {
   "cell_type": "markdown",
   "id": "b4ff14a2-02f0-4b0b-81c5-eda27000c023",
   "metadata": {},
   "source": [
    "### EXERCISE 8.2.2.\n",
    "\n",
    "Show that any contracting RDP is continuous."
   ]
  },
  {
   "cell_type": "markdown",
   "id": "1fd1fca8-acda-4cdf-a625-a305282aea46",
   "metadata": {},
   "source": [
    "**Proof**\n",
    "\n",
    "By contracting RDP, we have,\n",
    "\n",
    "$$\n",
    "|B(x,a,v)-B(x,a,w)|\\le \\beta \\|v-w\\|_\\infty\n",
    "$$\n",
    "\n",
    "We want to show that for all $\\epsilon>0$, there exists $\\delta(\\epsilon)>0$ such that,\n",
    "\n",
    "$$\n",
    "\\|v-w\\|_\\infty<\\delta \\implies |B(x,a,v)-B(x,a,w)|<\\epsilon\n",
    "$$\n",
    "\n",
    "Hence, we let $\\delta<\\beta\\epsilon$, we have,\n",
    "\n",
    "$$\n",
    "\\|v-w\\|_\\infty<\\delta \\implies |B(x,a,v)-B(x,a,w)|\\le \\beta \\|v-w\\|_\\infty <\\epsilon\n",
    "$$\n",
    "\n",
    "This gives the proof."
   ]
  },
  {
   "cell_type": "markdown",
   "id": "626b084f-0cd1-49ee-9d0d-ec8bef591905",
   "metadata": {},
   "source": [
    "### EXERCISE 8.2.3. \n",
    "\n",
    "Prove the following: If $\\mathcal{R}$ satisfies Blackwell's condition, then $\\mathcal{R}$ is contracting with modulus $\\beta$."
   ]
  },
  {
   "cell_type": "markdown",
   "id": "355f9ea9-9258-487a-a6c5-aa12adfd870e",
   "metadata": {},
   "source": [
    "**Proof**\n",
    "\n",
    "Let $\\lambda = \\|v-w\\|_\\infty$. We have,\n",
    "\n",
    "$$\n",
    "B(x,a,v) = B(x,a,v-w+w) \\le B(x,a,w+\\|v-w\\|_\\infty) \\le B(x,a,w)+\\beta \\|v-w\\|_\\infty\n",
    "$$\n",
    "\n",
    "Switching $v,w$ gives the proof."
   ]
  },
  {
   "cell_type": "markdown",
   "id": "85975123-5e72-42ed-82c4-7d56458a9ca6",
   "metadata": {},
   "source": [
    "### EXERCISE 8.2.4.\n",
    "\n",
    "Prove that the RDP for the state-dependent discounting model in Example 8.1.5. is contracting on $V=\\mathbb{R}^X$ whenever there exists a $b<1$ with $\\beta(x,a,x')\\le b$ for all $(x,a)\\in G$ and $x'\\in X$."
   ]
  },
  {
   "cell_type": "markdown",
   "id": "804cfea2-1b05-4799-8900-d181431cd3f7",
   "metadata": {},
   "source": [
    "**Proof**\n",
    "\n",
    "We have,\n",
    "\n",
    "\\begin{align*}\n",
    "B(x,a,v) &= r(x,a) + \\sum_{x'} (v(x')-w(x')+w(x')) \\beta(x,a,x') P(x,a,x')\\\\\n",
    "&= r(x,a) + \\sum_{x'} w(x') \\beta(x,a,x')P(x,a,x') + \\sum_{x'} (v(x')-w(x'))\\beta(x,a,x')P(x,a,x')\\\\\n",
    "&\\le B(x,a,w) + b\\|v-w\\|_\\infty\n",
    "\\end{align*}\n",
    "\n",
    "Switching the order gives the proof."
   ]
  },
  {
   "cell_type": "markdown",
   "id": "7e069b11-5955-41ca-95a3-6eff2cb7b0a9",
   "metadata": {},
   "source": [
    "### EXERCISE 8.2.5. \n",
    "\n",
    "Prove that the discrete optimal saving model from 5.2.2 satisfies Blackwell's condition.\n"
   ]
  },
  {
   "cell_type": "markdown",
   "id": "577ce44b-a468-49d5-bbbe-ebbee5439e08",
   "metadata": {},
   "source": [
    "**Proof**\n",
    "\n",
    "From example 5.2.2., we have,\n",
    "\n",
    "$$\n",
    "B((w,y),w',v) = u(w+y-\\frac{w'}{R}) + \\beta\\sum_{y'} v(w',y') Q(y,y')\n",
    "$$\n",
    "\n",
    "Hence, we have,\n",
    "\n",
    "\\begin{align*}\n",
    "B((w,y),w',v+\\lambda) &= u(w+y-\\frac{w'}{R}) + \\beta\\sum_{y'} (v(w',y')+\\lambda) Q(y,y')\\\\\n",
    "&= u(w+y-\\frac{w'}{R}) + \\beta\\sum_{y'} v(w',y') Q(y,y') + \\beta \\lambda\\\\\n",
    "&= B((w,y),w',v+\\lambda) + \\beta\\lambda\n",
    "\\end{align*}\n",
    "\n",
    "Hence, it satisfied the Blackwell's condition."
   ]
  },
  {
   "cell_type": "markdown",
   "id": "4d2cc78e-b925-4d2f-8198-2bf6eadb148a",
   "metadata": {},
   "source": [
    "### EXERCISE 8.2.9.\n",
    "\n",
    "In section 4.1.2., we studied an optimal exit problem for a firm. We can modify this problem to handle stochastic interest rates by introducing the RDP $\\mathcal{R} = (\\Gamma, V, B)$ on state space $X$ with $\\Gamma(x) = \\{0,1\\}$, $V=\\mathbb{R}^X$ and\n",
    "\n",
    "$$\n",
    "B(x,a,v) = as + (1-a) \\left[\\pi(x)+\\beta(x)\\sum_{x'} v(x') Q(x,x')\\right]\n",
    "$$\n",
    "\n",
    "for some $\\beta\\in\\mathbb{R}_+^X$.\n",
    "\n",
    "State the Bellman equation for this problem. \n",
    "\n",
    "Prove that $\\mathcal{R}$ is globally stable whenever there exists $L\\in\\mathcal{L} (\\mathbb{R}^X)$ such that $\\rho(L)<1$ and $\\beta(x)Q(x,x')\\le L(x,x')$ for all $x,x'\\in X$."
   ]
  },
  {
   "cell_type": "code",
   "execution_count": null,
   "id": "fbc3561d-e8f6-4ba4-9ff1-90f8b6d44ce8",
   "metadata": {},
   "outputs": [],
   "source": []
  }
 ],
 "metadata": {
  "kernelspec": {
   "display_name": "Python 3 (ipykernel)",
   "language": "python",
   "name": "python3"
  },
  "language_info": {
   "codemirror_mode": {
    "name": "ipython",
    "version": 3
   },
   "file_extension": ".py",
   "mimetype": "text/x-python",
   "name": "python",
   "nbconvert_exporter": "python",
   "pygments_lexer": "ipython3",
   "version": "3.10.14"
  }
 },
 "nbformat": 4,
 "nbformat_minor": 5
}
