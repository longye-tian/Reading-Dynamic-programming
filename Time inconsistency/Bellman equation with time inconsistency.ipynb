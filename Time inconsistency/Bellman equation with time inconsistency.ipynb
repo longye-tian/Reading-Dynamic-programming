{
 "cells": [
  {
   "cell_type": "markdown",
   "id": "6f3c3978-ae26-4a96-963c-8d6699cd720b",
   "metadata": {},
   "source": [
    "# Overview\n",
    "1. We set up the background model.\n",
    "2. We define three types of discount factors: geometric, hyperbolic, quasi-hyperbolic\n",
    "3. We define time consistency and inconsistency.\n",
    "4. We present a Bellman equation with time inconsistent discount factor "
   ]
  },
  {
   "cell_type": "markdown",
   "id": "28a011f7-0596-4e11-a7b8-b8b29ae95c5f",
   "metadata": {},
   "source": [
    "# Background setup"
   ]
  },
  {
   "cell_type": "markdown",
   "id": "739c3d2e-c2fe-4a4d-81d6-6c5b15623459",
   "metadata": {},
   "source": [
    "Let\n",
    "\n",
    "- $\\mathbb{X}$: be the state space of state variables. Let it be a finite state space with cardinality $|\\mathbb{X}|=N$, i.e.,\n",
    "\n",
    "$$\n",
    "\\mathbb{X} = \\{x_0,x_1,x_2,\\cdots, x_N\\}\n",
    "$$\n",
    "\n",
    "- $\\mathbb{T}$: be the discrete time space with countably infinite cardinality, i.e.,\n",
    "\n",
    "$$\n",
    "\\mathbb{T} = \\{t\\in\\mathbb{N}\\}\n",
    "$$\n",
    "\n",
    "- $\\mathbb{S} = \\mathbb{X}\\times\\mathbb{T}$: be the state-time space, i.e., we have,\n",
    "\n",
    "$$\n",
    "\\mathbb{S} = \\{(x_i,t)\\in \\mathbb{X}\\times \\mathbb{T}\\}\n",
    "$$\n",
    "\n",
    "\n",
    "- $\\mathbb{P}\\in \\mathcal{M}(\\mathbb{R}^{\\mathbb{S}})$, $((x_i, t),(x_j,\\tau))$ follows a $\\mathbb{P}$-Markov with $\\dim(\\mathbb{P}) = (N\\times \\infty)\\times (N\\times \\infty)$\n",
    "\n",
    "$$\n",
    "\\mathbb{P}_{(i,t),(j,\\tau)} = Prob\\{X_{\\tau} = x_j|X_{t}= x_i\\}\n",
    "$$\n",
    "\n",
    "- $h\\in\\mathbb{R}^{\\mathbb{S}}$ with $h(x_i, t)$ is the reward at time $t$ in state $x_i$.\n",
    "\n",
    "- $v\\in \\mathbb{R}^{\\mathbb{S}}$ with $v(x_i,t)$ represents the lifetime value of at time $t$ in state $x_i$.\n",
    "\n",
    "- $\\beta: \\mathbb{S}\\times \\mathbb{S}\\mapsto (0,\\infty)$,\n",
    "\n",
    "$$\n",
    "\\beta_{t,\\tau} :=\\beta((x_i,t),(x_j,\\tau))\n",
    "$$"
   ]
  },
  {
   "cell_type": "markdown",
   "id": "c50016c4-dcba-43b4-8eb7-521d47cccff4",
   "metadata": {},
   "source": [
    "- $\\mathbb{L}:\\mathbb{S}\\times\\mathbb{S}\\mapsto(0,\\infty)$ be the discount operator\n",
    "\n",
    "$$\n",
    "\\mathbb{L}_{(i,t),(j,\\tau)} = \\mathbb{P}((x_i,t),(x_j,\\tau))\\beta((x_i,t),(x_j,\\tau))\n",
    "$$"
   ]
  },
  {
   "cell_type": "markdown",
   "id": "4b6d2b24-61ac-4d30-b119-dea4182f2d6b",
   "metadata": {},
   "source": [
    "# Discount factors\n",
    "\n",
    "Then, we define three types of discount factors\n",
    "\n",
    "- Geometric discount factor\n",
    "- Hyperbolic discount factor\n",
    "- Quasi-hyperbolic discount factor\n",
    "\n",
    "**Assumption**\n",
    "\n",
    "We assume time flows forward, i.e., $\\tau > t$. When $\\tau =0$, we assume this implies the inital state.\n",
    "\n",
    "**Definition(Geometric discount factor)**\n",
    "\n",
    "Let $\\beta\\in(0,\\infty)$ be a constant. The geometric discount factor is a defined below\n",
    "\n",
    "$$\n",
    "\\beta^G_{t,\\tau} = \\beta^G((x_i,t),(x_j,\\tau)) = \\beta^{\\tau-t}\n",
    "$$"
   ]
  },
  {
   "cell_type": "markdown",
   "id": "668b6512-9700-46bf-8d17-a470d5454891",
   "metadata": {},
   "source": [
    "**Definition(Hyperbolic discount factor) From Dr. Yang**\n",
    "\n",
    "Let $\\alpha,\\beta\\in(0,\\infty)$ be some constants. The hyperbolic discount factor is defined below:\n",
    "$$\n",
    "\\beta^H_{t,t+1} = \\beta^H((x_i,t),(x_j,\\tau)) = \\begin{cases}\n",
    "1 & \\text{if } \\tau =0\\\\\n",
    "\\alpha & \\text{if } t=0,\\tau=1\\\\\n",
    "\\beta & \\text{if } t\\neq 0, \\tau=t+1\n",
    "\\end{cases}\n",
    "$$\n"
   ]
  },
  {
   "cell_type": "markdown",
   "id": "19b1fe68-e88c-4735-b0eb-e4b576d92eaa",
   "metadata": {},
   "source": [
    "**Definition(Quasi-hyperbolic discount factor) From Wikipedia**\n",
    "\n",
    "Let $\\alpha,\\beta\\in(0,\\infty)$ be some constants. The quasi-hyperbolic discount factor is defined below:\n",
    "\n",
    "$$\n",
    "\\beta_{t,t+1}^Q = \\beta^Q((x_i,t),(x_j,\\tau))=\\begin{cases}\n",
    "                    1 & \\text{if }  \\tau =0  \\\\\n",
    "                    \\alpha \\beta^{\\tau-t} & \\text{if } \\tau\\neq 0\n",
    "                 \\end{cases}\n",
    "$$"
   ]
  },
  {
   "cell_type": "markdown",
   "id": "af5a67f2-d03a-43e5-ab12-63b7516bda9f",
   "metadata": {},
   "source": [
    "# Time consistency\n",
    "\n",
    "We now define the term **time consistency** and **time inconsistency**:\n",
    "\n",
    "(Note: this definition is defined by me.)\n",
    "\n",
    "**Definition(time consistency)**\n",
    "\n",
    "If the discount factor only depends on the state values and time durations $s$, and independent of the starting time $t$ or $\\tau$, then we say the discount factor is time consistent, i.e.,\n",
    "\n",
    "$$\n",
    "\\beta((x_i,t) ,(x_j,t+s)) = \\beta((x_i, \\tau), (x_j,\\tau+s))\n",
    "$$\n",
    "\n",
    "for all $s\\in \\mathbb{N}$.\n",
    "\n",
    "\n",
    "**Definition(time inconsistency)**\n",
    "\n",
    "If the discount factor depends on starting $t$ or $\\tau$, then we say the discount factor is time inconsistent, \n",
    "\n",
    "$$\n",
    "\\beta((x_i, t), (x_j, t+s)) \\neq \\beta((x_i,\\tau), (x_j, \\tau+s))\n",
    "$$\n",
    "\n",
    "for some $s\\in \\mathbb{N}$.\n",
    "\n",
    "(Note: hyperbolic, and quasi-hyperbolic discountings are time inconsistent under this definition. Clearly, when defining these discountings, we specified them under different starting point.)"
   ]
  },
  {
   "cell_type": "markdown",
   "id": "76c45605-80be-4fc6-b85a-697fc36a8fde",
   "metadata": {},
   "source": [
    "# Bellman equation for time inconsistent discounting factor\n",
    "\n"
   ]
  },
  {
   "cell_type": "markdown",
   "id": "48237986-c2ce-4d55-b26b-80b58c87ee78",
   "metadata": {},
   "source": [
    "Suppose we have quasi-hyperbolic discounting, this implies, we have,\n",
    "\n",
    "\\begin{align*}\n",
    "v(x_i, t) &= \\mathbb{E}\\left[\\sum_{s=0}^\\infty \\beta^Q((x_i,t),(X,t+s))h(X,t+s)\\Bigg|(X,t)=(x_i,t)\\right] \\\\\n",
    "&=\\mathbb{E}\\Big[h(x_i, t) + \\beta^Q((x_i,t),(X,t+1))h(X,t+1) \\\\\n",
    "&\\qquad + \\beta^Q ((x_i, t),(X,t+2))h(X,t+2)+\\cdots\\Big|(X,t)=(x_i,t)\\Big] \\\\\n",
    "&=h(x_i, t) + \\mathbb{E}\\Big[\\beta^Q((x_i,t),(X,t+1))h(X,t+1) \\\\\n",
    "&\\qquad + \\beta^Q ((x_i, t),(X,t+2))h(X,t+2)+\\cdots\\Big|(X,t)=(x_i,t)\\Big] \\\\\n",
    "&=h(x_i, t) + \\sum_{(x_j,t+1)\\in\\mathbb{S}} \\mathbb{P}((x_i,t),(x_j,t+1))\\mathbb{E}\\Big[\\beta^Q((x_i,t),(x_j,t+1))h(x_j,t+1) \\\\\n",
    "&\\qquad\\quad + \\beta^Q ((x_i, t),(X,t+2))h(X,t+2)+\\cdots\\Big|(X,t+1)=(x_j,t+1)\\Big]\n",
    "\\end{align*}"
   ]
  },
  {
   "cell_type": "markdown",
   "id": "e2192301-cd76-4f23-abe7-7a928d059d14",
   "metadata": {},
   "source": [
    "Since under quasi-hyperbolic discounting, we always have,\n",
    "\n",
    "$$\n",
    "\\beta^Q((x_i,t),(X,t+s)) = \\beta^Q((x_i,t),(x_j,t+1))\\beta^Q((x_j,t+1),(X,t+s))\n",
    "$$"
   ]
  },
  {
   "cell_type": "markdown",
   "id": "93a1b378-8f57-4098-8373-9cc996b6faaa",
   "metadata": {},
   "source": [
    "This implies, we have,\n",
    "\n",
    "\\begin{align*}\n",
    "v(x_i,t) &=h(x_i, t) + \\sum_{(x_j,t+1)\\in\\mathbb{S}} \\mathbb{P}((x_i,t),(x_j,t+1))\\beta^Q((x_i,t),(x_j,t+1))\\\\\n",
    "&\\qquad\\qquad\\qquad\\mathbb{E}\\left[h(x_j,t+1)+ \\beta^Q ((x_j, t+1),(X,t+2))h(X,t+2)+\\cdots\\Bigg|(X,t+1)=(x_j,t+1)\\right]\\\\\n",
    "&= h(x_i, t) + \\sum_{(x_j,t+1)\\in\\mathbb{S}} \\mathbb{P}((x_i,t),(x_j,t+1))\\beta^Q((x_i,t),(x_j,t+1)) v(x_j,t+1)\\\\\n",
    "&= h(x_i,t)+\\sum_{(x_j,t+1)\\in\\mathbb{S}} \\mathbb{L}_{(i,t),(j,t+1)}v(x_j,t+1)\n",
    "\\end{align*}"
   ]
  }
 ],
 "metadata": {
  "kernelspec": {
   "display_name": "Python 3 (ipykernel)",
   "language": "python",
   "name": "python3"
  },
  "language_info": {
   "codemirror_mode": {
    "name": "ipython",
    "version": 3
   },
   "file_extension": ".py",
   "mimetype": "text/x-python",
   "name": "python",
   "nbconvert_exporter": "python",
   "pygments_lexer": "ipython3",
   "version": "3.10.12"
  }
 },
 "nbformat": 4,
 "nbformat_minor": 5
}
