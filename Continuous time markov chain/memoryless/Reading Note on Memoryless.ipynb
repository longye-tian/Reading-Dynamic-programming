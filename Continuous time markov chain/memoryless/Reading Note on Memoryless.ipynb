{
 "cells": [
  {
   "cell_type": "markdown",
   "id": "04ed7d69-08f4-48b7-b573-fce72d07e047",
   "metadata": {},
   "source": [
    "# Reading Note for Memoryless Distribution"
   ]
  },
  {
   "cell_type": "markdown",
   "id": "d16705ba-9fbe-4cb3-85f3-bad74ee6d8c8",
   "metadata": {},
   "source": [
    "## Markov Process are Memoryless\n",
    "\n",
    "- Markov processes depends only on current state\n",
    "- In continuous time case, this requires the amount of time since last jump is not helpful in predicting next jump\n",
    "\n",
    "- the only memoryless distribution on $\\mathbb{R}_+$ is the exponential distribution\n",
    "- the only memoryless distribution on $\\mathbb{Z}_+$ is the geometric distribution\n"
   ]
  },
  {
   "cell_type": "markdown",
   "id": "3753df90-0402-4fed-b809-5342a360c80a",
   "metadata": {},
   "source": [
    "## The Geometric Distribution - Memorylessness"
   ]
  },
  {
   "cell_type": "markdown",
   "id": "03bf4e5e-6a4c-4380-9534-8ec9c3373136",
   "metadata": {},
   "source": [
    "Let $X$ be the random variable with geometric distribution with parameter $p$, i.e.,\n",
    "\n",
    "$$\n",
    "\\mathbb{P}\\{X=k\\} = (1-p)^kp\n",
    "$$\n",
    "\n",
    "It measures the probability of an event happens after $k$ successive failures.\n",
    "\n",
    "**Memoryless:** no matter how many successive failures, the probability of next failure/success is still $(1-p)$ and $p$."
   ]
  },
  {
   "cell_type": "markdown",
   "id": "8fdd0122-db17-404d-8826-84bed601bfb6",
   "metadata": {},
   "source": [
    "- the exponential distribution is the limit of the geometric distribution"
   ]
  },
  {
   "cell_type": "markdown",
   "id": "fabbd3a1-f05e-4d3a-bf34-c4bb528cbbf0",
   "metadata": {},
   "source": [
    "## Theorem (Memoryless Characterization of the Exponential Distribution)\n",
    "\n",
    "If $X$ is a random variable supported on $\\mathbb{R}_+$, then there exists a $\\lambda>0$ such that $X\\sim Exp(\\lambda)$ if and only if, for all positive $s,t$,\n",
    "\n",
    "$$\n",
    "\\mathbb{P}\\{X>s+t|X>s\\} = \\mathbb{P}\\{X>t\\}\n",
    "$$"
   ]
  },
  {
   "cell_type": "code",
   "execution_count": null,
   "id": "63ef15b9-f2c2-4787-a1be-a1ce22d300a0",
   "metadata": {},
   "outputs": [],
   "source": []
  }
 ],
 "metadata": {
  "kernelspec": {
   "display_name": "Python 3 (ipykernel)",
   "language": "python",
   "name": "python3"
  },
  "language_info": {
   "codemirror_mode": {
    "name": "ipython",
    "version": 3
   },
   "file_extension": ".py",
   "mimetype": "text/x-python",
   "name": "python",
   "nbconvert_exporter": "python",
   "pygments_lexer": "ipython3",
   "version": "3.10.12"
  }
 },
 "nbformat": 4,
 "nbformat_minor": 5
}
