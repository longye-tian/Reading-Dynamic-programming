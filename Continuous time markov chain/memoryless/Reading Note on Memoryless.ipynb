{
 "cells": [
  {
   "cell_type": "markdown",
   "id": "04ed7d69-08f4-48b7-b573-fce72d07e047",
   "metadata": {},
   "source": [
    "# Reading Note for Memoryless Distribution"
   ]
  },
  {
   "cell_type": "markdown",
   "id": "d16705ba-9fbe-4cb3-85f3-bad74ee6d8c8",
   "metadata": {},
   "source": [
    "## Markov Process are Memoryless\n",
    "\n",
    "- Markov processes depends only on current state\n",
    "- In continuous time case, this requires the amount of time since last jump is not helpful in predicting next jump\n",
    "\n",
    "- the only memoryless distribution on $\\mathbb{R}_+$ is the exponential distribution\n",
    "- the only memoryless distribution on $\\mathbb{Z}_+$ is the geometric distribution\n"
   ]
  },
  {
   "cell_type": "markdown",
   "id": "3753df90-0402-4fed-b809-5342a360c80a",
   "metadata": {},
   "source": [
    "## The Geometric Distribution"
   ]
  },
  {
   "cell_type": "markdown",
   "id": "03bf4e5e-6a4c-4380-9534-8ec9c3373136",
   "metadata": {},
   "source": []
  }
 ],
 "metadata": {
  "kernelspec": {
   "display_name": "Python 3 (ipykernel)",
   "language": "python",
   "name": "python3"
  },
  "language_info": {
   "codemirror_mode": {
    "name": "ipython",
    "version": 3
   },
   "file_extension": ".py",
   "mimetype": "text/x-python",
   "name": "python",
   "nbconvert_exporter": "python",
   "pygments_lexer": "ipython3",
   "version": "3.10.12"
  }
 },
 "nbformat": 4,
 "nbformat_minor": 5
}
