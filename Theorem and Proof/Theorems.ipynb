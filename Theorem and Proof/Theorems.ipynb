{
 "cells": [
  {
   "cell_type": "markdown",
   "id": "c0cde71d-02de-4071-be79-6a2bfb748c40",
   "metadata": {},
   "source": [
    "# Knaster-Tarski Theorem\n",
    "\n",
    "Let $(L,\\le)$ be a complete lattice and let $f:L\\mapsto L$ be an order-preserving function with respect to $\\le$.\n",
    "\n",
    "Then the set of fixed points of $f$ in $L$ forms a complete lattice under $\\le$."
   ]
  },
  {
   "cell_type": "markdown",
   "id": "9e62d483-ea10-4082-89b0-ca618fc91caf",
   "metadata": {},
   "source": []
  }
 ],
 "metadata": {
  "kernelspec": {
   "display_name": "Python 3 (ipykernel)",
   "language": "python",
   "name": "python3"
  },
  "language_info": {
   "codemirror_mode": {
    "name": "ipython",
    "version": 3
   },
   "file_extension": ".py",
   "mimetype": "text/x-python",
   "name": "python",
   "nbconvert_exporter": "python",
   "pygments_lexer": "ipython3",
   "version": "3.10.12"
  }
 },
 "nbformat": 4,
 "nbformat_minor": 5
}
