{
 "cells": [
  {
   "cell_type": "markdown",
   "id": "e9bd1697-7584-4e7a-83c3-4c4f651abffb",
   "metadata": {
    "tags": []
   },
   "source": [
    "### Equivalence of Norm\n",
    "\n",
    "Any two norms $\\|\\cdot\\|_a$ and $\\|\\cdot\\|_b$ on $\\mathbb{R}^n$ are **equivalent** under the following equivalence relation\n",
    "\n",
    "$$\n",
    "M\\|u\\|_a \\le \\|u\\|_b \\le N\\|u\\|_a,\\,\\,\\forall u\\in\\mathbb{R}^n\n",
    "$$"
   ]
  },
  {
   "cell_type": "markdown",
   "id": "2cecba90-662d-4b4f-9eb4-76cdd42f692d",
   "metadata": {},
   "source": [
    "#### Proof"
   ]
  },
  {
   "cell_type": "markdown",
   "id": "c88ca9d0-75aa-4eaa-a696-e40700acdae4",
   "metadata": {},
   "source": [
    "Book Keeping:\n",
    "\n",
    "Conditions of Equivalence relation:\n",
    "\n",
    "- [x] Reflectivity: $\\|\\cdot \\|_a \\sim \\|\\cdot \\|_a$\n",
    "\n",
    "Take $M=N=1$. \n",
    "\n",
    "- [x] Symmetry: $\\|\\cdot\\|_a \\sim \\|\\cdot\\|_b \\implies \\|\\cdot\\|_b\\sim \\|\\cdot\\|_a$\n",
    "\n",
    "Suppose $\\|\\cdot\\|_a \\sim \\|\\cdot\\|_b$, we have,\n",
    "\n",
    "$$\n",
    "M\\|u\\|_a\\le \\|u\\|_b \\le N\\|u\\|_a \\,\\,\\forall u\\in\\mathbb{R}^n\n",
    "$$\n",
    "\n",
    "This implies \n",
    "\n",
    "$$\n",
    "\\frac{1}{N}\\|u\\|_b \\le \\|u\\|_a\\le \\frac{1}{M} \\|u\\|_b \\,\\,\\forall u\\in\\mathbb{R}^n\n",
    "$$\n",
    "\n",
    "where, $\\frac{1}{N},\\frac{1}{M}$ are finite (assume $M,N\\neq 0$). Hence, $\\|\\cdot\\|_b\\sim \\|\\cdot \\|_a$.\n",
    "\n",
    "\n",
    "- [x] Transitivity: $\\|\\cdot\\|_a\\sim \\|\\cdot\\|_b$, $\\|\\cdot\\|_b\\sim\\|\\cdot\\|_c \\implies \\|\\cdot\\|_a\\sim\\|\\cdot\\|_c$\n",
    "\n",
    "Suppose $\\|\\cdot\\|_a\\sim \\|\\cdot\\|_b$ and $\\|\\cdot\\|_b\\sim\\|\\cdot\\|_c$, then we have,\n",
    "\n",
    "$$\n",
    "M\\|u\\|_a\\le \\|u\\|_b \\le N\\|u\\|_a \\,\\,\\forall u\\in\\mathbb{R}^n\n",
    "$$\n",
    "\n",
    "$$\n",
    "M'\\|u\\|_b\\le \\|u\\|_c \\le N'\\|u\\|_b \\,\\,\\forall u\\in\\mathbb{R}^n\n",
    "$$\n",
    "\n",
    "\n",
    "This implies \n",
    "\n",
    "$$\n",
    "MM'\\|u\\|_a\\le M'\\|u\\|_b \\le \\|u\\|_c\\le N'\\|u\\|_b \\le NN'\\|u\\|_a \\,\\,\\forall u\\in\\mathbb{R}^n\n",
    "$$\n",
    "\n",
    "Since $MM',NN'$ are also finite, hence, the transitivity is satisfied."
   ]
  },
  {
   "cell_type": "markdown",
   "id": "1b63f8f9-d13c-4cdc-a40e-8dcf8d016739",
   "metadata": {},
   "source": [
    "### Lemma and Gelfand's formula\n",
    "\n",
    "If $B$ is any square matrix and $\\|\\cdot\\|$ is a matrix norm, then\n",
    "\n",
    "1. $\\rho(B)^k\\le \\|B\\|^k$ for all $k\\in\\mathbb{N}$ \n",
    "\n",
    "2. $\\|B^k\\|^{1/k} \\to \\rho(B)$ as $k\\to\\infty$\n"
   ]
  },
  {
   "cell_type": "markdown",
   "id": "cfe6f5b6-4c7d-4535-bf83-5f88d561a81e",
   "metadata": {},
   "source": [
    "#### Proof"
   ]
  },
  {
   "cell_type": "markdown",
   "id": "4d7eec68-1abe-41ca-a0bc-3f8c49f6fcb8",
   "metadata": {},
   "source": [
    "**part 1**\n",
    "\n"
   ]
  }
 ],
 "metadata": {
  "kernelspec": {
   "display_name": "Python 3 (ipykernel)",
   "language": "python",
   "name": "python3"
  },
  "language_info": {
   "codemirror_mode": {
    "name": "ipython",
    "version": 3
   },
   "file_extension": ".py",
   "mimetype": "text/x-python",
   "name": "python",
   "nbconvert_exporter": "python",
   "pygments_lexer": "ipython3",
   "version": "3.10.12"
  }
 },
 "nbformat": 4,
 "nbformat_minor": 5
}
